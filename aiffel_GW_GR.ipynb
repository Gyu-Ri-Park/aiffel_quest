{
  "nbformat": 4,
  "nbformat_minor": 0,
  "metadata": {
    "colab": {
      "provenance": []
    },
    "kernelspec": {
      "name": "python3",
      "display_name": "Python 3"
    },
    "language_info": {
      "name": "python"
    }
  },
  "cells": [
    {
      "cell_type": "code",
      "source": [
        "import random\n",
        "import datetime\n",
        "\n",
        "\n",
        "# class 선언\n",
        "class Account:\n",
        "    def __init__(self, owner, initial_balance = 0):\n",
        "        self.bank_name = 'SC은행'\n",
        "        self.owner = owner\n",
        "        self.initial_balance = initial_balance\n",
        "        self.account_number = f'{random.randint(100, 999)}-{random.randint(10, 99)}-{random.randint(100000, 999999)}'\n",
        "        self.deposit_count = 0\n",
        "        self.deposit_history_list = []\n",
        "        self.withdraw_history_list = []\n",
        "\n",
        "\n",
        "# deposit method 선언\n",
        "    def self_deposit(self, amount):\n",
        "        if amount >= 1:                          # 입금 1원 이상만 가능\n",
        "            self.initial_balance += amount\n",
        "            self.deposit_count += 1\n",
        "            self.deposit_history_list.append((amount, datetime.datetime.now().strftime('%Y-%m-%d %H:%M')))    # deposit amount/time 기록\n",
        "            if self.deposit_count % 5 == 0:     # 5회 입금시 마다 잔액기준 이자 1% 추가\n",
        "                interest = self.initial_balance * 0.01\n",
        "                self.initial_balance += interest\n",
        "                print(f'이자는 {interest}원 입니다.')\n",
        "\n",
        "# withdraw method 선언\n",
        "    def self_withdraw(self, amount):\n",
        "        if self.initial_balance >= amount:      # 잔액보다 작은 금액만 출금 가능\n",
        "            self.initial_balance -= amount\n",
        "            self.withdraw_history_list.append((amount, datetime.datetime.now().strftime('%Y-%m-%d %H:%M')))  # withdraw amount/time 기록\n",
        "\n",
        "# 정보 출력\n",
        "    def display_info(self):\n",
        "        print('은행명:', self.bank_name)\n",
        "        print('예금주:', self.owner)\n",
        "        print('계좌번호:', self.account_number)\n",
        "        print('잔고:', self.initial_balance)\n",
        "        print('Deposit Count', self.deposit_count)\n",
        "\n",
        "# deposit 내역 확인\n",
        "    def deposit_history(self):\n",
        "        for amount, time in self.deposit_history_list:\n",
        "            print(f'입금: {amount}원, 시간: {time}')\n",
        "\n",
        "# withdraw 내역 확인\n",
        "    def withdraw_history(self):\n",
        "         for amount, time in self.withdraw_history_list:\n",
        "            print(f'출금: {amount}원, 시간: {time}')\n",
        "\n",
        "# deposit, withdraw 내역 확인\n",
        "    def all_history(self):\n",
        "        print('입급 내역:')\n",
        "        self.deposit_history()\n",
        "        print('출금 내역:')\n",
        "        self.withdraw_history()\n",
        "\n",
        "# 1회 입금/출금\n",
        "account = Account('광용', 0)\n",
        "account.self_deposit(10000)\n",
        "account.self_withdraw(500)\n",
        "account.display_info()\n",
        "account.deposit_history()\n",
        "account.withdraw_history()\n",
        "account.all_history()\n"
      ],
      "metadata": {
        "id": "3WD19mx1oLlU",
        "colab": {
          "base_uri": "https://localhost:8080/"
        },
        "outputId": "f93d9fdb-fb51-448d-abab-86ebfc21b016"
      },
      "execution_count": null,
      "outputs": [
        {
          "output_type": "stream",
          "name": "stdout",
          "text": [
            "은행명: SC은행\n",
            "예금주: 광용\n",
            "계좌번호: 807-19-948668\n",
            "잔고: 9500\n",
            "Deposit Count 1\n",
            "입금: 10000원, 시간: 2024-01-08 04:54\n",
            "출금: 500원, 시간: 2024-01-08 04:54\n",
            "입급 내역:\n",
            "입금: 10000원, 시간: 2024-01-08 04:54\n",
            "출금 내역:\n",
            "출금: 500원, 시간: 2024-01-08 04:54\n"
          ]
        }
      ]
    },
    {
      "cell_type": "code",
      "source": [
        "#2회 입금\n",
        "account.self_deposit(10000)\n",
        "account.display_info()\n",
        "account.deposit_history()\n",
        "account.withdraw_history()\n",
        "account.all_history()"
      ],
      "metadata": {
        "id": "DrnbHK_6v6Kx",
        "colab": {
          "base_uri": "https://localhost:8080/"
        },
        "outputId": "c84c6edb-cc6e-4a34-ffd1-c178c5ca96e8"
      },
      "execution_count": null,
      "outputs": [
        {
          "output_type": "stream",
          "name": "stdout",
          "text": [
            "은행명: SC은행\n",
            "예금주: 광용\n",
            "계좌번호: 807-19-948668\n",
            "잔고: 19500\n",
            "Deposit Count 2\n",
            "입금: 10000원, 시간: 2024-01-08 04:54\n",
            "입금: 10000원, 시간: 2024-01-08 04:54\n",
            "출금: 500원, 시간: 2024-01-08 04:54\n",
            "입급 내역:\n",
            "입금: 10000원, 시간: 2024-01-08 04:54\n",
            "입금: 10000원, 시간: 2024-01-08 04:54\n",
            "출금 내역:\n",
            "출금: 500원, 시간: 2024-01-08 04:54\n"
          ]
        }
      ]
    },
    {
      "cell_type": "code",
      "source": [
        "#3회 입금\n",
        "account.self_deposit(10000)\n",
        "account.display_info()\n",
        "account.deposit_history()\n",
        "account.withdraw_history()\n",
        "account.all_history()"
      ],
      "metadata": {
        "colab": {
          "base_uri": "https://localhost:8080/"
        },
        "id": "yNr4-0smy6K0",
        "outputId": "c7b0d70b-c7a5-43fb-9fa5-28a2b687578f"
      },
      "execution_count": null,
      "outputs": [
        {
          "output_type": "stream",
          "name": "stdout",
          "text": [
            "은행명: SC은행\n",
            "예금주: 광용\n",
            "계좌번호: 807-19-948668\n",
            "잔고: 29500\n",
            "Deposit Count 3\n",
            "입금: 10000원, 시간: 2024-01-08 04:54\n",
            "입금: 10000원, 시간: 2024-01-08 04:54\n",
            "입금: 10000원, 시간: 2024-01-08 04:54\n",
            "출금: 500원, 시간: 2024-01-08 04:54\n",
            "입급 내역:\n",
            "입금: 10000원, 시간: 2024-01-08 04:54\n",
            "입금: 10000원, 시간: 2024-01-08 04:54\n",
            "입금: 10000원, 시간: 2024-01-08 04:54\n",
            "출금 내역:\n",
            "출금: 500원, 시간: 2024-01-08 04:54\n"
          ]
        }
      ]
    },
    {
      "cell_type": "code",
      "source": [
        "#4회 입금\n",
        "account.self_deposit(10000)\n",
        "account.display_info()\n",
        "account.deposit_history()\n",
        "account.withdraw_history()\n",
        "account.all_history()"
      ],
      "metadata": {
        "colab": {
          "base_uri": "https://localhost:8080/"
        },
        "id": "39vY9syE0LMQ",
        "outputId": "f9732bf8-adc0-47d3-e4e7-830f769835e2"
      },
      "execution_count": null,
      "outputs": [
        {
          "output_type": "stream",
          "name": "stdout",
          "text": [
            "은행명: SC은행\n",
            "예금주: 광용\n",
            "계좌번호: 807-19-948668\n",
            "잔고: 39500\n",
            "Deposit Count 4\n",
            "입금: 10000원, 시간: 2024-01-08 04:54\n",
            "입금: 10000원, 시간: 2024-01-08 04:54\n",
            "입금: 10000원, 시간: 2024-01-08 04:54\n",
            "입금: 10000원, 시간: 2024-01-08 04:54\n",
            "출금: 500원, 시간: 2024-01-08 04:54\n",
            "입급 내역:\n",
            "입금: 10000원, 시간: 2024-01-08 04:54\n",
            "입금: 10000원, 시간: 2024-01-08 04:54\n",
            "입금: 10000원, 시간: 2024-01-08 04:54\n",
            "입금: 10000원, 시간: 2024-01-08 04:54\n",
            "출금 내역:\n",
            "출금: 500원, 시간: 2024-01-08 04:54\n"
          ]
        }
      ]
    },
    {
      "cell_type": "code",
      "source": [
        "#5회 입금 (이자 가산 및 표시)\n",
        "account.self_deposit(10000)\n",
        "account.display_info()\n",
        "account.deposit_history()\n",
        "account.withdraw_history()\n",
        "account.all_history()"
      ],
      "metadata": {
        "id": "zKbtIBtFzGQJ",
        "colab": {
          "base_uri": "https://localhost:8080/"
        },
        "outputId": "bb909d68-7700-4685-ce07-6687e9a5f65f"
      },
      "execution_count": null,
      "outputs": [
        {
          "output_type": "stream",
          "name": "stdout",
          "text": [
            "이자는 495.0원 입니다.\n",
            "은행명: SC은행\n",
            "예금주: 광용\n",
            "계좌번호: 807-19-948668\n",
            "잔고: 49995.0\n",
            "Deposit Count 5\n",
            "입금: 10000원, 시간: 2024-01-08 04:54\n",
            "입금: 10000원, 시간: 2024-01-08 04:54\n",
            "입금: 10000원, 시간: 2024-01-08 04:54\n",
            "입금: 10000원, 시간: 2024-01-08 04:54\n",
            "입금: 10000원, 시간: 2024-01-08 04:54\n",
            "출금: 500원, 시간: 2024-01-08 04:54\n",
            "입급 내역:\n",
            "입금: 10000원, 시간: 2024-01-08 04:54\n",
            "입금: 10000원, 시간: 2024-01-08 04:54\n",
            "입금: 10000원, 시간: 2024-01-08 04:54\n",
            "입금: 10000원, 시간: 2024-01-08 04:54\n",
            "입금: 10000원, 시간: 2024-01-08 04:54\n",
            "출금 내역:\n",
            "출금: 500원, 시간: 2024-01-08 04:54\n"
          ]
        }
      ]
    },
    {
      "cell_type": "code",
      "source": [
        "#출금\n",
        "account.self_withdraw(10000)\n",
        "account.display_info()\n",
        "account.deposit_history()\n",
        "account.withdraw_history()\n",
        "account.all_history()"
      ],
      "metadata": {
        "id": "Re5IY4t90Rsz",
        "colab": {
          "base_uri": "https://localhost:8080/"
        },
        "outputId": "ccc09542-349b-4548-d3a4-ed361868284d"
      },
      "execution_count": null,
      "outputs": [
        {
          "output_type": "stream",
          "name": "stdout",
          "text": [
            "은행명: SC은행\n",
            "예금주: 광용\n",
            "계좌번호: 807-19-948668\n",
            "잔고: 19995.0\n",
            "Deposit Count 5\n",
            "입금: 10000원, 시간: 2024-01-08 04:54\n",
            "입금: 10000원, 시간: 2024-01-08 04:54\n",
            "입금: 10000원, 시간: 2024-01-08 04:54\n",
            "입금: 10000원, 시간: 2024-01-08 04:54\n",
            "입금: 10000원, 시간: 2024-01-08 04:54\n",
            "출금: 500원, 시간: 2024-01-08 04:54\n",
            "출금: 10000원, 시간: 2024-01-08 04:55\n",
            "출금: 10000원, 시간: 2024-01-08 04:55\n",
            "출금: 10000원, 시간: 2024-01-08 04:55\n",
            "입급 내역:\n",
            "입금: 10000원, 시간: 2024-01-08 04:54\n",
            "입금: 10000원, 시간: 2024-01-08 04:54\n",
            "입금: 10000원, 시간: 2024-01-08 04:54\n",
            "입금: 10000원, 시간: 2024-01-08 04:54\n",
            "입금: 10000원, 시간: 2024-01-08 04:54\n",
            "출금 내역:\n",
            "출금: 500원, 시간: 2024-01-08 04:54\n",
            "출금: 10000원, 시간: 2024-01-08 04:55\n",
            "출금: 10000원, 시간: 2024-01-08 04:55\n",
            "출금: 10000원, 시간: 2024-01-08 04:55\n"
          ]
        }
      ]
    },
    {
      "cell_type": "markdown",
      "source": [
        "# 회고\n",
        "1. Local Time 표시 필요 합니다.\n",
        "2. 1,000 표시 필요 합니다.\n",
        "3. 협업이 유리한 경우가 있었습니다.\n",
        "4. colab이 생각보다 느리네요...아직 익숙치 않아서 그런가\n",
        "5. 공부를 많이 해야 할 것 같습니다.\n"
      ],
      "metadata": {
        "id": "prdcdM_eElkO"
      }
    },
    {
      "cell_type": "code",
      "source": [],
      "metadata": {
        "id": "QQCgmfTjFBOS"
      },
      "execution_count": null,
      "outputs": []
    }
  ]
}
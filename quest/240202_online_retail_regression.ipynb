{
 "cells": [
  {
   "cell_type": "markdown",
   "id": "0a5c29ec",
   "metadata": {},
   "source": [
    "## 라이브러리 로드"
   ]
  },
  {
   "cell_type": "code",
   "execution_count": 34,
   "id": "2c975c81",
   "metadata": {},
   "outputs": [],
   "source": [
    "import pandas as pd\n",
    "import numpy as np\n",
    "import matplotlib.pyplot as plt\n",
    "import seaborn as sns"
   ]
  },
  {
   "cell_type": "code",
   "execution_count": 2,
   "id": "893c8a4a",
   "metadata": {},
   "outputs": [],
   "source": [
    "# !pip install koreanize-matplotlib\n",
    "import koreanize_matplotlib\n",
    "\n",
    "%config InlineBackend.figure_format = 'retina'"
   ]
  },
  {
   "cell_type": "markdown",
   "id": "55bbe6cc",
   "metadata": {},
   "source": [
    "## 데이터 로드"
   ]
  },
  {
   "cell_type": "code",
   "execution_count": 3,
   "id": "d610c7e7",
   "metadata": {},
   "outputs": [
    {
     "data": {
      "text/plain": [
       "(541909, 8)"
      ]
     },
     "execution_count": 3,
     "metadata": {},
     "output_type": "execute_result"
    }
   ],
   "source": [
    "df = pd.read_parquet(\"https://github.com/corazzon/KaggleStruggle/raw/master/online-retail/data/online_retail.gzip\")\n",
    "df.shape"
   ]
  },
  {
   "cell_type": "code",
   "execution_count": 4,
   "id": "4e4b458b",
   "metadata": {},
   "outputs": [],
   "source": [
    "# 주문 날짜 데이터 전처리\n",
    "df[\"InvoiceDate\"] = pd.to_datetime(df[\"InvoiceDate\"].astype(str))\n",
    "df[\"InvoiceMonth\"] = df[\"InvoiceDate\"].dt.month"
   ]
  },
  {
   "cell_type": "code",
   "execution_count": 5,
   "id": "f07ff600",
   "metadata": {},
   "outputs": [],
   "source": [
    "# 주문 취소 건 제외\n",
    "df = df[df[\"UnitPrice\"] > 0].copy()\n",
    "df = df[df[\"Quantity\"] > 0].copy()"
   ]
  },
  {
   "cell_type": "code",
   "execution_count": 6,
   "id": "b6bd0baa",
   "metadata": {},
   "outputs": [
    {
     "data": {
      "text/html": [
       "<div>\n",
       "<style scoped>\n",
       "    .dataframe tbody tr th:only-of-type {\n",
       "        vertical-align: middle;\n",
       "    }\n",
       "\n",
       "    .dataframe tbody tr th {\n",
       "        vertical-align: top;\n",
       "    }\n",
       "\n",
       "    .dataframe thead th {\n",
       "        text-align: right;\n",
       "    }\n",
       "</style>\n",
       "<table border=\"1\" class=\"dataframe\">\n",
       "  <thead>\n",
       "    <tr style=\"text-align: right;\">\n",
       "      <th></th>\n",
       "      <th>InvoiceNo</th>\n",
       "      <th>StockCode</th>\n",
       "      <th>Description</th>\n",
       "      <th>Quantity</th>\n",
       "      <th>InvoiceDate</th>\n",
       "      <th>UnitPrice</th>\n",
       "      <th>CustomerID</th>\n",
       "      <th>Country</th>\n",
       "      <th>InvoiceMonth</th>\n",
       "      <th>TotalPrice</th>\n",
       "    </tr>\n",
       "  </thead>\n",
       "  <tbody>\n",
       "    <tr>\n",
       "      <th>0</th>\n",
       "      <td>536365</td>\n",
       "      <td>85123A</td>\n",
       "      <td>WHITE HANGING HEART T-LIGHT HOLDER</td>\n",
       "      <td>6</td>\n",
       "      <td>2010-12-01 08:26:00</td>\n",
       "      <td>2.55</td>\n",
       "      <td>17850.0</td>\n",
       "      <td>United Kingdom</td>\n",
       "      <td>12</td>\n",
       "      <td>15.30</td>\n",
       "    </tr>\n",
       "    <tr>\n",
       "      <th>1</th>\n",
       "      <td>536365</td>\n",
       "      <td>71053</td>\n",
       "      <td>WHITE METAL LANTERN</td>\n",
       "      <td>6</td>\n",
       "      <td>2010-12-01 08:26:00</td>\n",
       "      <td>3.39</td>\n",
       "      <td>17850.0</td>\n",
       "      <td>United Kingdom</td>\n",
       "      <td>12</td>\n",
       "      <td>20.34</td>\n",
       "    </tr>\n",
       "    <tr>\n",
       "      <th>2</th>\n",
       "      <td>536365</td>\n",
       "      <td>84406B</td>\n",
       "      <td>CREAM CUPID HEARTS COAT HANGER</td>\n",
       "      <td>8</td>\n",
       "      <td>2010-12-01 08:26:00</td>\n",
       "      <td>2.75</td>\n",
       "      <td>17850.0</td>\n",
       "      <td>United Kingdom</td>\n",
       "      <td>12</td>\n",
       "      <td>22.00</td>\n",
       "    </tr>\n",
       "    <tr>\n",
       "      <th>3</th>\n",
       "      <td>536365</td>\n",
       "      <td>84029G</td>\n",
       "      <td>KNITTED UNION FLAG HOT WATER BOTTLE</td>\n",
       "      <td>6</td>\n",
       "      <td>2010-12-01 08:26:00</td>\n",
       "      <td>3.39</td>\n",
       "      <td>17850.0</td>\n",
       "      <td>United Kingdom</td>\n",
       "      <td>12</td>\n",
       "      <td>20.34</td>\n",
       "    </tr>\n",
       "    <tr>\n",
       "      <th>4</th>\n",
       "      <td>536365</td>\n",
       "      <td>84029E</td>\n",
       "      <td>RED WOOLLY HOTTIE WHITE HEART.</td>\n",
       "      <td>6</td>\n",
       "      <td>2010-12-01 08:26:00</td>\n",
       "      <td>3.39</td>\n",
       "      <td>17850.0</td>\n",
       "      <td>United Kingdom</td>\n",
       "      <td>12</td>\n",
       "      <td>20.34</td>\n",
       "    </tr>\n",
       "  </tbody>\n",
       "</table>\n",
       "</div>"
      ],
      "text/plain": [
       "  InvoiceNo StockCode                          Description  Quantity  \\\n",
       "0    536365    85123A   WHITE HANGING HEART T-LIGHT HOLDER         6   \n",
       "1    536365     71053                  WHITE METAL LANTERN         6   \n",
       "2    536365    84406B       CREAM CUPID HEARTS COAT HANGER         8   \n",
       "3    536365    84029G  KNITTED UNION FLAG HOT WATER BOTTLE         6   \n",
       "4    536365    84029E       RED WOOLLY HOTTIE WHITE HEART.         6   \n",
       "\n",
       "          InvoiceDate  UnitPrice  CustomerID         Country  InvoiceMonth  \\\n",
       "0 2010-12-01 08:26:00       2.55     17850.0  United Kingdom            12   \n",
       "1 2010-12-01 08:26:00       3.39     17850.0  United Kingdom            12   \n",
       "2 2010-12-01 08:26:00       2.75     17850.0  United Kingdom            12   \n",
       "3 2010-12-01 08:26:00       3.39     17850.0  United Kingdom            12   \n",
       "4 2010-12-01 08:26:00       3.39     17850.0  United Kingdom            12   \n",
       "\n",
       "   TotalPrice  \n",
       "0       15.30  \n",
       "1       20.34  \n",
       "2       22.00  \n",
       "3       20.34  \n",
       "4       20.34  "
      ]
     },
     "execution_count": 6,
     "metadata": {},
     "output_type": "execute_result"
    }
   ],
   "source": [
    "# 주문 가격\n",
    "df[\"TotalPrice\"] = df[\"Quantity\"] * df[\"UnitPrice\"]\n",
    "df.head()"
   ]
  },
  {
   "cell_type": "code",
   "execution_count": 7,
   "id": "bd12b4a8",
   "metadata": {},
   "outputs": [],
   "source": [
    "# 데이터 타입 변경\n",
    "\n",
    "df[\"Country\"] = df[\"Country\"].astype(str)"
   ]
  },
  {
   "cell_type": "code",
   "execution_count": 8,
   "id": "a3dff07f",
   "metadata": {},
   "outputs": [
    {
     "name": "stdout",
     "output_type": "stream",
     "text": [
      "<class 'pandas.core.frame.DataFrame'>\n",
      "Index: 530104 entries, 0 to 541908\n",
      "Data columns (total 10 columns):\n",
      " #   Column        Non-Null Count   Dtype         \n",
      "---  ------        --------------   -----         \n",
      " 0   InvoiceNo     530104 non-null  category      \n",
      " 1   StockCode     530104 non-null  category      \n",
      " 2   Description   530104 non-null  category      \n",
      " 3   Quantity      530104 non-null  int32         \n",
      " 4   InvoiceDate   530104 non-null  datetime64[ns]\n",
      " 5   UnitPrice     530104 non-null  float64       \n",
      " 6   CustomerID    397884 non-null  float32       \n",
      " 7   Country       530104 non-null  object        \n",
      " 8   InvoiceMonth  530104 non-null  int32         \n",
      " 9   TotalPrice    530104 non-null  float64       \n",
      "dtypes: category(3), datetime64[ns](1), float32(1), float64(2), int32(2), object(1)\n",
      "memory usage: 30.8+ MB\n"
     ]
    }
   ],
   "source": [
    "df.info()"
   ]
  },
  {
   "cell_type": "markdown",
   "id": "19a29bd9",
   "metadata": {},
   "source": [
    " "
   ]
  },
  {
   "cell_type": "markdown",
   "id": "576ca4e9",
   "metadata": {},
   "source": [
    "\n",
    "## 미션1) 심슨의 역설을 설명하기 위한 구체적인 분석을 다음의 순서로 진행해 주세요.\n",
    "\n",
    "심슨의 역설(Simpson's Paradox)은 통계 데이터를 해석할 때 발생할 수 있는 현상으로, 일부 하위 그룹에서 관찰된 추세가 전체 데이터를 합쳤을 때 반전될 수 있음을 나타냅니다. 이 현상은 복잡한 데이터에서 하위 그룹 간에 상이한 분포나 크기 때문에 발생할 수 있습니다.\n",
    "\n",
    "심슨의 역설을 설명하기 위해서는, 데이터 내에서 서로 상반된 추세를 보이는 하위 그룹을 찾거나 생성해야 합니다. 예를 들어, 특정 상품의 판매량이나 단가가 국가별로 다른 추세를 보이는지, 혹은 특정 기간 동안의 판매 추세가 전체 기간 동안의 추세와 다른지 등을 분석할 수 있습니다.\n",
    "\n",
    "데이터를 제시한 특정 국가로 하위 그룹으로 나눕니다.\n",
    "각 하위 그룹에서 총 판매금액의 추세를 분석합니다.\n",
    "전체 데이터셋에 대해 동일한 지표를 분석합니다.\n",
    "하위 그룹의 추세와 전체 데이터의 추세가 서로 다른 방향성을 보일 경우, 이를 통해 심슨의 역설을 설명합니다.\n",
    "이러한 분석을 위해, 데이터 내에서 적절한 변수와 하위 그룹을 선정하는 것이 중요합니다. 현재 제공된 데이터만으로는 심슨의 역설을 바로 설명할 수 있는 명확한 예시를 찾기 어려울 수 있지만, 데이터를 깊이 분석하면 관련 현상을 발견할 수도 있습니다.\n",
    "다음 국가에 대해 상관계수를 구하고 seaborn 의 lmplot을 사용하여 시각화 하고 심슨의 역설을 설명할 수 있는지 분석해 주세요.\n",
    "또, 이를 비즈니스에 어떻게 활용할 수 있을지도 설명해 주세요.\n",
    "\n",
    "```python\n",
    "country_group = [\"Japan\", \"Hong Kong\", \"Singapore\", \"Lebanon\", \"Canada\", \"USA\"]\n",
    "```\n",
    "\n",
    "\n",
    "* 슬라이드 자료에서 \"심슨의 역설\"을 찾아주세요."
   ]
  },
  {
   "cell_type": "code",
   "execution_count": 9,
   "id": "bb8755f5",
   "metadata": {},
   "outputs": [
    {
     "data": {
      "text/plain": [
       "20.12"
      ]
     },
     "execution_count": 9,
     "metadata": {},
     "output_type": "execute_result"
    }
   ],
   "source": [
    "# 전체 평균 판매금액\n",
    "overall_mean = df['TotalPrice'].mean().round(2)\n",
    "overall_mean"
   ]
  },
  {
   "cell_type": "code",
   "execution_count": 10,
   "id": "49dd8005",
   "metadata": {},
   "outputs": [
    {
     "data": {
      "text/plain": [
       "Country\n",
       "Canada        24.280662\n",
       "Hong Kong     55.252817\n",
       "Japan        116.561900\n",
       "Lebanon       37.641778\n",
       "Singapore     95.852658\n",
       "USA           20.002179\n",
       "Name: TotalPrice, dtype: float64"
      ]
     },
     "execution_count": 10,
     "metadata": {},
     "output_type": "execute_result"
    }
   ],
   "source": [
    "# 국가 별 평균 판매금액\n",
    "country_group = [\"Japan\", \"Hong Kong\", \"Singapore\", \"Lebanon\", \"Canada\", \"USA\"]\n",
    "country_mean = df[df['Country'].isin(country_group)].groupby('Country')['TotalPrice'].mean()\n",
    "country_mean"
   ]
  },
  {
   "cell_type": "code",
   "execution_count": 11,
   "id": "7c6457f6",
   "metadata": {},
   "outputs": [
    {
     "data": {
      "text/html": [
       "<div>\n",
       "<style scoped>\n",
       "    .dataframe tbody tr th:only-of-type {\n",
       "        vertical-align: middle;\n",
       "    }\n",
       "\n",
       "    .dataframe tbody tr th {\n",
       "        vertical-align: top;\n",
       "    }\n",
       "\n",
       "    .dataframe thead th {\n",
       "        text-align: right;\n",
       "    }\n",
       "</style>\n",
       "<table border=\"1\" class=\"dataframe\">\n",
       "  <thead>\n",
       "    <tr style=\"text-align: right;\">\n",
       "      <th></th>\n",
       "      <th>Country</th>\n",
       "      <th>TotalPrice</th>\n",
       "    </tr>\n",
       "  </thead>\n",
       "  <tbody>\n",
       "    <tr>\n",
       "      <th>0</th>\n",
       "      <td>Canada</td>\n",
       "      <td>24.280662</td>\n",
       "    </tr>\n",
       "    <tr>\n",
       "      <th>1</th>\n",
       "      <td>Hong Kong</td>\n",
       "      <td>55.252817</td>\n",
       "    </tr>\n",
       "    <tr>\n",
       "      <th>2</th>\n",
       "      <td>Japan</td>\n",
       "      <td>116.561900</td>\n",
       "    </tr>\n",
       "    <tr>\n",
       "      <th>3</th>\n",
       "      <td>Lebanon</td>\n",
       "      <td>37.641778</td>\n",
       "    </tr>\n",
       "    <tr>\n",
       "      <th>4</th>\n",
       "      <td>Singapore</td>\n",
       "      <td>95.852658</td>\n",
       "    </tr>\n",
       "    <tr>\n",
       "      <th>5</th>\n",
       "      <td>USA</td>\n",
       "      <td>20.002179</td>\n",
       "    </tr>\n",
       "  </tbody>\n",
       "</table>\n",
       "</div>"
      ],
      "text/plain": [
       "     Country  TotalPrice\n",
       "0     Canada   24.280662\n",
       "1  Hong Kong   55.252817\n",
       "2      Japan  116.561900\n",
       "3    Lebanon   37.641778\n",
       "4  Singapore   95.852658\n",
       "5        USA   20.002179"
      ]
     },
     "execution_count": 11,
     "metadata": {},
     "output_type": "execute_result"
    }
   ],
   "source": [
    "# 국가 별 평균 판매금액 데이터 프레임 생성\n",
    "country_sales = df[df['Country'].isin(country_group)].groupby('Country')['TotalPrice'].mean().reset_index()\n",
    "\n",
    "country_sales"
   ]
  },
  {
   "cell_type": "code",
   "execution_count": 12,
   "id": "8fc411ba",
   "metadata": {},
   "outputs": [
    {
     "name": "stderr",
     "output_type": "stream",
     "text": [
      "C:\\Users\\pc\\AppData\\Local\\Temp\\ipykernel_20544\\3244336538.py:2: FutureWarning: \n",
      "\n",
      "Passing `palette` without assigning `hue` is deprecated and will be removed in v0.14.0. Assign the `x` variable to `hue` and set `legend=False` for the same effect.\n",
      "\n",
      "  sns.barplot(data = country_sales, x = 'Country', y = 'TotalPrice', palette = 'Set3');\n"
     ]
    },
    {
     "data": {
      "text/plain": [
       "Text(0, 0.5, '판매량 평균')"
      ]
     },
     "execution_count": 12,
     "metadata": {},
     "output_type": "execute_result"
    },
    {
     "data": {
      "image/png": "[encoded data removed]",
      "text/plain": [
       "<Figure size 640x480 with 1 Axes>"
      ]
     },
     "metadata": {
      "image/png": {
       "height": 451,
       "width": 569
      }
     },
     "output_type": "display_data"
    }
   ],
   "source": [
    "# 시각화\n",
    "sns.barplot(data = country_sales, x = 'Country', y = 'TotalPrice', palette = 'Set3');\n",
    "plt.axhline(overall_mean, color = 'red', linestyle = '--')\n",
    "plt.title('전체 판매량과 국가별 판매량')\n",
    "plt.xlabel('국가')\n",
    "plt.ylabel('판매량 평균')"
   ]
  },
  {
   "cell_type": "markdown",
   "id": "166bdf63",
   "metadata": {},
   "source": [
    "### [결과 해석]\n",
    "- __심슨의 역설__: 대부분의 국가가 전체 평균 판매 금액보다 매우 높은 국가별 판매 금액을 나타냄.\n",
    "- 전체 평균 판매금액과 미국, 캐나다의 평균 판매금액이 매우 비슷함, = 미국, 캐나다에 대한 판매 전략이 전체 전략과 일치함.\n",
    "- 일본, 싱가폴의 평균 판매금액은 전체 평균 판매 금액을 훨씬 상회함. = 일본, 싱가폴 시장의 높은 판매 가치"
   ]
  },
  {
   "cell_type": "markdown",
   "id": "99afb279",
   "metadata": {},
   "source": [
    " "
   ]
  },
  {
   "cell_type": "markdown",
   "id": "3fb1838c",
   "metadata": {},
   "source": [
    "## 미션2) 상품의 단가와 총 판매액의 관계를 분석해 주세요.\n",
    "\n",
    "상품의 단가가 총 판매액에 미치는 영향을 이해하고 예측하는 것입니다. 이 분석은 가격 결정 전략을 개선하고, 수익성을 최대화하기 위해 사용될 수 있습니다.\n",
    "높은 단가의 상품이 더 많은 총 판매액을 생성할 것이라는 가설을 설정합니다.\n",
    "\n",
    "1) 데이터 전처리: 필요한 데이터를 정리하고, 결측치를 제거합니다.  \n",
    "2) 단순 회귀분석: 단가(UnitPrice)를 독립변수로, 총 판매액(TotalSales)을 종속변수로 설정하여 회귀분석을 수행합니다.  \n",
    "3) 결과 해석: 회귀계수와 결정계수를 분석하여 상품 가격과 총 판매액 사이의 관계를 해석합니다."
   ]
  },
  {
   "cell_type": "code",
   "execution_count": 13,
   "id": "8f5a925c",
   "metadata": {},
   "outputs": [
    {
     "data": {
      "text/plain": [
       "InvoiceNo       0.000000\n",
       "StockCode       0.000000\n",
       "Description     0.000000\n",
       "Quantity        0.000000\n",
       "InvoiceDate     0.000000\n",
       "UnitPrice       0.000000\n",
       "CustomerID      0.249423\n",
       "Country         0.000000\n",
       "InvoiceMonth    0.000000\n",
       "TotalPrice      0.000000\n",
       "dtype: float64"
      ]
     },
     "execution_count": 13,
     "metadata": {},
     "output_type": "execute_result"
    }
   ],
   "source": [
    "df.isna().mean()"
   ]
  },
  {
   "cell_type": "code",
   "execution_count": 14,
   "id": "dbf844b5",
   "metadata": {},
   "outputs": [
    {
     "data": {
      "text/plain": [
       "((530104, 2), (530104,))"
      ]
     },
     "execution_count": 14,
     "metadata": {},
     "output_type": "execute_result"
    }
   ],
   "source": [
    "import statsmodels.api as sm\n",
    "# 데이터 전처리: 결측치 제거 또는 대체\n",
    "df = df.dropna(subset=['UnitPrice', 'TotalPrice'])\n",
    "\n",
    "# 단순 회귀분석\n",
    "# 독립변수: UnitPrice, 종속변수: TotalPrice\n",
    "X = df['UnitPrice']\n",
    "y = df['TotalPrice']\n",
    "X = sm.add_constant(X) # 상수항 추가\n",
    "\n",
    "X.shape, y.shape"
   ]
  },
  {
   "cell_type": "code",
   "execution_count": 15,
   "id": "85cf5d06",
   "metadata": {},
   "outputs": [
    {
     "data": {
      "text/html": [
       "<table class=\"simpletable\">\n",
       "<caption>OLS Regression Results</caption>\n",
       "<tr>\n",
       "  <th>Dep. Variable:</th>       <td>TotalPrice</td>    <th>  R-squared:         </th>  <td>   0.019</td>  \n",
       "</tr>\n",
       "<tr>\n",
       "  <th>Model:</th>                   <td>OLS</td>       <th>  Adj. R-squared:    </th>  <td>   0.019</td>  \n",
       "</tr>\n",
       "<tr>\n",
       "  <th>Method:</th>             <td>Least Squares</td>  <th>  F-statistic:       </th>  <td>1.020e+04</td> \n",
       "</tr>\n",
       "<tr>\n",
       "  <th>Date:</th>             <td>Fri, 02 Feb 2024</td> <th>  Prob (F-statistic):</th>   <td>  0.00</td>   \n",
       "</tr>\n",
       "<tr>\n",
       "  <th>Time:</th>                 <td>13:27:02</td>     <th>  Log-Likelihood:    </th> <td>-3.7156e+06</td>\n",
       "</tr>\n",
       "<tr>\n",
       "  <th>No. Observations:</th>      <td>530104</td>      <th>  AIC:               </th>  <td>7.431e+06</td> \n",
       "</tr>\n",
       "<tr>\n",
       "  <th>Df Residuals:</th>          <td>530102</td>      <th>  BIC:               </th>  <td>7.431e+06</td> \n",
       "</tr>\n",
       "<tr>\n",
       "  <th>Df Model:</th>              <td>     1</td>      <th>                     </th>      <td> </td>     \n",
       "</tr>\n",
       "<tr>\n",
       "  <th>Covariance Type:</th>      <td>nonrobust</td>    <th>                     </th>      <td> </td>     \n",
       "</tr>\n",
       "</table>\n",
       "<table class=\"simpletable\">\n",
       "<tr>\n",
       "      <td></td>         <th>coef</th>     <th>std err</th>      <th>t</th>      <th>P>|t|</th>  <th>[0.025</th>    <th>0.975]</th>  \n",
       "</tr>\n",
       "<tr>\n",
       "  <th>const</th>     <td>   16.0802</td> <td>    0.370</td> <td>   43.463</td> <td> 0.000</td> <td>   15.355</td> <td>   16.805</td>\n",
       "</tr>\n",
       "<tr>\n",
       "  <th>UnitPrice</th> <td>    1.0343</td> <td>    0.010</td> <td>  100.999</td> <td> 0.000</td> <td>    1.014</td> <td>    1.054</td>\n",
       "</tr>\n",
       "</table>\n",
       "<table class=\"simpletable\">\n",
       "<tr>\n",
       "  <th>Omnibus:</th>       <td>3354156.595</td> <th>  Durbin-Watson:     </th>       <td>   1.937</td>      \n",
       "</tr>\n",
       "<tr>\n",
       "  <th>Prob(Omnibus):</th>   <td> 0.000</td>    <th>  Jarque-Bera (JB):  </th> <td>2111068902737906.750</td>\n",
       "</tr>\n",
       "<tr>\n",
       "  <th>Skew:</th>            <td>520.634</td>   <th>  Prob(JB):          </th>       <td>    0.00</td>      \n",
       "</tr>\n",
       "<tr>\n",
       "  <th>Kurtosis:</th>      <td>309156.253</td>  <th>  Cond. No.          </th>       <td>    36.3</td>      \n",
       "</tr>\n",
       "</table><br/><br/>Notes:<br/>[1] Standard Errors assume that the covariance matrix of the errors is correctly specified."
      ],
      "text/latex": [
       "\\begin{center}\n",
       "\\begin{tabular}{lclc}\n",
       "\\toprule\n",
       "\\textbf{Dep. Variable:}    &    TotalPrice    & \\textbf{  R-squared:         } &          0.019        \\\\\n",
       "\\textbf{Model:}            &       OLS        & \\textbf{  Adj. R-squared:    } &          0.019        \\\\\n",
       "\\textbf{Method:}           &  Least Squares   & \\textbf{  F-statistic:       } &      1.020e+04        \\\\\n",
       "\\textbf{Date:}             & Fri, 02 Feb 2024 & \\textbf{  Prob (F-statistic):} &          0.00         \\\\\n",
       "\\textbf{Time:}             &     13:27:02     & \\textbf{  Log-Likelihood:    } &     -3.7156e+06       \\\\\n",
       "\\textbf{No. Observations:} &      530104      & \\textbf{  AIC:               } &      7.431e+06        \\\\\n",
       "\\textbf{Df Residuals:}     &      530102      & \\textbf{  BIC:               } &      7.431e+06        \\\\\n",
       "\\textbf{Df Model:}         &           1      & \\textbf{                     } &                       \\\\\n",
       "\\textbf{Covariance Type:}  &    nonrobust     & \\textbf{                     } &                       \\\\\n",
       "\\bottomrule\n",
       "\\end{tabular}\n",
       "\\begin{tabular}{lcccccc}\n",
       "                   & \\textbf{coef} & \\textbf{std err} & \\textbf{t} & \\textbf{P$> |$t$|$} & \\textbf{[0.025} & \\textbf{0.975]}  \\\\\n",
       "\\midrule\n",
       "\\textbf{const}     &      16.0802  &        0.370     &    43.463  &         0.000        &       15.355    &       16.805     \\\\\n",
       "\\textbf{UnitPrice} &       1.0343  &        0.010     &   100.999  &         0.000        &        1.014    &        1.054     \\\\\n",
       "\\bottomrule\n",
       "\\end{tabular}\n",
       "\\begin{tabular}{lclc}\n",
       "\\textbf{Omnibus:}       & 3354156.595 & \\textbf{  Durbin-Watson:     } &          1.937        \\\\\n",
       "\\textbf{Prob(Omnibus):} &     0.000   & \\textbf{  Jarque-Bera (JB):  } & 2111068902737906.750  \\\\\n",
       "\\textbf{Skew:}          &   520.634   & \\textbf{  Prob(JB):          } &           0.00        \\\\\n",
       "\\textbf{Kurtosis:}      &  309156.253 & \\textbf{  Cond. No.          } &           36.3        \\\\\n",
       "\\bottomrule\n",
       "\\end{tabular}\n",
       "%\\caption{OLS Regression Results}\n",
       "\\end{center}\n",
       "\n",
       "Notes: \\newline\n",
       " [1] Standard Errors assume that the covariance matrix of the errors is correctly specified."
      ],
      "text/plain": [
       "<class 'statsmodels.iolib.summary.Summary'>\n",
       "\"\"\"\n",
       "                            OLS Regression Results                            \n",
       "==============================================================================\n",
       "Dep. Variable:             TotalPrice   R-squared:                       0.019\n",
       "Model:                            OLS   Adj. R-squared:                  0.019\n",
       "Method:                 Least Squares   F-statistic:                 1.020e+04\n",
       "Date:                Fri, 02 Feb 2024   Prob (F-statistic):               0.00\n",
       "Time:                        13:27:02   Log-Likelihood:            -3.7156e+06\n",
       "No. Observations:              530104   AIC:                         7.431e+06\n",
       "Df Residuals:                  530102   BIC:                         7.431e+06\n",
       "Df Model:                           1                                         \n",
       "Covariance Type:            nonrobust                                         \n",
       "==============================================================================\n",
       "                 coef    std err          t      P>|t|      [0.025      0.975]\n",
       "------------------------------------------------------------------------------\n",
       "const         16.0802      0.370     43.463      0.000      15.355      16.805\n",
       "UnitPrice      1.0343      0.010    100.999      0.000       1.014       1.054\n",
       "================================================================================\n",
       "Omnibus:                  3354156.595   Durbin-Watson:                     1.937\n",
       "Prob(Omnibus):                  0.000   Jarque-Bera (JB):   2111068902737906.750\n",
       "Skew:                         520.634   Prob(JB):                           0.00\n",
       "Kurtosis:                  309156.253   Cond. No.                           36.3\n",
       "================================================================================\n",
       "\n",
       "Notes:\n",
       "[1] Standard Errors assume that the covariance matrix of the errors is correctly specified.\n",
       "\"\"\""
      ]
     },
     "execution_count": 15,
     "metadata": {},
     "output_type": "execute_result"
    }
   ],
   "source": [
    "# 단순 회귀분석 수행\n",
    "model = sm.OLS(y, X).fit()\n",
    "\n",
    "# 결과 요약\n",
    "summary = model.summary()\n",
    "summary"
   ]
  },
  {
   "cell_type": "markdown",
   "id": "bbe100ed",
   "metadata": {},
   "source": [
    "### [결과 해석]\n",
    "- 결정계수 (R-squared)가 0.019, 단가(UnitPrice)가 총 판매액(TotalPrice)의 변동성을 약 1.9%만 설명함.  \n",
    "    = 즉, 단가와 총 판매액 사이에 강한 선형관계가 없음.\n",
    "- UnitPrice의 기울기가 약 1.03(coef), 절편이 약 16.08(const).  \n",
    "    = 기본단가가 약 16.08이며 단가가 한 단위씩 증가할 때 약 1.03만큼 증가함.\n",
    "- p-value가 0.00 이므로 (P > |t|) 귀무 가설을 반박하며, 즉 단가가 총 판매액에 (매우 약하지만) 양의 영향을 미친다는 뜻.\n",
    "- 즉, 총 판매액을 결정하는 데 있어 단가 외에 다른 요인들도 중요함."
   ]
  },
  {
   "cell_type": "markdown",
   "id": "e3bbd748",
   "metadata": {},
   "source": [
    " "
   ]
  },
  {
   "cell_type": "markdown",
   "id": "e80792e5",
   "metadata": {},
   "source": [
    "## 미션3) 여러 분은 크리스마스가 온라인 소매 판매에 미치는 영향을 평가하고, 이를 바탕으로 더 효과적인 가격 및 프로모션 전략을 개발해야 합니다.  \n",
    "\n",
    "* 다음과 같은 비즈니스 전략을 고려하여 인과 분석을 합니다. 증거의 사다리로 데이터에서 얻을 수 있는 증거의 강도를 평가합니다. 크리스마스 관련 상품과 비관련 상품 간의 판매 차이를 분석합니다.\n",
    "\n",
    "\n",
    "* 프로모션 전략\n",
    "    * 크리스마스 상품 프로모션 강화하여 크리스마스 관련 상품의 판매를 증진시키기 위한 특별 프로모션을 개발합니다.\n",
    "    * 대상 고객을 세분화하여 크리스마스 상품에 관심이 높은 고객 세그먼트를 식별하고, 이들을 대상으로 한 마케팅 캠페인을 실행합니다.\n",
    "* 재고 및 공급망 관리\n",
    "    * 재고 최적화를 통해 크리스마스 시즌에 대한 수요 예측을 바탕으로 재고 수준을 조절합니다.\n",
    "    * 공급망 효율화를 통해 시즌별 수요 변화에 따라 공급망을 조정하여 비용을 최소화하고, 고객 만족도를 높입니다.\n",
    "* 상품 다양화\n",
    "    * 상품 포트폴리오를 확장하여 크리스마스 관련 상품뿐만 아니라, 다른 시즌 상품에도 주목하여 상품 포트폴리오를 다양화합니다\n",
    "\n",
    "* 크리스마스 시즌 동안 프로모션과 상품 가격 전략이 판매에 미치는 영향을 분석하여, 미래의 프로모션 및 가격 전략을 최적화해야 합니다.\n",
    "\n",
    "\n",
    "\n",
    "* 다음 주어진 코드를 활용합니다.\n",
    "\n",
    "\n",
    "```python\n",
    "# 2011년 이전 데이터만 사용합니다.\n",
    "# 프로모션 여부와 시간에 따른 데이터 분리\n",
    "df_promotion = df[(df[\"InvoiceDate\"] < \"2011-01-01\") & df_promotion[\"Description\"].notnull()].dropna().copy()\n",
    "df_promotion[\"IsChristmasPeriod\"] = df_promotion[\"InvoiceDate\"] >= \"2010-12-25\"\n",
    "df_promotion[\"IsChristmasProduct\"] = df_promotion[\"Description\"].str.lower().str.contains(\"christmas\")\n",
    "```"
   ]
  },
  {
   "cell_type": "code",
   "execution_count": 16,
   "id": "4c2fbcdc",
   "metadata": {},
   "outputs": [],
   "source": [
    "# 2011년 이전 데이터만 사용합니다.\n",
    "# 프로모션 여부와 시간에 따른 데이터 분리\n",
    "df_promotion = df[(df[\"InvoiceDate\"] < \"2011-01-01\") & df[\"Description\"].notnull()].dropna().copy()\n",
    "df_promotion[\"IsChristmasSeason\"] = df_promotion[\"InvoiceDate\"].dt.month == 12\n",
    "# 외국에서는 크리스마스~신정 기간에는 영업을 하지 않는 경우가 많고, 기존 코드를 사용하면 실제로 0이 출력되기 때문에 코드를 수정했습니다.\n",
    "df_promotion[\"IsChristmasProduct\"] = df_promotion[\"Description\"].str.lower().str.contains(\"christmas\")"
   ]
  },
  {
   "cell_type": "code",
   "execution_count": 17,
   "id": "3b6ca8fd",
   "metadata": {},
   "outputs": [
    {
     "data": {
      "text/html": [
       "<div>\n",
       "<style scoped>\n",
       "    .dataframe tbody tr th:only-of-type {\n",
       "        vertical-align: middle;\n",
       "    }\n",
       "\n",
       "    .dataframe tbody tr th {\n",
       "        vertical-align: top;\n",
       "    }\n",
       "\n",
       "    .dataframe thead th {\n",
       "        text-align: right;\n",
       "    }\n",
       "</style>\n",
       "<table border=\"1\" class=\"dataframe\">\n",
       "  <thead>\n",
       "    <tr style=\"text-align: right;\">\n",
       "      <th></th>\n",
       "      <th>Quantity</th>\n",
       "      <th>InvoiceDate</th>\n",
       "      <th>UnitPrice</th>\n",
       "      <th>CustomerID</th>\n",
       "      <th>InvoiceMonth</th>\n",
       "      <th>TotalPrice</th>\n",
       "    </tr>\n",
       "  </thead>\n",
       "  <tbody>\n",
       "    <tr>\n",
       "      <th>count</th>\n",
       "      <td>26157.000000</td>\n",
       "      <td>26157</td>\n",
       "      <td>26157.000000</td>\n",
       "      <td>26157.000000</td>\n",
       "      <td>26157.0</td>\n",
       "      <td>26157.000000</td>\n",
       "    </tr>\n",
       "    <tr>\n",
       "      <th>mean</th>\n",
       "      <td>11.938105</td>\n",
       "      <td>2010-12-10 01:40:59.816492544</td>\n",
       "      <td>3.132454</td>\n",
       "      <td>15529.182617</td>\n",
       "      <td>12.0</td>\n",
       "      <td>21.895244</td>\n",
       "    </tr>\n",
       "    <tr>\n",
       "      <th>min</th>\n",
       "      <td>1.000000</td>\n",
       "      <td>2010-12-01 08:26:00</td>\n",
       "      <td>0.070000</td>\n",
       "      <td>12347.000000</td>\n",
       "      <td>12.0</td>\n",
       "      <td>0.140000</td>\n",
       "    </tr>\n",
       "    <tr>\n",
       "      <th>25%</th>\n",
       "      <td>2.000000</td>\n",
       "      <td>2010-12-05 13:05:00</td>\n",
       "      <td>1.250000</td>\n",
       "      <td>14161.000000</td>\n",
       "      <td>12.0</td>\n",
       "      <td>4.200000</td>\n",
       "    </tr>\n",
       "    <tr>\n",
       "      <th>50%</th>\n",
       "      <td>4.000000</td>\n",
       "      <td>2010-12-09 11:28:00</td>\n",
       "      <td>2.100000</td>\n",
       "      <td>15570.000000</td>\n",
       "      <td>12.0</td>\n",
       "      <td>10.500000</td>\n",
       "    </tr>\n",
       "    <tr>\n",
       "      <th>75%</th>\n",
       "      <td>12.000000</td>\n",
       "      <td>2010-12-14 13:31:00</td>\n",
       "      <td>3.750000</td>\n",
       "      <td>17179.000000</td>\n",
       "      <td>12.0</td>\n",
       "      <td>19.800000</td>\n",
       "    </tr>\n",
       "    <tr>\n",
       "      <th>max</th>\n",
       "      <td>2880.000000</td>\n",
       "      <td>2010-12-23 16:06:00</td>\n",
       "      <td>295.000000</td>\n",
       "      <td>18269.000000</td>\n",
       "      <td>12.0</td>\n",
       "      <td>3828.000000</td>\n",
       "    </tr>\n",
       "    <tr>\n",
       "      <th>std</th>\n",
       "      <td>45.941418</td>\n",
       "      <td>NaN</td>\n",
       "      <td>5.220482</td>\n",
       "      <td>1740.336670</td>\n",
       "      <td>0.0</td>\n",
       "      <td>76.642278</td>\n",
       "    </tr>\n",
       "  </tbody>\n",
       "</table>\n",
       "</div>"
      ],
      "text/plain": [
       "           Quantity                    InvoiceDate     UnitPrice  \\\n",
       "count  26157.000000                          26157  26157.000000   \n",
       "mean      11.938105  2010-12-10 01:40:59.816492544      3.132454   \n",
       "min        1.000000            2010-12-01 08:26:00      0.070000   \n",
       "25%        2.000000            2010-12-05 13:05:00      1.250000   \n",
       "50%        4.000000            2010-12-09 11:28:00      2.100000   \n",
       "75%       12.000000            2010-12-14 13:31:00      3.750000   \n",
       "max     2880.000000            2010-12-23 16:06:00    295.000000   \n",
       "std       45.941418                            NaN      5.220482   \n",
       "\n",
       "         CustomerID  InvoiceMonth    TotalPrice  \n",
       "count  26157.000000       26157.0  26157.000000  \n",
       "mean   15529.182617          12.0     21.895244  \n",
       "min    12347.000000          12.0      0.140000  \n",
       "25%    14161.000000          12.0      4.200000  \n",
       "50%    15570.000000          12.0     10.500000  \n",
       "75%    17179.000000          12.0     19.800000  \n",
       "max    18269.000000          12.0   3828.000000  \n",
       "std     1740.336670           0.0     76.642278  "
      ]
     },
     "execution_count": 17,
     "metadata": {},
     "output_type": "execute_result"
    }
   ],
   "source": [
    "df_promotion.describe()"
   ]
  },
  {
   "cell_type": "code",
   "execution_count": 18,
   "id": "bca667a0",
   "metadata": {},
   "outputs": [],
   "source": [
    "# 12월 총 판매액\n",
    "sales_christmas_season = df_promotion[df_promotion[\"IsChristmasSeason\"]][\"TotalPrice\"].sum()"
   ]
  },
  {
   "cell_type": "code",
   "execution_count": 19,
   "id": "beafe4b1",
   "metadata": {},
   "outputs": [],
   "source": [
    "# 12월 크리스마스 상품 판매액\n",
    "sales_christmas_product = df_promotion[df_promotion[\"IsChristmasProduct\"]][\"TotalPrice\"].sum()"
   ]
  },
  {
   "cell_type": "code",
   "execution_count": 20,
   "id": "28701f1d",
   "metadata": {
    "scrolled": false
   },
   "outputs": [
    {
     "data": {
      "text/html": [
       "<div>\n",
       "<style scoped>\n",
       "    .dataframe tbody tr th:only-of-type {\n",
       "        vertical-align: middle;\n",
       "    }\n",
       "\n",
       "    .dataframe tbody tr th {\n",
       "        vertical-align: top;\n",
       "    }\n",
       "\n",
       "    .dataframe thead th {\n",
       "        text-align: right;\n",
       "    }\n",
       "</style>\n",
       "<table border=\"1\" class=\"dataframe\">\n",
       "  <thead>\n",
       "    <tr style=\"text-align: right;\">\n",
       "      <th></th>\n",
       "      <th>IsChristmasProduct</th>\n",
       "      <th>Quantity</th>\n",
       "    </tr>\n",
       "  </thead>\n",
       "  <tbody>\n",
       "    <tr>\n",
       "      <th>0</th>\n",
       "      <td>False</td>\n",
       "      <td>24556</td>\n",
       "    </tr>\n",
       "    <tr>\n",
       "      <th>1</th>\n",
       "      <td>True</td>\n",
       "      <td>1601</td>\n",
       "    </tr>\n",
       "  </tbody>\n",
       "</table>\n",
       "</div>"
      ],
      "text/plain": [
       "   IsChristmasProduct  Quantity\n",
       "0               False     24556\n",
       "1                True      1601"
      ]
     },
     "execution_count": 20,
     "metadata": {},
     "output_type": "execute_result"
    }
   ],
   "source": [
    "# 크리스마스 관련 상품 판매 개수\n",
    "df_promotion.groupby([\"IsChristmasProduct\"])[\"Quantity\"].count().reset_index()"
   ]
  },
  {
   "cell_type": "code",
   "execution_count": 21,
   "id": "9198d026",
   "metadata": {},
   "outputs": [],
   "source": [
    "# 크리스마스 관련 상품 판매 백분율\n",
    "christmas_product_sales_percentage = round((1601 / 26157 * 100), 2)"
   ]
  },
  {
   "cell_type": "code",
   "execution_count": 22,
   "id": "b52d262d",
   "metadata": {},
   "outputs": [],
   "source": [
    "# 12월 상품별 평균 판매금액\n",
    "avg_sales_by_period_and_product = df_promotion.groupby([\"IsChristmasSeason\", \"IsChristmasProduct\"])[\"TotalPrice\"].mean().reset_index()"
   ]
  },
  {
   "cell_type": "code",
   "execution_count": 23,
   "id": "8f517d96",
   "metadata": {
    "scrolled": false
   },
   "outputs": [
    {
     "name": "stdout",
     "output_type": "stream",
     "text": [
      "12월 총 판매액: 572713.89 \n",
      "12월 크리스마스 상품 판매액: 24268.13 \n",
      "12월 총 판매액에서 크리스마스 상품 판매액이 차지하는 비중: 4.24 % \n",
      "12월 총 판매량에서 크리스마스 상품 판매량이 차지하는 비중: 6.12 %\n"
     ]
    },
    {
     "data": {
      "text/html": [
       "<div>\n",
       "<style scoped>\n",
       "    .dataframe tbody tr th:only-of-type {\n",
       "        vertical-align: middle;\n",
       "    }\n",
       "\n",
       "    .dataframe tbody tr th {\n",
       "        vertical-align: top;\n",
       "    }\n",
       "\n",
       "    .dataframe thead th {\n",
       "        text-align: right;\n",
       "    }\n",
       "</style>\n",
       "<table border=\"1\" class=\"dataframe\">\n",
       "  <thead>\n",
       "    <tr style=\"text-align: right;\">\n",
       "      <th></th>\n",
       "      <th>IsChristmasSeason</th>\n",
       "      <th>IsChristmasProduct</th>\n",
       "      <th>TotalPrice</th>\n",
       "    </tr>\n",
       "  </thead>\n",
       "  <tbody>\n",
       "    <tr>\n",
       "      <th>0</th>\n",
       "      <td>True</td>\n",
       "      <td>False</td>\n",
       "      <td>22.334491</td>\n",
       "    </tr>\n",
       "    <tr>\n",
       "      <th>1</th>\n",
       "      <td>True</td>\n",
       "      <td>True</td>\n",
       "      <td>15.158107</td>\n",
       "    </tr>\n",
       "  </tbody>\n",
       "</table>\n",
       "</div>"
      ],
      "text/plain": [
       "   IsChristmasSeason  IsChristmasProduct  TotalPrice\n",
       "0               True               False   22.334491\n",
       "1               True                True   15.158107"
      ]
     },
     "execution_count": 23,
     "metadata": {},
     "output_type": "execute_result"
    }
   ],
   "source": [
    "print(\"12월 총 판매액:\", sales_christmas_season, \"\\n12월 크리스마스 상품 판매액:\",sales_christmas_product,\n",
    "      \"\\n12월 총 판매액에서 크리스마스 상품 판매액이 차지하는 비중:\", (sales_christmas_product/sales_christmas_season *100).round(2), \"%\",\n",
    "      \"\\n12월 총 판매량에서 크리스마스 상품 판매량이 차지하는 비중:\", christmas_product_sales_percentage, \"%\")\n",
    "avg_sales_by_period_and_product"
   ]
  },
  {
   "cell_type": "markdown",
   "id": "6b939e64",
   "metadata": {},
   "source": [
    " "
   ]
  },
  {
   "cell_type": "markdown",
   "id": "47171a40",
   "metadata": {},
   "source": [
    "### [결과 해석]\n",
    "- 12월 동안 판매된 전체 상품 중 크리스마스 관련 상품이 차지하는 비중은 상대적으로 작지만, 이러한 상품들이 특정 소비자 그룹에게 매력적일 수 있음\n",
    "- 크리스마스 관련 상품이 평균적으로 더 낮은 가격대를 가지고 있을 수 있음\n",
    "\n",
    "이에 따라 위에서 제시되었던 비즈니스 전략을 수행할 수 있습니다.\n",
    "* 프로모션 전략\n",
    "    * 크리스마스 상품 프로모션 강화하여 크리스마스 관련 상품의 판매를 증진시키기 위한 특별 프로모션을 개발합니다.\n",
    "    * 대상 고객을 세분화하여 크리스마스 상품에 관심이 높은 고객 세그먼트를 식별하고, 이들을 대상으로 한 마케팅 캠페인을 실행합니다.\n",
    "* 재고 및 공급망 관리\n",
    "    * 재고 최적화를 통해 크리스마스 시즌에 대한 수요 예측을 바탕으로 재고 수준을 조절합니다.\n",
    "    * 공급망 효율화를 통해 시즌별 수요 변화에 따라 공급망을 조정하여 비용을 최소화하고, 고객 만족도를 높입니다.\n",
    "* 상품 다양화\n",
    "    * 상품 포트폴리오를 확장하여 크리스마스 관련 상품뿐만 아니라, 다른 시즌 상품에도 주목하여 상품 포트폴리오를 다양화합니다\n",
    "\n",
    "* 크리스마스 시즌 동안 프로모션과 상품 가격 전략이 판매에 미치는 영향을 분석하여, 미래의 프로모션 및 가격 전략을 최적화해야 합니다."
   ]
  },
  {
   "cell_type": "markdown",
   "id": "b967fb06",
   "metadata": {},
   "source": [
    " "
   ]
  },
  {
   "cell_type": "markdown",
   "id": "1b767a36",
   "metadata": {},
   "source": [
    "## 미션4) 다변량 회귀분석을 수행하여 크리스마스 기간 전후와 크리스마스 관련 상품과 비관련 상품 간의 판매량(Quantity) 차이를 'UnitPrice'와 'Country'와 함께 분석합니다.\n",
    "\n",
    "* 판매량(Quantity)을 종속변수로 하여, 크리스마스 관련 상품 여부(IsChristmasProduct), 단가(UnitPrice), 국가(Country) 등을 독립변수로 포함하는 다변량 선형 회귀모델을 구축합니다.\n",
    "* statsmodels 라이브러리(statsmodels.formula.api 의 ols)를 사용하여 모델을 구축하고, 결과를 해석합니다.\n",
    "* 분석 결과를 해석하고, 이를 바탕으로 크리스마스 시즌 판매 전략에 대한 권장 사항을 제시합니다.\n",
    "* 분석 과정과 결과, 그리고 비즈니스 전략에 대한 권장 사항을 포함하는 보고서를 작성합니다.\n",
    "* 다음 주어진 코드를 활용합니다.\n",
    "\n",
    "```python\n",
    "import statsmodels.formula.api as smf\n",
    "```"
   ]
  },
  {
   "cell_type": "code",
   "execution_count": 24,
   "id": "8e346c50",
   "metadata": {},
   "outputs": [],
   "source": [
    "import statsmodels.formula.api as smf"
   ]
  },
  {
   "cell_type": "code",
   "execution_count": 25,
   "id": "da7d5dfa",
   "metadata": {
    "scrolled": true
   },
   "outputs": [],
   "source": [
    "# # 국가 원핫인코딩\n",
    "# df_promotion = pd.get_dummies(df_promotion, columns=['Country'], drop_first=True)\n",
    "\n",
    "# # 크리스마스 관련 상품 여부를 정수로 변환 (True=1, False=0)\n",
    "# df_promotion['IsChristmasProduct'] = df_promotion['IsChristmasProduct'].astype(int)\n",
    "\n",
    "# # 다변량 선형 회귀모델 구축\n",
    "# formula = 'Quantity ~ IsChristmasProduct + UnitPrice + ' + ' + '.join(df_promotion.columns[df_promotion.columns.str.startswith('Country_')])\n",
    "# model = smf.ols(formula=formula, data=df_promotion).fit()\n",
    "\n",
    "#   File <unknown>:1\n",
    "#     Country_Channel Islands\n",
    "#                     ^\n",
    "# SyntaxError: invalid syntax\n",
    "\n",
    "# 에러 발생"
   ]
  },
  {
   "cell_type": "code",
   "execution_count": 26,
   "id": "1f039831",
   "metadata": {},
   "outputs": [
    {
     "data": {
      "text/plain": [
       "Country\n",
       "United Kingdom     23942\n",
       "Germany              512\n",
       "France               434\n",
       "EIRE                 333\n",
       "Norway               147\n",
       "Portugal             116\n",
       "Belgium               95\n",
       "Cyprus                83\n",
       "Spain                 75\n",
       "Netherlands           72\n",
       "Japan                 65\n",
       "Switzerland           49\n",
       "Italy                 40\n",
       "Lithuania             35\n",
       "Australia             32\n",
       "Iceland               31\n",
       "Sweden                26\n",
       "Denmark               20\n",
       "Channel Islands       17\n",
       "Finland               17\n",
       "Poland                 8\n",
       "Austria                8\n",
       "Name: count, dtype: int64"
      ]
     },
     "execution_count": 26,
     "metadata": {},
     "output_type": "execute_result"
    }
   ],
   "source": [
    "df_promotion['Country'].value_counts()"
   ]
  },
  {
   "cell_type": "markdown",
   "id": "fb11c3e2",
   "metadata": {},
   "source": [
    "statsmodels의 ols 함수에서는 변수명에 공백이나 특수 문자가 포함될 수 없으나 현재 국가명이 United Kingdom, Channel Islands으로 공백을 포함하는 것들이 있음."
   ]
  },
  {
   "cell_type": "code",
   "execution_count": 27,
   "id": "92e44990",
   "metadata": {},
   "outputs": [],
   "source": [
    "# 국가명을 포함하는 변수명의 공백을 밑줄로 대체\n",
    "df_promotion['Country'] = df_promotion['Country'].str.replace(' ', '_').str.replace('-', '_')\n",
    "\n",
    "# 국가 원핫인코딩\n",
    "df_promotion = pd.get_dummies(df_promotion, columns=['Country'], drop_first=True)\n",
    "\n",
    "# 크리스마스 관련 상품 여부를 정수로 변환 (True=1, False=0)\n",
    "df_promotion['IsChristmasProduct'] = df_promotion['IsChristmasProduct'].astype(int)\n",
    "\n",
    "# 다변량 선형 회귀모델 구축\n",
    "formula = 'Quantity ~ IsChristmasProduct + UnitPrice + ' + ' + '.join(df_promotion.columns[df_promotion.columns.str.startswith('Country_')])\n",
    "model = smf.ols(formula=formula, data=df_promotion).fit()"
   ]
  },
  {
   "cell_type": "code",
   "execution_count": 28,
   "id": "ef42121a",
   "metadata": {},
   "outputs": [
    {
     "data": {
      "text/html": [
       "<table class=\"simpletable\">\n",
       "<caption>OLS Regression Results</caption>\n",
       "<tr>\n",
       "  <th>Dep. Variable:</th>        <td>Quantity</td>     <th>  R-squared:         </th>  <td>   0.027</td>  \n",
       "</tr>\n",
       "<tr>\n",
       "  <th>Model:</th>                   <td>OLS</td>       <th>  Adj. R-squared:    </th>  <td>   0.026</td>  \n",
       "</tr>\n",
       "<tr>\n",
       "  <th>Method:</th>             <td>Least Squares</td>  <th>  F-statistic:       </th>  <td>   31.87</td>  \n",
       "</tr>\n",
       "<tr>\n",
       "  <th>Date:</th>             <td>Fri, 02 Feb 2024</td> <th>  Prob (F-statistic):</th>  <td>5.46e-138</td> \n",
       "</tr>\n",
       "<tr>\n",
       "  <th>Time:</th>                 <td>13:27:02</td>     <th>  Log-Likelihood:    </th> <td>-1.3687e+05</td>\n",
       "</tr>\n",
       "<tr>\n",
       "  <th>No. Observations:</th>      <td> 26157</td>      <th>  AIC:               </th>  <td>2.738e+05</td> \n",
       "</tr>\n",
       "<tr>\n",
       "  <th>Df Residuals:</th>          <td> 26133</td>      <th>  BIC:               </th>  <td>2.740e+05</td> \n",
       "</tr>\n",
       "<tr>\n",
       "  <th>Df Model:</th>              <td>    23</td>      <th>                     </th>      <td> </td>     \n",
       "</tr>\n",
       "<tr>\n",
       "  <th>Covariance Type:</th>      <td>nonrobust</td>    <th>                     </th>      <td> </td>     \n",
       "</tr>\n",
       "</table>\n",
       "<table class=\"simpletable\">\n",
       "<tr>\n",
       "                 <td></td>                    <th>coef</th>     <th>std err</th>      <th>t</th>      <th>P>|t|</th>  <th>[0.025</th>    <th>0.975]</th>  \n",
       "</tr>\n",
       "<tr>\n",
       "  <th>Intercept</th>                       <td>   16.8705</td> <td>    8.016</td> <td>    2.104</td> <td> 0.035</td> <td>    1.158</td> <td>   32.583</td>\n",
       "</tr>\n",
       "<tr>\n",
       "  <th>Country_Austria[T.True]</th>         <td>   -6.0392</td> <td>   17.920</td> <td>   -0.337</td> <td> 0.736</td> <td>  -41.163</td> <td>   29.084</td>\n",
       "</tr>\n",
       "<tr>\n",
       "  <th>Country_Belgium[T.True]</th>         <td>    3.1887</td> <td>    9.265</td> <td>    0.344</td> <td> 0.731</td> <td>  -14.972</td> <td>   21.349</td>\n",
       "</tr>\n",
       "<tr>\n",
       "  <th>Country_Channel_Islands[T.True]</th> <td>   -6.9579</td> <td>   13.608</td> <td>   -0.511</td> <td> 0.609</td> <td>  -33.630</td> <td>   19.714</td>\n",
       "</tr>\n",
       "<tr>\n",
       "  <th>Country_Cyprus[T.True]</th>          <td>   -4.4939</td> <td>    9.433</td> <td>   -0.476</td> <td> 0.634</td> <td>  -22.983</td> <td>   13.995</td>\n",
       "</tr>\n",
       "<tr>\n",
       "  <th>Country_Denmark[T.True]</th>         <td>    8.3909</td> <td>   12.921</td> <td>    0.649</td> <td> 0.516</td> <td>  -16.935</td> <td>   33.717</td>\n",
       "</tr>\n",
       "<tr>\n",
       "  <th>Country_EIRE[T.True]</th>            <td>    1.7074</td> <td>    8.390</td> <td>    0.204</td> <td> 0.839</td> <td>  -14.737</td> <td>   18.152</td>\n",
       "</tr>\n",
       "<tr>\n",
       "  <th>Country_Finland[T.True]</th>         <td>   58.5934</td> <td>   13.605</td> <td>    4.307</td> <td> 0.000</td> <td>   31.927</td> <td>   85.260</td>\n",
       "</tr>\n",
       "<tr>\n",
       "  <th>Country_France[T.True]</th>          <td>   -3.4033</td> <td>    8.304</td> <td>   -0.410</td> <td> 0.682</td> <td>  -19.679</td> <td>   12.872</td>\n",
       "</tr>\n",
       "<tr>\n",
       "  <th>Country_Germany[T.True]</th>         <td>   -1.2925</td> <td>    8.260</td> <td>   -0.156</td> <td> 0.876</td> <td>  -17.482</td> <td>   14.898</td>\n",
       "</tr>\n",
       "<tr>\n",
       "  <th>Country_Iceland[T.True]</th>         <td>   -4.9877</td> <td>   11.424</td> <td>   -0.437</td> <td> 0.662</td> <td>  -27.379</td> <td>   17.404</td>\n",
       "</tr>\n",
       "<tr>\n",
       "  <th>Country_Italy[T.True]</th>           <td>   -6.6440</td> <td>   10.751</td> <td>   -0.618</td> <td> 0.537</td> <td>  -27.717</td> <td>   14.429</td>\n",
       "</tr>\n",
       "<tr>\n",
       "  <th>Country_Japan[T.True]</th>           <td>   47.1576</td> <td>    9.790</td> <td>    4.817</td> <td> 0.000</td> <td>   27.969</td> <td>   66.346</td>\n",
       "</tr>\n",
       "<tr>\n",
       "  <th>Country_Lithuania[T.True]</th>       <td>    3.3680</td> <td>   11.087</td> <td>    0.304</td> <td> 0.761</td> <td>  -18.364</td> <td>   25.100</td>\n",
       "</tr>\n",
       "<tr>\n",
       "  <th>Country_Netherlands[T.True]</th>     <td>   78.9641</td> <td>    9.631</td> <td>    8.199</td> <td> 0.000</td> <td>   60.086</td> <td>   97.842</td>\n",
       "</tr>\n",
       "<tr>\n",
       "  <th>Country_Norway[T.True]</th>          <td>    8.3921</td> <td>    8.844</td> <td>    0.949</td> <td> 0.343</td> <td>   -8.942</td> <td>   25.726</td>\n",
       "</tr>\n",
       "<tr>\n",
       "  <th>Country_Poland[T.True]</th>          <td>    1.9375</td> <td>   17.919</td> <td>    0.108</td> <td> 0.914</td> <td>  -33.184</td> <td>   37.059</td>\n",
       "</tr>\n",
       "<tr>\n",
       "  <th>Country_Portugal[T.True]</th>        <td>   -6.0620</td> <td>    9.051</td> <td>   -0.670</td> <td> 0.503</td> <td>  -23.803</td> <td>   11.679</td>\n",
       "</tr>\n",
       "<tr>\n",
       "  <th>Country_Spain[T.True]</th>           <td>   -3.3852</td> <td>    9.572</td> <td>   -0.354</td> <td> 0.724</td> <td>  -22.147</td> <td>   15.376</td>\n",
       "</tr>\n",
       "<tr>\n",
       "  <th>Country_Sweden[T.True]</th>          <td>  136.1033</td> <td>   11.969</td> <td>   11.371</td> <td> 0.000</td> <td>  112.643</td> <td>  159.564</td>\n",
       "</tr>\n",
       "<tr>\n",
       "  <th>Country_Switzerland[T.True]</th>     <td>   -0.6570</td> <td>   10.303</td> <td>   -0.064</td> <td> 0.949</td> <td>  -20.852</td> <td>   19.538</td>\n",
       "</tr>\n",
       "<tr>\n",
       "  <th>Country_United_Kingdom[T.True]</th>  <td>   -3.9356</td> <td>    8.019</td> <td>   -0.491</td> <td> 0.624</td> <td>  -19.653</td> <td>   11.782</td>\n",
       "</tr>\n",
       "<tr>\n",
       "  <th>IsChristmasProduct</th>              <td>   -0.7779</td> <td>    1.172</td> <td>   -0.664</td> <td> 0.507</td> <td>   -3.075</td> <td>    1.520</td>\n",
       "</tr>\n",
       "<tr>\n",
       "  <th>UnitPrice</th>                       <td>   -0.5510</td> <td>    0.054</td> <td>  -10.226</td> <td> 0.000</td> <td>   -0.657</td> <td>   -0.445</td>\n",
       "</tr>\n",
       "</table>\n",
       "<table class=\"simpletable\">\n",
       "<tr>\n",
       "  <th>Omnibus:</th>       <td>67557.031</td> <th>  Durbin-Watson:     </th>    <td>   1.314</td>   \n",
       "</tr>\n",
       "<tr>\n",
       "  <th>Prob(Omnibus):</th>  <td> 0.000</td>   <th>  Jarque-Bera (JB):  </th> <td>1893061778.356</td>\n",
       "</tr>\n",
       "<tr>\n",
       "  <th>Skew:</th>           <td>29.601</td>   <th>  Prob(JB):          </th>    <td>    0.00</td>   \n",
       "</tr>\n",
       "<tr>\n",
       "  <th>Kurtosis:</th>      <td>1319.605</td>  <th>  Cond. No.          </th>    <td>    841.</td>   \n",
       "</tr>\n",
       "</table><br/><br/>Notes:<br/>[1] Standard Errors assume that the covariance matrix of the errors is correctly specified."
      ],
      "text/latex": [
       "\\begin{center}\n",
       "\\begin{tabular}{lclc}\n",
       "\\toprule\n",
       "\\textbf{Dep. Variable:}                    &     Quantity     & \\textbf{  R-squared:         } &       0.027     \\\\\n",
       "\\textbf{Model:}                            &       OLS        & \\textbf{  Adj. R-squared:    } &       0.026     \\\\\n",
       "\\textbf{Method:}                           &  Least Squares   & \\textbf{  F-statistic:       } &       31.87     \\\\\n",
       "\\textbf{Date:}                             & Fri, 02 Feb 2024 & \\textbf{  Prob (F-statistic):} &   5.46e-138     \\\\\n",
       "\\textbf{Time:}                             &     13:27:02     & \\textbf{  Log-Likelihood:    } &  -1.3687e+05    \\\\\n",
       "\\textbf{No. Observations:}                 &       26157      & \\textbf{  AIC:               } &   2.738e+05     \\\\\n",
       "\\textbf{Df Residuals:}                     &       26133      & \\textbf{  BIC:               } &   2.740e+05     \\\\\n",
       "\\textbf{Df Model:}                         &          23      & \\textbf{                     } &                 \\\\\n",
       "\\textbf{Covariance Type:}                  &    nonrobust     & \\textbf{                     } &                 \\\\\n",
       "\\bottomrule\n",
       "\\end{tabular}\n",
       "\\begin{tabular}{lcccccc}\n",
       "                                           & \\textbf{coef} & \\textbf{std err} & \\textbf{t} & \\textbf{P$> |$t$|$} & \\textbf{[0.025} & \\textbf{0.975]}  \\\\\n",
       "\\midrule\n",
       "\\textbf{Intercept}                         &      16.8705  &        8.016     &     2.104  &         0.035        &        1.158    &       32.583     \\\\\n",
       "\\textbf{Country\\_Austria[T.True]}          &      -6.0392  &       17.920     &    -0.337  &         0.736        &      -41.163    &       29.084     \\\\\n",
       "\\textbf{Country\\_Belgium[T.True]}          &       3.1887  &        9.265     &     0.344  &         0.731        &      -14.972    &       21.349     \\\\\n",
       "\\textbf{Country\\_Channel\\_Islands[T.True]} &      -6.9579  &       13.608     &    -0.511  &         0.609        &      -33.630    &       19.714     \\\\\n",
       "\\textbf{Country\\_Cyprus[T.True]}           &      -4.4939  &        9.433     &    -0.476  &         0.634        &      -22.983    &       13.995     \\\\\n",
       "\\textbf{Country\\_Denmark[T.True]}          &       8.3909  &       12.921     &     0.649  &         0.516        &      -16.935    &       33.717     \\\\\n",
       "\\textbf{Country\\_EIRE[T.True]}             &       1.7074  &        8.390     &     0.204  &         0.839        &      -14.737    &       18.152     \\\\\n",
       "\\textbf{Country\\_Finland[T.True]}          &      58.5934  &       13.605     &     4.307  &         0.000        &       31.927    &       85.260     \\\\\n",
       "\\textbf{Country\\_France[T.True]}           &      -3.4033  &        8.304     &    -0.410  &         0.682        &      -19.679    &       12.872     \\\\\n",
       "\\textbf{Country\\_Germany[T.True]}          &      -1.2925  &        8.260     &    -0.156  &         0.876        &      -17.482    &       14.898     \\\\\n",
       "\\textbf{Country\\_Iceland[T.True]}          &      -4.9877  &       11.424     &    -0.437  &         0.662        &      -27.379    &       17.404     \\\\\n",
       "\\textbf{Country\\_Italy[T.True]}            &      -6.6440  &       10.751     &    -0.618  &         0.537        &      -27.717    &       14.429     \\\\\n",
       "\\textbf{Country\\_Japan[T.True]}            &      47.1576  &        9.790     &     4.817  &         0.000        &       27.969    &       66.346     \\\\\n",
       "\\textbf{Country\\_Lithuania[T.True]}        &       3.3680  &       11.087     &     0.304  &         0.761        &      -18.364    &       25.100     \\\\\n",
       "\\textbf{Country\\_Netherlands[T.True]}      &      78.9641  &        9.631     &     8.199  &         0.000        &       60.086    &       97.842     \\\\\n",
       "\\textbf{Country\\_Norway[T.True]}           &       8.3921  &        8.844     &     0.949  &         0.343        &       -8.942    &       25.726     \\\\\n",
       "\\textbf{Country\\_Poland[T.True]}           &       1.9375  &       17.919     &     0.108  &         0.914        &      -33.184    &       37.059     \\\\\n",
       "\\textbf{Country\\_Portugal[T.True]}         &      -6.0620  &        9.051     &    -0.670  &         0.503        &      -23.803    &       11.679     \\\\\n",
       "\\textbf{Country\\_Spain[T.True]}            &      -3.3852  &        9.572     &    -0.354  &         0.724        &      -22.147    &       15.376     \\\\\n",
       "\\textbf{Country\\_Sweden[T.True]}           &     136.1033  &       11.969     &    11.371  &         0.000        &      112.643    &      159.564     \\\\\n",
       "\\textbf{Country\\_Switzerland[T.True]}      &      -0.6570  &       10.303     &    -0.064  &         0.949        &      -20.852    &       19.538     \\\\\n",
       "\\textbf{Country\\_United\\_Kingdom[T.True]}  &      -3.9356  &        8.019     &    -0.491  &         0.624        &      -19.653    &       11.782     \\\\\n",
       "\\textbf{IsChristmasProduct}                &      -0.7779  &        1.172     &    -0.664  &         0.507        &       -3.075    &        1.520     \\\\\n",
       "\\textbf{UnitPrice}                         &      -0.5510  &        0.054     &   -10.226  &         0.000        &       -0.657    &       -0.445     \\\\\n",
       "\\bottomrule\n",
       "\\end{tabular}\n",
       "\\begin{tabular}{lclc}\n",
       "\\textbf{Omnibus:}       & 67557.031 & \\textbf{  Durbin-Watson:     } &       1.314     \\\\\n",
       "\\textbf{Prob(Omnibus):} &    0.000  & \\textbf{  Jarque-Bera (JB):  } & 1893061778.356  \\\\\n",
       "\\textbf{Skew:}          &   29.601  & \\textbf{  Prob(JB):          } &        0.00     \\\\\n",
       "\\textbf{Kurtosis:}      &  1319.605 & \\textbf{  Cond. No.          } &        841.     \\\\\n",
       "\\bottomrule\n",
       "\\end{tabular}\n",
       "%\\caption{OLS Regression Results}\n",
       "\\end{center}\n",
       "\n",
       "Notes: \\newline\n",
       " [1] Standard Errors assume that the covariance matrix of the errors is correctly specified."
      ],
      "text/plain": [
       "<class 'statsmodels.iolib.summary.Summary'>\n",
       "\"\"\"\n",
       "                            OLS Regression Results                            \n",
       "==============================================================================\n",
       "Dep. Variable:               Quantity   R-squared:                       0.027\n",
       "Model:                            OLS   Adj. R-squared:                  0.026\n",
       "Method:                 Least Squares   F-statistic:                     31.87\n",
       "Date:                Fri, 02 Feb 2024   Prob (F-statistic):          5.46e-138\n",
       "Time:                        13:27:02   Log-Likelihood:            -1.3687e+05\n",
       "No. Observations:               26157   AIC:                         2.738e+05\n",
       "Df Residuals:                   26133   BIC:                         2.740e+05\n",
       "Df Model:                          23                                         \n",
       "Covariance Type:            nonrobust                                         \n",
       "===================================================================================================\n",
       "                                      coef    std err          t      P>|t|      [0.025      0.975]\n",
       "---------------------------------------------------------------------------------------------------\n",
       "Intercept                          16.8705      8.016      2.104      0.035       1.158      32.583\n",
       "Country_Austria[T.True]            -6.0392     17.920     -0.337      0.736     -41.163      29.084\n",
       "Country_Belgium[T.True]             3.1887      9.265      0.344      0.731     -14.972      21.349\n",
       "Country_Channel_Islands[T.True]    -6.9579     13.608     -0.511      0.609     -33.630      19.714\n",
       "Country_Cyprus[T.True]             -4.4939      9.433     -0.476      0.634     -22.983      13.995\n",
       "Country_Denmark[T.True]             8.3909     12.921      0.649      0.516     -16.935      33.717\n",
       "Country_EIRE[T.True]                1.7074      8.390      0.204      0.839     -14.737      18.152\n",
       "Country_Finland[T.True]            58.5934     13.605      4.307      0.000      31.927      85.260\n",
       "Country_France[T.True]             -3.4033      8.304     -0.410      0.682     -19.679      12.872\n",
       "Country_Germany[T.True]            -1.2925      8.260     -0.156      0.876     -17.482      14.898\n",
       "Country_Iceland[T.True]            -4.9877     11.424     -0.437      0.662     -27.379      17.404\n",
       "Country_Italy[T.True]              -6.6440     10.751     -0.618      0.537     -27.717      14.429\n",
       "Country_Japan[T.True]              47.1576      9.790      4.817      0.000      27.969      66.346\n",
       "Country_Lithuania[T.True]           3.3680     11.087      0.304      0.761     -18.364      25.100\n",
       "Country_Netherlands[T.True]        78.9641      9.631      8.199      0.000      60.086      97.842\n",
       "Country_Norway[T.True]              8.3921      8.844      0.949      0.343      -8.942      25.726\n",
       "Country_Poland[T.True]              1.9375     17.919      0.108      0.914     -33.184      37.059\n",
       "Country_Portugal[T.True]           -6.0620      9.051     -0.670      0.503     -23.803      11.679\n",
       "Country_Spain[T.True]              -3.3852      9.572     -0.354      0.724     -22.147      15.376\n",
       "Country_Sweden[T.True]            136.1033     11.969     11.371      0.000     112.643     159.564\n",
       "Country_Switzerland[T.True]        -0.6570     10.303     -0.064      0.949     -20.852      19.538\n",
       "Country_United_Kingdom[T.True]     -3.9356      8.019     -0.491      0.624     -19.653      11.782\n",
       "IsChristmasProduct                 -0.7779      1.172     -0.664      0.507      -3.075       1.520\n",
       "UnitPrice                          -0.5510      0.054    -10.226      0.000      -0.657      -0.445\n",
       "==============================================================================\n",
       "Omnibus:                    67557.031   Durbin-Watson:                   1.314\n",
       "Prob(Omnibus):                  0.000   Jarque-Bera (JB):       1893061778.356\n",
       "Skew:                          29.601   Prob(JB):                         0.00\n",
       "Kurtosis:                    1319.605   Cond. No.                         841.\n",
       "==============================================================================\n",
       "\n",
       "Notes:\n",
       "[1] Standard Errors assume that the covariance matrix of the errors is correctly specified.\n",
       "\"\"\""
      ]
     },
     "execution_count": 28,
     "metadata": {},
     "output_type": "execute_result"
    }
   ],
   "source": [
    "# 결과 요약\n",
    "summary = model.summary()\n",
    "summary"
   ]
  },
  {
   "cell_type": "markdown",
   "id": "244dc7dc",
   "metadata": {},
   "source": [
    "### [결과 해석]\n",
    "- __회귀계수 해석__\n",
    "    - IsChristmasProduct\n",
    "        - 크리스마스 관련 상품 여부의 계수 -0.7779.\n",
    "        - 크리스마스 관련 상품이 비관련 상품에 비해 판매량이 적음.\n",
    "            = 크리스마스 관련 상품이 특정 시즌에 집중되어 판매되는 경향이 있음\n",
    "    - UnitPrice\n",
    "        - 단가의 계수 -0.5510\n",
    "        - 단가가 높아질수록 판매량이 감소\n",
    "            = 고가의 상품이 상대적으로 적게 팔림\n",
    "    - Country 계수\n",
    "        - 해당 국가에서의 판매량이 기준 국가(여기서는 첫 번째 국가, drop_first=True 옵션으로 인해 제외된 국가)에 비해 어떻게 다른지를 나타냄\n",
    "        - 핀란드, 일본, 네덜란드, 스웨덴에서의 판매량이 상당히 높음\n",
    "        - 다른 국가들의 계수는 상대적으로 낮음 (크리스마스 상품 구매에 부정적일 수 있음)"
   ]
  },
  {
   "cell_type": "markdown",
   "id": "d7d1413c",
   "metadata": {},
   "source": [
    "- __비즈니스 전략__\n",
    "    - 크리스마스 시즌 전략\n",
    "        - 크리스마스 관련 상품이 비관련 상품보다 적게 팔리는 경향\n",
    "            → 크리스마스 시즌 동안 특별 프로모션을 통해 이러한 상품의 판매를 촉진할 필요가 있음\n",
    "            → 크리스마스 시즌을 앞두고 마케팅 캠페인을 강화하여 소비자의 관심을 끌고, 구매를 유도해야 함\n",
    "    - 가격 전략\n",
    "        - 단가가 판매량에 부정적인 영향을 미침\n",
    "            → 가격 책정 전략을 신중히 고려해야 함\n",
    "        - 가격 인하 프로모션 또는 다양한 가격대의 상품을 제공하여 소비자 선택의 폭을 넓힐 수 있음\n",
    "    - 국가별 전략\n",
    "        - 특정 국가에서의 높은 판매량을 고려하여, 이러한 시장에 대한 마케팅 및 프로모션 활동을 강화해야 함"
   ]
  },
  {
   "cell_type": "markdown",
   "id": "8520a7ef",
   "metadata": {},
   "source": [
    " "
   ]
  },
  {
   "cell_type": "markdown",
   "id": "4c39506a",
   "metadata": {},
   "source": [
    "## 미션5) 온라인 소매 데이터를 사용하여 고객이 특정 상품을 구매할지 여부를 예측합니다.\n",
    "이 예측 모델을 사용하여 타겟 마케팅 전략을 수립하고, 재고 관리를 최적화합니다. 고객의 특정 상품 구매 여부(구매/미구매)를 예측하는 이진 분류 모델을 구축합니다.\n",
    "\n",
    "\n",
    "1) 타겟 변수 생성: 'WHITE HANGING HEART T-LIGHT HOLDER' 상품을 구매했는지 여부를 나타내는 이진 타겟 변수(0: 미구매, 1: 구매)를 생성합니다.\n",
    "2) 특성(feature) 선택: 구매 예측에 영향을 미칠 수 있는 변수들을 선택합니다. 예를 들어, 'UnitPrice', 'Quantity', 'CustomerID', 'Country' 등이 될 수 있습니다.\n",
    "3) 범주형 변수 처리: 'Country'와 같은 범주형 변수를 숫자로 변환합니다. 원-핫 인코딩을 사용할 수 있습니다.\n",
    "4) 데이터 분할: 모델 학습을 위해 데이터를 훈련 세트와 테스트 세트로 분할합니다.\n",
    "5) 로지스틱 회귀 모델 생성 및 학습합니다.\n",
    "6) 모델을 평가 합니다."
   ]
  },
  {
   "cell_type": "code",
   "execution_count": 29,
   "id": "a990e6bf",
   "metadata": {},
   "outputs": [
    {
     "data": {
      "text/plain": [
       "Target\n",
       "False    6720\n",
       "True     2028\n",
       "Name: count, dtype: int64"
      ]
     },
     "execution_count": 29,
     "metadata": {},
     "output_type": "execute_result"
    }
   ],
   "source": [
    "from sklearn.model_selection import train_test_split\n",
    "from sklearn.linear_model import LogisticRegression\n",
    "from sklearn.metrics import classification_report, confusion_matrix\n",
    "\n",
    "# 필요한 데이터만 필터링\n",
    "df = df.dropna()\n",
    "df = df[df['Description'].str.contains(\"T-LIGHT HOLDER\")]\n",
    "\n",
    "# 'WHITE HANGING HEART T-LIGHT HOLDER' 상품 구매 여부를 나타내는 타겟 변수 생성\n",
    "df['Target'] = df['Description'] == 'WHITE HANGING HEART T-LIGHT HOLDER'\n",
    "df[\"Target\"].value_counts()"
   ]
  },
  {
   "cell_type": "code",
   "execution_count": 30,
   "id": "01ee5e2f",
   "metadata": {},
   "outputs": [],
   "source": [
    "# 특성과 타겟 변수 분리 (범주형 변수 처리)\n",
    "X = pd.get_dummies(df[['UnitPrice', 'Quantity', 'CustomerID', 'Country']])\n",
    "y = df['Target']"
   ]
  },
  {
   "cell_type": "code",
   "execution_count": 31,
   "id": "4c14b554",
   "metadata": {},
   "outputs": [],
   "source": [
    "# 데이터 분할: 훈련 세트와 테스트 세트로 분할\n",
    "X_train, X_test, y_train, y_test = train_test_split(X, y, test_size=0.2, random_state=42)"
   ]
  },
  {
   "cell_type": "code",
   "execution_count": 32,
   "id": "9705ba15",
   "metadata": {},
   "outputs": [
    {
     "name": "stdout",
     "output_type": "stream",
     "text": [
      "              precision    recall  f1-score   support\n",
      "\n",
      "       False       0.78      0.92      0.84      1353\n",
      "        True       0.27      0.10      0.15       397\n",
      "\n",
      "    accuracy                           0.73      1750\n",
      "   macro avg       0.52      0.51      0.49      1750\n",
      "weighted avg       0.66      0.73      0.68      1750\n",
      " [[1244  109]\n",
      " [ 357   40]]\n"
     ]
    }
   ],
   "source": [
    "# 로지스틱 회귀 모델 생성 및 학습\n",
    "log_reg = LogisticRegression(max_iter=1000)  # 충분한 반복 횟수 설정\n",
    "log_reg.fit(X_train, y_train)\n",
    "\n",
    "# 모델 평가\n",
    "predictions = log_reg.predict(X_test)\n",
    "report = classification_report(y_test, predictions)\n",
    "conf_matrix = confusion_matrix(y_test, predictions)\n",
    "\n",
    "print(report, conf_matrix)"
   ]
  },
  {
   "cell_type": "code",
   "execution_count": 33,
   "id": "acfbd2a0",
   "metadata": {},
   "outputs": [
    {
     "name": "stdout",
     "output_type": "stream",
     "text": [
      "accuracy: 73.37 %\n"
     ]
    }
   ],
   "source": [
    "# 정확도 계산\n",
    "\n",
    "# True Negatives (TN): 1244  \n",
    "# False Positives (FP): 109  \n",
    "# False Negatives (FN): 357  \n",
    "# True Positives (TP): 40 \n",
    "\n",
    "accuracy = (40 + 1244) / (40 + 1244 + 109 + 357)\n",
    "print(\"accuracy:\",round(accuracy*100, 2), \"%\")"
   ]
  },
  {
   "cell_type": "markdown",
   "id": "8ccc3826",
   "metadata": {},
   "source": [
    "### [결과 해석]\n",
    "- __모델 성능__\n",
    "    - 정확도 (Accuracy): 모델의 전체 정확도 73%. (모델이 전체 데이터 중 73%를 올바르게 분류함)\n",
    "    - 정밀도 (Precision):\n",
    "        - 클래스 0 (미구매): 78%. 모델이 미구매로 예측한 경우 중 실제로 미구매인 비율\n",
    "        - 클래스 1 (구매): 27%. 모델이 구매로 예측한 경우 중 실제로 구매인 비율\n",
    "    - 재현율 (Recall):\n",
    "        - 클래스 0: 92%. 실제 미구매인 경우 중 모델이 올바르게 미구매로 예측한 비율\n",
    "        - 클래스 1: 10%. 실제 구매인 경우 중 모델이 올바르게 구매로 예측한 비율\n",
    "    - 혼동 행렬 (Confusion Matrix):\n",
    "        - [1244, 109]: 실제 미구매인 1353개 샘플 중 1244개를 올바르게 미구매로, 109개를 잘못하여 구매로 분류\n",
    "        - [357, 40]: 실제 구매인 397개 샘플 중 357개를 잘못하여 미구매로, 40개를 올바르게 구매로 분류"
   ]
  },
  {
   "cell_type": "markdown",
   "id": "86dbed1f",
   "metadata": {},
   "source": [
    "- __비즈니스 전략__\n",
    "    - 클래스 1(구매)에 대한 모델의 정밀도와 재현율이 상대적으로 낮음.\n",
    "        = 모델이 구매를 잘 예측하는 데 어려움을 겪고 있음\n",
    "        → 구매 예측 정확도를 높이기 위한 추가적인 데이터 분석과 feature engineering이 필요할 수 있음.\n",
    "    - 실제 구매에 대해 구매로 예측한 비율(재현율)이 낮으므로, 구매 가능성이 높다고 예측된 고객에게만 집중하는 대신, 다양한 마케팅 채널과 전략을 병행하여 사용하는 것이 좋을 듯 함.\n",
    "    - 예측 결과를 활용하여 크리스마스 시즌 동안의 수요 변화를 예측하고, 재고를 최적화할 수 있음.\n",
    "    - 예측된 구매 가능성이 높은 고객군에 따라 재고를 조절해 과도한 재고를 방지하고 판매 기회를 극대화할 수 있음."
   ]
  },
  {
   "cell_type": "markdown",
   "id": "69c98357",
   "metadata": {},
   "source": [
    " "
   ]
  },
  {
   "cell_type": "markdown",
   "id": "ac8ace34",
   "metadata": {},
   "source": [
    "## 회고\n",
    "어제만 해도 분명 무슨 내용인지 감을 잡기 힘들었는데, 오히려 프로젝트를 수행하면서 아 이런 내용이구나! 하고 감을 잡을 수 있는 것 같습니다.  \n",
    "크리스마스 기간 설정, 그리고 국가 이름을 원핫 인코딩 하는 데에서 시간이 많이 소요되었습니다.  \n",
    "이제 프로젝트를 꽤 한 것 같은데도 아직도 예상치 못한 문제들이 항상 발생하네요 하하  \n",
    "그래도 점차 데이터 해석 결과를 어떻게 활용해야하는지 눈이 뜨이는 것 같습니다.\n",
    "비즈니스적인 도메인 지식이 많이 부족해서 그 부분을 대략적으로라도 공부해봐야 하나 하는 생각이 듭니다."
   ]
  }
 ],
 "metadata": {
  "kernelspec": {
   "display_name": "Python 3 (ipykernel)",
   "language": "python",
   "name": "python3"
  },
  "language_info": {
   "codemirror_mode": {
    "name": "ipython",
    "version": 3
   },
   "file_extension": ".py",
   "mimetype": "text/x-python",
   "name": "python",
   "nbconvert_exporter": "python",
   "pygments_lexer": "ipython3",
   "version": "3.11.5"
  }
 },
 "nbformat": 4,
 "nbformat_minor": 5
}

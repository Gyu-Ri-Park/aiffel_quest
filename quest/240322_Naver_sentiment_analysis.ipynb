{
 "cells": [
  {
   "cell_type": "markdown",
   "id": "a3ddb820",
   "metadata": {},
   "source": [
    "|평가문항\t|상세기준|\n",
    "|:-|:-|\n",
    "|1. 다양한 방법으로 Text Classification 태스크를 성공적으로 구현하였다.\t|3가지 이상의 모델이 성공적으로 시도됨|\n",
    "|2. gensim을 활용하여 자체학습된 혹은 사전학습된 임베딩 레이어를 분석하였다.\t|gensim의 유사단어 찾기를 활용하여 자체학습한 임베딩과 사전학습 임베딩을 비교 분석함|\n",
    "|3. 한국어 Word2Vec을 활용하여 가시적인 성능향상을 달성했다.\t|네이버 영화리뷰 데이터 감성분석 정확도를 85% 이상 달성함|"
   ]
  },
  {
   "cell_type": "markdown",
   "id": "4fbc2082",
   "metadata": {},
   "source": [
    "# 6-1. 프로젝트 : 네이버 영화리뷰 감성분석 도전하기\n",
    "이전 스텝까지는 영문 텍스트의 감정 분석을 진행해 보았습니다.  \n",
    "그렇다면 이번에는 한국어 텍스트의 감정 분석을 진행해 보면 어떨까요?  \n",
    "오늘 활용할 데이터셋은 네이버 영화의 댓글을 모아 구성된 Naver sentiment movie corpus입니다.\n",
    "## 라이브러리 버전 확인"
   ]
  },
  {
   "cell_type": "code",
   "execution_count": 1,
   "id": "4946bcdb",
   "metadata": {},
   "outputs": [
    {
     "name": "stdout",
     "output_type": "stream",
     "text": [
      "1.3.3\n",
      "0.5.2\n",
      "4.1.2\n"
     ]
    }
   ],
   "source": [
    "import pandas\n",
    "import konlpy\n",
    "import gensim\n",
    "\n",
    "print(pandas.__version__)\n",
    "print(konlpy.__version__)\n",
    "print(gensim.__version__)"
   ]
  },
  {
   "cell_type": "markdown",
   "id": "bd7df66f",
   "metadata": {},
   "source": [
    "## 1) 데이터 준비와 확인"
   ]
  },
  {
   "cell_type": "code",
   "execution_count": 2,
   "id": "54c7626f",
   "metadata": {},
   "outputs": [
    {
     "data": {
      "text/html": [
       "<div>\n",
       "<style scoped>\n",
       "    .dataframe tbody tr th:only-of-type {\n",
       "        vertical-align: middle;\n",
       "    }\n",
       "\n",
       "    .dataframe tbody tr th {\n",
       "        vertical-align: top;\n",
       "    }\n",
       "\n",
       "    .dataframe thead th {\n",
       "        text-align: right;\n",
       "    }\n",
       "</style>\n",
       "<table border=\"1\" class=\"dataframe\">\n",
       "  <thead>\n",
       "    <tr style=\"text-align: right;\">\n",
       "      <th></th>\n",
       "      <th>id</th>\n",
       "      <th>document</th>\n",
       "      <th>label</th>\n",
       "    </tr>\n",
       "  </thead>\n",
       "  <tbody>\n",
       "    <tr>\n",
       "      <th>0</th>\n",
       "      <td>9976970</td>\n",
       "      <td>아 더빙.. 진짜 짜증나네요 목소리</td>\n",
       "      <td>0</td>\n",
       "    </tr>\n",
       "    <tr>\n",
       "      <th>1</th>\n",
       "      <td>3819312</td>\n",
       "      <td>흠...포스터보고 초딩영화줄....오버연기조차 가볍지 않구나</td>\n",
       "      <td>1</td>\n",
       "    </tr>\n",
       "    <tr>\n",
       "      <th>2</th>\n",
       "      <td>10265843</td>\n",
       "      <td>너무재밓었다그래서보는것을추천한다</td>\n",
       "      <td>0</td>\n",
       "    </tr>\n",
       "    <tr>\n",
       "      <th>3</th>\n",
       "      <td>9045019</td>\n",
       "      <td>교도소 이야기구먼 ..솔직히 재미는 없다..평점 조정</td>\n",
       "      <td>0</td>\n",
       "    </tr>\n",
       "    <tr>\n",
       "      <th>4</th>\n",
       "      <td>6483659</td>\n",
       "      <td>사이몬페그의 익살스런 연기가 돋보였던 영화!스파이더맨에서 늙어보이기만 했던 커스틴 ...</td>\n",
       "      <td>1</td>\n",
       "    </tr>\n",
       "  </tbody>\n",
       "</table>\n",
       "</div>"
      ],
      "text/plain": [
       "         id                                           document  label\n",
       "0   9976970                                아 더빙.. 진짜 짜증나네요 목소리      0\n",
       "1   3819312                  흠...포스터보고 초딩영화줄....오버연기조차 가볍지 않구나      1\n",
       "2  10265843                                  너무재밓었다그래서보는것을추천한다      0\n",
       "3   9045019                      교도소 이야기구먼 ..솔직히 재미는 없다..평점 조정      0\n",
       "4   6483659  사이몬페그의 익살스런 연기가 돋보였던 영화!스파이더맨에서 늙어보이기만 했던 커스틴 ...      1"
      ]
     },
     "execution_count": 2,
     "metadata": {},
     "output_type": "execute_result"
    }
   ],
   "source": [
    "import pandas as pd\n",
    "\n",
    "# 데이터를 읽어봅시다. \n",
    "train_data = pd.read_table('~/aiffel/sentiment_classification/data/ratings_train.txt')\n",
    "test_data = pd.read_table('~/aiffel/sentiment_classification/data/ratings_test.txt')\n",
    "\n",
    "train_data.head()"
   ]
  },
  {
   "cell_type": "code",
   "execution_count": 3,
   "id": "8359da91",
   "metadata": {},
   "outputs": [
    {
     "name": "stdout",
     "output_type": "stream",
     "text": [
      "<class 'pandas.core.frame.DataFrame'>\n",
      "RangeIndex: 150000 entries, 0 to 149999\n",
      "Data columns (total 3 columns):\n",
      " #   Column    Non-Null Count   Dtype \n",
      "---  ------    --------------   ----- \n",
      " 0   id        150000 non-null  int64 \n",
      " 1   document  149995 non-null  object\n",
      " 2   label     150000 non-null  int64 \n",
      "dtypes: int64(2), object(1)\n",
      "memory usage: 3.4+ MB\n"
     ]
    }
   ],
   "source": [
    "train_data.info()"
   ]
  },
  {
   "cell_type": "markdown",
   "id": "9906630d",
   "metadata": {},
   "source": [
    "146183개의 리뷰로 구성되어 있으며, 긍정은 1, 부정은 0 라벨이 달려있다."
   ]
  },
  {
   "cell_type": "markdown",
   "id": "c5f8fcac",
   "metadata": {},
   "source": [
    "## 2) 데이터로더 구성\n",
    "실습 때 다루었던 IMDB 데이터셋은 텍스트를 가공하여 `imdb.data_loader()` 메서드를 호출하면 숫자 인덱스로 변환된 텍스트와 `word_to_index` 딕셔너리까지 친절하게 제공합니다. 그러나 이번에 다루게 될 nsmc 데이터셋은 전혀 가공되지 않은 텍스트 파일로 이루어져 있습니다. 이것을 읽어서 `imdb.data_loader()`와 동일하게 동작하는 자신만의 `data_loader`를 만들어 보는 것으로 시작합니다. `data_loader` 안에서는 다음을 수행해야 합니다.\n",
    "\n",
    "- 데이터의 중복 제거\n",
    "- NaN 결측치 제거\n",
    "- 한국어 토크나이저로 토큰화\n",
    "- 불용어(Stopwords) 제거\n",
    "- 사전word_to_index 구성\n",
    "- 텍스트 스트링을 사전 인덱스 스트링으로 변환\n",
    "- X_train, y_train, X_test, y_test, word_to_index 리턴"
   ]
  },
  {
   "cell_type": "code",
   "execution_count": 4,
   "id": "a2ea4505",
   "metadata": {},
   "outputs": [],
   "source": [
    "from konlpy.tag import Mecab\n",
    "import numpy as np\n",
    "from collections import Counter\n",
    "\n",
    "tokenizer = Mecab()\n",
    "stopwords = ['의','가','이','은','들','는','좀','잘','걍','과','도','를','으로','자','에','와','한','하다']\n",
    "\n",
    "def load_data(train_data, test_data, num_words=10000):\n",
    "    train_data.drop_duplicates(subset=['document'], inplace=True)   # 데이터 중복 제거\n",
    "    train_data = train_data.dropna(how = 'any')   # NaN 결측치 제거\n",
    "    test_data.drop_duplicates(subset=['document'], inplace=True)   # 데이터 중복 제거\n",
    "    test_data = test_data.dropna(how = 'any')   # NaN 결측치 제거\n",
    "    \n",
    "    X_train = []\n",
    "    for sentence in train_data['document']:\n",
    "        temp_X = tokenizer.morphs(sentence) # 한국어 토크나이저로 토큰화\n",
    "        temp_X = [word for word in temp_X if not word in stopwords] # 불용어 제거\n",
    "        X_train.append(temp_X)\n",
    "\n",
    "    X_test = []\n",
    "    for sentence in test_data['document']:\n",
    "        temp_X = tokenizer.morphs(sentence) # 한국어 토크나이저로 토큰화\n",
    "        temp_X = [word for word in temp_X if not word in stopwords] # 불용어 제거\n",
    "        X_test.append(temp_X)\n",
    "    \n",
    "    # 사전 word_to_index 구성\n",
    "    words = np.concatenate(X_train).tolist()\n",
    "    counter = Counter(words)\n",
    "    counter = counter.most_common(10000-4)\n",
    "    vocab = ['<PAD>', '<BOS>', '<EOS>', '<UNK>'] + [key for key, _ in counter]\n",
    "    word_to_index = {word:index for index, word in enumerate(vocab)}\n",
    "        \n",
    "    def wordlist_to_indexlist(wordlist):\n",
    "        return [word_to_index[word] if word in word_to_index else word_to_index['<UNK>'] for word in wordlist]\n",
    "        \n",
    "    X_train = list(map(wordlist_to_indexlist, X_train))\n",
    "    X_test = list(map(wordlist_to_indexlist, X_test))\n",
    "    \n",
    "    # X_train, y_train, X_test, y_test, word_to_index 리턴\n",
    "    return X_train, np.array(list(train_data['label'])), X_test, np.array(list(test_data['label'])), word_to_index\n",
    "    \n",
    "X_train, y_train, X_test, y_test, word_to_index = load_data(train_data, test_data) "
   ]
  },
  {
   "cell_type": "code",
   "execution_count": 5,
   "id": "488c9ccf",
   "metadata": {},
   "outputs": [
    {
     "data": {
      "text/plain": [
       "(146182, 146182, 49157, 49157)"
      ]
     },
     "execution_count": 5,
     "metadata": {},
     "output_type": "execute_result"
    }
   ],
   "source": [
    "len(X_train), len(y_train), len(X_test), len(y_test)"
   ]
  },
  {
   "cell_type": "code",
   "execution_count": 6,
   "id": "048d92c6",
   "metadata": {},
   "outputs": [
    {
     "name": "stdout",
     "output_type": "stream",
     "text": [
      "[32, 74, 919, 4, 4, 39, 228, 20, 33, 748]\n",
      "라벨:  0\n",
      "1번째 리뷰 문장 길이:  10\n",
      "2번째 리뷰 문장 길이:  17\n"
     ]
    }
   ],
   "source": [
    "print(X_train[0])  # 1번째 리뷰데이터\n",
    "print('라벨: ', y_train[0])  # 1번째 리뷰데이터의 라벨\n",
    "print('1번째 리뷰 문장 길이: ', len(X_train[0]))\n",
    "print('2번째 리뷰 문장 길이: ', len(X_train[1]))"
   ]
  },
  {
   "cell_type": "code",
   "execution_count": 7,
   "id": "45500a1e",
   "metadata": {
    "scrolled": false
   },
   "outputs": [
    {
     "name": "stdout",
     "output_type": "stream",
     "text": [
      "영화\n"
     ]
    }
   ],
   "source": [
    "index_to_word = {index:word for word, index in word_to_index.items()}\n",
    "print(index_to_word[5])"
   ]
  },
  {
   "cell_type": "code",
   "execution_count": 8,
   "id": "6008c1b0",
   "metadata": {},
   "outputs": [],
   "source": [
    "# 문장 1개를 활용할 딕셔너리와 함께 주면, 단어 인덱스 리스트 벡터로 변환해 주는 함수입니다. \n",
    "# 단, 모든 문장은 <BOS>로 시작하는 것으로 합니다. \n",
    "def get_encoded_sentence(sentence, word_to_index):\n",
    "    return [word_to_index['<BOS>']]+[word_to_index[word] if word in word_to_index else word_to_index['<UNK>'] for word in sentence.split()]\n",
    "\n",
    "# 여러 개의 문장 리스트를 한꺼번에 단어 인덱스 리스트 벡터로 encode해 주는 함수입니다. \n",
    "def get_encoded_sentences(sentences, word_to_index):\n",
    "    return [get_encoded_sentence(sentence, word_to_index) for sentence in sentences]\n",
    "\n",
    "# 숫자 벡터로 encode된 문장을 원래대로 decode하는 함수입니다. \n",
    "def get_decoded_sentence(encoded_sentence, index_to_word):\n",
    "    return ' '.join(index_to_word[index] if index in index_to_word else '<UNK>' for index in encoded_sentence[1:])  #[1:]를 통해 <BOS>를 제외\n",
    "\n",
    "# 여러 개의 숫자 벡터로 encode된 문장을 한꺼번에 원래대로 decode하는 함수입니다. \n",
    "def get_decoded_sentences(encoded_sentences, index_to_word):\n",
    "    return [get_decoded_sentence(encoded_sentence, index_to_word) for encoded_sentence in encoded_sentences]"
   ]
  },
  {
   "cell_type": "code",
   "execution_count": 9,
   "id": "fbc1a3be",
   "metadata": {},
   "outputs": [
    {
     "name": "stdout",
     "output_type": "stream",
     "text": [
      "더 빙 . . 진짜 짜증 나 네요 목소리\n",
      "라벨:  0\n"
     ]
    }
   ],
   "source": [
    "# encode된 텍스트가 정상적으로 decode 되는지 확인\n",
    "print(get_decoded_sentence(X_train[0], index_to_word))\n",
    "print('라벨: ', y_train[0])"
   ]
  },
  {
   "cell_type": "markdown",
   "id": "b4c9cea0",
   "metadata": {},
   "source": [
    "## 3) 모델 구성을 위한 데이터 분석 및 가공\n",
    "- 데이터셋 내 문장 길이 분포\n",
    "- 적절한 최대 문장 길이 지정\n",
    "- keras.preprocessing.sequence.pad_sequences 을 활용한 패딩 추가"
   ]
  },
  {
   "cell_type": "code",
   "execution_count": 10,
   "id": "1a8d728f",
   "metadata": {},
   "outputs": [
    {
     "name": "stdout",
     "output_type": "stream",
     "text": [
      "문장길이 평균 :  15.96940191154864\n",
      "문장길이 최대 :  116\n",
      "문장길이 표준편차 :  12.843571191092\n",
      "pad_sequences maxlen :  41\n",
      "전체 문장의 0.9342988343341575%가 maxlen 설정값 이내에 포함됩니다. \n"
     ]
    }
   ],
   "source": [
    "total_data_text = list(X_train) + list(X_test)\n",
    "# 텍스트데이터 문장길이의 리스트를 생성한 후\n",
    "num_tokens = [len(tokens) for tokens in total_data_text]\n",
    "num_tokens = np.array(num_tokens)\n",
    "# 문장길이의 평균값, 최대값, 표준편차를 계산해 본다. \n",
    "print('문장길이 평균 : ', np.mean(num_tokens))\n",
    "print('문장길이 최대 : ', np.max(num_tokens))\n",
    "print('문장길이 표준편차 : ', np.std(num_tokens))\n",
    "\n",
    "# 예를들어, 최대 길이를 (평균 + 2*표준편차)로 한다면,  \n",
    "max_tokens = np.mean(num_tokens) + 2 * np.std(num_tokens)\n",
    "maxlen = int(max_tokens)\n",
    "print('pad_sequences maxlen : ', maxlen)\n",
    "print(f'전체 문장의 {np.sum(num_tokens < max_tokens) / len(num_tokens)}%가 maxlen 설정값 이내에 포함됩니다. ')"
   ]
  },
  {
   "cell_type": "code",
   "execution_count": 11,
   "id": "21323e67",
   "metadata": {},
   "outputs": [
    {
     "name": "stdout",
     "output_type": "stream",
     "text": [
      "(146182, 41)\n"
     ]
    }
   ],
   "source": [
    "import tensorflow as tf\n",
    "\n",
    "X_train = tf.keras.preprocessing.sequence.pad_sequences(X_train,\n",
    "                                                        value=word_to_index[\"<PAD>\"],\n",
    "                                                        padding='pre', # 혹은 'post'\n",
    "                                                        maxlen=maxlen)\n",
    "\n",
    "X_test = tf.keras.preprocessing.sequence.pad_sequences(X_test,\n",
    "                                                       value=word_to_index[\"<PAD>\"],\n",
    "                                                       padding='pre', # 혹은 'post'\n",
    "                                                       maxlen=maxlen)\n",
    "\n",
    "print(X_train.shape)"
   ]
  },
  {
   "cell_type": "markdown",
   "id": "4ed899b1",
   "metadata": {},
   "source": [
    "## 4) 모델 구성 및 validation set 구성\n",
    "모델은 3가지 이상 다양하게 구성하여 실험해 보세요."
   ]
  },
  {
   "cell_type": "code",
   "execution_count": 12,
   "id": "740a8359",
   "metadata": {},
   "outputs": [
    {
     "name": "stdout",
     "output_type": "stream",
     "text": [
      "Model: \"sequential\"\n",
      "_________________________________________________________________\n",
      "Layer (type)                 Output Shape              Param #   \n",
      "=================================================================\n",
      "embedding (Embedding)        (None, None, 16)          160000    \n",
      "_________________________________________________________________\n",
      "conv1d (Conv1D)              (None, None, 16)          1808      \n",
      "_________________________________________________________________\n",
      "max_pooling1d (MaxPooling1D) (None, None, 16)          0         \n",
      "_________________________________________________________________\n",
      "conv1d_1 (Conv1D)            (None, None, 16)          1808      \n",
      "_________________________________________________________________\n",
      "global_max_pooling1d (Global (None, 16)                0         \n",
      "_________________________________________________________________\n",
      "dense (Dense)                (None, 8)                 136       \n",
      "_________________________________________________________________\n",
      "dense_1 (Dense)              (None, 1)                 9         \n",
      "=================================================================\n",
      "Total params: 163,761\n",
      "Trainable params: 163,761\n",
      "Non-trainable params: 0\n",
      "_________________________________________________________________\n"
     ]
    }
   ],
   "source": [
    "vocab_size = 10000    # 어휘 사전의 크기입니다(10,000개의 단어)\n",
    "word_vector_dim = 16  # 워드 벡터의 차원 수 (변경 가능한 하이퍼파라미터)\n",
    "\n",
    "# model 설계 - 딥러닝 모델 코드를 직접 작성해 주세요.\n",
    "model = tf.keras.Sequential()\n",
    "model.add(tf.keras.layers.Embedding(vocab_size, word_vector_dim, input_shape=(None,)))\n",
    "model.add(tf.keras.layers.Conv1D(16, 7, activation='relu'))\n",
    "model.add(tf.keras.layers.MaxPooling1D(5))\n",
    "model.add(tf.keras.layers.Conv1D(16, 7, activation='relu'))\n",
    "model.add(tf.keras.layers.GlobalMaxPooling1D())\n",
    "model.add(tf.keras.layers.Dense(8, activation='relu'))\n",
    "model.add(tf.keras.layers.Dense(1, activation='sigmoid'))  # 최종 출력은 긍정/부정을 나타내는 1dim 입니다.\n",
    "\n",
    "model.summary()"
   ]
  },
  {
   "cell_type": "code",
   "execution_count": 13,
   "id": "7aa1afd8",
   "metadata": {},
   "outputs": [
    {
     "name": "stdout",
     "output_type": "stream",
     "text": [
      "(136182, 41)\n",
      "(136182,)\n"
     ]
    }
   ],
   "source": [
    "# validation set 10000건 분리\n",
    "x_val = X_train[:10000]   \n",
    "y_val = y_train[:10000]\n",
    "\n",
    "# validation set을 제외한 나머지 건\n",
    "partial_x_train = X_train[10000:]  \n",
    "partial_y_train = y_train[10000:]\n",
    "\n",
    "print(partial_x_train.shape)\n",
    "print(partial_y_train.shape)"
   ]
  },
  {
   "cell_type": "code",
   "execution_count": 14,
   "id": "552a9510",
   "metadata": {},
   "outputs": [
    {
     "name": "stdout",
     "output_type": "stream",
     "text": [
      "(10000, 41)\n",
      "(10000,)\n"
     ]
    }
   ],
   "source": [
    "import numpy as np\n",
    "\n",
    "# 전체 훈련 데이터를 셔플하기 위한 인덱스를 무작위로 생성\n",
    "indices = np.arange(partial_x_train.shape[0])\n",
    "np.random.shuffle(indices)\n",
    "\n",
    "# 무작위로 섞인 인덱스를 사용하여 데이터와 레이블을 선택\n",
    "partial_x_train = partial_x_train[indices][:10000]\n",
    "partial_y_train = partial_y_train[indices][:10000]\n",
    "\n",
    "print(partial_x_train.shape)\n",
    "print(partial_y_train.shape)"
   ]
  },
  {
   "cell_type": "code",
   "execution_count": 15,
   "id": "79f38395",
   "metadata": {},
   "outputs": [
    {
     "name": "stdout",
     "output_type": "stream",
     "text": [
      "Physical devices cannot be modified after being initialized\n"
     ]
    }
   ],
   "source": [
    "gpus = tf.config.experimental.list_physical_devices('GPU')\n",
    "if gpus:\n",
    "    try:\n",
    "        # 필요할 때 GPU 메모리 증가를 허용하도록 설정\n",
    "        for gpu in gpus:\n",
    "            tf.config.experimental.set_memory_growth(gpu, True)\n",
    "    except RuntimeError as e:\n",
    "        # 프로그램 시작시에 메모리 증가가 설정되어야만 합니다\n",
    "        print(e)"
   ]
  },
  {
   "cell_type": "markdown",
   "id": "bccc3480",
   "metadata": {},
   "source": [
    "## 5) 모델 훈련 개시"
   ]
  },
  {
   "cell_type": "code",
   "execution_count": 16,
   "id": "0ae2f207",
   "metadata": {},
   "outputs": [
    {
     "name": "stdout",
     "output_type": "stream",
     "text": [
      "Epoch 1/20\n",
      "79/79 [==============================] - 4s 8ms/step - loss: 0.6888 - accuracy: 0.5407 - val_loss: 0.6659 - val_accuracy: 0.6265\n",
      "Epoch 2/20\n",
      "79/79 [==============================] - 0s 6ms/step - loss: 0.5050 - accuracy: 0.7787 - val_loss: 0.4362 - val_accuracy: 0.7976\n",
      "Epoch 3/20\n",
      "79/79 [==============================] - 0s 6ms/step - loss: 0.3039 - accuracy: 0.8807 - val_loss: 0.4223 - val_accuracy: 0.8116\n",
      "Epoch 4/20\n",
      "79/79 [==============================] - 0s 6ms/step - loss: 0.2086 - accuracy: 0.9258 - val_loss: 0.4548 - val_accuracy: 0.8079\n",
      "Epoch 5/20\n",
      "79/79 [==============================] - 0s 6ms/step - loss: 0.1443 - accuracy: 0.9522 - val_loss: 0.5056 - val_accuracy: 0.8014\n",
      "Epoch 6/20\n",
      "79/79 [==============================] - 0s 6ms/step - loss: 0.0968 - accuracy: 0.9709 - val_loss: 0.5722 - val_accuracy: 0.8022\n",
      "Epoch 7/20\n",
      "79/79 [==============================] - 0s 6ms/step - loss: 0.0664 - accuracy: 0.9826 - val_loss: 0.6456 - val_accuracy: 0.7961\n",
      "Epoch 8/20\n",
      "79/79 [==============================] - 0s 6ms/step - loss: 0.0478 - accuracy: 0.9879 - val_loss: 0.6942 - val_accuracy: 0.7962\n",
      "Epoch 9/20\n",
      "79/79 [==============================] - 0s 6ms/step - loss: 0.0333 - accuracy: 0.9922 - val_loss: 0.7528 - val_accuracy: 0.7904\n",
      "Epoch 10/20\n",
      "79/79 [==============================] - 0s 6ms/step - loss: 0.0251 - accuracy: 0.9946 - val_loss: 0.8053 - val_accuracy: 0.7911\n",
      "Epoch 11/20\n",
      "79/79 [==============================] - 0s 6ms/step - loss: 0.0213 - accuracy: 0.9941 - val_loss: 0.8569 - val_accuracy: 0.7930\n",
      "Epoch 12/20\n",
      "79/79 [==============================] - 0s 6ms/step - loss: 0.0171 - accuracy: 0.9956 - val_loss: 0.9096 - val_accuracy: 0.7881\n",
      "Epoch 13/20\n",
      "79/79 [==============================] - 0s 6ms/step - loss: 0.0143 - accuracy: 0.9966 - val_loss: 0.9337 - val_accuracy: 0.7870\n",
      "Epoch 14/20\n",
      "79/79 [==============================] - 0s 6ms/step - loss: 0.0133 - accuracy: 0.9963 - val_loss: 0.9778 - val_accuracy: 0.7856\n",
      "Epoch 15/20\n",
      "79/79 [==============================] - 0s 6ms/step - loss: 0.0121 - accuracy: 0.9963 - val_loss: 1.0034 - val_accuracy: 0.7871\n",
      "Epoch 16/20\n",
      "79/79 [==============================] - 0s 6ms/step - loss: 0.0112 - accuracy: 0.9965 - val_loss: 1.0403 - val_accuracy: 0.7850\n",
      "Epoch 17/20\n",
      "79/79 [==============================] - 0s 6ms/step - loss: 0.0083 - accuracy: 0.9969 - val_loss: 1.0826 - val_accuracy: 0.7864\n",
      "Epoch 18/20\n",
      "79/79 [==============================] - 0s 6ms/step - loss: 0.0099 - accuracy: 0.9972 - val_loss: 1.0778 - val_accuracy: 0.7854\n",
      "Epoch 19/20\n",
      "79/79 [==============================] - 0s 6ms/step - loss: 0.0070 - accuracy: 0.9979 - val_loss: 1.1130 - val_accuracy: 0.7823\n",
      "Epoch 20/20\n",
      "79/79 [==============================] - 0s 6ms/step - loss: 0.0073 - accuracy: 0.9977 - val_loss: 1.1331 - val_accuracy: 0.7842\n"
     ]
    }
   ],
   "source": [
    "model.compile(optimizer='adam',\n",
    "              loss='binary_crossentropy',\n",
    "              metrics=['accuracy'])\n",
    "              \n",
    "epochs=20  # 몇 epoch를 훈련하면 좋을지 결과를 보면서 바꾸어 봅시다. \n",
    "\n",
    "history = model.fit(partial_x_train,\n",
    "                    partial_y_train,\n",
    "                    epochs=epochs,\n",
    "                    batch_size=128,\n",
    "                    validation_data=(x_val, y_val),\n",
    "                    verbose=1)"
   ]
  },
  {
   "cell_type": "code",
   "execution_count": 17,
   "id": "c0bfd74d",
   "metadata": {},
   "outputs": [
    {
     "name": "stdout",
     "output_type": "stream",
     "text": [
      "1537/1537 - 2s - loss: 1.1968 - accuracy: 0.7751\n",
      "[1.1967928409576416, 0.7751083374023438]\n"
     ]
    }
   ],
   "source": [
    "# 학습이 끝난 모델을 테스트셋으로 평가\n",
    "results = model.evaluate(X_test,  y_test, verbose=2)\n",
    "\n",
    "print(results)"
   ]
  },
  {
   "cell_type": "markdown",
   "id": "190cf612",
   "metadata": {},
   "source": [
    "## 6) Loss, Accuracy 그래프 시각화\n"
   ]
  },
  {
   "cell_type": "code",
   "execution_count": 18,
   "id": "d113251f",
   "metadata": {},
   "outputs": [
    {
     "name": "stdout",
     "output_type": "stream",
     "text": [
      "dict_keys(['loss', 'accuracy', 'val_loss', 'val_accuracy'])\n"
     ]
    }
   ],
   "source": [
    "history_dict = history.history\n",
    "print(history_dict.keys()) # epoch에 따른 그래프를 그려볼 수 있는 항목들"
   ]
  },
  {
   "cell_type": "code",
   "execution_count": 19,
   "id": "67caa7e1",
   "metadata": {},
   "outputs": [
    {
     "data": {
      "image/png": "[encoded data removed]",
      "text/plain": [
       "<Figure size 432x288 with 1 Axes>"
      ]
     },
     "metadata": {
      "needs_background": "light"
     },
     "output_type": "display_data"
    }
   ],
   "source": [
    "import matplotlib.pyplot as plt\n",
    "\n",
    "acc = history_dict['accuracy']\n",
    "val_acc = history_dict['val_accuracy']\n",
    "loss = history_dict['loss']\n",
    "val_loss = history_dict['val_loss']\n",
    "\n",
    "epochs = range(1, len(acc) + 1)\n",
    "\n",
    "# \"bo\"는 \"파란색 점\"입니다\n",
    "plt.plot(epochs, loss, 'bo', label='Training loss')\n",
    "# b는 \"파란 실선\"입니다\n",
    "plt.plot(epochs, val_loss, 'b', label='Validation loss')\n",
    "plt.title('Training and validation loss')\n",
    "plt.xlabel('Epochs')\n",
    "plt.ylabel('Loss')\n",
    "plt.legend()\n",
    "\n",
    "plt.show()"
   ]
  },
  {
   "cell_type": "markdown",
   "id": "50b705c4",
   "metadata": {},
   "source": [
    "3 에폭 가량부터 과적합이 나타나고 있다."
   ]
  },
  {
   "cell_type": "code",
   "execution_count": 20,
   "id": "7e2de70c",
   "metadata": {},
   "outputs": [
    {
     "data": {
      "image/png": "[encoded data removed]",
      "text/plain": [
       "<Figure size 432x288 with 1 Axes>"
      ]
     },
     "metadata": {
      "needs_background": "light"
     },
     "output_type": "display_data"
    }
   ],
   "source": [
    "plt.clf()   # 그림을 초기화합니다\n",
    "\n",
    "plt.plot(epochs, acc, 'bo', label='Training acc')\n",
    "plt.plot(epochs, val_acc, 'b', label='Validation acc')\n",
    "plt.title('Training and validation accuracy')\n",
    "plt.xlabel('Epochs')\n",
    "plt.ylabel('Accuracy')\n",
    "plt.legend()\n",
    "\n",
    "plt.show()"
   ]
  },
  {
   "cell_type": "markdown",
   "id": "28f6bcf4",
   "metadata": {},
   "source": [
    "## 4) 모델 구성 및 validation set 구성\n",
    "모델은 3가지 이상 다양하게 구성하여 실험해 보세요."
   ]
  },
  {
   "cell_type": "code",
   "execution_count": 21,
   "id": "fcd394dc",
   "metadata": {},
   "outputs": [
    {
     "name": "stdout",
     "output_type": "stream",
     "text": [
      "Model: \"sequential_1\"\n",
      "_________________________________________________________________\n",
      "Layer (type)                 Output Shape              Param #   \n",
      "=================================================================\n",
      "embedding_1 (Embedding)      (None, None, 16)          160000    \n",
      "_________________________________________________________________\n",
      "conv1d_2 (Conv1D)            (None, None, 16)          1808      \n",
      "_________________________________________________________________\n",
      "max_pooling1d_1 (MaxPooling1 (None, None, 16)          0         \n",
      "_________________________________________________________________\n",
      "conv1d_3 (Conv1D)            (None, None, 16)          1808      \n",
      "_________________________________________________________________\n",
      "global_max_pooling1d_1 (Glob (None, 16)                0         \n",
      "_________________________________________________________________\n",
      "dense_2 (Dense)              (None, 8)                 136       \n",
      "_________________________________________________________________\n",
      "dense_3 (Dense)              (None, 1)                 9         \n",
      "=================================================================\n",
      "Total params: 163,761\n",
      "Trainable params: 163,761\n",
      "Non-trainable params: 0\n",
      "_________________________________________________________________\n"
     ]
    }
   ],
   "source": [
    "vocab_size = 10000    # 어휘 사전의 크기입니다(10,000개의 단어)\n",
    "word_vector_dim = 16  # 워드 벡터의 차원 수 (변경 가능한 하이퍼파라미터)\n",
    "\n",
    "# model 설계 - 딥러닝 모델 코드를 직접 작성해 주세요.\n",
    "model = tf.keras.Sequential()\n",
    "model.add(tf.keras.layers.Embedding(vocab_size, word_vector_dim, input_shape=(None,)))\n",
    "model.add(tf.keras.layers.Conv1D(16, 7, activation='relu'))\n",
    "model.add(tf.keras.layers.MaxPooling1D(5))\n",
    "model.add(tf.keras.layers.Conv1D(16, 7, activation='relu'))\n",
    "model.add(tf.keras.layers.GlobalMaxPooling1D())\n",
    "model.add(tf.keras.layers.Dense(8, activation='relu'))\n",
    "model.add(tf.keras.layers.Dense(1, activation='sigmoid'))  # 최종 출력은 긍정/부정을 나타내는 1dim 입니다.\n",
    "\n",
    "model.summary()"
   ]
  },
  {
   "cell_type": "code",
   "execution_count": 22,
   "id": "7b1d8c77",
   "metadata": {},
   "outputs": [
    {
     "name": "stdout",
     "output_type": "stream",
     "text": [
      "(136182, 41)\n",
      "(136182,)\n"
     ]
    }
   ],
   "source": [
    "# validation set 10000건 분리\n",
    "x_val = X_train[:10000]   \n",
    "y_val = y_train[:10000]\n",
    "\n",
    "# validation set을 제외한 나머지 건\n",
    "partial_x_train = X_train[10000:]  \n",
    "partial_y_train = y_train[10000:]\n",
    "\n",
    "print(partial_x_train.shape)\n",
    "print(partial_y_train.shape)"
   ]
  },
  {
   "cell_type": "code",
   "execution_count": 23,
   "id": "a6bff865",
   "metadata": {},
   "outputs": [
    {
     "name": "stdout",
     "output_type": "stream",
     "text": [
      "(10000, 41)\n",
      "(10000,)\n"
     ]
    }
   ],
   "source": [
    "import numpy as np\n",
    "\n",
    "# 전체 훈련 데이터를 셔플하기 위한 인덱스를 무작위로 생성\n",
    "indices = np.arange(partial_x_train.shape[0])\n",
    "np.random.shuffle(indices)\n",
    "\n",
    "# 무작위로 섞인 인덱스를 사용하여 데이터와 레이블을 선택\n",
    "partial_x_train = partial_x_train[indices][:10000]\n",
    "partial_y_train = partial_y_train[indices][:10000]\n",
    "\n",
    "print(partial_x_train.shape)\n",
    "print(partial_y_train.shape)"
   ]
  },
  {
   "cell_type": "code",
   "execution_count": 24,
   "id": "fea80fab",
   "metadata": {},
   "outputs": [
    {
     "name": "stdout",
     "output_type": "stream",
     "text": [
      "Physical devices cannot be modified after being initialized\n"
     ]
    }
   ],
   "source": [
    "gpus = tf.config.experimental.list_physical_devices('GPU')\n",
    "if gpus:\n",
    "    try:\n",
    "        # 필요할 때 GPU 메모리 증가를 허용하도록 설정\n",
    "        for gpu in gpus:\n",
    "            tf.config.experimental.set_memory_growth(gpu, True)\n",
    "    except RuntimeError as e:\n",
    "        # 프로그램 시작시에 메모리 증가가 설정되어야만 합니다\n",
    "        print(e)"
   ]
  },
  {
   "cell_type": "markdown",
   "id": "3c9786f1",
   "metadata": {},
   "source": [
    "## 5) 모델 훈련 개시"
   ]
  },
  {
   "cell_type": "code",
   "execution_count": 25,
   "id": "18400b9f",
   "metadata": {},
   "outputs": [
    {
     "name": "stdout",
     "output_type": "stream",
     "text": [
      "Epoch 1/20\n",
      "79/79 [==============================] - 1s 10ms/step - loss: 0.6918 - accuracy: 0.5331 - val_loss: 0.6845 - val_accuracy: 0.6245\n",
      "Epoch 2/20\n",
      "79/79 [==============================] - 0s 6ms/step - loss: 0.5470 - accuracy: 0.7666 - val_loss: 0.4368 - val_accuracy: 0.7970\n",
      "Epoch 3/20\n",
      "79/79 [==============================] - 0s 6ms/step - loss: 0.3255 - accuracy: 0.8654 - val_loss: 0.4185 - val_accuracy: 0.8073\n",
      "Epoch 4/20\n",
      "79/79 [==============================] - 0s 6ms/step - loss: 0.2281 - accuracy: 0.9142 - val_loss: 0.4506 - val_accuracy: 0.8077\n",
      "Epoch 5/20\n",
      "79/79 [==============================] - 0s 6ms/step - loss: 0.1665 - accuracy: 0.9422 - val_loss: 0.5245 - val_accuracy: 0.7925\n",
      "Epoch 6/20\n",
      "79/79 [==============================] - 0s 6ms/step - loss: 0.1167 - accuracy: 0.9632 - val_loss: 0.5668 - val_accuracy: 0.8005\n",
      "Epoch 7/20\n",
      "79/79 [==============================] - 0s 6ms/step - loss: 0.0832 - accuracy: 0.9769 - val_loss: 0.6424 - val_accuracy: 0.7947\n",
      "Epoch 8/20\n",
      "79/79 [==============================] - 0s 6ms/step - loss: 0.0610 - accuracy: 0.9845 - val_loss: 0.7163 - val_accuracy: 0.7890\n",
      "Epoch 9/20\n",
      "79/79 [==============================] - 0s 6ms/step - loss: 0.0458 - accuracy: 0.9889 - val_loss: 0.7876 - val_accuracy: 0.7859\n",
      "Epoch 10/20\n",
      "79/79 [==============================] - 0s 6ms/step - loss: 0.0366 - accuracy: 0.9905 - val_loss: 0.8323 - val_accuracy: 0.7885\n",
      "Epoch 11/20\n",
      "79/79 [==============================] - 0s 6ms/step - loss: 0.0283 - accuracy: 0.9939 - val_loss: 0.9113 - val_accuracy: 0.7826\n",
      "Epoch 12/20\n",
      "79/79 [==============================] - 0s 6ms/step - loss: 0.0242 - accuracy: 0.9943 - val_loss: 0.9486 - val_accuracy: 0.7841\n",
      "Epoch 13/20\n",
      "79/79 [==============================] - 0s 5ms/step - loss: 0.0183 - accuracy: 0.9952 - val_loss: 1.0252 - val_accuracy: 0.7793\n",
      "Epoch 14/20\n",
      "79/79 [==============================] - 0s 5ms/step - loss: 0.0139 - accuracy: 0.9967 - val_loss: 1.0665 - val_accuracy: 0.7823\n",
      "Epoch 15/20\n",
      "79/79 [==============================] - 0s 6ms/step - loss: 0.0115 - accuracy: 0.9972 - val_loss: 1.1168 - val_accuracy: 0.7795\n",
      "Epoch 16/20\n",
      "79/79 [==============================] - 0s 5ms/step - loss: 0.0097 - accuracy: 0.9972 - val_loss: 1.1593 - val_accuracy: 0.7782\n",
      "Epoch 17/20\n",
      "79/79 [==============================] - 0s 6ms/step - loss: 0.0080 - accuracy: 0.9982 - val_loss: 1.2099 - val_accuracy: 0.7767\n",
      "Epoch 18/20\n",
      "79/79 [==============================] - 0s 6ms/step - loss: 0.0064 - accuracy: 0.9982 - val_loss: 1.2624 - val_accuracy: 0.7775\n",
      "Epoch 19/20\n",
      "79/79 [==============================] - 0s 6ms/step - loss: 0.0061 - accuracy: 0.9978 - val_loss: 1.3034 - val_accuracy: 0.7759\n",
      "Epoch 20/20\n",
      "79/79 [==============================] - 0s 6ms/step - loss: 0.0062 - accuracy: 0.9978 - val_loss: 1.3261 - val_accuracy: 0.7774\n"
     ]
    }
   ],
   "source": [
    "model.compile(optimizer='adam',\n",
    "              loss='binary_crossentropy',\n",
    "              metrics=['accuracy'])\n",
    "              \n",
    "epochs=20  # 몇 epoch를 훈련하면 좋을지 결과를 보면서 바꾸어 봅시다. \n",
    "\n",
    "history = model.fit(partial_x_train,\n",
    "                    partial_y_train,\n",
    "                    epochs=epochs,\n",
    "                    batch_size=128,\n",
    "                    validation_data=(x_val, y_val),\n",
    "                    verbose=1)"
   ]
  },
  {
   "cell_type": "code",
   "execution_count": 26,
   "id": "0ab775c2",
   "metadata": {},
   "outputs": [
    {
     "name": "stdout",
     "output_type": "stream",
     "text": [
      "1537/1537 - 2s - loss: 1.3494 - accuracy: 0.7698\n",
      "[1.3493598699569702, 0.7698191404342651]\n"
     ]
    }
   ],
   "source": [
    "# 학습이 끝난 모델을 테스트셋으로 평가\n",
    "results = model.evaluate(X_test,  y_test, verbose=2)\n",
    "\n",
    "print(results)"
   ]
  },
  {
   "cell_type": "markdown",
   "id": "3a12beb6",
   "metadata": {},
   "source": [
    "## 6) Loss, Accuracy 그래프 시각화\n"
   ]
  },
  {
   "cell_type": "code",
   "execution_count": 27,
   "id": "edabd271",
   "metadata": {},
   "outputs": [
    {
     "name": "stdout",
     "output_type": "stream",
     "text": [
      "dict_keys(['loss', 'accuracy', 'val_loss', 'val_accuracy'])\n"
     ]
    }
   ],
   "source": [
    "history_dict = history.history\n",
    "print(history_dict.keys()) # epoch에 따른 그래프를 그려볼 수 있는 항목들"
   ]
  },
  {
   "cell_type": "code",
   "execution_count": 28,
   "id": "800f4760",
   "metadata": {},
   "outputs": [
    {
     "data": {
      "image/png": "[encoded data removed]",
      "text/plain": [
       "<Figure size 432x288 with 1 Axes>"
      ]
     },
     "metadata": {
      "needs_background": "light"
     },
     "output_type": "display_data"
    }
   ],
   "source": [
    "import matplotlib.pyplot as plt\n",
    "\n",
    "acc = history_dict['accuracy']\n",
    "val_acc = history_dict['val_accuracy']\n",
    "loss = history_dict['loss']\n",
    "val_loss = history_dict['val_loss']\n",
    "\n",
    "epochs = range(1, len(acc) + 1)\n",
    "\n",
    "# \"bo\"는 \"파란색 점\"입니다\n",
    "plt.plot(epochs, loss, 'bo', label='Training loss')\n",
    "# b는 \"파란 실선\"입니다\n",
    "plt.plot(epochs, val_loss, 'b', label='Validation loss')\n",
    "plt.title('Training and validation loss')\n",
    "plt.xlabel('Epochs')\n",
    "plt.ylabel('Loss')\n",
    "plt.legend()\n",
    "\n",
    "plt.show()"
   ]
  },
  {
   "cell_type": "markdown",
   "id": "861f2360",
   "metadata": {},
   "source": [
    "3 에폭 가량부터 과적합이 나타나고 있다."
   ]
  },
  {
   "cell_type": "code",
   "execution_count": 29,
   "id": "04088a72",
   "metadata": {},
   "outputs": [
    {
     "data": {
      "image/png": "[encoded data removed]",
      "text/plain": [
       "<Figure size 432x288 with 1 Axes>"
      ]
     },
     "metadata": {
      "needs_background": "light"
     },
     "output_type": "display_data"
    }
   ],
   "source": [
    "plt.clf()   # 그림을 초기화합니다\n",
    "\n",
    "plt.plot(epochs, acc, 'bo', label='Training acc')\n",
    "plt.plot(epochs, val_acc, 'b', label='Validation acc')\n",
    "plt.title('Training and validation accuracy')\n",
    "plt.xlabel('Epochs')\n",
    "plt.ylabel('Accuracy')\n",
    "plt.legend()\n",
    "\n",
    "plt.show()"
   ]
  },
  {
   "cell_type": "markdown",
   "id": "1d21d780",
   "metadata": {},
   "source": [
    "모델을 약간 변경해보자."
   ]
  },
  {
   "cell_type": "code",
   "execution_count": 30,
   "id": "911b94d0",
   "metadata": {},
   "outputs": [
    {
     "name": "stdout",
     "output_type": "stream",
     "text": [
      "Model: \"sequential_2\"\n",
      "_________________________________________________________________\n",
      "Layer (type)                 Output Shape              Param #   \n",
      "=================================================================\n",
      "embedding_2 (Embedding)      (None, None, 16)          160000    \n",
      "_________________________________________________________________\n",
      "conv1d_4 (Conv1D)            (None, None, 16)          1808      \n",
      "_________________________________________________________________\n",
      "max_pooling1d_2 (MaxPooling1 (None, None, 16)          0         \n",
      "_________________________________________________________________\n",
      "conv1d_5 (Conv1D)            (None, None, 16)          1808      \n",
      "_________________________________________________________________\n",
      "global_max_pooling1d_2 (Glob (None, 16)                0         \n",
      "_________________________________________________________________\n",
      "dense_4 (Dense)              (None, 8)                 136       \n",
      "_________________________________________________________________\n",
      "dropout (Dropout)            (None, 8)                 0         \n",
      "_________________________________________________________________\n",
      "dense_5 (Dense)              (None, 1)                 9         \n",
      "=================================================================\n",
      "Total params: 163,761\n",
      "Trainable params: 163,761\n",
      "Non-trainable params: 0\n",
      "_________________________________________________________________\n"
     ]
    }
   ],
   "source": [
    "vocab_size = 10000    # 어휘 사전의 크기입니다(10,000개의 단어)\n",
    "word_vector_dim = 16  # 워드 벡터의 차원 수 (변경 가능한 하이퍼파라미터)\n",
    "\n",
    "# model 설계 - 딥러닝 모델 코드를 직접 작성해 주세요.\n",
    "model = tf.keras.Sequential()\n",
    "model.add(tf.keras.layers.Embedding(vocab_size, word_vector_dim, input_shape=(None,)))\n",
    "model.add(tf.keras.layers.Conv1D(16, 7, activation='relu'))\n",
    "model.add(tf.keras.layers.MaxPooling1D(5))\n",
    "model.add(tf.keras.layers.Conv1D(16, 7, activation='relu'))\n",
    "model.add(tf.keras.layers.GlobalMaxPooling1D())\n",
    "model.add(tf.keras.layers.Dense(8, activation='relu'))\n",
    "model.add(tf.keras.layers.Dropout(0.5))\n",
    "model.add(tf.keras.layers.Dense(1, activation='sigmoid'))  # 최종 출력은 긍정/부정을 나타내는 1dim 입니다.\n",
    "\n",
    "model.summary()"
   ]
  },
  {
   "cell_type": "code",
   "execution_count": 31,
   "id": "20329c51",
   "metadata": {},
   "outputs": [
    {
     "name": "stdout",
     "output_type": "stream",
     "text": [
      "(136182, 41)\n",
      "(136182,)\n"
     ]
    }
   ],
   "source": [
    "# validation set 10000건 분리\n",
    "x_val = X_train[:10000]   \n",
    "y_val = y_train[:10000]\n",
    "\n",
    "# validation set을 제외한 나머지 건\n",
    "partial_x_train = X_train[10000:]  \n",
    "partial_y_train = y_train[10000:]\n",
    "\n",
    "print(partial_x_train.shape)\n",
    "print(partial_y_train.shape)"
   ]
  },
  {
   "cell_type": "code",
   "execution_count": 32,
   "id": "7fd39ce3",
   "metadata": {},
   "outputs": [
    {
     "name": "stdout",
     "output_type": "stream",
     "text": [
      "(10000, 41)\n",
      "(10000,)\n"
     ]
    }
   ],
   "source": [
    "import numpy as np\n",
    "\n",
    "# 전체 훈련 데이터를 셔플하기 위한 인덱스를 무작위로 생성\n",
    "indices = np.arange(partial_x_train.shape[0])\n",
    "np.random.shuffle(indices)\n",
    "\n",
    "# 무작위로 섞인 인덱스를 사용하여 데이터와 레이블을 선택\n",
    "partial_x_train = partial_x_train[indices][:10000]\n",
    "partial_y_train = partial_y_train[indices][:10000]\n",
    "\n",
    "print(partial_x_train.shape)\n",
    "print(partial_y_train.shape)"
   ]
  },
  {
   "cell_type": "markdown",
   "id": "ee886060",
   "metadata": {},
   "source": [
    "## 5) 모델 훈련 개시"
   ]
  },
  {
   "cell_type": "code",
   "execution_count": 33,
   "id": "a4f93f13",
   "metadata": {},
   "outputs": [
    {
     "name": "stdout",
     "output_type": "stream",
     "text": [
      "Epoch 1/50\n",
      "79/79 [==============================] - 1s 8ms/step - loss: 0.6921 - accuracy: 0.5125 - val_loss: 0.6885 - val_accuracy: 0.5580\n",
      "Epoch 2/50\n",
      "79/79 [==============================] - 0s 6ms/step - loss: 0.6413 - accuracy: 0.6495 - val_loss: 0.5401 - val_accuracy: 0.7795\n",
      "Epoch 3/50\n",
      "79/79 [==============================] - 0s 6ms/step - loss: 0.4938 - accuracy: 0.7946 - val_loss: 0.4663 - val_accuracy: 0.7936\n",
      "Epoch 4/50\n",
      "79/79 [==============================] - 0s 6ms/step - loss: 0.3932 - accuracy: 0.8638 - val_loss: 0.4372 - val_accuracy: 0.8049\n",
      "Epoch 5/50\n",
      "79/79 [==============================] - 0s 6ms/step - loss: 0.3422 - accuracy: 0.8946 - val_loss: 0.4414 - val_accuracy: 0.8027\n",
      "Epoch 6/50\n",
      "79/79 [==============================] - 0s 6ms/step - loss: 0.2987 - accuracy: 0.9146 - val_loss: 0.4744 - val_accuracy: 0.7984\n",
      "Epoch 7/50\n",
      "79/79 [==============================] - 0s 6ms/step - loss: 0.2682 - accuracy: 0.9268 - val_loss: 0.5390 - val_accuracy: 0.7902\n",
      "Epoch 8/50\n",
      "79/79 [==============================] - 0s 6ms/step - loss: 0.2394 - accuracy: 0.9346 - val_loss: 0.5567 - val_accuracy: 0.7924\n",
      "Epoch 9/50\n",
      "79/79 [==============================] - 0s 6ms/step - loss: 0.2215 - accuracy: 0.9401 - val_loss: 0.5550 - val_accuracy: 0.7917\n"
     ]
    }
   ],
   "source": [
    "model.compile(optimizer='adam',\n",
    "              loss='binary_crossentropy',\n",
    "              metrics=['accuracy'])\n",
    "              \n",
    "epochs=50  # 몇 epoch를 훈련하면 좋을지 결과를 보면서 바꾸어 봅시다. \n",
    "\n",
    "early_stopping = tf.keras.callbacks.EarlyStopping(monitor='val_loss', patience=5)\n",
    "\n",
    "history = model.fit(partial_x_train,\n",
    "                    partial_y_train,\n",
    "                    epochs=epochs,\n",
    "                    batch_size=128,\n",
    "                    validation_data=(x_val, y_val),\n",
    "                    verbose=1,\n",
    "                    callbacks=[early_stopping])"
   ]
  },
  {
   "cell_type": "code",
   "execution_count": 34,
   "id": "bd5d7cda",
   "metadata": {},
   "outputs": [
    {
     "name": "stdout",
     "output_type": "stream",
     "text": [
      "1537/1537 - 2s - loss: 0.5786 - accuracy: 0.7887\n",
      "[0.5786457061767578, 0.7887381315231323]\n"
     ]
    }
   ],
   "source": [
    "# 학습이 끝난 모델을 테스트셋으로 평가\n",
    "results = model.evaluate(X_test,  y_test, verbose=2)\n",
    "\n",
    "print(results)"
   ]
  },
  {
   "cell_type": "markdown",
   "id": "0ffc0313",
   "metadata": {},
   "source": [
    "## 6) Loss, Accuracy 그래프 시각화\n"
   ]
  },
  {
   "cell_type": "code",
   "execution_count": 35,
   "id": "fb46f0e6",
   "metadata": {},
   "outputs": [
    {
     "name": "stdout",
     "output_type": "stream",
     "text": [
      "dict_keys(['loss', 'accuracy', 'val_loss', 'val_accuracy'])\n"
     ]
    }
   ],
   "source": [
    "history_dict = history.history\n",
    "print(history_dict.keys()) # epoch에 따른 그래프를 그려볼 수 있는 항목들"
   ]
  },
  {
   "cell_type": "code",
   "execution_count": 36,
   "id": "441eb98f",
   "metadata": {},
   "outputs": [
    {
     "data": {
      "image/png": "[encoded data removed]",
      "text/plain": [
       "<Figure size 432x288 with 1 Axes>"
      ]
     },
     "metadata": {
      "needs_background": "light"
     },
     "output_type": "display_data"
    }
   ],
   "source": [
    "import matplotlib.pyplot as plt\n",
    "\n",
    "acc = history_dict['accuracy']\n",
    "val_acc = history_dict['val_accuracy']\n",
    "loss = history_dict['loss']\n",
    "val_loss = history_dict['val_loss']\n",
    "\n",
    "epochs = range(1, len(acc) + 1)\n",
    "\n",
    "# \"bo\"는 \"파란색 점\"입니다\n",
    "plt.plot(epochs, loss, 'bo', label='Training loss')\n",
    "# b는 \"파란 실선\"입니다\n",
    "plt.plot(epochs, val_loss, 'b', label='Validation loss')\n",
    "plt.title('Training and validation loss')\n",
    "plt.xlabel('Epochs')\n",
    "plt.ylabel('Loss')\n",
    "plt.legend()\n",
    "\n",
    "plt.show()"
   ]
  },
  {
   "cell_type": "markdown",
   "id": "c3223214",
   "metadata": {},
   "source": [
    "4 에폭 가량부터 과적합이 나타나고 있다."
   ]
  },
  {
   "cell_type": "code",
   "execution_count": 37,
   "id": "a4df306e",
   "metadata": {},
   "outputs": [
    {
     "data": {
      "image/png": "[encoded data removed]",
      "text/plain": [
       "<Figure size 432x288 with 1 Axes>"
      ]
     },
     "metadata": {
      "needs_background": "light"
     },
     "output_type": "display_data"
    }
   ],
   "source": [
    "plt.clf()   # 그림을 초기화합니다\n",
    "\n",
    "plt.plot(epochs, acc, 'bo', label='Training acc')\n",
    "plt.plot(epochs, val_acc, 'b', label='Validation acc')\n",
    "plt.title('Training and validation accuracy')\n",
    "plt.xlabel('Epochs')\n",
    "plt.ylabel('Accuracy')\n",
    "plt.legend()\n",
    "\n",
    "plt.show()"
   ]
  },
  {
   "cell_type": "markdown",
   "id": "8b73285d",
   "metadata": {},
   "source": [
    "데이터 수를 늘려보자."
   ]
  },
  {
   "cell_type": "code",
   "execution_count": 38,
   "id": "c4d95f66",
   "metadata": {},
   "outputs": [
    {
     "name": "stdout",
     "output_type": "stream",
     "text": [
      "Model: \"sequential_3\"\n",
      "_________________________________________________________________\n",
      "Layer (type)                 Output Shape              Param #   \n",
      "=================================================================\n",
      "embedding_3 (Embedding)      (None, None, 16)          160000    \n",
      "_________________________________________________________________\n",
      "conv1d_6 (Conv1D)            (None, None, 16)          1808      \n",
      "_________________________________________________________________\n",
      "max_pooling1d_3 (MaxPooling1 (None, None, 16)          0         \n",
      "_________________________________________________________________\n",
      "conv1d_7 (Conv1D)            (None, None, 16)          1808      \n",
      "_________________________________________________________________\n",
      "global_max_pooling1d_3 (Glob (None, 16)                0         \n",
      "_________________________________________________________________\n",
      "dense_6 (Dense)              (None, 8)                 136       \n",
      "_________________________________________________________________\n",
      "dropout_1 (Dropout)          (None, 8)                 0         \n",
      "_________________________________________________________________\n",
      "dense_7 (Dense)              (None, 1)                 9         \n",
      "=================================================================\n",
      "Total params: 163,761\n",
      "Trainable params: 163,761\n",
      "Non-trainable params: 0\n",
      "_________________________________________________________________\n"
     ]
    }
   ],
   "source": [
    "vocab_size = 10000    # 어휘 사전의 크기입니다(10,000개의 단어)\n",
    "word_vector_dim = 16  # 워드 벡터의 차원 수 (변경 가능한 하이퍼파라미터)\n",
    "\n",
    "# model 설계 - 딥러닝 모델 코드를 직접 작성해 주세요.\n",
    "model = tf.keras.Sequential()\n",
    "model.add(tf.keras.layers.Embedding(vocab_size, word_vector_dim, input_shape=(None,)))\n",
    "model.add(tf.keras.layers.Conv1D(16, 7, activation='relu'))\n",
    "model.add(tf.keras.layers.MaxPooling1D(5))\n",
    "model.add(tf.keras.layers.Conv1D(16, 7, activation='relu'))\n",
    "model.add(tf.keras.layers.GlobalMaxPooling1D())\n",
    "model.add(tf.keras.layers.Dense(8, activation='relu'))\n",
    "model.add(tf.keras.layers.Dropout(0.5))\n",
    "model.add(tf.keras.layers.Dense(1, activation='sigmoid'))  # 최종 출력은 긍정/부정을 나타내는 1dim 입니다.\n",
    "\n",
    "model.summary()"
   ]
  },
  {
   "cell_type": "code",
   "execution_count": 39,
   "id": "81ed336d",
   "metadata": {},
   "outputs": [
    {
     "name": "stdout",
     "output_type": "stream",
     "text": [
      "(136182, 41)\n",
      "(136182,)\n"
     ]
    }
   ],
   "source": [
    "# validation set 10000건 분리\n",
    "x_val = X_train[:10000]   \n",
    "y_val = y_train[:10000]\n",
    "\n",
    "# validation set을 제외한 나머지 건\n",
    "partial_x_train = X_train[10000:]  \n",
    "partial_y_train = y_train[10000:]\n",
    "\n",
    "print(partial_x_train.shape)\n",
    "print(partial_y_train.shape)"
   ]
  },
  {
   "cell_type": "code",
   "execution_count": 40,
   "id": "dfd39303",
   "metadata": {},
   "outputs": [
    {
     "name": "stdout",
     "output_type": "stream",
     "text": [
      "(50000, 41)\n",
      "(50000,)\n"
     ]
    }
   ],
   "source": [
    "import numpy as np\n",
    "\n",
    "# 전체 훈련 데이터를 셔플하기 위한 인덱스를 무작위로 생성\n",
    "indices = np.arange(partial_x_train.shape[0])\n",
    "np.random.shuffle(indices)\n",
    "\n",
    "# 무작위로 섞인 인덱스를 사용하여 데이터와 레이블을 선택\n",
    "partial_x_train = partial_x_train[indices][:50000]\n",
    "partial_y_train = partial_y_train[indices][:50000]\n",
    "\n",
    "print(partial_x_train.shape)\n",
    "print(partial_y_train.shape)"
   ]
  },
  {
   "cell_type": "markdown",
   "id": "955a0bb4",
   "metadata": {},
   "source": [
    "## 5) 모델 훈련 개시"
   ]
  },
  {
   "cell_type": "code",
   "execution_count": 41,
   "id": "18a824fb",
   "metadata": {},
   "outputs": [
    {
     "name": "stdout",
     "output_type": "stream",
     "text": [
      "Epoch 1/50\n",
      "391/391 [==============================] - 2s 5ms/step - loss: 0.5635 - accuracy: 0.6936 - val_loss: 0.3886 - val_accuracy: 0.8321\n",
      "Epoch 2/50\n",
      "391/391 [==============================] - 2s 4ms/step - loss: 0.4088 - accuracy: 0.8320 - val_loss: 0.3589 - val_accuracy: 0.8419\n",
      "Epoch 3/50\n",
      "391/391 [==============================] - 2s 4ms/step - loss: 0.3573 - accuracy: 0.8594 - val_loss: 0.3600 - val_accuracy: 0.8411\n",
      "Epoch 4/50\n",
      "391/391 [==============================] - 2s 4ms/step - loss: 0.3195 - accuracy: 0.8778 - val_loss: 0.3708 - val_accuracy: 0.8385\n",
      "Epoch 5/50\n",
      "391/391 [==============================] - 2s 4ms/step - loss: 0.2836 - accuracy: 0.8947 - val_loss: 0.4025 - val_accuracy: 0.8345\n",
      "Epoch 6/50\n",
      "391/391 [==============================] - 2s 4ms/step - loss: 0.2441 - accuracy: 0.9110 - val_loss: 0.4466 - val_accuracy: 0.8327\n",
      "Epoch 7/50\n",
      "391/391 [==============================] - 2s 4ms/step - loss: 0.2106 - accuracy: 0.9255 - val_loss: 0.5233 - val_accuracy: 0.8268\n"
     ]
    }
   ],
   "source": [
    "model.compile(optimizer='adam',\n",
    "              loss='binary_crossentropy',\n",
    "              metrics=['accuracy'])\n",
    "              \n",
    "epochs=50  # 몇 epoch를 훈련하면 좋을지 결과를 보면서 바꾸어 봅시다. \n",
    "\n",
    "early_stopping = tf.keras.callbacks.EarlyStopping(monitor='val_loss', patience=5)\n",
    "\n",
    "history = model.fit(partial_x_train,\n",
    "                    partial_y_train,\n",
    "                    epochs=epochs,\n",
    "                    batch_size=128,\n",
    "                    validation_data=(x_val, y_val),\n",
    "                    verbose=1,\n",
    "                    callbacks=[early_stopping])"
   ]
  },
  {
   "cell_type": "code",
   "execution_count": 42,
   "id": "a93a5508",
   "metadata": {},
   "outputs": [
    {
     "name": "stdout",
     "output_type": "stream",
     "text": [
      "1537/1537 - 2s - loss: 0.5288 - accuracy: 0.8260\n",
      "[0.5287981629371643, 0.8259861469268799]\n"
     ]
    }
   ],
   "source": [
    "# 학습이 끝난 모델을 테스트셋으로 평가\n",
    "results = model.evaluate(X_test,  y_test, verbose=2)\n",
    "\n",
    "print(results)"
   ]
  },
  {
   "cell_type": "markdown",
   "id": "13c84b5c",
   "metadata": {},
   "source": [
    "## 6) Loss, Accuracy 그래프 시각화\n"
   ]
  },
  {
   "cell_type": "code",
   "execution_count": 43,
   "id": "7b018f30",
   "metadata": {},
   "outputs": [
    {
     "name": "stdout",
     "output_type": "stream",
     "text": [
      "dict_keys(['loss', 'accuracy', 'val_loss', 'val_accuracy'])\n"
     ]
    }
   ],
   "source": [
    "history_dict = history.history\n",
    "print(history_dict.keys()) # epoch에 따른 그래프를 그려볼 수 있는 항목들"
   ]
  },
  {
   "cell_type": "code",
   "execution_count": 44,
   "id": "1164f23e",
   "metadata": {},
   "outputs": [
    {
     "data": {
      "image/png": "[encoded data removed]",
      "text/plain": [
       "<Figure size 432x288 with 1 Axes>"
      ]
     },
     "metadata": {
      "needs_background": "light"
     },
     "output_type": "display_data"
    }
   ],
   "source": [
    "import matplotlib.pyplot as plt\n",
    "\n",
    "acc = history_dict['accuracy']\n",
    "val_acc = history_dict['val_accuracy']\n",
    "loss = history_dict['loss']\n",
    "val_loss = history_dict['val_loss']\n",
    "\n",
    "epochs = range(1, len(acc) + 1)\n",
    "\n",
    "# \"bo\"는 \"파란색 점\"입니다\n",
    "plt.plot(epochs, loss, 'bo', label='Training loss')\n",
    "# b는 \"파란 실선\"입니다\n",
    "plt.plot(epochs, val_loss, 'b', label='Validation loss')\n",
    "plt.title('Training and validation loss')\n",
    "plt.xlabel('Epochs')\n",
    "plt.ylabel('Loss')\n",
    "plt.legend()\n",
    "\n",
    "plt.show()"
   ]
  },
  {
   "cell_type": "code",
   "execution_count": 45,
   "id": "61b9d006",
   "metadata": {},
   "outputs": [
    {
     "data": {
      "image/png": "[encoded data removed]",
      "text/plain": [
       "<Figure size 432x288 with 1 Axes>"
      ]
     },
     "metadata": {
      "needs_background": "light"
     },
     "output_type": "display_data"
    }
   ],
   "source": [
    "plt.clf()   # 그림을 초기화합니다\n",
    "\n",
    "plt.plot(epochs, acc, 'bo', label='Training acc')\n",
    "plt.plot(epochs, val_acc, 'b', label='Validation acc')\n",
    "plt.title('Training and validation accuracy')\n",
    "plt.xlabel('Epochs')\n",
    "plt.ylabel('Accuracy')\n",
    "plt.legend()\n",
    "\n",
    "plt.show()"
   ]
  },
  {
   "cell_type": "markdown",
   "id": "521bc20e",
   "metadata": {},
   "source": [
    "모델 변경"
   ]
  },
  {
   "cell_type": "code",
   "execution_count": 46,
   "id": "abce2cb5",
   "metadata": {},
   "outputs": [
    {
     "name": "stdout",
     "output_type": "stream",
     "text": [
      "Model: \"sequential_4\"\n",
      "_________________________________________________________________\n",
      "Layer (type)                 Output Shape              Param #   \n",
      "=================================================================\n",
      "embedding_4 (Embedding)      (None, None, 32)          320000    \n",
      "_________________________________________________________________\n",
      "conv1d_8 (Conv1D)            (None, None, 32)          7200      \n",
      "_________________________________________________________________\n",
      "batch_normalization (BatchNo (None, None, 32)          128       \n",
      "_________________________________________________________________\n",
      "dropout_2 (Dropout)          (None, None, 32)          0         \n",
      "_________________________________________________________________\n",
      "max_pooling1d_4 (MaxPooling1 (None, None, 32)          0         \n",
      "_________________________________________________________________\n",
      "conv1d_9 (Conv1D)            (None, None, 16)          3600      \n",
      "_________________________________________________________________\n",
      "batch_normalization_1 (Batch (None, None, 16)          64        \n",
      "_________________________________________________________________\n",
      "dropout_3 (Dropout)          (None, None, 16)          0         \n",
      "_________________________________________________________________\n",
      "global_max_pooling1d_4 (Glob (None, 16)                0         \n",
      "_________________________________________________________________\n",
      "dense_8 (Dense)              (None, 8)                 136       \n",
      "_________________________________________________________________\n",
      "batch_normalization_2 (Batch (None, 8)                 32        \n",
      "_________________________________________________________________\n",
      "dropout_4 (Dropout)          (None, 8)                 0         \n",
      "_________________________________________________________________\n",
      "dense_9 (Dense)              (None, 1)                 9         \n",
      "=================================================================\n",
      "Total params: 331,169\n",
      "Trainable params: 331,057\n",
      "Non-trainable params: 112\n",
      "_________________________________________________________________\n"
     ]
    }
   ],
   "source": [
    "vocab_size = 10000    # 어휘 사전의 크기입니다(10,000개의 단어)\n",
    "word_vector_dim = 32  # 워드 벡터의 차원 수 (변경 가능한 하이퍼파라미터)\n",
    "\n",
    "# model 설계 - 딥러닝 모델 코드를 직접 작성해 주세요.\n",
    "model = tf.keras.Sequential()\n",
    "model.add(tf.keras.layers.Embedding(vocab_size, word_vector_dim, input_shape=(None,)))\n",
    "model.add(tf.keras.layers.Conv1D(32, 7, activation='relu'))\n",
    "model.add(tf.keras.layers.BatchNormalization())\n",
    "model.add(tf.keras.layers.Dropout(0.5))\n",
    "model.add(tf.keras.layers.MaxPooling1D(5))\n",
    "model.add(tf.keras.layers.Conv1D(16, 7, activation='relu'))\n",
    "model.add(tf.keras.layers.BatchNormalization())\n",
    "model.add(tf.keras.layers.Dropout(0.5))\n",
    "model.add(tf.keras.layers.GlobalMaxPooling1D())\n",
    "model.add(tf.keras.layers.Dense(8, activation='relu'))\n",
    "model.add(tf.keras.layers.BatchNormalization())\n",
    "model.add(tf.keras.layers.Dropout(0.5))\n",
    "model.add(tf.keras.layers.Dense(1, activation='sigmoid'))  # 최종 출력은 긍정/부정을 나타내는 1dim 입니다.\n",
    "\n",
    "model.summary()"
   ]
  },
  {
   "cell_type": "code",
   "execution_count": 47,
   "id": "b1b8b849",
   "metadata": {},
   "outputs": [
    {
     "name": "stdout",
     "output_type": "stream",
     "text": [
      "(136182, 41)\n",
      "(136182,)\n"
     ]
    }
   ],
   "source": [
    "# validation set 10000건 분리\n",
    "x_val = X_train[:10000]   \n",
    "y_val = y_train[:10000]\n",
    "\n",
    "# validation set을 제외한 나머지 건\n",
    "partial_x_train = X_train[10000:]  \n",
    "partial_y_train = y_train[10000:]\n",
    "\n",
    "print(partial_x_train.shape)\n",
    "print(partial_y_train.shape)"
   ]
  },
  {
   "cell_type": "code",
   "execution_count": 48,
   "id": "f23fb42f",
   "metadata": {},
   "outputs": [
    {
     "name": "stdout",
     "output_type": "stream",
     "text": [
      "(50000, 41)\n",
      "(50000,)\n"
     ]
    }
   ],
   "source": [
    "import numpy as np\n",
    "\n",
    "# 전체 훈련 데이터를 셔플하기 위한 인덱스를 무작위로 생성\n",
    "indices = np.arange(partial_x_train.shape[0])\n",
    "np.random.shuffle(indices)\n",
    "\n",
    "# 무작위로 섞인 인덱스를 사용하여 데이터와 레이블을 선택\n",
    "partial_x_train = partial_x_train[indices][:50000]\n",
    "partial_y_train = partial_y_train[indices][:50000]\n",
    "\n",
    "print(partial_x_train.shape)\n",
    "print(partial_y_train.shape)"
   ]
  },
  {
   "cell_type": "markdown",
   "id": "e863a657",
   "metadata": {},
   "source": [
    "## 5) 모델 훈련 개시"
   ]
  },
  {
   "cell_type": "code",
   "execution_count": 49,
   "id": "047904f0",
   "metadata": {},
   "outputs": [
    {
     "name": "stdout",
     "output_type": "stream",
     "text": [
      "Epoch 1/50\n",
      "391/391 [==============================] - 4s 7ms/step - loss: 0.8148 - accuracy: 0.5584 - val_loss: 0.7298 - val_accuracy: 0.5041\n",
      "Epoch 2/50\n",
      "391/391 [==============================] - 2s 6ms/step - loss: 0.5687 - accuracy: 0.7084 - val_loss: 0.4767 - val_accuracy: 0.7984\n",
      "Epoch 3/50\n",
      "391/391 [==============================] - 3s 6ms/step - loss: 0.4565 - accuracy: 0.8039 - val_loss: 0.4037 - val_accuracy: 0.8278\n",
      "Epoch 4/50\n",
      "391/391 [==============================] - 2s 6ms/step - loss: 0.3950 - accuracy: 0.8432 - val_loss: 0.3908 - val_accuracy: 0.8262\n",
      "Epoch 5/50\n",
      "391/391 [==============================] - 2s 6ms/step - loss: 0.3534 - accuracy: 0.8662 - val_loss: 0.3960 - val_accuracy: 0.8256\n",
      "Epoch 6/50\n",
      "391/391 [==============================] - 2s 6ms/step - loss: 0.3259 - accuracy: 0.8798 - val_loss: 0.3927 - val_accuracy: 0.8309\n",
      "Epoch 7/50\n",
      "391/391 [==============================] - 2s 6ms/step - loss: 0.2948 - accuracy: 0.8933 - val_loss: 0.3997 - val_accuracy: 0.8282\n",
      "Epoch 8/50\n",
      "391/391 [==============================] - 2s 6ms/step - loss: 0.2662 - accuracy: 0.9054 - val_loss: 0.4056 - val_accuracy: 0.8277\n",
      "Epoch 9/50\n",
      "391/391 [==============================] - 2s 6ms/step - loss: 0.2449 - accuracy: 0.9142 - val_loss: 0.4442 - val_accuracy: 0.8234\n"
     ]
    }
   ],
   "source": [
    "model.compile(optimizer='adam',\n",
    "              loss='binary_crossentropy',\n",
    "              metrics=['accuracy'])\n",
    "              \n",
    "epochs=50  # 몇 epoch를 훈련하면 좋을지 결과를 보면서 바꾸어 봅시다. \n",
    "\n",
    "early_stopping = tf.keras.callbacks.EarlyStopping(monitor='val_loss', patience=5)\n",
    "\n",
    "history = model.fit(partial_x_train,\n",
    "                    partial_y_train,\n",
    "                    epochs=epochs,\n",
    "                    batch_size=128,\n",
    "                    validation_data=(x_val, y_val),\n",
    "                    verbose=1,\n",
    "                    callbacks=[early_stopping])"
   ]
  },
  {
   "cell_type": "code",
   "execution_count": 50,
   "id": "acd727b9",
   "metadata": {},
   "outputs": [
    {
     "name": "stdout",
     "output_type": "stream",
     "text": [
      "1537/1537 - 3s - loss: 0.4579 - accuracy: 0.8188\n",
      "[0.4578666687011719, 0.8187847137451172]\n"
     ]
    }
   ],
   "source": [
    "# 학습이 끝난 모델을 테스트셋으로 평가\n",
    "results = model.evaluate(X_test,  y_test, verbose=2)\n",
    "\n",
    "print(results)"
   ]
  },
  {
   "cell_type": "markdown",
   "id": "ff01a77c",
   "metadata": {},
   "source": [
    "## 6) Loss, Accuracy 그래프 시각화\n"
   ]
  },
  {
   "cell_type": "code",
   "execution_count": 51,
   "id": "409aec43",
   "metadata": {},
   "outputs": [
    {
     "name": "stdout",
     "output_type": "stream",
     "text": [
      "dict_keys(['loss', 'accuracy', 'val_loss', 'val_accuracy'])\n"
     ]
    }
   ],
   "source": [
    "history_dict = history.history\n",
    "print(history_dict.keys()) # epoch에 따른 그래프를 그려볼 수 있는 항목들"
   ]
  },
  {
   "cell_type": "code",
   "execution_count": 52,
   "id": "6cf56a40",
   "metadata": {},
   "outputs": [
    {
     "data": {
      "image/png": "[encoded data removed]",
      "text/plain": [
       "<Figure size 432x288 with 1 Axes>"
      ]
     },
     "metadata": {
      "needs_background": "light"
     },
     "output_type": "display_data"
    }
   ],
   "source": [
    "import matplotlib.pyplot as plt\n",
    "\n",
    "acc = history_dict['accuracy']\n",
    "val_acc = history_dict['val_accuracy']\n",
    "loss = history_dict['loss']\n",
    "val_loss = history_dict['val_loss']\n",
    "\n",
    "epochs = range(1, len(acc) + 1)\n",
    "\n",
    "# \"bo\"는 \"파란색 점\"입니다\n",
    "plt.plot(epochs, loss, 'bo', label='Training loss')\n",
    "# b는 \"파란 실선\"입니다\n",
    "plt.plot(epochs, val_loss, 'b', label='Validation loss')\n",
    "plt.title('Training and validation loss')\n",
    "plt.xlabel('Epochs')\n",
    "plt.ylabel('Loss')\n",
    "plt.legend()\n",
    "\n",
    "plt.show()"
   ]
  },
  {
   "cell_type": "code",
   "execution_count": 53,
   "id": "be7301b8",
   "metadata": {},
   "outputs": [
    {
     "data": {
      "image/png": "[encoded data removed]",
      "text/plain": [
       "<Figure size 432x288 with 1 Axes>"
      ]
     },
     "metadata": {
      "needs_background": "light"
     },
     "output_type": "display_data"
    }
   ],
   "source": [
    "plt.clf()   # 그림을 초기화합니다\n",
    "\n",
    "plt.plot(epochs, acc, 'bo', label='Training acc')\n",
    "plt.plot(epochs, val_acc, 'b', label='Validation acc')\n",
    "plt.title('Training and validation accuracy')\n",
    "plt.xlabel('Epochs')\n",
    "plt.ylabel('Accuracy')\n",
    "plt.legend()\n",
    "\n",
    "plt.show()"
   ]
  },
  {
   "cell_type": "markdown",
   "id": "666f93cd",
   "metadata": {},
   "source": [
    "LSTM 추가"
   ]
  },
  {
   "cell_type": "code",
   "execution_count": 54,
   "id": "435a0a56",
   "metadata": {},
   "outputs": [
    {
     "name": "stdout",
     "output_type": "stream",
     "text": [
      "Model: \"sequential_5\"\n",
      "_________________________________________________________________\n",
      "Layer (type)                 Output Shape              Param #   \n",
      "=================================================================\n",
      "embedding_5 (Embedding)      (None, None, 32)          320000    \n",
      "_________________________________________________________________\n",
      "conv1d_10 (Conv1D)           (None, None, 32)          7200      \n",
      "_________________________________________________________________\n",
      "batch_normalization_3 (Batch (None, None, 32)          128       \n",
      "_________________________________________________________________\n",
      "dropout_5 (Dropout)          (None, None, 32)          0         \n",
      "_________________________________________________________________\n",
      "max_pooling1d_5 (MaxPooling1 (None, None, 32)          0         \n",
      "_________________________________________________________________\n",
      "conv1d_11 (Conv1D)           (None, None, 16)          3600      \n",
      "_________________________________________________________________\n",
      "batch_normalization_4 (Batch (None, None, 16)          64        \n",
      "_________________________________________________________________\n",
      "dropout_6 (Dropout)          (None, None, 16)          0         \n",
      "_________________________________________________________________\n",
      "lstm (LSTM)                  (None, 16)                2112      \n",
      "_________________________________________________________________\n",
      "dense_10 (Dense)             (None, 8)                 136       \n",
      "_________________________________________________________________\n",
      "batch_normalization_5 (Batch (None, 8)                 32        \n",
      "_________________________________________________________________\n",
      "dropout_7 (Dropout)          (None, 8)                 0         \n",
      "_________________________________________________________________\n",
      "dense_11 (Dense)             (None, 1)                 9         \n",
      "=================================================================\n",
      "Total params: 333,281\n",
      "Trainable params: 333,169\n",
      "Non-trainable params: 112\n",
      "_________________________________________________________________\n"
     ]
    }
   ],
   "source": [
    "vocab_size = 10000    # 어휘 사전의 크기입니다(10,000개의 단어)\n",
    "word_vector_dim = 32  # 워드 벡터의 차원 수 (변경 가능한 하이퍼파라미터)\n",
    "\n",
    "# model 설계 - 딥러닝 모델 코드를 직접 작성해 주세요.\n",
    "model = tf.keras.Sequential()\n",
    "model.add(tf.keras.layers.Embedding(vocab_size, word_vector_dim, input_shape=(None,)))\n",
    "model.add(tf.keras.layers.Conv1D(32, 7, activation='relu'))\n",
    "model.add(tf.keras.layers.BatchNormalization())\n",
    "model.add(tf.keras.layers.Dropout(0.5))\n",
    "model.add(tf.keras.layers.MaxPooling1D(5))\n",
    "model.add(tf.keras.layers.Conv1D(16, 7, activation='relu'))\n",
    "model.add(tf.keras.layers.BatchNormalization())\n",
    "model.add(tf.keras.layers.Dropout(0.5))\n",
    "model.add(tf.keras.layers.LSTM(16))\n",
    "model.add(tf.keras.layers.Dense(8, activation='relu'))\n",
    "model.add(tf.keras.layers.BatchNormalization())\n",
    "model.add(tf.keras.layers.Dropout(0.5))\n",
    "model.add(tf.keras.layers.Dense(1, activation='sigmoid'))  # 최종 출력은 긍정/부정을 나타내는 1dim 입니다.\n",
    "\n",
    "model.summary()"
   ]
  },
  {
   "cell_type": "code",
   "execution_count": 55,
   "id": "7cd0ce8e",
   "metadata": {},
   "outputs": [
    {
     "name": "stdout",
     "output_type": "stream",
     "text": [
      "(136182, 41)\n",
      "(136182,)\n"
     ]
    }
   ],
   "source": [
    "# validation set 10000건 분리\n",
    "x_val = X_train[:10000]   \n",
    "y_val = y_train[:10000]\n",
    "\n",
    "# validation set을 제외한 나머지 건\n",
    "partial_x_train = X_train[10000:]  \n",
    "partial_y_train = y_train[10000:]\n",
    "\n",
    "print(partial_x_train.shape)\n",
    "print(partial_y_train.shape)"
   ]
  },
  {
   "cell_type": "code",
   "execution_count": 56,
   "id": "17539520",
   "metadata": {},
   "outputs": [
    {
     "name": "stdout",
     "output_type": "stream",
     "text": [
      "(50000, 41)\n",
      "(50000,)\n"
     ]
    }
   ],
   "source": [
    "import numpy as np\n",
    "\n",
    "# 전체 훈련 데이터를 셔플하기 위한 인덱스를 무작위로 생성\n",
    "indices = np.arange(partial_x_train.shape[0])\n",
    "np.random.shuffle(indices)\n",
    "\n",
    "# 무작위로 섞인 인덱스를 사용하여 데이터와 레이블을 선택\n",
    "partial_x_train = partial_x_train[indices][:50000]\n",
    "partial_y_train = partial_y_train[indices][:50000]\n",
    "\n",
    "print(partial_x_train.shape)\n",
    "print(partial_y_train.shape)"
   ]
  },
  {
   "cell_type": "markdown",
   "id": "68954286",
   "metadata": {},
   "source": [
    "## 5) 모델 훈련 개시"
   ]
  },
  {
   "cell_type": "code",
   "execution_count": 57,
   "id": "e509e4c9",
   "metadata": {},
   "outputs": [
    {
     "name": "stdout",
     "output_type": "stream",
     "text": [
      "Epoch 1/50\n",
      "391/391 [==============================] - 5s 8ms/step - loss: 0.7368 - accuracy: 0.5041 - val_loss: 0.6924 - val_accuracy: 0.5133\n",
      "Epoch 2/50\n",
      "391/391 [==============================] - 3s 7ms/step - loss: 0.6764 - accuracy: 0.5683 - val_loss: 0.5682 - val_accuracy: 0.7264\n",
      "Epoch 3/50\n",
      "391/391 [==============================] - 3s 8ms/step - loss: 0.5078 - accuracy: 0.7722 - val_loss: 0.4020 - val_accuracy: 0.8249\n",
      "Epoch 4/50\n",
      "391/391 [==============================] - 3s 7ms/step - loss: 0.4053 - accuracy: 0.8378 - val_loss: 0.4076 - val_accuracy: 0.8094\n",
      "Epoch 5/50\n",
      "391/391 [==============================] - 3s 7ms/step - loss: 0.3506 - accuracy: 0.8651 - val_loss: 0.3949 - val_accuracy: 0.8142\n",
      "Epoch 6/50\n",
      "391/391 [==============================] - 3s 7ms/step - loss: 0.3183 - accuracy: 0.8808 - val_loss: 0.3766 - val_accuracy: 0.8324\n",
      "Epoch 7/50\n",
      "391/391 [==============================] - 3s 7ms/step - loss: 0.2851 - accuracy: 0.8979 - val_loss: 0.3896 - val_accuracy: 0.8284\n",
      "Epoch 8/50\n",
      "391/391 [==============================] - 3s 7ms/step - loss: 0.2524 - accuracy: 0.9104 - val_loss: 0.3947 - val_accuracy: 0.8282\n",
      "Epoch 9/50\n",
      "391/391 [==============================] - 3s 7ms/step - loss: 0.2275 - accuracy: 0.9208 - val_loss: 0.4249 - val_accuracy: 0.8357\n",
      "Epoch 10/50\n",
      "391/391 [==============================] - 3s 7ms/step - loss: 0.2133 - accuracy: 0.9272 - val_loss: 0.4323 - val_accuracy: 0.8241\n",
      "Epoch 11/50\n",
      "391/391 [==============================] - 3s 7ms/step - loss: 0.1936 - accuracy: 0.9339 - val_loss: 0.4492 - val_accuracy: 0.8301\n"
     ]
    }
   ],
   "source": [
    "model.compile(optimizer='adam',\n",
    "              loss='binary_crossentropy',\n",
    "              metrics=['accuracy'])\n",
    "              \n",
    "epochs=50  # 몇 epoch를 훈련하면 좋을지 결과를 보면서 바꾸어 봅시다. \n",
    "\n",
    "early_stopping = tf.keras.callbacks.EarlyStopping(monitor='val_loss', patience=5)\n",
    "\n",
    "history = model.fit(partial_x_train,\n",
    "                    partial_y_train,\n",
    "                    epochs=epochs,\n",
    "                    batch_size=128,\n",
    "                    validation_data=(x_val, y_val),\n",
    "                    verbose=1,\n",
    "                    callbacks=[early_stopping])"
   ]
  },
  {
   "cell_type": "code",
   "execution_count": 58,
   "id": "0467d743",
   "metadata": {},
   "outputs": [
    {
     "name": "stdout",
     "output_type": "stream",
     "text": [
      "1537/1537 - 3s - loss: 0.4645 - accuracy: 0.8255\n",
      "[0.4645332396030426, 0.8254978656768799]\n"
     ]
    }
   ],
   "source": [
    "# 학습이 끝난 모델을 테스트셋으로 평가\n",
    "results = model.evaluate(X_test,  y_test, verbose=2)\n",
    "\n",
    "print(results)"
   ]
  },
  {
   "cell_type": "markdown",
   "id": "6eb74664",
   "metadata": {},
   "source": [
    "## 6) Loss, Accuracy 그래프 시각화\n"
   ]
  },
  {
   "cell_type": "code",
   "execution_count": 59,
   "id": "74575b2a",
   "metadata": {},
   "outputs": [
    {
     "name": "stdout",
     "output_type": "stream",
     "text": [
      "dict_keys(['loss', 'accuracy', 'val_loss', 'val_accuracy'])\n"
     ]
    }
   ],
   "source": [
    "history_dict = history.history\n",
    "print(history_dict.keys()) # epoch에 따른 그래프를 그려볼 수 있는 항목들"
   ]
  },
  {
   "cell_type": "code",
   "execution_count": 60,
   "id": "312bd207",
   "metadata": {},
   "outputs": [
    {
     "data": {
      "image/png": "[encoded data removed]",
      "text/plain": [
       "<Figure size 432x288 with 1 Axes>"
      ]
     },
     "metadata": {
      "needs_background": "light"
     },
     "output_type": "display_data"
    }
   ],
   "source": [
    "import matplotlib.pyplot as plt\n",
    "\n",
    "acc = history_dict['accuracy']\n",
    "val_acc = history_dict['val_accuracy']\n",
    "loss = history_dict['loss']\n",
    "val_loss = history_dict['val_loss']\n",
    "\n",
    "epochs = range(1, len(acc) + 1)\n",
    "\n",
    "# \"bo\"는 \"파란색 점\"입니다\n",
    "plt.plot(epochs, loss, 'bo', label='Training loss')\n",
    "# b는 \"파란 실선\"입니다\n",
    "plt.plot(epochs, val_loss, 'b', label='Validation loss')\n",
    "plt.title('Training and validation loss')\n",
    "plt.xlabel('Epochs')\n",
    "plt.ylabel('Loss')\n",
    "plt.legend()\n",
    "\n",
    "plt.show()"
   ]
  },
  {
   "cell_type": "code",
   "execution_count": 61,
   "id": "94508e9f",
   "metadata": {},
   "outputs": [
    {
     "data": {
      "image/png": "[encoded data removed]",
      "text/plain": [
       "<Figure size 432x288 with 1 Axes>"
      ]
     },
     "metadata": {
      "needs_background": "light"
     },
     "output_type": "display_data"
    }
   ],
   "source": [
    "plt.clf()   # 그림을 초기화합니다\n",
    "\n",
    "plt.plot(epochs, acc, 'bo', label='Training acc')\n",
    "plt.plot(epochs, val_acc, 'b', label='Validation acc')\n",
    "plt.title('Training and validation accuracy')\n",
    "plt.xlabel('Epochs')\n",
    "plt.ylabel('Accuracy')\n",
    "plt.legend()\n",
    "\n",
    "plt.show()"
   ]
  },
  {
   "cell_type": "markdown",
   "id": "4fa138d9",
   "metadata": {},
   "source": [
    "아무래도 단순 모델 변경으로는 한계가 있는 듯..."
   ]
  },
  {
   "cell_type": "markdown",
   "id": "524b7b07",
   "metadata": {},
   "source": [
    "## 7) 학습된 Embedding 레이어 분석"
   ]
  },
  {
   "cell_type": "code",
   "execution_count": 62,
   "id": "9534557b",
   "metadata": {},
   "outputs": [
    {
     "name": "stdout",
     "output_type": "stream",
     "text": [
      "(10000, 32)\n"
     ]
    }
   ],
   "source": [
    "embedding_layer = model.layers[0]\n",
    "weights = embedding_layer.get_weights()[0]\n",
    "print(weights.shape)    # shape: (vocab_size, embedding_dim)"
   ]
  },
  {
   "cell_type": "code",
   "execution_count": 63,
   "id": "9887dc24",
   "metadata": {},
   "outputs": [],
   "source": [
    "import os\n",
    "# 학습한 Embedding 파라미터를 파일에 써서 저장합니다. \n",
    "word2vec_file_path = os.getenv('HOME')+'/aiffel/sentiment_classification/data/word2vec.txt'\n",
    "f = open(word2vec_file_path, 'w')\n",
    "f.write('{} {}\\n'.format(vocab_size-4, word_vector_dim))  # 몇개의 벡터를 얼마 사이즈로 기재할지 타이틀을 씁니다.\n",
    "\n",
    "# 단어 개수(에서 특수문자 4개는 제외하고)만큼의 워드 벡터를 파일에 기록합니다. \n",
    "vectors = model.get_weights()[0]\n",
    "for i in range(4,vocab_size):\n",
    "    f.write('{} {}\\n'.format(index_to_word[i], ' '.join(map(str, list(vectors[i, :])))))\n",
    "f.close()"
   ]
  },
  {
   "cell_type": "code",
   "execution_count": 64,
   "id": "14bdc67a",
   "metadata": {},
   "outputs": [
    {
     "data": {
      "text/plain": [
       "array([-0.01853448,  0.05845105,  0.043738  , -0.06605332, -0.00671468,\n",
       "        0.03823937,  0.04069462,  0.11491743,  0.00713293, -0.00939558,\n",
       "       -0.03572506, -0.10353541,  0.05003301, -0.06353195, -0.05820234,\n",
       "        0.03608347, -0.0839581 , -0.03222273,  0.01919852, -0.08681165,\n",
       "       -0.0785211 , -0.10054182,  0.05900731,  0.09011723, -0.02002627,\n",
       "       -0.06783552, -0.07179434, -0.06734256,  0.04622454, -0.05345967,\n",
       "       -0.06285743, -0.06303083], dtype=float32)"
      ]
     },
     "execution_count": 64,
     "metadata": {},
     "output_type": "execute_result"
    }
   ],
   "source": [
    "from gensim.models.keyedvectors import Word2VecKeyedVectors\n",
    "\n",
    "word_vectors = Word2VecKeyedVectors.load_word2vec_format(word2vec_file_path, binary=False)\n",
    "vector = word_vectors['감동']\n",
    "vector"
   ]
  },
  {
   "cell_type": "code",
   "execution_count": 65,
   "id": "9d506758",
   "metadata": {},
   "outputs": [
    {
     "data": {
      "text/plain": [
       "[('물질', 0.7684443593025208),\n",
       " ('빅뱅', 0.7606387138366699),\n",
       " ('향해', 0.7519015073776245),\n",
       " ('공각', 0.7408796548843384),\n",
       " ('어울려', 0.7283622026443481),\n",
       " ('인간미', 0.7214627861976624),\n",
       " ('99', 0.7198526263237),\n",
       " ('아닐까', 0.7195970416069031),\n",
       " ('유년', 0.7146461606025696),\n",
       " ('데뷔작', 0.7125999331474304)]"
      ]
     },
     "execution_count": 65,
     "metadata": {},
     "output_type": "execute_result"
    }
   ],
   "source": [
    "word_vectors.similar_by_word(\"감동\")"
   ]
  },
  {
   "cell_type": "markdown",
   "id": "8b4ad394",
   "metadata": {},
   "source": [
    "관련이 있어 보이는 단어들도 있고 아닌 단어들도 있음."
   ]
  },
  {
   "cell_type": "markdown",
   "id": "59d9acdf",
   "metadata": {},
   "source": [
    "## 8) 한국어 Word2Vec 임베딩 활용하여 성능 개선\n",
    "- 한국어 Word2Vec은 /data 폴더 안에 있는 word2vec_ko.model을 활용하세요.\n",
    "- 한국어 Word2Vec을 활용할 때는 load_word2vec_format() 형태가 아닌 load() 형태로 모델을 불러와주세요. 또한 모델을 활용할 때에는 아래 예시와 같이 .wv를 붙여서 활용합니다. 좀더 자세한 활용법에 대해선 다음 링크들을 참조해주세요.  \n",
    "[참고링크1](https://radimrehurek.com/gensim/auto_examples/tutorials/run_word2vec.html#storing-and-loading-models)  \n",
    "[참고링크2](https://radimrehurek.com/gensim/models/keyedvectors.html)"
   ]
  },
  {
   "cell_type": "code",
   "execution_count": 66,
   "id": "8029d9cc",
   "metadata": {},
   "outputs": [],
   "source": [
    "from gensim.models.keyedvectors import Word2VecKeyedVectors\n",
    "word2vec_path = '/aiffel/data/word2vec_ko.model'\n",
    "word2vec = Word2VecKeyedVectors.load(word2vec_path)\n",
    "vector = word2vec.wv['감동']"
   ]
  },
  {
   "cell_type": "code",
   "execution_count": 67,
   "id": "fb5216fa",
   "metadata": {},
   "outputs": [
    {
     "data": {
      "text/plain": [
       "array([ 2.0615332 , -1.8058181 , -3.8560703 ,  0.19584662,  3.0254989 ,\n",
       "       -2.5406559 ,  1.4497426 , -0.8907619 , -0.5350154 , -0.28915498,\n",
       "       -0.04039751, -1.5070994 , -1.5159569 , -1.4451234 ,  1.2730805 ,\n",
       "        1.219924  ,  1.1764907 , -1.1386696 ,  1.4214209 ,  0.03967131,\n",
       "       -2.1550455 ,  2.365588  ,  2.5686727 , -2.298423  , -0.11259492,\n",
       "        0.26295963, -1.3272469 , -0.933552  ,  4.1928024 , -4.142401  ,\n",
       "       -3.6939445 ,  0.7796591 , -0.9809508 ,  0.3209224 ,  0.69489354,\n",
       "        0.35386428, -2.5914404 ,  0.9266287 , -1.8625584 ,  0.7818586 ,\n",
       "       -0.9435029 , -0.50120497,  1.4713919 ,  4.4542685 , -1.2020006 ,\n",
       "        0.41612652,  2.3063416 , -0.41137695,  4.462475  , -1.5086855 ,\n",
       "        2.0054195 ,  0.8322103 ,  3.0386746 , -1.1280597 , -0.819387  ,\n",
       "       -3.6409898 ,  1.4442042 , -0.6339732 ,  0.25369656, -0.39272726,\n",
       "        1.6376917 , -2.6886675 ,  0.41585886, -2.772139  ,  0.59364617,\n",
       "        0.98523784,  2.0588415 ,  0.22607008, -1.26653   , -1.0126909 ,\n",
       "        1.2909939 , -0.27713838,  0.37311432,  3.2259405 , -2.9793024 ,\n",
       "        2.4269462 , -0.93244123, -2.4193695 , -0.1922748 , -0.37244758,\n",
       "        0.9153436 ,  0.9330037 ,  4.2057676 , -0.03453053,  0.89558065,\n",
       "       -1.984923  ,  1.8707234 ,  1.7541846 ,  0.01348311, -4.1738377 ,\n",
       "       -1.8321006 , -4.029648  ,  2.4146917 ,  1.5663863 , -0.42723644,\n",
       "       -0.1553121 ,  0.77239794, -0.33735982,  0.64257836, -2.146783  ],\n",
       "      dtype=float32)"
      ]
     },
     "execution_count": 67,
     "metadata": {},
     "output_type": "execute_result"
    }
   ],
   "source": [
    "vector"
   ]
  },
  {
   "cell_type": "code",
   "execution_count": 68,
   "id": "3c321c24",
   "metadata": {},
   "outputs": [
    {
     "data": {
      "text/plain": [
       "[('감격', 0.8046045899391174),\n",
       " ('감탄', 0.7326707243919373),\n",
       " ('매혹', 0.7267226576805115),\n",
       " ('매력', 0.7088802456855774),\n",
       " ('감명', 0.7069407105445862),\n",
       " ('웃음', 0.7015025615692139),\n",
       " ('열정', 0.6936471462249756),\n",
       " ('칭찬', 0.6831857562065125),\n",
       " ('실망', 0.6779423952102661),\n",
       " ('슬픔', 0.6770600080490112)]"
      ]
     },
     "execution_count": 68,
     "metadata": {},
     "output_type": "execute_result"
    }
   ],
   "source": [
    "word2vec.wv.similar_by_word(\"감동\")"
   ]
  },
  {
   "cell_type": "markdown",
   "id": "4e567651",
   "metadata": {},
   "source": [
    "의미적 유사도가 가까운 것들끼리 잘 학습되었다."
   ]
  },
  {
   "cell_type": "code",
   "execution_count": 70,
   "id": "b3395752",
   "metadata": {},
   "outputs": [],
   "source": [
    "word_vector_dim = word2vec.wv.vector_size  # Word2Vec 모델의 벡터 차원\n",
    "\n",
    "# 새로운 word_vector_dim에 맞춰 embedding_matrix 초기화\n",
    "embedding_matrix = np.random.rand(vocab_size, word_vector_dim)\n",
    "\n",
    "# embedding_matrix에 Word2Vec 워드 벡터를 단어 하나씩마다 차례차례 카피한다.\n",
    "for i in range(4, vocab_size):\n",
    "    word = index_to_word[i]  # i번째 단어\n",
    "    if word in word2vec.wv:  # .wv 속성을 사용하여 단어 벡터에 접근\n",
    "        embedding_matrix[i] = word2vec.wv[word]  # 해당 단어의 벡터를 가져온다"
   ]
  },
  {
   "cell_type": "code",
   "execution_count": 83,
   "id": "9d67d893",
   "metadata": {},
   "outputs": [
    {
     "name": "stdout",
     "output_type": "stream",
     "text": [
      "Model: \"sequential_9\"\n",
      "_________________________________________________________________\n",
      "Layer (type)                 Output Shape              Param #   \n",
      "=================================================================\n",
      "embedding_9 (Embedding)      (None, 41, 100)           1000000   \n",
      "_________________________________________________________________\n",
      "conv1d_18 (Conv1D)           (None, 35, 16)            11216     \n",
      "_________________________________________________________________\n",
      "max_pooling1d_9 (MaxPooling1 (None, 7, 16)             0         \n",
      "_________________________________________________________________\n",
      "conv1d_19 (Conv1D)           (None, 1, 16)             1808      \n",
      "_________________________________________________________________\n",
      "global_max_pooling1d_5 (Glob (None, 16)                0         \n",
      "_________________________________________________________________\n",
      "dense_16 (Dense)             (None, 8)                 136       \n",
      "_________________________________________________________________\n",
      "dense_17 (Dense)             (None, 1)                 9         \n",
      "=================================================================\n",
      "Total params: 1,013,169\n",
      "Trainable params: 1,013,169\n",
      "Non-trainable params: 0\n",
      "_________________________________________________________________\n"
     ]
    }
   ],
   "source": [
    "from tensorflow.keras.initializers import Constant\n",
    "\n",
    "# 모델 구성\n",
    "model = tf.keras.Sequential()\n",
    "model.add(tf.keras.layers.Embedding(vocab_size, \n",
    "                                 word_vector_dim, \n",
    "                                 embeddings_initializer=Constant(embedding_matrix),  # 카피한 임베딩을 여기서 활용\n",
    "                                 input_length=maxlen, \n",
    "                                 trainable=True))   # trainable을 True로 주면 Fine-tuning\n",
    "model.add(tf.keras.layers.Conv1D(16, 7, activation='relu'))\n",
    "model.add(tf.keras.layers.MaxPooling1D(5))\n",
    "model.add(tf.keras.layers.Conv1D(16, 7, activation='relu'))\n",
    "model.add(tf.keras.layers.GlobalMaxPooling1D())\n",
    "model.add(tf.keras.layers.Dense(8, activation='relu'))\n",
    "model.add(tf.keras.layers.Dense(1, activation='sigmoid')) \n",
    "\n",
    "model.summary()"
   ]
  },
  {
   "cell_type": "code",
   "execution_count": 84,
   "id": "85d418b1",
   "metadata": {},
   "outputs": [
    {
     "name": "stdout",
     "output_type": "stream",
     "text": [
      "Epoch 1/50\n",
      "98/98 [==============================] - 2s 9ms/step - loss: 0.6623 - accuracy: 0.5912 - val_loss: 0.6008 - val_accuracy: 0.6874\n",
      "Epoch 2/50\n",
      "98/98 [==============================] - 1s 5ms/step - loss: 0.5389 - accuracy: 0.7308 - val_loss: 0.5237 - val_accuracy: 0.7416\n",
      "Epoch 3/50\n",
      "98/98 [==============================] - 1s 5ms/step - loss: 0.4654 - accuracy: 0.7822 - val_loss: 0.4852 - val_accuracy: 0.7687\n",
      "Epoch 4/50\n",
      "98/98 [==============================] - 1s 5ms/step - loss: 0.4177 - accuracy: 0.8121 - val_loss: 0.4618 - val_accuracy: 0.7887\n",
      "Epoch 5/50\n",
      "98/98 [==============================] - 1s 6ms/step - loss: 0.3786 - accuracy: 0.8342 - val_loss: 0.4466 - val_accuracy: 0.7956\n",
      "Epoch 6/50\n",
      "98/98 [==============================] - 1s 5ms/step - loss: 0.3498 - accuracy: 0.8491 - val_loss: 0.4367 - val_accuracy: 0.8054\n",
      "Epoch 7/50\n",
      "98/98 [==============================] - 1s 5ms/step - loss: 0.3201 - accuracy: 0.8660 - val_loss: 0.4436 - val_accuracy: 0.8094\n",
      "Epoch 8/50\n",
      "98/98 [==============================] - 1s 5ms/step - loss: 0.3011 - accuracy: 0.8752 - val_loss: 0.4432 - val_accuracy: 0.8088\n",
      "Epoch 9/50\n",
      "98/98 [==============================] - 1s 5ms/step - loss: 0.2749 - accuracy: 0.8884 - val_loss: 0.4422 - val_accuracy: 0.8123\n",
      "Epoch 10/50\n",
      "98/98 [==============================] - 1s 5ms/step - loss: 0.2542 - accuracy: 0.8997 - val_loss: 0.4466 - val_accuracy: 0.8153\n",
      "Epoch 11/50\n",
      "98/98 [==============================] - 1s 5ms/step - loss: 0.2349 - accuracy: 0.9084 - val_loss: 0.4595 - val_accuracy: 0.8142\n"
     ]
    }
   ],
   "source": [
    "model.compile(optimizer='adam',\n",
    "              loss='binary_crossentropy',\n",
    "              metrics=['accuracy'])\n",
    "              \n",
    "epochs=50  # 몇 epoch를 훈련하면 좋을지 결과를 보면서 바꾸어 봅시다. \n",
    "\n",
    "early_stopping = tf.keras.callbacks.EarlyStopping(monitor='val_loss', patience=5)\n",
    "\n",
    "history = model.fit(partial_x_train,\n",
    "                    partial_y_train,\n",
    "                    epochs=epochs,\n",
    "                    batch_size=512,\n",
    "                    validation_data=(x_val, y_val),\n",
    "                    verbose=1,\n",
    "                    callbacks=[early_stopping])"
   ]
  },
  {
   "cell_type": "code",
   "execution_count": 85,
   "id": "a9f58655",
   "metadata": {},
   "outputs": [
    {
     "name": "stdout",
     "output_type": "stream",
     "text": [
      "1537/1537 - 3s - loss: 0.4717 - accuracy: 0.8141\n",
      "[0.4716634452342987, 0.814126193523407]\n"
     ]
    }
   ],
   "source": [
    "# 학습이 끝난 모델을 테스트셋으로 평가\n",
    "results = model.evaluate(X_test,  y_test, verbose=2)\n",
    "\n",
    "print(results)"
   ]
  },
  {
   "cell_type": "code",
   "execution_count": 86,
   "id": "43d97ecb",
   "metadata": {},
   "outputs": [
    {
     "data": {
      "image/png": "[encoded data removed]",
      "text/plain": [
       "<Figure size 432x288 with 1 Axes>"
      ]
     },
     "metadata": {
      "needs_background": "light"
     },
     "output_type": "display_data"
    }
   ],
   "source": [
    "import matplotlib.pyplot as plt\n",
    "\n",
    "acc = history_dict['accuracy']\n",
    "val_acc = history_dict['val_accuracy']\n",
    "loss = history_dict['loss']\n",
    "val_loss = history_dict['val_loss']\n",
    "\n",
    "epochs = range(1, len(acc) + 1)\n",
    "\n",
    "# \"bo\"는 \"파란색 점\"입니다\n",
    "plt.plot(epochs, loss, 'bo', label='Training loss')\n",
    "# b는 \"파란 실선\"입니다\n",
    "plt.plot(epochs, val_loss, 'b', label='Validation loss')\n",
    "plt.title('Training and validation loss')\n",
    "plt.xlabel('Epochs')\n",
    "plt.ylabel('Loss')\n",
    "plt.legend()\n",
    "\n",
    "plt.show()"
   ]
  },
  {
   "cell_type": "code",
   "execution_count": 87,
   "id": "33418c21",
   "metadata": {},
   "outputs": [
    {
     "data": {
      "image/png": "[encoded data removed]",
      "text/plain": [
       "<Figure size 432x288 with 1 Axes>"
      ]
     },
     "metadata": {
      "needs_background": "light"
     },
     "output_type": "display_data"
    }
   ],
   "source": [
    "plt.clf()   # 그림을 초기화합니다\n",
    "\n",
    "plt.plot(epochs, acc, 'bo', label='Training acc')\n",
    "plt.plot(epochs, val_acc, 'b', label='Validation acc')\n",
    "plt.title('Training and validation accuracy')\n",
    "plt.xlabel('Epochs')\n",
    "plt.ylabel('Accuracy')\n",
    "plt.legend()\n",
    "\n",
    "plt.show()"
   ]
  },
  {
   "cell_type": "markdown",
   "id": "cb3154ac",
   "metadata": {},
   "source": [
    "아직도 과적합...규제 추가해보자."
   ]
  },
  {
   "cell_type": "code",
   "execution_count": 88,
   "id": "bdcbd6a1",
   "metadata": {},
   "outputs": [
    {
     "name": "stdout",
     "output_type": "stream",
     "text": [
      "Model: \"sequential_10\"\n",
      "_________________________________________________________________\n",
      "Layer (type)                 Output Shape              Param #   \n",
      "=================================================================\n",
      "embedding_10 (Embedding)     (None, 41, 100)           1000000   \n",
      "_________________________________________________________________\n",
      "conv1d_20 (Conv1D)           (None, 35, 32)            22432     \n",
      "_________________________________________________________________\n",
      "batch_normalization_14 (Batc (None, 35, 32)            128       \n",
      "_________________________________________________________________\n",
      "dropout_16 (Dropout)         (None, 35, 32)            0         \n",
      "_________________________________________________________________\n",
      "max_pooling1d_10 (MaxPooling (None, 7, 32)             0         \n",
      "_________________________________________________________________\n",
      "conv1d_21 (Conv1D)           (None, 1, 16)             3600      \n",
      "_________________________________________________________________\n",
      "batch_normalization_15 (Batc (None, 1, 16)             64        \n",
      "_________________________________________________________________\n",
      "dropout_17 (Dropout)         (None, 1, 16)             0         \n",
      "_________________________________________________________________\n",
      "lstm_4 (LSTM)                (None, 16)                2112      \n",
      "_________________________________________________________________\n",
      "dense_18 (Dense)             (None, 8)                 136       \n",
      "_________________________________________________________________\n",
      "batch_normalization_16 (Batc (None, 8)                 32        \n",
      "_________________________________________________________________\n",
      "dropout_18 (Dropout)         (None, 8)                 0         \n",
      "_________________________________________________________________\n",
      "dense_19 (Dense)             (None, 1)                 9         \n",
      "=================================================================\n",
      "Total params: 1,028,513\n",
      "Trainable params: 1,028,401\n",
      "Non-trainable params: 112\n",
      "_________________________________________________________________\n"
     ]
    }
   ],
   "source": [
    "from tensorflow.keras import regularizers\n",
    "\n",
    "# 모델 구성\n",
    "model = tf.keras.Sequential()\n",
    "model.add(tf.keras.layers.Embedding(vocab_size, \n",
    "                                 word_vector_dim, \n",
    "                                 embeddings_initializer=Constant(embedding_matrix),  # 카피한 임베딩을 여기서 활용\n",
    "                                 input_length=maxlen, \n",
    "                                 trainable=True))   # trainable을 True로 주면 Fine-tuning\n",
    "model.add(tf.keras.layers.Conv1D(32, 7, activation='relu'))\n",
    "model.add(tf.keras.layers.BatchNormalization())\n",
    "model.add(tf.keras.layers.Dropout(0.5))\n",
    "model.add(tf.keras.layers.MaxPooling1D(5))\n",
    "model.add(tf.keras.layers.Conv1D(16, 7, activation='relu'))\n",
    "model.add(tf.keras.layers.BatchNormalization())\n",
    "model.add(tf.keras.layers.Dropout(0.5))\n",
    "model.add(tf.keras.layers.LSTM(16))\n",
    "model.add(tf.keras.layers.Dense(8, activation='relu', kernel_regularizer=regularizers.l2(0.001)))\n",
    "model.add(tf.keras.layers.BatchNormalization())\n",
    "model.add(tf.keras.layers.Dropout(0.5))\n",
    "model.add(tf.keras.layers.Dense(1, activation='sigmoid', kernel_regularizer=regularizers.l2(0.001)))  # 최종 출력은 긍정/부정을 나타내는 1dim 입니다.\n",
    "\n",
    "model.summary()"
   ]
  },
  {
   "cell_type": "code",
   "execution_count": 90,
   "id": "e27ab0bd",
   "metadata": {},
   "outputs": [
    {
     "name": "stdout",
     "output_type": "stream",
     "text": [
      "Epoch 1/50\n",
      "98/98 [==============================] - 4s 15ms/step - loss: 0.7731 - accuracy: 0.5259 - val_loss: 0.6899 - val_accuracy: 0.6064\n",
      "Epoch 2/50\n",
      "98/98 [==============================] - 1s 9ms/step - loss: 0.6894 - accuracy: 0.5857 - val_loss: 0.6370 - val_accuracy: 0.6849\n",
      "Epoch 3/50\n",
      "98/98 [==============================] - 1s 9ms/step - loss: 0.6315 - accuracy: 0.6574 - val_loss: 0.5855 - val_accuracy: 0.7256\n",
      "Epoch 4/50\n",
      "98/98 [==============================] - 1s 9ms/step - loss: 0.5890 - accuracy: 0.7062 - val_loss: 0.5402 - val_accuracy: 0.7517\n",
      "Epoch 5/50\n",
      "98/98 [==============================] - 1s 8ms/step - loss: 0.5531 - accuracy: 0.7404 - val_loss: 0.5053 - val_accuracy: 0.7700\n",
      "Epoch 6/50\n",
      "98/98 [==============================] - 1s 8ms/step - loss: 0.5200 - accuracy: 0.7664 - val_loss: 0.4719 - val_accuracy: 0.7853\n",
      "Epoch 7/50\n",
      "98/98 [==============================] - 1s 9ms/step - loss: 0.4937 - accuracy: 0.7837 - val_loss: 0.4567 - val_accuracy: 0.7952\n",
      "Epoch 8/50\n",
      "98/98 [==============================] - 1s 8ms/step - loss: 0.4713 - accuracy: 0.7997 - val_loss: 0.4427 - val_accuracy: 0.8009\n",
      "Epoch 9/50\n",
      "98/98 [==============================] - 1s 8ms/step - loss: 0.4503 - accuracy: 0.8099 - val_loss: 0.4325 - val_accuracy: 0.8094\n",
      "Epoch 10/50\n",
      "98/98 [==============================] - 1s 9ms/step - loss: 0.4300 - accuracy: 0.8229 - val_loss: 0.4274 - val_accuracy: 0.8106\n",
      "Epoch 11/50\n",
      "98/98 [==============================] - 1s 9ms/step - loss: 0.4165 - accuracy: 0.8302 - val_loss: 0.4662 - val_accuracy: 0.7910\n",
      "Epoch 12/50\n",
      "98/98 [==============================] - 1s 8ms/step - loss: 0.4033 - accuracy: 0.8429 - val_loss: 0.4085 - val_accuracy: 0.8208\n",
      "Epoch 13/50\n",
      "98/98 [==============================] - 1s 9ms/step - loss: 0.3862 - accuracy: 0.8470 - val_loss: 0.4306 - val_accuracy: 0.8079\n",
      "Epoch 14/50\n",
      "98/98 [==============================] - 1s 9ms/step - loss: 0.3756 - accuracy: 0.8532 - val_loss: 0.3947 - val_accuracy: 0.8258\n",
      "Epoch 15/50\n",
      "98/98 [==============================] - 1s 9ms/step - loss: 0.3663 - accuracy: 0.8591 - val_loss: 0.3988 - val_accuracy: 0.8261\n",
      "Epoch 16/50\n",
      "98/98 [==============================] - 1s 9ms/step - loss: 0.3553 - accuracy: 0.8642 - val_loss: 0.3938 - val_accuracy: 0.8287\n",
      "Epoch 17/50\n",
      "98/98 [==============================] - 1s 8ms/step - loss: 0.3446 - accuracy: 0.8689 - val_loss: 0.4335 - val_accuracy: 0.8078\n",
      "Epoch 18/50\n",
      "98/98 [==============================] - 1s 9ms/step - loss: 0.3358 - accuracy: 0.8712 - val_loss: 0.3986 - val_accuracy: 0.8233\n",
      "Epoch 19/50\n",
      "98/98 [==============================] - 1s 9ms/step - loss: 0.3282 - accuracy: 0.8761 - val_loss: 0.3974 - val_accuracy: 0.8258\n",
      "Epoch 20/50\n",
      "98/98 [==============================] - 1s 8ms/step - loss: 0.3196 - accuracy: 0.8814 - val_loss: 0.3724 - val_accuracy: 0.8379\n",
      "Epoch 21/50\n",
      "98/98 [==============================] - 1s 8ms/step - loss: 0.3112 - accuracy: 0.8849 - val_loss: 0.3979 - val_accuracy: 0.8296\n",
      "Epoch 22/50\n",
      "98/98 [==============================] - 1s 8ms/step - loss: 0.3057 - accuracy: 0.8877 - val_loss: 0.3840 - val_accuracy: 0.8349\n",
      "Epoch 23/50\n",
      "98/98 [==============================] - 1s 8ms/step - loss: 0.2986 - accuracy: 0.8903 - val_loss: 0.3930 - val_accuracy: 0.8326\n",
      "Epoch 24/50\n",
      "98/98 [==============================] - 1s 8ms/step - loss: 0.2931 - accuracy: 0.8913 - val_loss: 0.4225 - val_accuracy: 0.8209\n",
      "Epoch 25/50\n",
      "98/98 [==============================] - 1s 9ms/step - loss: 0.2858 - accuracy: 0.8963 - val_loss: 0.3968 - val_accuracy: 0.8342\n"
     ]
    }
   ],
   "source": [
    "model.compile(optimizer='adam',\n",
    "              loss='binary_crossentropy',\n",
    "              metrics=['accuracy'])\n",
    "              \n",
    "epochs=50  # 몇 epoch를 훈련하면 좋을지 결과를 보면서 바꾸어 봅시다. \n",
    "\n",
    "early_stopping = tf.keras.callbacks.EarlyStopping(monitor='val_loss', patience=5)\n",
    "\n",
    "history = model.fit(partial_x_train,\n",
    "                    partial_y_train,\n",
    "                    epochs=epochs,\n",
    "                    batch_size=512,\n",
    "                    validation_data=(x_val, y_val),\n",
    "                    verbose=1,\n",
    "                    callbacks=[early_stopping])"
   ]
  },
  {
   "cell_type": "code",
   "execution_count": 91,
   "id": "f755ba1e",
   "metadata": {},
   "outputs": [
    {
     "name": "stdout",
     "output_type": "stream",
     "text": [
      "1537/1537 - 3s - loss: 0.4062 - accuracy: 0.8284\n",
      "[0.4061806797981262, 0.8284069299697876]\n"
     ]
    }
   ],
   "source": [
    "# 학습이 끝난 모델을 테스트셋으로 평가\n",
    "results = model.evaluate(X_test,  y_test, verbose=2)\n",
    "\n",
    "print(results)"
   ]
  },
  {
   "cell_type": "code",
   "execution_count": 92,
   "id": "1b25fff4",
   "metadata": {},
   "outputs": [
    {
     "data": {
      "image/png": "[encoded data removed]",
      "text/plain": [
       "<Figure size 432x288 with 1 Axes>"
      ]
     },
     "metadata": {
      "needs_background": "light"
     },
     "output_type": "display_data"
    }
   ],
   "source": [
    "import matplotlib.pyplot as plt\n",
    "\n",
    "acc = history_dict['accuracy']\n",
    "val_acc = history_dict['val_accuracy']\n",
    "loss = history_dict['loss']\n",
    "val_loss = history_dict['val_loss']\n",
    "\n",
    "epochs = range(1, len(acc) + 1)\n",
    "\n",
    "# \"bo\"는 \"파란색 점\"입니다\n",
    "plt.plot(epochs, loss, 'bo', label='Training loss')\n",
    "# b는 \"파란 실선\"입니다\n",
    "plt.plot(epochs, val_loss, 'b', label='Validation loss')\n",
    "plt.title('Training and validation loss')\n",
    "plt.xlabel('Epochs')\n",
    "plt.ylabel('Loss')\n",
    "plt.legend()\n",
    "\n",
    "plt.show()"
   ]
  },
  {
   "cell_type": "code",
   "execution_count": 93,
   "id": "b47a4d2f",
   "metadata": {},
   "outputs": [
    {
     "data": {
      "image/png": "[encoded data removed]",
      "text/plain": [
       "<Figure size 432x288 with 1 Axes>"
      ]
     },
     "metadata": {
      "needs_background": "light"
     },
     "output_type": "display_data"
    }
   ],
   "source": [
    "plt.clf()   # 그림을 초기화합니다\n",
    "\n",
    "plt.plot(epochs, acc, 'bo', label='Training acc')\n",
    "plt.plot(epochs, val_acc, 'b', label='Validation acc')\n",
    "plt.title('Training and validation accuracy')\n",
    "plt.xlabel('Epochs')\n",
    "plt.ylabel('Accuracy')\n",
    "plt.legend()\n",
    "\n",
    "plt.show()"
   ]
  },
  {
   "cell_type": "markdown",
   "id": "0236e532",
   "metadata": {},
   "source": [
    "성능이 크게 향상되지는 않았고 (0.8255 -> 0.8284), 아직 과적합 문제가 남아있다."
   ]
  },
  {
   "cell_type": "markdown",
   "id": "34c19502",
   "metadata": {},
   "source": [
    "# 회고\n",
    "저는....여기까지인 것 같습니다....\n",
    "이제 슬슬 내용 파악이 어렵네요 흑흑..."
   ]
  }
 ],
 "metadata": {
  "kernelspec": {
   "display_name": "Python 3 (ipykernel)",
   "language": "python",
   "name": "python3"
  },
  "language_info": {
   "codemirror_mode": {
    "name": "ipython",
    "version": 3
   },
   "file_extension": ".py",
   "mimetype": "text/x-python",
   "name": "python",
   "nbconvert_exporter": "python",
   "pygments_lexer": "ipython3",
   "version": "3.9.7"
  }
 },
 "nbformat": 4,
 "nbformat_minor": 5
}

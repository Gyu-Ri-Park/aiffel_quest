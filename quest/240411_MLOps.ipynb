{
 "cells": [
  {
   "cell_type": "markdown",
   "id": "26f3e59a",
   "metadata": {},
   "source": [
    "|평가문항\t|상세기준|\n",
    "|:-|:-|\n",
    "|1. 그림에 맞게 딥러닝 모델을 잘 설계하였는가?\t|그림에 맞게 딥러닝 모델을 설계했다.|\n",
    "|2. 잘못 들어간 test label들을 수정하였는가?\t|틀린 Label 22개를 전부 시각화했으며 Label 또한 수정했다.|\n",
    "|3. KerasTuner로 하이퍼파라미터 튜닝을 진행하였는가?\t|KerasTuner를 정상작동하였고 하이퍼파라미터 튜닝을 제대로 수행했다. 또한 최적화된 하이퍼파라미터로 모델 학습을 진행했다.|"
   ]
  },
  {
   "cell_type": "code",
   "execution_count": 1,
   "id": "0000e131",
   "metadata": {},
   "outputs": [],
   "source": [
    "# !mkdir ~/aiffel/mlops\n",
    "# !pip install keras-tuner"
   ]
  },
  {
   "cell_type": "code",
   "execution_count": 2,
   "id": "154135e6",
   "metadata": {},
   "outputs": [],
   "source": [
    "import tensorflow as tf\n",
    "import keras\n",
    "import keras_tuner as kt\n",
    "from sklearn.model_selection import train_test_split\n",
    "import os"
   ]
  },
  {
   "cell_type": "code",
   "execution_count": 3,
   "id": "2f9216ee",
   "metadata": {},
   "outputs": [
    {
     "name": "stdout",
     "output_type": "stream",
     "text": [
      "ID: 2405, Corrected Label: 6\n",
      "ID: 6877, Corrected Label: 8\n",
      "ID: 8058, Corrected Label: 7\n",
      "ID: 7657, Corrected Label: 7\n",
      "ID: 2804, Corrected Label: 5\n"
     ]
    }
   ],
   "source": [
    "from sklearn.model_selection import train_test_split\n",
    "import tensorflow as tf\n",
    "# CIFAR-10 데이터셋을 로드합니다.\n",
    "(x_train, y_train), (x_test, y_test) = tf.keras.datasets.cifar10.load_data()\n",
    "\n",
    "# CIFAR-10 데이터셋을 로드합니다.\n",
    "(_, _), (x_test, y_test) = tf.keras.datasets.cifar10.load_data()\n",
    "\n",
    "# 라벨이 잘못된 데이터의 ID와 정정된 라벨 인덱스입니다.\n",
    "# CIFAR-10 라벨: airplane : 0, automobile : 1, bird : 2, cat : 3, deer : 4, dog : 5, frog : 6, horse : 7, ship : 8, truck : 9\n",
    "label_corrections = {\n",
    "    2405: 6, # frog\n",
    "    6877: 8, # ship\n",
    "    8058: 7, # horse\n",
    "    # 2532: -1, # Neither airplane nor automobile, -1 if no consensus\n",
    "    7657: 7, # horse\n",
    "    # 1969: -1, # Neither automobile nor truck\n",
    "    2804: 5, # dog\n",
    "    # 6792: -1, # Neither cat nor truck\n",
    "    1227: 5, # dog\n",
    "    5191: 5, # dog\n",
    "    5690: 4, # deer\n",
    "    1718: 8, # ship\n",
    "    2592: 4, # deer\n",
    "    4794: 2, # bird\n",
    "    5960: 3, # cat\n",
    "    # 165: -1, # Neither deer nor bird\n",
    "    9227: 9, # truck\n",
    "    5632: 5, # dog\n",
    "    9352: 9, # truck\n",
    "    7846: 3, # cat\n",
    "    6966: 8, # ship\n",
    "    5468: 3, # cat\n",
    "}\n",
    "\n",
    "# 잘못된 라벨을 수정합니다.\n",
    "for img_id, correct_label in label_corrections.items():\n",
    "    y_test[img_id] = correct_label\n",
    "\n",
    "# 수정된 라벨을 검증합니다 (처음 몇 개만).\n",
    "for img_id, correct_label in list(label_corrections.items())[:5]:\n",
    "    print(f\"ID: {img_id}, Corrected Label: {correct_label}\")"
   ]
  },
  {
   "cell_type": "code",
   "execution_count": 4,
   "id": "766baf8b",
   "metadata": {},
   "outputs": [],
   "source": [
    "# 데이터 타입을 float32로 변환하고 [0,1] 범위로 정규화합니다.\n",
    "x_train = x_train.astype('float32') / 255.0\n",
    "x_test = x_test.astype('float32') / 255.0\n",
    "\n",
    "# 훈련 데이터를 훈련 세트와 검증 세트로 나눕니다.\n",
    "X_train, X_val, y_train_raw, y_val_raw = train_test_split(x_train, y_train, test_size=0.2, random_state=42)\n",
    "\n",
    "# 원-핫 인코딩으로 변환합니다.\n",
    "y_train = tf.keras.utils.to_categorical(y_train_raw, 10)\n",
    "y_val = tf.keras.utils.to_categorical(y_val_raw, 10)\n",
    "y_test = tf.keras.utils.to_categorical(y_test, 10)"
   ]
  },
  {
   "cell_type": "code",
   "execution_count": 5,
   "id": "e0b60707",
   "metadata": {},
   "outputs": [],
   "source": [
    "class DeepTuner(kt.Tuner):\n",
    "    def run_trial(self, trial, X, y, validation_data, **fit_kwargs):\n",
    "        model = self.hypermodel.build(trial.hyperparameters)\n",
    "        model.fit(X, y, batch_size=trial.hyperparameters.Choice(\n",
    "            'batch_size', [16, 32]), **fit_kwargs)\n",
    "\n",
    "\n",
    "        X_val, y_val = validation_data\n",
    "        eval_scores = model.evaluate(X_val, y_val)\n",
    "        return {name: value for name, value in zip(\n",
    "            model.metrics_names,\n",
    "            eval_scores)}"
   ]
  },
  {
   "cell_type": "code",
   "execution_count": 6,
   "id": "898984d9",
   "metadata": {},
   "outputs": [],
   "source": [
    "import tensorflow as tf\n",
    "import keras_tuner as kt\n",
    "\n",
    "def build_model(hp):\n",
    "    model = tf.keras.Sequential()\n",
    "    model.add(tf.keras.layers.Conv2D(\n",
    "        filters=hp.Int('filters_1', min_value=32, max_value=64, step=32),\n",
    "        kernel_size=(3, 3),\n",
    "        activation='relu',\n",
    "        input_shape=(32, 32, 3)\n",
    "    ))\n",
    "    model.add(tf.keras.layers.AveragePooling2D(pool_size=(2, 2)))\n",
    "    model.add(tf.keras.layers.BatchNormalization())\n",
    "    model.add(tf.keras.layers.Conv2D(\n",
    "        filters=hp.Int('filters_2', min_value=64, max_value=128, step=64),\n",
    "        kernel_size=(3, 3),\n",
    "        activation='relu'\n",
    "    ))\n",
    "    model.add(tf.keras.layers.AveragePooling2D(pool_size=(2, 2)))\n",
    "    model.add(tf.keras.layers.BatchNormalization())\n",
    "    model.add(tf.keras.layers.Flatten())\n",
    "    model.add(tf.keras.layers.Dense(\n",
    "        units=hp.Int('units', min_value=256, max_value=512, step=256),\n",
    "        activation='relu'\n",
    "    ))\n",
    "    model.add(tf.keras.layers.Dropout(\n",
    "        rate=hp.Float('dropout', min_value=0.0, max_value=0.5, step=0.1)\n",
    "    ))\n",
    "    model.add(tf.keras.layers.Dense(10, activation='softmax'))\n",
    "    \n",
    "    model.compile(optimizer='adam',\n",
    "                  loss='categorical_crossentropy',\n",
    "                  metrics=['accuracy'])\n",
    "    \n",
    "    return model"
   ]
  },
  {
   "cell_type": "code",
   "execution_count": 7,
   "id": "2206b278",
   "metadata": {},
   "outputs": [
    {
     "name": "stdout",
     "output_type": "stream",
     "text": [
      "Trial 10 Complete [00h 00m 28s]\n",
      "accuracy: 0.673799991607666\n",
      "\n",
      "Best accuracy So Far: 0.6833000183105469\n",
      "Total elapsed time: 00h 05m 48s\n"
     ]
    }
   ],
   "source": [
    "my_keras_tuner = DeepTuner(\n",
    "    oracle=kt.oracles.BayesianOptimizationOracle(\n",
    "        objective=kt.Objective('accuracy', 'max'),\n",
    "        max_trials=10,\n",
    "        seed=42),\n",
    "    hypermodel=build_model,\n",
    "    overwrite=True,\n",
    "    project_name='my_keras_tuner')\n",
    "\n",
    "# 해당 모델 학습시간은 약 10분정도 걸립니다!\n",
    "my_keras_tuner.search(\n",
    "    X_train, y_train, validation_data=(X_val, y_val), epochs=3)"
   ]
  },
  {
   "cell_type": "code",
   "execution_count": 8,
   "id": "88f97eff",
   "metadata": {},
   "outputs": [
    {
     "name": "stdout",
     "output_type": "stream",
     "text": [
      "Model: \"sequential_11\"\n",
      "_________________________________________________________________\n",
      "Layer (type)                 Output Shape              Param #   \n",
      "=================================================================\n",
      "conv2d_22 (Conv2D)           (None, 30, 30, 32)        896       \n",
      "_________________________________________________________________\n",
      "average_pooling2d_22 (Averag (None, 15, 15, 32)        0         \n",
      "_________________________________________________________________\n",
      "batch_normalization_22 (Batc (None, 15, 15, 32)        128       \n",
      "_________________________________________________________________\n",
      "conv2d_23 (Conv2D)           (None, 13, 13, 64)        18496     \n",
      "_________________________________________________________________\n",
      "average_pooling2d_23 (Averag (None, 6, 6, 64)          0         \n",
      "_________________________________________________________________\n",
      "batch_normalization_23 (Batc (None, 6, 6, 64)          256       \n",
      "_________________________________________________________________\n",
      "flatten_11 (Flatten)         (None, 2304)              0         \n",
      "_________________________________________________________________\n",
      "dense_22 (Dense)             (None, 512)               1180160   \n",
      "_________________________________________________________________\n",
      "dropout_11 (Dropout)         (None, 512)               0         \n",
      "_________________________________________________________________\n",
      "dense_23 (Dense)             (None, 10)                5130      \n",
      "=================================================================\n",
      "Total params: 1,205,066\n",
      "Trainable params: 1,204,874\n",
      "Non-trainable params: 192\n",
      "_________________________________________________________________\n"
     ]
    }
   ],
   "source": [
    "best_hps = my_keras_tuner.get_best_hyperparameters(num_trials=10)[0]\n",
    "model = build_model(best_hps)\n",
    "model.summary()"
   ]
  },
  {
   "cell_type": "code",
   "execution_count": 9,
   "id": "118c4c88",
   "metadata": {},
   "outputs": [
    {
     "name": "stdout",
     "output_type": "stream",
     "text": [
      "Epoch 1/5\n",
      "1250/1250 [==============================] - 5s 3ms/step - loss: 1.4972 - accuracy: 0.5116\n",
      "Epoch 2/5\n",
      "1250/1250 [==============================] - 4s 3ms/step - loss: 0.9851 - accuracy: 0.6583\n",
      "Epoch 3/5\n",
      "1250/1250 [==============================] - 4s 4ms/step - loss: 0.7890 - accuracy: 0.7253\n",
      "Epoch 4/5\n",
      "1250/1250 [==============================] - 4s 3ms/step - loss: 0.6376 - accuracy: 0.7772\n",
      "Epoch 5/5\n",
      "1250/1250 [==============================] - 4s 3ms/step - loss: 0.4968 - accuracy: 0.8278\n"
     ]
    },
    {
     "data": {
      "text/plain": [
       "<keras.callbacks.History at 0x7f99f02b2e80>"
      ]
     },
     "execution_count": 9,
     "metadata": {},
     "output_type": "execute_result"
    }
   ],
   "source": [
    "model.fit(X_train, y_train, batch_size=32, epochs = 5)"
   ]
  },
  {
   "cell_type": "code",
   "execution_count": 11,
   "id": "71a33b85",
   "metadata": {},
   "outputs": [
    {
     "name": "stdout",
     "output_type": "stream",
     "text": [
      "313/313 [==============================] - 1s 3ms/step - loss: 1.0232 - accuracy: 0.6798\n"
     ]
    },
    {
     "data": {
      "text/plain": [
       "[1.023191213607788, 0.6797999739646912]"
      ]
     },
     "execution_count": 11,
     "metadata": {},
     "output_type": "execute_result"
    }
   ],
   "source": [
    "model.evaluate(X_val, y_val)"
   ]
  },
  {
   "cell_type": "markdown",
   "id": "f0abdeb1",
   "metadata": {},
   "source": [
    "모델은 val 데이터셋에 대해 약 67.98%의 정확도로 1.023의 손실을 가지고 있다..."
   ]
  },
  {
   "cell_type": "code",
   "execution_count": 12,
   "id": "f726365f",
   "metadata": {
    "scrolled": true
   },
   "outputs": [
    {
     "name": "stdout",
     "output_type": "stream",
     "text": [
      "INFO:tensorflow:Assets written to: /aiffel/aiffel/mlops/best_model/1/model/assets\n"
     ]
    }
   ],
   "source": [
    "save_path = os.getenv('HOME') + '/aiffel/mlops/best_model/1'\n",
    "fname = os.path.join(save_path, 'model')\n",
    "model.save(fname)"
   ]
  },
  {
   "cell_type": "markdown",
   "id": "d94383b2",
   "metadata": {},
   "source": [
    "# 회고\n",
    "밀려서 부랴부랴 끝내기 급급했네요...! 시간이 남으면 추가 미션까지 진행해보겠습니다."
   ]
  }
 ],
 "metadata": {
  "kernelspec": {
   "display_name": "Python 3 (ipykernel)",
   "language": "python",
   "name": "python3"
  },
  "language_info": {
   "codemirror_mode": {
    "name": "ipython",
    "version": 3
   },
   "file_extension": ".py",
   "mimetype": "text/x-python",
   "name": "python",
   "nbconvert_exporter": "python",
   "pygments_lexer": "ipython3",
   "version": "3.9.7"
  }
 },
 "nbformat": 4,
 "nbformat_minor": 5
}

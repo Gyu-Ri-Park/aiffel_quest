{
 "cells": [
  {
   "cell_type": "code",
   "execution_count": 54,
   "id": "817dde8f",
   "metadata": {},
   "outputs": [
    {
     "name": "stdout",
     "output_type": "stream",
     "text": [
      "은행명: SC은행\n",
      "예금주: 박규리\n",
      "계좌번호: 684-21-579203\n",
      "잔고: 9500\n",
      "입금: 10000원, 시간: 2024-01-08 12:47:15.501585\n",
      "출금: 500원, 시간: 2024-01-08 12:47:15.501585\n",
      "입급 내역:\n",
      "입금: 10000원, 시간: 2024-01-08 12:47:15.501585\n",
      "출금 내역:\n",
      "출금: 500원, 시간: 2024-01-08 12:47:15.501585\n"
     ]
    }
   ],
   "source": [
    "class Account:\n",
    "    def __init__(self, owner, initial_balance=0):\n",
    "        self.bank_name = 'SC은행'\n",
    "        self.owner = owner\n",
    "        self.balance = initial_balance\n",
    "        self.account_number = f'{random.randint(100, 999)}-{random.randint(10, 99)}-{random.randint(100000, 999999)}'\n",
    "        self.deposit_count = 0\n",
    "        self.deposit_history_list = []\n",
    "        self.withdraw_history_list = []\n",
    "\n",
    "    def deposit(self, amount):  # self_deposit -> deposit\n",
    "        if amount >= 1:\n",
    "            self.balance += amount\n",
    "            self.deposit_count += 1\n",
    "            self.deposit_history_list.append((amount, datetime.datetime.now()))\n",
    "            if self.deposit_count % 5 == 0:\n",
    "                interest = self.balance * 0.01\n",
    "                self.balance += interest\n",
    "                print(f'이자는 {interest}원 입니다.')\n",
    "\n",
    "    def withdraw(self, amount):  # self_withdraw -> withdraw\n",
    "        if self.balance >= amount:\n",
    "            self.balance -= amount\n",
    "            self.withdraw_history_list.append((amount, datetime.datetime.now()))\n",
    "\n",
    "    def display_info(self):\n",
    "        print('은행명:', self.bank_name)\n",
    "        print('예금주:', self.owner)\n",
    "        print('계좌번호:', self.account_number)\n",
    "        print('잔고:', self.balance)\n",
    "\n",
    "    def deposit_history(self):\n",
    "        for amount, time in self.deposit_history_list:\n",
    "            print(f'입금: {amount}원, 시간: {time}')\n",
    "\n",
    "    def withdraw_history(self):\n",
    "         for amount, time in self.withdraw_history_list:\n",
    "            print(f'출금: {amount}원, 시간: {time}')\n",
    "\n",
    "    def all_history(self):\n",
    "        print('입급 내역:')\n",
    "        self.deposit_history()\n",
    "        print('출금 내역:')\n",
    "        self.withdraw_history()\n",
    "\n",
    "\n",
    "account = Account('박규리')\n",
    "account.deposit(10000)\n",
    "account.withdraw(500)\n",
    "account.display_info()\n",
    "account.deposit_history()\n",
    "account.withdraw_history()\n",
    "account.all_history()\n"
   ]
  },
  {
   "cell_type": "code",
   "execution_count": 55,
   "id": "768a9e57",
   "metadata": {},
   "outputs": [
    {
     "name": "stdout",
     "output_type": "stream",
     "text": [
      "은행명: SC은행\n",
      "예금주: 박규리\n",
      "계좌번호: 684-21-579203\n",
      "잔고: 19500\n",
      "입금: 10000원, 시간: 2024-01-08 12:47:15.501585\n",
      "입금: 10000원, 시간: 2024-01-08 12:47:15.909979\n",
      "출금: 500원, 시간: 2024-01-08 12:47:15.501585\n",
      "입급 내역:\n",
      "입금: 10000원, 시간: 2024-01-08 12:47:15.501585\n",
      "입금: 10000원, 시간: 2024-01-08 12:47:15.909979\n",
      "출금 내역:\n",
      "출금: 500원, 시간: 2024-01-08 12:47:15.501585\n"
     ]
    }
   ],
   "source": [
    "account.deposit(10000)\n",
    "account.display_info()\n",
    "account.deposit_history()\n",
    "account.withdraw_history()\n",
    "account.all_history()"
   ]
  },
  {
   "cell_type": "code",
   "execution_count": 56,
   "id": "20f8035c",
   "metadata": {},
   "outputs": [
    {
     "name": "stdout",
     "output_type": "stream",
     "text": [
      "은행명: SC은행\n",
      "예금주: 박규리\n",
      "계좌번호: 684-21-579203\n",
      "잔고: 29500\n",
      "입금: 10000원, 시간: 2024-01-08 12:47:15.501585\n",
      "입금: 10000원, 시간: 2024-01-08 12:47:15.909979\n",
      "입금: 10000원, 시간: 2024-01-08 12:47:16.271285\n",
      "출금: 500원, 시간: 2024-01-08 12:47:15.501585\n",
      "입급 내역:\n",
      "입금: 10000원, 시간: 2024-01-08 12:47:15.501585\n",
      "입금: 10000원, 시간: 2024-01-08 12:47:15.909979\n",
      "입금: 10000원, 시간: 2024-01-08 12:47:16.271285\n",
      "출금 내역:\n",
      "출금: 500원, 시간: 2024-01-08 12:47:15.501585\n"
     ]
    }
   ],
   "source": [
    "account.deposit(10000)\n",
    "account.display_info()\n",
    "account.deposit_history()\n",
    "account.withdraw_history()\n",
    "account.all_history()"
   ]
  },
  {
   "cell_type": "code",
   "execution_count": 60,
   "id": "20f68ab9",
   "metadata": {
    "scrolled": true
   },
   "outputs": [
    {
     "name": "stdout",
     "output_type": "stream",
     "text": [
      "은행명: SC은행\n",
      "예금주: 박규리\n",
      "계좌번호: 684-21-579203\n",
      "잔고: 59995.0\n",
      "입금: 10000원, 시간: 2024-01-08 12:47:15.501585\n",
      "입금: 10000원, 시간: 2024-01-08 12:47:15.909979\n",
      "입금: 10000원, 시간: 2024-01-08 12:47:16.271285\n",
      "입금: 10000원, 시간: 2024-01-08 12:47:17.035760\n",
      "입금: 10000원, 시간: 2024-01-08 12:47:18.152209\n",
      "입금: 10000원, 시간: 2024-01-08 12:49:25.255124\n",
      "출금: 500원, 시간: 2024-01-08 12:47:15.501585\n",
      "입급 내역:\n",
      "입금: 10000원, 시간: 2024-01-08 12:47:15.501585\n",
      "입금: 10000원, 시간: 2024-01-08 12:47:15.909979\n",
      "입금: 10000원, 시간: 2024-01-08 12:47:16.271285\n",
      "입금: 10000원, 시간: 2024-01-08 12:47:17.035760\n",
      "입금: 10000원, 시간: 2024-01-08 12:47:18.152209\n",
      "입금: 10000원, 시간: 2024-01-08 12:49:25.255124\n",
      "출금 내역:\n",
      "출금: 500원, 시간: 2024-01-08 12:47:15.501585\n"
     ]
    }
   ],
   "source": [
    "account.deposit(10000)\n",
    "account.display_info()\n",
    "account.deposit_history()\n",
    "account.withdraw_history()\n",
    "account.all_history()"
   ]
  },
  {
   "cell_type": "code",
   "execution_count": 58,
   "id": "58725c94",
   "metadata": {},
   "outputs": [
    {
     "name": "stdout",
     "output_type": "stream",
     "text": [
      "은행명: SC은행\n",
      "예금주: 박규리\n",
      "계좌번호: 684-21-579203\n",
      "잔고: 39500\n",
      "입금: 10000원, 시간: 2024-01-08 12:47:15.501585\n",
      "입금: 10000원, 시간: 2024-01-08 12:47:15.909979\n",
      "입금: 10000원, 시간: 2024-01-08 12:47:16.271285\n",
      "입금: 10000원, 시간: 2024-01-08 12:47:17.035760\n",
      "출금: 500원, 시간: 2024-01-08 12:47:15.501585\n",
      "입급 내역:\n",
      "입금: 10000원, 시간: 2024-01-08 12:47:15.501585\n",
      "입금: 10000원, 시간: 2024-01-08 12:47:15.909979\n",
      "입금: 10000원, 시간: 2024-01-08 12:47:16.271285\n",
      "입금: 10000원, 시간: 2024-01-08 12:47:17.035760\n",
      "출금 내역:\n",
      "출금: 500원, 시간: 2024-01-08 12:47:15.501585\n"
     ]
    }
   ],
   "source": [
    "account.deposit(10000)\n",
    "account.display_info()\n",
    "account.deposit_history()\n",
    "account.withdraw_history()\n",
    "account.all_history()"
   ]
  },
  {
   "cell_type": "code",
   "execution_count": 59,
   "id": "387d7347",
   "metadata": {},
   "outputs": [
    {
     "name": "stdout",
     "output_type": "stream",
     "text": [
      "이자는 495.0원 입니다.\n",
      "은행명: SC은행\n",
      "예금주: 박규리\n",
      "계좌번호: 684-21-579203\n",
      "잔고: 49995.0\n",
      "입금: 10000원, 시간: 2024-01-08 12:47:15.501585\n",
      "입금: 10000원, 시간: 2024-01-08 12:47:15.909979\n",
      "입금: 10000원, 시간: 2024-01-08 12:47:16.271285\n",
      "입금: 10000원, 시간: 2024-01-08 12:47:17.035760\n",
      "입금: 10000원, 시간: 2024-01-08 12:47:18.152209\n",
      "출금: 500원, 시간: 2024-01-08 12:47:15.501585\n",
      "입급 내역:\n",
      "입금: 10000원, 시간: 2024-01-08 12:47:15.501585\n",
      "입금: 10000원, 시간: 2024-01-08 12:47:15.909979\n",
      "입금: 10000원, 시간: 2024-01-08 12:47:16.271285\n",
      "입금: 10000원, 시간: 2024-01-08 12:47:17.035760\n",
      "입금: 10000원, 시간: 2024-01-08 12:47:18.152209\n",
      "출금 내역:\n",
      "출금: 500원, 시간: 2024-01-08 12:47:15.501585\n"
     ]
    }
   ],
   "source": [
    "account.deposit(10000)\n",
    "account.display_info()\n",
    "account.deposit_history()\n",
    "account.withdraw_history()\n",
    "account.all_history()"
   ]
  },
  {
   "cell_type": "code",
   "execution_count": null,
   "id": "14fe1335",
   "metadata": {},
   "outputs": [],
   "source": []
  }
 ],
 "metadata": {
  "kernelspec": {
   "display_name": "Python 3 (ipykernel)",
   "language": "python",
   "name": "python3"
  },
  "language_info": {
   "codemirror_mode": {
    "name": "ipython",
    "version": 3
   },
   "file_extension": ".py",
   "mimetype": "text/x-python",
   "name": "python",
   "nbconvert_exporter": "python",
   "pygments_lexer": "ipython3",
   "version": "3.11.5"
  }
 },
 "nbformat": 4,
 "nbformat_minor": 5
}

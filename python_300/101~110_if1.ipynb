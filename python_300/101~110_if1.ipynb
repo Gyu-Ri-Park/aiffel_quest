{
 "cells": [
  {
   "cell_type": "markdown",
   "id": "a0e9bfd7",
   "metadata": {},
   "source": [
    "__101__  \n",
    "파이썬에서 True 혹은 False를 갖는 데이터 타입은 무엇인가?"
   ]
  },
  {
   "cell_type": "code",
   "execution_count": 1,
   "id": "f8da75b9",
   "metadata": {},
   "outputs": [
    {
     "name": "stdout",
     "output_type": "stream",
     "text": [
      "불(bool) 타입\n"
     ]
    }
   ],
   "source": [
    "print(\"불(bool) 타입\")"
   ]
  },
  {
   "cell_type": "markdown",
   "id": "8036b187",
   "metadata": {},
   "source": [
    " "
   ]
  },
  {
   "cell_type": "markdown",
   "id": "09c03798",
   "metadata": {},
   "source": [
    "__102__  \n",
    "아래 코드의 출력 결과를 예상하라.\n",
    "\n",
    "```print(3 == 5)```"
   ]
  },
  {
   "cell_type": "code",
   "execution_count": 2,
   "id": "816a4a6f",
   "metadata": {},
   "outputs": [
    {
     "name": "stdout",
     "output_type": "stream",
     "text": [
      "False\n"
     ]
    }
   ],
   "source": [
    "print(3 == 5)   # 동일한 값이 아니므로 False 출력"
   ]
  },
  {
   "cell_type": "markdown",
   "id": "57e3c0f5",
   "metadata": {},
   "source": [
    " "
   ]
  },
  {
   "cell_type": "markdown",
   "id": "dfa0a294",
   "metadata": {},
   "source": [
    "__103__  \n",
    "아래 코드의 출력 결과를 예상하라\n",
    "\n",
    "```print(3 < 5)```"
   ]
  },
  {
   "cell_type": "code",
   "execution_count": 3,
   "id": "35d6b0a4",
   "metadata": {},
   "outputs": [
    {
     "name": "stdout",
     "output_type": "stream",
     "text": [
      "True\n"
     ]
    }
   ],
   "source": [
    "print(3 < 5)   # True"
   ]
  },
  {
   "cell_type": "markdown",
   "id": "c16e698b",
   "metadata": {},
   "source": [
    " "
   ]
  },
  {
   "cell_type": "markdown",
   "id": "717fe29f",
   "metadata": {},
   "source": [
    "__104__  \n",
    "아래 코드의 결과를 예상하라.\n",
    "\n",
    "```\n",
    "x = 4\n",
    "print(1 < x < 5)\n",
    "```"
   ]
  },
  {
   "cell_type": "code",
   "execution_count": 4,
   "id": "3773e6b2",
   "metadata": {},
   "outputs": [
    {
     "name": "stdout",
     "output_type": "stream",
     "text": [
      "True\n"
     ]
    }
   ],
   "source": [
    "x = 4\n",
    "print(1 < x < 5)   # True"
   ]
  },
  {
   "cell_type": "markdown",
   "id": "18234025",
   "metadata": {},
   "source": [
    " "
   ]
  },
  {
   "cell_type": "markdown",
   "id": "12202989",
   "metadata": {},
   "source": [
    "__105__  \n",
    "아래 코드의 결과를 예상하라.\n",
    "\n",
    "```print ((3 == 3) and (4 != 3))```"
   ]
  },
  {
   "cell_type": "code",
   "execution_count": 5,
   "id": "211b41f5",
   "metadata": {},
   "outputs": [
    {
     "name": "stdout",
     "output_type": "stream",
     "text": [
      "True\n"
     ]
    }
   ],
   "source": [
    "print ((3 == 3) and (4 != 3))\n",
    "# True and Ture이므로 최종적으로 True"
   ]
  },
  {
   "cell_type": "markdown",
   "id": "7f75f901",
   "metadata": {},
   "source": [
    " "
   ]
  },
  {
   "cell_type": "markdown",
   "id": "97ce774f",
   "metadata": {},
   "source": [
    "__106__  \n",
    "아래 코드에서 에러가 발생하는 원인에 대해 설명하라.\n",
    "\n",
    "```print(3 => 4)```"
   ]
  },
  {
   "cell_type": "code",
   "execution_count": 6,
   "id": "98216c32",
   "metadata": {},
   "outputs": [
    {
     "ename": "SyntaxError",
     "evalue": "expression cannot contain assignment, perhaps you meant \"==\"? (3757729230.py, line 1)",
     "output_type": "error",
     "traceback": [
      "\u001b[1;36m  Cell \u001b[1;32mIn[6], line 1\u001b[1;36m\u001b[0m\n\u001b[1;33m    print(3 => 4)\u001b[0m\n\u001b[1;37m          ^\u001b[0m\n\u001b[1;31mSyntaxError\u001b[0m\u001b[1;31m:\u001b[0m expression cannot contain assignment, perhaps you meant \"==\"?\n"
     ]
    }
   ],
   "source": [
    "print(3 => 4)\n",
    "\n",
    "# 등호는 부등호 뒤에 위치해야 함"
   ]
  },
  {
   "cell_type": "markdown",
   "id": "5290f144",
   "metadata": {},
   "source": [
    " "
   ]
  },
  {
   "cell_type": "markdown",
   "id": "582bf486",
   "metadata": {},
   "source": [
    "__107__  \n",
    "아래 코드의 출력 결과를 예상하라.\n",
    "\n",
    "```\n",
    "if 4 < 3:\n",
    "    print(\"Hello World\")\n",
    "```"
   ]
  },
  {
   "cell_type": "code",
   "execution_count": 7,
   "id": "60020113",
   "metadata": {},
   "outputs": [],
   "source": [
    "if 4 < 3:\n",
    "    print(\"Hello World\")\n",
    "\n",
    "# 조건이 만족되지 않으며 return 값이 지정되어 있지 않으므로 아무것도 출력되지 않는다"
   ]
  },
  {
   "cell_type": "markdown",
   "id": "5a2a1138",
   "metadata": {},
   "source": [
    " "
   ]
  },
  {
   "cell_type": "markdown",
   "id": "91c72f14",
   "metadata": {},
   "source": [
    "__108__  \n",
    "아래 코드의 출력 결과를 예상하라\n",
    "\n",
    "```\n",
    "if 4 < 3:\n",
    "    print(\"Hello World.\")\n",
    "else:\n",
    "    print(\"Hi, there.\")\n",
    "```"
   ]
  },
  {
   "cell_type": "code",
   "execution_count": 8,
   "id": "736186d6",
   "metadata": {},
   "outputs": [
    {
     "name": "stdout",
     "output_type": "stream",
     "text": [
      "Hi, there.\n"
     ]
    }
   ],
   "source": [
    "if 4 < 3:\n",
    "    print(\"Hello World.\")\n",
    "else:\n",
    "    print(\"Hi, there.\")\n",
    "\n",
    "# Hi, there. 출력"
   ]
  },
  {
   "cell_type": "markdown",
   "id": "80ab613c",
   "metadata": {},
   "source": [
    " "
   ]
  },
  {
   "cell_type": "markdown",
   "id": "0362ad98",
   "metadata": {},
   "source": [
    "__109__  \n",
    "아래 코드의 출력 결과를 예상하라\n",
    "\n",
    "```\n",
    "if True :\n",
    "    print (\"1\")\n",
    "    print (\"2\")\n",
    "else :\n",
    "    print(\"3\")\n",
    "print(\"4\")\n",
    "```"
   ]
  },
  {
   "cell_type": "code",
   "execution_count": 9,
   "id": "52cda860",
   "metadata": {},
   "outputs": [
    {
     "name": "stdout",
     "output_type": "stream",
     "text": [
      "1\n",
      "2\n",
      "4\n"
     ]
    }
   ],
   "source": [
    "if True :\n",
    "    print (\"1\")\n",
    "    print (\"2\")\n",
    "else :\n",
    "    print(\"3\")\n",
    "print(\"4\")\n",
    "\n",
    "# 조건이 True이므로 if문에 의해 1, 2 출력, 이후 if문에 포함되지 않는 4가 출력"
   ]
  },
  {
   "cell_type": "markdown",
   "id": "1e01d308",
   "metadata": {},
   "source": [
    " "
   ]
  },
  {
   "cell_type": "markdown",
   "id": "b9a2ade6",
   "metadata": {},
   "source": [
    "__110__  \n",
    "아래 코드의 출력 결과를 예상하라\n",
    "\n",
    "```\n",
    "if True :\n",
    "    if False:\n",
    "        print(\"1\")\n",
    "        print(\"2\")\n",
    "    else:\n",
    "        print(\"3\")\n",
    "else :\n",
    "    print(\"4\")\n",
    "print(\"5\")\n",
    "```"
   ]
  },
  {
   "cell_type": "code",
   "execution_count": 10,
   "id": "1f53dde5",
   "metadata": {},
   "outputs": [
    {
     "name": "stdout",
     "output_type": "stream",
     "text": [
      "3\n",
      "5\n"
     ]
    }
   ],
   "source": [
    "# 110\n",
    "# 아래 코드의 출력 결과를 예상하라\n",
    "\n",
    "if True :\n",
    "    if False:\n",
    "        print(\"1\")\n",
    "        print(\"2\")\n",
    "    else:\n",
    "        print(\"3\")\n",
    "else :\n",
    "    print(\"4\")\n",
    "print(\"5\")\n",
    "\n",
    "# 무조건 true이므로 내부 if문으로 넘어감. 이 때 false가 아니기 때문에 else로 넘어가므로 3 출력.\n",
    "# 이후 if문에 속하지 않는 print 함수에 의해 5 출력"
   ]
  }
 ],
 "metadata": {
  "kernelspec": {
   "display_name": "Python 3 (ipykernel)",
   "language": "python",
   "name": "python3"
  },
  "language_info": {
   "codemirror_mode": {
    "name": "ipython",
    "version": 3
   },
   "file_extension": ".py",
   "mimetype": "text/x-python",
   "name": "python",
   "nbconvert_exporter": "python",
   "pygments_lexer": "ipython3",
   "version": "3.11.5"
  }
 },
 "nbformat": 4,
 "nbformat_minor": 5
}

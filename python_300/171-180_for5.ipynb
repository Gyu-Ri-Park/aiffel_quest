{
 "cells": [
  {
   "cell_type": "markdown",
   "id": "d25b4454",
   "metadata": {},
   "source": [
    "__171<br/>__\n",
    "아래와 같이 리스트의 데이터를 출력하라. 단, for문과 range문을 사용하라.<br/>\n",
    "```price_list = [32100, 32150, 32000, 32500]```\n",
    "```\n",
    "32100\n",
    "32150\n",
    "32000\n",
    "32500\n",
    "```"
   ]
  },
  {
   "cell_type": "code",
   "execution_count": 1,
   "id": "82471cf3",
   "metadata": {},
   "outputs": [
    {
     "name": "stdout",
     "output_type": "stream",
     "text": [
      "32100\n",
      "32150\n",
      "32000\n",
      "32500\n"
     ]
    }
   ],
   "source": [
    "price_list = [32100, 32150, 32000, 32500]\n",
    "\n",
    "for i in range(len(price_list)):\n",
    "    print(price_list[i])"
   ]
  },
  {
   "cell_type": "markdown",
   "id": "1d58a8bf",
   "metadata": {},
   "source": [
    " <br/>"
   ]
  },
  {
   "cell_type": "markdown",
   "id": "ae234343",
   "metadata": {},
   "source": [
    "__172__  \n",
    "아래와 같이 리스트의 데이터를 출력하라. 단, for문과 range문을 사용하라.  \n",
    "\n",
    "```price_list = [32100, 32150, 32000, 32500]```\n",
    "```\n",
    "0 32100\n",
    "1 32150\n",
    "2 32000\n",
    "3 32500\n",
    "```"
   ]
  },
  {
   "cell_type": "code",
   "execution_count": 2,
   "id": "6593a905",
   "metadata": {},
   "outputs": [
    {
     "name": "stdout",
     "output_type": "stream",
     "text": [
      "0 32100\n",
      "1 32150\n",
      "2 32000\n",
      "3 32500\n"
     ]
    }
   ],
   "source": [
    "price_list = [32100, 32150, 32000, 32500]\n",
    "\n",
    "for i in range(len(price_list)):\n",
    "    print(i, price_list[i])"
   ]
  },
  {
   "cell_type": "markdown",
   "id": "7dc3b259",
   "metadata": {},
   "source": [
    "혹은"
   ]
  },
  {
   "cell_type": "code",
   "execution_count": 3,
   "id": "95428385",
   "metadata": {
    "scrolled": true
   },
   "outputs": [
    {
     "name": "stdout",
     "output_type": "stream",
     "text": [
      "0 32100\n",
      "1 32150\n",
      "2 32000\n",
      "3 32500\n"
     ]
    }
   ],
   "source": [
    "for i, data in enumerate(price_list):\n",
    "    print(i, data)"
   ]
  },
  {
   "cell_type": "markdown",
   "id": "ea0cc2a0",
   "metadata": {},
   "source": [
    "enumerate() 함수는 인자로 넘어온 목록을 기준으로 인덱스와 원소를 차례대로 접근하게 해주는 반복자(iterator) 객체를 반환해주는 함수"
   ]
  },
  {
   "cell_type": "markdown",
   "id": "8ad46e85",
   "metadata": {},
   "source": [
    " "
   ]
  },
  {
   "cell_type": "markdown",
   "id": "a92a4ce4",
   "metadata": {},
   "source": [
    "__173__  \n",
    "아래와 같이 리스트의 데이터를 출력하라. 단, for문과 range문을 사용하라.  \n",
    "\n",
    "```price_list = [32100, 32150, 32000, 32500]```\n",
    "```\n",
    "3 32100  \n",
    "2 32150  \n",
    "1 32000  \n",
    "0 32500\n",
    "```"
   ]
  },
  {
   "cell_type": "code",
   "execution_count": 4,
   "id": "7c2c9219",
   "metadata": {},
   "outputs": [
    {
     "name": "stdout",
     "output_type": "stream",
     "text": [
      "3 32100\n",
      "2 32150\n",
      "1 32000\n",
      "0 32500\n"
     ]
    }
   ],
   "source": [
    "price_list = [32100, 32150, 32000, 32500]\n",
    "\n",
    "for i in range(len(price_list)):\n",
    "    print((len(price_list) -1) - i, price_list[i])"
   ]
  },
  {
   "cell_type": "markdown",
   "id": "1f73f7b6",
   "metadata": {},
   "source": [
    "혹은"
   ]
  },
  {
   "cell_type": "code",
   "execution_count": 5,
   "id": "d6e384cf",
   "metadata": {},
   "outputs": [
    {
     "name": "stdout",
     "output_type": "stream",
     "text": [
      "3 32100\n",
      "2 32150\n",
      "1 32000\n",
      "0 32500\n"
     ]
    }
   ],
   "source": [
    "for i, data in enumerate(price_list):\n",
    "    print((len(price_list) -1) - i, data)"
   ]
  },
  {
   "cell_type": "markdown",
   "id": "97a2c8e8",
   "metadata": {},
   "source": [
    " "
   ]
  },
  {
   "cell_type": "markdown",
   "id": "733b262e",
   "metadata": {},
   "source": [
    "__174__  \n",
    "아래와 같이 리스트의 데이터를 출력하라. 단, for문과 range문을 사용하라.  \n",
    "\n",
    "```price_list = [32100, 32150, 32000, 32500]```\n",
    "```\n",
    "100 32150  \n",
    "110 32000  \n",
    "120 32500  \n",
    "```"
   ]
  },
  {
   "cell_type": "code",
   "execution_count": 6,
   "id": "ccda840e",
   "metadata": {},
   "outputs": [
    {
     "name": "stdout",
     "output_type": "stream",
     "text": [
      "100 32100\n",
      "110 32150\n",
      "120 32000\n"
     ]
    }
   ],
   "source": [
    "price_list = [32100, 32150, 32000, 32500]\n",
    "\n",
    "\n",
    "for i in range(len(price_list) - 1):\n",
    "    print(100 + i*10, price_list[i])"
   ]
  },
  {
   "cell_type": "markdown",
   "id": "801eaf99",
   "metadata": {},
   "source": [
    "혹은"
   ]
  },
  {
   "cell_type": "code",
   "execution_count": 7,
   "id": "c733ecbb",
   "metadata": {},
   "outputs": [
    {
     "name": "stdout",
     "output_type": "stream",
     "text": [
      "100 32100\n",
      "110 32150\n",
      "120 32000\n"
     ]
    }
   ],
   "source": [
    "for i, data in enumerate(price_list[:-1]):\n",
    "    print(100 + i*10, data)"
   ]
  },
  {
   "cell_type": "markdown",
   "id": "549c968e",
   "metadata": {},
   "source": [
    " "
   ]
  },
  {
   "cell_type": "markdown",
   "id": "9b0407bf",
   "metadata": {},
   "source": [
    "__175__  \n",
    "my_list를 아래와 같이 출력하라.  \n",
    "\n",
    "```my_list = [\"가\", \"나\", \"다\", \"라\"]```\n",
    "```\n",
    "가 나  \n",
    "나 다  \n",
    "다 라\n",
    "```"
   ]
  },
  {
   "cell_type": "code",
   "execution_count": 8,
   "id": "571895b7",
   "metadata": {},
   "outputs": [
    {
     "name": "stdout",
     "output_type": "stream",
     "text": [
      "가 나\n",
      "나 다\n",
      "다 라\n"
     ]
    }
   ],
   "source": [
    "my_list = [\"가\", \"나\", \"다\", \"라\"]\n",
    "\n",
    "for i in range(len(my_list) - 1):\n",
    "    print(my_list[i], my_list[i+1])"
   ]
  },
  {
   "cell_type": "markdown",
   "id": "ceb24a87",
   "metadata": {},
   "source": [
    "혹은"
   ]
  },
  {
   "cell_type": "code",
   "execution_count": 9,
   "id": "06b02a54",
   "metadata": {},
   "outputs": [
    {
     "name": "stdout",
     "output_type": "stream",
     "text": [
      "가 나\n",
      "나 다\n",
      "다 라\n"
     ]
    }
   ],
   "source": [
    "for i in range(1, len(my_list)) :\n",
    "    print(my_list[i-1], my_list[i])"
   ]
  },
  {
   "cell_type": "markdown",
   "id": "aa2f9cc6",
   "metadata": {},
   "source": [
    " "
   ]
  },
  {
   "cell_type": "markdown",
   "id": "3df32c90",
   "metadata": {},
   "source": [
    "__176__  \n",
    "리스트를 아래와 같이 출력하라.  \n",
    "\n",
    "```my_list = [\"가\", \"나\", \"다\", \"라\", \"마\"]```\n",
    "```\n",
    "가 나 다  \n",
    "나 다 라  \n",
    "다 라 마\n",
    "```"
   ]
  },
  {
   "cell_type": "code",
   "execution_count": 10,
   "id": "0a2f0b40",
   "metadata": {},
   "outputs": [
    {
     "name": "stdout",
     "output_type": "stream",
     "text": [
      "가 나 다\n",
      "나 다 라\n",
      "다 라 마\n"
     ]
    }
   ],
   "source": [
    "my_list = [\"가\", \"나\", \"다\", \"라\", \"마\"]\n",
    "\n",
    "for i in range(len(my_list) - 2):\n",
    "    print(my_list[i], my_list[i+1], my_list[i+2])"
   ]
  },
  {
   "cell_type": "markdown",
   "id": "e3469571",
   "metadata": {},
   "source": [
    "혹은"
   ]
  },
  {
   "cell_type": "code",
   "execution_count": 11,
   "id": "9ff3bd90",
   "metadata": {
    "scrolled": true
   },
   "outputs": [
    {
     "name": "stdout",
     "output_type": "stream",
     "text": [
      "가 나 다\n",
      "나 다 라\n",
      "다 라 마\n"
     ]
    }
   ],
   "source": [
    "for i in range(1, len(my_list) - 1):\n",
    "    print(my_list[i-1], my_list[i], my_list[i+1])"
   ]
  },
  {
   "cell_type": "markdown",
   "id": "3a46b36e",
   "metadata": {},
   "source": [
    "혹은"
   ]
  },
  {
   "cell_type": "code",
   "execution_count": 12,
   "id": "4d7958e8",
   "metadata": {
    "scrolled": true
   },
   "outputs": [
    {
     "name": "stdout",
     "output_type": "stream",
     "text": [
      "가 나 다\n",
      "나 다 라\n",
      "다 라 마\n"
     ]
    }
   ],
   "source": [
    "for i in range(2, len(my_list)):\n",
    "    print(my_list[i-2], my_list[i-1], my_list[i])"
   ]
  },
  {
   "cell_type": "markdown",
   "id": "5846b974",
   "metadata": {},
   "source": [
    " "
   ]
  },
  {
   "cell_type": "markdown",
   "id": "133b39d4",
   "metadata": {},
   "source": [
    "__178__  \n",
    "리스트에는 네 개의 정수가 저장되어 있다. 각각의 데이터에 대해서 자신과 우측값과의 차분값을 화면에 출력하라.  \n",
    "\n",
    "```my_list = [100, 200, 400, 800]```\n",
    "\n",
    "예를들어 100을 기준으로 우측에 위치한 200과의 차분값을 화면에 출력하고,  \n",
    "200을 기준으로 우측에 위치한 400과의 차분값을 화면에 출력한다.  \n",
    "이어서 400을 기준으로 우측에 위치한 800과의 차분값을 화면에 출력한다.  \n",
    "```\n",
    "100  \n",
    "200  \n",
    "400\n",
    "```"
   ]
  },
  {
   "cell_type": "code",
   "execution_count": 13,
   "id": "60b96f5e",
   "metadata": {},
   "outputs": [
    {
     "name": "stdout",
     "output_type": "stream",
     "text": [
      "100\n",
      "200\n",
      "400\n"
     ]
    }
   ],
   "source": [
    "my_list = [100, 200, 400, 800]\n",
    "\n",
    "for i in range(len(my_list) -1):\n",
    "    print(my_list[i+1]-my_list[i])"
   ]
  },
  {
   "cell_type": "markdown",
   "id": "eafbc88e",
   "metadata": {},
   "source": [
    " "
   ]
  },
  {
   "cell_type": "markdown",
   "id": "efe8b8df",
   "metadata": {},
   "source": [
    "__179__  \n",
    "리스트에는 6일 간의 종가 데이터가 저장되어 있다.  \n",
    "종가 데이터의 3일 이동 평균을 계산하고 이를 화면에 출력하라.\n",
    "\n",
    "```my_list = [100, 200, 400, 800, 1000, 1300]```\n",
    "\n",
    "첫 번째 줄에는 100, 200, 400의 평균값이 출력된다. 두 번째 줄에는 200, 400, 800의 평균값이 출력된다. 같은 방식으로 나머지 데이터의 평균을 출력한다.\n",
    "```\n",
    "233.33333333333334\n",
    "466.6666666666667\n",
    "733.3333333333334\n",
    "1033.3333333333333\n",
    "```"
   ]
  },
  {
   "cell_type": "code",
   "execution_count": 14,
   "id": "8fd1410c",
   "metadata": {},
   "outputs": [
    {
     "name": "stdout",
     "output_type": "stream",
     "text": [
      "233.33333333333334\n",
      "466.6666666666667\n",
      "733.3333333333334\n",
      "1033.3333333333333\n"
     ]
    }
   ],
   "source": [
    "my_list = [100, 200, 400, 800, 1000, 1300]\n",
    "\n",
    "for i in range(len(my_list) - 2):\n",
    "    print((my_list[i]+my_list[i+1]+my_list[i+2])/3)"
   ]
  },
  {
   "cell_type": "markdown",
   "id": "88f26efb",
   "metadata": {},
   "source": [
    "혹은"
   ]
  },
  {
   "cell_type": "code",
   "execution_count": 15,
   "id": "9ff8cc35",
   "metadata": {
    "scrolled": true
   },
   "outputs": [
    {
     "name": "stdout",
     "output_type": "stream",
     "text": [
      "233.33333333333334\n",
      "466.6666666666667\n",
      "733.3333333333334\n",
      "1033.3333333333333\n"
     ]
    }
   ],
   "source": [
    "for i in range(1, len(my_list) - 1):\n",
    "    print((my_list[i-1]+my_list[i]+my_list[i+1])/3)"
   ]
  },
  {
   "cell_type": "markdown",
   "id": "4aab8b52",
   "metadata": {},
   "source": [
    " "
   ]
  },
  {
   "cell_type": "markdown",
   "id": "8dbb5dfe",
   "metadata": {},
   "source": [
    "__180__  \n",
    "리스트에 5일간의 저가, 고가 정보가 저장돼 있다.  \n",
    "고가와 저가의 차를 변동폭이라고 정의할 때, low, high 두 개의 리스트를 사용해서 5일간의 변동폭을 volatility 리스트에 저장하라.  \n",
    "```\n",
    "low_prices  = [100, 200, 400, 800, 1000]\n",
    "high_prices = [150, 300, 430, 880, 1000]\n",
    "```"
   ]
  },
  {
   "cell_type": "code",
   "execution_count": 16,
   "id": "beb2bb02",
   "metadata": {},
   "outputs": [
    {
     "name": "stdout",
     "output_type": "stream",
     "text": [
      "[50, 100, 30, 80, 0]\n"
     ]
    }
   ],
   "source": [
    "low_prices  = [100, 200, 400, 800, 1000]\n",
    "high_prices = [150, 300, 430, 880, 1000]\n",
    "\n",
    "votality = []\n",
    "\n",
    "for i in range(len(low_prices)):\n",
    "    votality.append(high_prices[i]-low_prices[i])\n",
    "\n",
    "print(votality)"
   ]
  }
 ],
 "metadata": {
  "kernelspec": {
   "display_name": "Python 3 (ipykernel)",
   "language": "python",
   "name": "python3"
  },
  "language_info": {
   "codemirror_mode": {
    "name": "ipython",
    "version": 3
   },
   "file_extension": ".py",
   "mimetype": "text/x-python",
   "name": "python",
   "nbconvert_exporter": "python",
   "pygments_lexer": "ipython3",
   "version": "3.11.5"
  }
 },
 "nbformat": 4,
 "nbformat_minor": 5
}

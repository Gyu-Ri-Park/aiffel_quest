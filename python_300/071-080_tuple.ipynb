{
 "cells": [
  {
   "cell_type": "markdown",
   "id": "a7f72237",
   "metadata": {},
   "source": [
    "__071__  \n",
    "my_variable 이름의 비어있는 튜플을 만들라."
   ]
  },
  {
   "cell_type": "code",
   "execution_count": 1,
   "id": "05006367",
   "metadata": {},
   "outputs": [
    {
     "data": {
      "text/plain": [
       "tuple"
      ]
     },
     "execution_count": 1,
     "metadata": {},
     "output_type": "execute_result"
    }
   ],
   "source": [
    "my_variable =()\n",
    "type(my_variable)"
   ]
  },
  {
   "cell_type": "markdown",
   "id": "76c9958b",
   "metadata": {},
   "source": [
    " "
   ]
  },
  {
   "cell_type": "markdown",
   "id": "e91e34e7",
   "metadata": {},
   "source": [
    "__072__  \n",
    "2016년 11월 영화 예매 순위 기준 top3는 다음과 같다. 영화 제목을 movie_rank 이름의 튜플에 저장하라. (순위 정보는 저장하지 않는다.)\n",
    "\n",
    "|순위|영화|\n",
    "|:-|:-|\n",
    "|1|닥터 스트레인지|\n",
    "|2|스플릿|\n",
    "|3|럭키|"
   ]
  },
  {
   "cell_type": "code",
   "execution_count": 2,
   "id": "8b874e75",
   "metadata": {},
   "outputs": [
    {
     "name": "stdout",
     "output_type": "stream",
     "text": [
      "('닥터 스트레인지', '스플릿', '럭키')\n"
     ]
    }
   ],
   "source": [
    "movie_rank = ('닥터 스트레인지', '스플릿', '럭키')\n",
    "print(movie_rank)"
   ]
  },
  {
   "cell_type": "markdown",
   "id": "f7f04d6a",
   "metadata": {},
   "source": [
    " "
   ]
  },
  {
   "cell_type": "markdown",
   "id": "c2642e2a",
   "metadata": {},
   "source": [
    "__073__  \n",
    "숫자 1 이 저장된 튜플을 생성하라."
   ]
  },
  {
   "cell_type": "code",
   "execution_count": 3,
   "id": "aaead3e8",
   "metadata": {},
   "outputs": [
    {
     "data": {
      "text/plain": [
       "tuple"
      ]
     },
     "execution_count": 3,
     "metadata": {},
     "output_type": "execute_result"
    }
   ],
   "source": [
    "data =(1, )\n",
    "type(data)"
   ]
  },
  {
   "cell_type": "markdown",
   "id": "34c0d230",
   "metadata": {},
   "source": [
    "괄호와 함께 하나의 정숫값을 저장하면 튜플이 정의 될 것같지만 그렇지 않습니다.  "
   ]
  },
  {
   "cell_type": "code",
   "execution_count": 4,
   "id": "aa58bb7f",
   "metadata": {},
   "outputs": [
    {
     "data": {
      "text/plain": [
       "int"
      ]
     },
     "execution_count": 4,
     "metadata": {},
     "output_type": "execute_result"
    }
   ],
   "source": [
    "my_tuple = (1)\n",
    "type (my_tuple)"
   ]
  },
  {
   "cell_type": "markdown",
   "id": "f4befccf",
   "metadata": {},
   "source": [
    "type()을 출력해보면 파이썬은 튜플이 아닌 정수로 인식합니다."
   ]
  },
  {
   "cell_type": "markdown",
   "id": "dc322f92",
   "metadata": {},
   "source": [
    " "
   ]
  },
  {
   "cell_type": "markdown",
   "id": "0cbf4393",
   "metadata": {},
   "source": [
    "__074__  \n",
    "다음 코드를 실행해보고 오류가 발생하는 원인을 설명하라.\n",
    "\n",
    "```\n",
    "t = (1, 2, 3)\n",
    "t[0] = 'a'\n",
    "```"
   ]
  },
  {
   "cell_type": "code",
   "execution_count": 5,
   "id": "2db2218f",
   "metadata": {},
   "outputs": [
    {
     "ename": "TypeError",
     "evalue": "'tuple' object does not support item assignment",
     "output_type": "error",
     "traceback": [
      "\u001b[1;31m---------------------------------------------------------------------------\u001b[0m",
      "\u001b[1;31mTypeError\u001b[0m                                 Traceback (most recent call last)",
      "Cell \u001b[1;32mIn[5], line 2\u001b[0m\n\u001b[0;32m      1\u001b[0m t \u001b[38;5;241m=\u001b[39m (\u001b[38;5;241m1\u001b[39m, \u001b[38;5;241m2\u001b[39m, \u001b[38;5;241m3\u001b[39m)\n\u001b[1;32m----> 2\u001b[0m t[\u001b[38;5;241m0\u001b[39m] \u001b[38;5;241m=\u001b[39m \u001b[38;5;124m'\u001b[39m\u001b[38;5;124ma\u001b[39m\u001b[38;5;124m'\u001b[39m\n",
      "\u001b[1;31mTypeError\u001b[0m: 'tuple' object does not support item assignment"
     ]
    }
   ],
   "source": [
    "t = (1, 2, 3)\n",
    "t[0] = 'a'\n",
    "\n",
    "# 튜플은 요소 값을 변경할 수 없다."
   ]
  },
  {
   "cell_type": "markdown",
   "id": "c9950bd2",
   "metadata": {},
   "source": [
    " "
   ]
  },
  {
   "cell_type": "markdown",
   "id": "48a9ac88",
   "metadata": {},
   "source": [
    "__075__  \n",
    "아래와 같이 t에는 1, 2, 3, 4 데이터가 바인딩되어 있다.  \n",
    "t가 바인딩하는 데이터 타입은 무엇인가?\n",
    "\n",
    "```t = 1, 2, 3, 4```"
   ]
  },
  {
   "cell_type": "code",
   "execution_count": 6,
   "id": "3070ea67",
   "metadata": {},
   "outputs": [
    {
     "data": {
      "text/plain": [
       "tuple"
      ]
     },
     "execution_count": 6,
     "metadata": {},
     "output_type": "execute_result"
    }
   ],
   "source": [
    "t = 1, 2, 3, 4\n",
    "type(t)\n",
    "\n",
    "# tuple"
   ]
  },
  {
   "cell_type": "markdown",
   "id": "33e93d2a",
   "metadata": {},
   "source": [
    " "
   ]
  },
  {
   "cell_type": "markdown",
   "id": "c35920e2",
   "metadata": {},
   "source": [
    "__076__  \n",
    "변수 t에는 아래와 같은 값이 저장되어 있다.  \n",
    "변수 t가 ('A', 'b', 'c') 튜플을 가리키도록 수정하라.\n",
    "\n",
    "```t = ('a', 'b', 'c')```"
   ]
  },
  {
   "cell_type": "code",
   "execution_count": 7,
   "id": "768d897a",
   "metadata": {
    "scrolled": true
   },
   "outputs": [
    {
     "name": "stdout",
     "output_type": "stream",
     "text": [
      "('A', 'b', 'c')\n"
     ]
    }
   ],
   "source": [
    "t = ('a', 'b', 'c')\n",
    "t = ('A', 'b', 'c')\n",
    "print(t)"
   ]
  },
  {
   "cell_type": "markdown",
   "id": "518efe42",
   "metadata": {},
   "source": [
    "튜플의 값은 변경할 수 없으므로, 새로운 튜플을 만들고 t라는 변수를 업데이트 해야 함."
   ]
  },
  {
   "cell_type": "markdown",
   "id": "46f288e7",
   "metadata": {},
   "source": [
    " "
   ]
  },
  {
   "cell_type": "markdown",
   "id": "e1d8528c",
   "metadata": {},
   "source": [
    "__077__  \n",
    "다음 튜플을 리스트로 변환하라.  \n",
    "\n",
    "```interest = ('삼성전자', 'LG전자', 'SK Hynix')```"
   ]
  },
  {
   "cell_type": "code",
   "execution_count": 8,
   "id": "e7c30d78",
   "metadata": {},
   "outputs": [
    {
     "name": "stdout",
     "output_type": "stream",
     "text": [
      "['삼성전자', 'LG전자', 'SK Hynix']\n"
     ]
    },
    {
     "data": {
      "text/plain": [
       "list"
      ]
     },
     "execution_count": 8,
     "metadata": {},
     "output_type": "execute_result"
    }
   ],
   "source": [
    "interest = ('삼성전자', 'LG전자', 'SK Hynix')\n",
    "\n",
    "data = list(interest)\n",
    "print(data)\n",
    "type(data)"
   ]
  },
  {
   "cell_type": "markdown",
   "id": "ccf23ab7",
   "metadata": {},
   "source": [
    " "
   ]
  },
  {
   "cell_type": "markdown",
   "id": "3691394b",
   "metadata": {},
   "source": [
    "__078__  \n",
    "다음 리스트를 튜플로 변경하라.  \n",
    "\n",
    "```interest = ['삼성전자', 'LG전자', 'SK Hynix']```"
   ]
  },
  {
   "cell_type": "code",
   "execution_count": 9,
   "id": "fd3190fc",
   "metadata": {},
   "outputs": [
    {
     "name": "stdout",
     "output_type": "stream",
     "text": [
      "('삼성전자', 'LG전자', 'SK Hynix')\n"
     ]
    },
    {
     "data": {
      "text/plain": [
       "tuple"
      ]
     },
     "execution_count": 9,
     "metadata": {},
     "output_type": "execute_result"
    }
   ],
   "source": [
    "interest = ['삼성전자', 'LG전자', 'SK Hynix']\n",
    "\n",
    "data = tuple(interest)\n",
    "print(data)\n",
    "type(data)"
   ]
  },
  {
   "cell_type": "markdown",
   "id": "fb0ed708",
   "metadata": {},
   "source": [
    " "
   ]
  },
  {
   "cell_type": "markdown",
   "id": "8d766af2",
   "metadata": {},
   "source": [
    "__079 튜플 언팩킹__  \n",
    "다음 코드의 실행 결과를 예상하라.  \n",
    "\n",
    "```\n",
    "temp = ('apple', 'banana', 'cake')\n",
    "a, b, c = temp\n",
    "print(a, b, c)\n",
    "```"
   ]
  },
  {
   "cell_type": "code",
   "execution_count": 10,
   "id": "4f49f3b3",
   "metadata": {},
   "outputs": [
    {
     "name": "stdout",
     "output_type": "stream",
     "text": [
      "apple banana cake\n",
      "<class 'tuple'>\n"
     ]
    }
   ],
   "source": [
    "temp = ('apple', 'banana', 'cake')\n",
    "a, b, c = temp\n",
    "print(a, b, c)\n",
    "\n",
    "print(type(temp))"
   ]
  },
  {
   "cell_type": "markdown",
   "id": "cb6ab32a",
   "metadata": {},
   "source": [
    "  "
   ]
  },
  {
   "cell_type": "markdown",
   "id": "314aaf3d",
   "metadata": {},
   "source": [
    "__080 range 함수__  \n",
    "1 부터 99까지의 정수 중 짝수만 저장된 튜플을 생성하라.  \n",
    "\n",
    "```(2, 4, 6, 8 ... 98)```"
   ]
  },
  {
   "cell_type": "code",
   "execution_count": 11,
   "id": "5e5c21b5",
   "metadata": {},
   "outputs": [
    {
     "name": "stdout",
     "output_type": "stream",
     "text": [
      "(2, 4, 6, 8, 10, 12, 14, 16, 18, 20, 22, 24, 26, 28, 30, 32, 34, 36, 38, 40, 42, 44, 46, 48, 50, 52, 54, 56, 58, 60, 62, 64, 66, 68, 70, 72, 74, 76, 78, 80, 82, 84, 86, 88, 90, 92, 94, 96, 98)\n"
     ]
    }
   ],
   "source": [
    "data = tuple(range(2, 100, 2))\n",
    "print(data)"
   ]
  },
  {
   "cell_type": "code",
   "execution_count": null,
   "id": "65260776",
   "metadata": {},
   "outputs": [],
   "source": []
  }
 ],
 "metadata": {
  "kernelspec": {
   "display_name": "Python 3 (ipykernel)",
   "language": "python",
   "name": "python3"
  },
  "language_info": {
   "codemirror_mode": {
    "name": "ipython",
    "version": 3
   },
   "file_extension": ".py",
   "mimetype": "text/x-python",
   "name": "python",
   "nbconvert_exporter": "python",
   "pygments_lexer": "ipython3",
   "version": "3.11.5"
  }
 },
 "nbformat": 4,
 "nbformat_minor": 5
}

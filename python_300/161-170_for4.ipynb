{
 "cells": [
  {
   "cell_type": "markdown",
   "id": "ed8d7e25",
   "metadata": {},
   "source": [
    "__161__  \n",
    "for문과 range 구문을 사용해서 0~99까지 한 라인에 하나씩 순차적으로 출력하는 프로그램을 작성하라."
   ]
  },
  {
   "cell_type": "code",
   "execution_count": 1,
   "id": "d88352ff",
   "metadata": {
    "scrolled": true
   },
   "outputs": [
    {
     "name": "stdout",
     "output_type": "stream",
     "text": [
      "0\n",
      "1\n",
      "2\n",
      "3\n",
      "4\n",
      "5\n",
      "6\n",
      "7\n",
      "8\n",
      "9\n",
      "10\n",
      "11\n",
      "12\n",
      "13\n",
      "14\n",
      "15\n",
      "16\n",
      "17\n",
      "18\n",
      "19\n",
      "20\n",
      "21\n",
      "22\n",
      "23\n",
      "24\n",
      "25\n",
      "26\n",
      "27\n",
      "28\n",
      "29\n",
      "30\n",
      "31\n",
      "32\n",
      "33\n",
      "34\n",
      "35\n",
      "36\n",
      "37\n",
      "38\n",
      "39\n",
      "40\n",
      "41\n",
      "42\n",
      "43\n",
      "44\n",
      "45\n",
      "46\n",
      "47\n",
      "48\n",
      "49\n",
      "50\n",
      "51\n",
      "52\n",
      "53\n",
      "54\n",
      "55\n",
      "56\n",
      "57\n",
      "58\n",
      "59\n",
      "60\n",
      "61\n",
      "62\n",
      "63\n",
      "64\n",
      "65\n",
      "66\n",
      "67\n",
      "68\n",
      "69\n",
      "70\n",
      "71\n",
      "72\n",
      "73\n",
      "74\n",
      "75\n",
      "76\n",
      "77\n",
      "78\n",
      "79\n",
      "80\n",
      "81\n",
      "82\n",
      "83\n",
      "84\n",
      "85\n",
      "86\n",
      "87\n",
      "88\n",
      "89\n",
      "90\n",
      "91\n",
      "92\n",
      "93\n",
      "94\n",
      "95\n",
      "96\n",
      "97\n",
      "98\n",
      "99\n"
     ]
    }
   ],
   "source": [
    "for num in range(100):\n",
    "    print(num)"
   ]
  },
  {
   "cell_type": "markdown",
   "id": "60aaf173",
   "metadata": {},
   "source": [
    " "
   ]
  },
  {
   "cell_type": "markdown",
   "id": "0b025cfc",
   "metadata": {},
   "source": [
    "__162__  \n",
    "월드컵은 4년에 한 번 개최된다. range()를 사용하여 2002~2050년까지 중 월드컵이 개최되는 연도를 출력하라.\n",
    "```\n",
    "2002\n",
    "2006\n",
    "2010\n",
    "...\n",
    "2042\n",
    "2046\n",
    "2050\n",
    "```\n",
    "\n",
    "참고) range의 세번 째 파라미터는 증감폭을 결정합니다.\n",
    "\n",
    "```\n",
    ">> print(list(range(0, 10, 2)))\n",
    "[0, 2, 4, 6, 8]\n",
    "```"
   ]
  },
  {
   "cell_type": "code",
   "execution_count": 2,
   "id": "9188a566",
   "metadata": {},
   "outputs": [
    {
     "name": "stdout",
     "output_type": "stream",
     "text": [
      "2002\n",
      "2006\n",
      "2010\n",
      "2014\n",
      "2018\n",
      "2022\n",
      "2026\n",
      "2030\n",
      "2034\n",
      "2038\n",
      "2042\n",
      "2046\n",
      "2050\n"
     ]
    }
   ],
   "source": [
    "for num in range(2002, 2051, 4):\n",
    "    print(num)"
   ]
  },
  {
   "cell_type": "markdown",
   "id": "a4bd094a",
   "metadata": {},
   "source": [
    " "
   ]
  },
  {
   "cell_type": "markdown",
   "id": "da5415c6",
   "metadata": {},
   "source": [
    "__163__  \n",
    "1부터 30까지의 숫자 중 3의 배수를 출력하라.\n",
    "```\n",
    "3 \n",
    "6 \n",
    "9 \n",
    "12 \n",
    "15 \n",
    "18 \n",
    "21 \n",
    "24 \n",
    "27 \n",
    "30\n",
    "```"
   ]
  },
  {
   "cell_type": "code",
   "execution_count": 3,
   "id": "bbbc21e0",
   "metadata": {},
   "outputs": [
    {
     "name": "stdout",
     "output_type": "stream",
     "text": [
      "3\n",
      "6\n",
      "9\n",
      "12\n",
      "15\n",
      "18\n",
      "21\n",
      "24\n",
      "27\n",
      "30\n",
      "3\n",
      "6\n",
      "9\n",
      "12\n",
      "15\n",
      "18\n",
      "21\n",
      "24\n",
      "27\n",
      "30\n"
     ]
    }
   ],
   "source": [
    "for num in range(3, 31, 3):\n",
    "    print(num)\n",
    "    \n",
    "for num in range(1, 31):\n",
    "    if num % 3 == 0:\n",
    "        print(num)"
   ]
  },
  {
   "cell_type": "markdown",
   "id": "e09d986f",
   "metadata": {},
   "source": [
    " "
   ]
  },
  {
   "cell_type": "markdown",
   "id": "f59f1b76",
   "metadata": {},
   "source": [
    "__164__  \n",
    "99부터 0까지 1씩 감소하는 숫자들을, 한 라인에 하나씩 출력하라."
   ]
  },
  {
   "cell_type": "code",
   "execution_count": 4,
   "id": "04bad642",
   "metadata": {},
   "outputs": [
    {
     "name": "stdout",
     "output_type": "stream",
     "text": [
      "99\n",
      "98\n",
      "97\n",
      "96\n",
      "95\n",
      "94\n",
      "93\n",
      "92\n",
      "91\n",
      "90\n",
      "89\n",
      "88\n",
      "87\n",
      "86\n",
      "85\n",
      "84\n",
      "83\n",
      "82\n",
      "81\n",
      "80\n",
      "79\n",
      "78\n",
      "77\n",
      "76\n",
      "75\n",
      "74\n",
      "73\n",
      "72\n",
      "71\n",
      "70\n",
      "69\n",
      "68\n",
      "67\n",
      "66\n",
      "65\n",
      "64\n",
      "63\n",
      "62\n",
      "61\n",
      "60\n",
      "59\n",
      "58\n",
      "57\n",
      "56\n",
      "55\n",
      "54\n",
      "53\n",
      "52\n",
      "51\n",
      "50\n",
      "49\n",
      "48\n",
      "47\n",
      "46\n",
      "45\n",
      "44\n",
      "43\n",
      "42\n",
      "41\n",
      "40\n",
      "39\n",
      "38\n",
      "37\n",
      "36\n",
      "35\n",
      "34\n",
      "33\n",
      "32\n",
      "31\n",
      "30\n",
      "29\n",
      "28\n",
      "27\n",
      "26\n",
      "25\n",
      "24\n",
      "23\n",
      "22\n",
      "21\n",
      "20\n",
      "19\n",
      "18\n",
      "17\n",
      "16\n",
      "15\n",
      "14\n",
      "13\n",
      "12\n",
      "11\n",
      "10\n",
      "9\n",
      "8\n",
      "7\n",
      "6\n",
      "5\n",
      "4\n",
      "3\n",
      "2\n",
      "1\n",
      "0\n",
      "99\n",
      "98\n",
      "97\n",
      "96\n",
      "95\n",
      "94\n",
      "93\n",
      "92\n",
      "91\n",
      "90\n",
      "89\n",
      "88\n",
      "87\n",
      "86\n",
      "85\n",
      "84\n",
      "83\n",
      "82\n",
      "81\n",
      "80\n",
      "79\n",
      "78\n",
      "77\n",
      "76\n",
      "75\n",
      "74\n",
      "73\n",
      "72\n",
      "71\n",
      "70\n",
      "69\n",
      "68\n",
      "67\n",
      "66\n",
      "65\n",
      "64\n",
      "63\n",
      "62\n",
      "61\n",
      "60\n",
      "59\n",
      "58\n",
      "57\n",
      "56\n",
      "55\n",
      "54\n",
      "53\n",
      "52\n",
      "51\n",
      "50\n",
      "49\n",
      "48\n",
      "47\n",
      "46\n",
      "45\n",
      "44\n",
      "43\n",
      "42\n",
      "41\n",
      "40\n",
      "39\n",
      "38\n",
      "37\n",
      "36\n",
      "35\n",
      "34\n",
      "33\n",
      "32\n",
      "31\n",
      "30\n",
      "29\n",
      "28\n",
      "27\n",
      "26\n",
      "25\n",
      "24\n",
      "23\n",
      "22\n",
      "21\n",
      "20\n",
      "19\n",
      "18\n",
      "17\n",
      "16\n",
      "15\n",
      "14\n",
      "13\n",
      "12\n",
      "11\n",
      "10\n",
      "9\n",
      "8\n",
      "7\n",
      "6\n",
      "5\n",
      "4\n",
      "3\n",
      "2\n",
      "1\n",
      "0\n"
     ]
    }
   ],
   "source": [
    "for num in range(99, -1, -1):\n",
    "    print(num)\n",
    "    \n",
    "for num in range(100):\n",
    "    print(99 - num)"
   ]
  },
  {
   "cell_type": "markdown",
   "id": "606df9dc",
   "metadata": {},
   "source": [
    " "
   ]
  },
  {
   "cell_type": "markdown",
   "id": "f4097b08",
   "metadata": {},
   "source": [
    "__165__  \n",
    "for문을 사용해서 아래와 같이 출력하라.\n",
    "```\n",
    "0.0\n",
    "0.1\n",
    "0.2\n",
    "0.3\n",
    "0.4\n",
    "0.5\n",
    "...\n",
    "0.9\n",
    "```"
   ]
  },
  {
   "cell_type": "code",
   "execution_count": 5,
   "id": "9568c1e8",
   "metadata": {},
   "outputs": [
    {
     "name": "stdout",
     "output_type": "stream",
     "text": [
      "0.0\n",
      "0.1\n",
      "0.2\n",
      "0.3\n",
      "0.4\n",
      "0.5\n",
      "0.6\n",
      "0.7\n",
      "0.8\n",
      "0.9\n"
     ]
    }
   ],
   "source": [
    "for num in range(10):\n",
    "    print(num / 10)"
   ]
  },
  {
   "cell_type": "markdown",
   "id": "70b289b3",
   "metadata": {},
   "source": [
    " "
   ]
  },
  {
   "cell_type": "markdown",
   "id": "cbd63e4b",
   "metadata": {},
   "source": [
    "__166__  \n",
    "구구단 3단을 출력하라.\n",
    "```\n",
    "3x1 = 3\n",
    "3x2 = 6\n",
    "3x3 = 9\n",
    "3x4 = 12\n",
    "3x5 = 15\n",
    "3x6 = 18\n",
    "3x7 = 21\n",
    "3x8 = 24\n",
    "3x9 = 27\n",
    "```"
   ]
  },
  {
   "cell_type": "code",
   "execution_count": 6,
   "id": "4c0fc518",
   "metadata": {},
   "outputs": [
    {
     "name": "stdout",
     "output_type": "stream",
     "text": [
      "3X1 = 3\n",
      "3X2 = 6\n",
      "3X3 = 9\n",
      "3X4 = 12\n",
      "3X5 = 15\n",
      "3X6 = 18\n",
      "3X7 = 21\n",
      "3X8 = 24\n",
      "3X9 = 27\n"
     ]
    }
   ],
   "source": [
    "for num in range(1,10):\n",
    "    print('3X{} = {}'.format(num, 3*num))"
   ]
  },
  {
   "cell_type": "markdown",
   "id": "4f174dcd",
   "metadata": {},
   "source": [
    " "
   ]
  },
  {
   "cell_type": "markdown",
   "id": "ab84f89c",
   "metadata": {},
   "source": [
    "__167__  \n",
    "구구단 3단을 출력하라. 단 홀수 번째만 출력한다.\n",
    "```\n",
    "3x1 = 3\n",
    "3x3 = 9\n",
    "3x5 = 15\n",
    "3x7 = 21\n",
    "3x9 = 27\n",
    "```"
   ]
  },
  {
   "cell_type": "code",
   "execution_count": 7,
   "id": "244bd068",
   "metadata": {},
   "outputs": [
    {
     "name": "stdout",
     "output_type": "stream",
     "text": [
      "3X1 = 3\n",
      "3X3 = 9\n",
      "3X5 = 15\n",
      "3X7 = 21\n",
      "3X9 = 27\n",
      "3X1 = 3\n",
      "3X3 = 9\n",
      "3X5 = 15\n",
      "3X7 = 21\n",
      "3X9 = 27\n"
     ]
    }
   ],
   "source": [
    "for num in range(1,10, 2):\n",
    "    print('3X{} = {}'.format(num, 3*num))\n",
    "    \n",
    "for num in range(10):\n",
    "    if num % 2 == 1:\n",
    "        print('3X{} = {}'.format(num, 3*num))"
   ]
  },
  {
   "cell_type": "markdown",
   "id": "a39f3da0",
   "metadata": {},
   "source": [
    " "
   ]
  },
  {
   "cell_type": "markdown",
   "id": "e629ca40",
   "metadata": {},
   "source": [
    "__168__  \n",
    "1~10까지의 숫자에 대해 모두 더한 값을 출력하는 프로그램을 for 문을 사용하여 작성하라.\n",
    "\n",
    "```합 : 55```"
   ]
  },
  {
   "cell_type": "code",
   "execution_count": 8,
   "id": "a9754278",
   "metadata": {},
   "outputs": [
    {
     "name": "stdout",
     "output_type": "stream",
     "text": [
      "합: 55\n"
     ]
    }
   ],
   "source": [
    "total = 0\n",
    "\n",
    "for num in range(1, 11):\n",
    "    total += num   # total = total + num\n",
    "print('합:', total)"
   ]
  },
  {
   "cell_type": "markdown",
   "id": "8d487473",
   "metadata": {},
   "source": [
    " "
   ]
  },
  {
   "cell_type": "markdown",
   "id": "37cba9da",
   "metadata": {},
   "source": [
    "__169__  \n",
    "1~10까지의 숫자 중 모든 홀수의 합을 출력하는 프로그램을 for 문을 사용하여 작성하라.\n",
    "\n",
    "```합: 25```"
   ]
  },
  {
   "cell_type": "code",
   "execution_count": 9,
   "id": "39ef88ce",
   "metadata": {},
   "outputs": [
    {
     "name": "stdout",
     "output_type": "stream",
     "text": [
      "홀수합: 25\n"
     ]
    }
   ],
   "source": [
    "total = 0\n",
    "for num in range(1, 11, 2):\n",
    "    total += num\n",
    "print('홀수합:', total)"
   ]
  },
  {
   "cell_type": "markdown",
   "id": "01810495",
   "metadata": {},
   "source": [
    " "
   ]
  },
  {
   "cell_type": "markdown",
   "id": "745a55f1",
   "metadata": {},
   "source": [
    "__170__  \n",
    "1~10까지의 숫자를 모두 곱한 값을 출력하는 프로그램을 for 문을 사용하여 작성하라."
   ]
  },
  {
   "cell_type": "code",
   "execution_count": 10,
   "id": "ee30206d",
   "metadata": {},
   "outputs": [
    {
     "name": "stdout",
     "output_type": "stream",
     "text": [
      "곱: 3628800\n"
     ]
    }
   ],
   "source": [
    "total = 1\n",
    "for num in range(1, 11):\n",
    "    total *= num\n",
    "print('곱:', total)"
   ]
  }
 ],
 "metadata": {
  "kernelspec": {
   "display_name": "Python 3 (ipykernel)",
   "language": "python",
   "name": "python3"
  },
  "language_info": {
   "codemirror_mode": {
    "name": "ipython",
    "version": 3
   },
   "file_extension": ".py",
   "mimetype": "text/x-python",
   "name": "python",
   "nbconvert_exporter": "python",
   "pygments_lexer": "ipython3",
   "version": "3.11.5"
  }
 },
 "nbformat": 4,
 "nbformat_minor": 5
}

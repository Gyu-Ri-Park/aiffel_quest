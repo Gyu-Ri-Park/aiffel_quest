{
 "cells": [
  {
   "cell_type": "markdown",
   "id": "6b165c52",
   "metadata": {},
   "source": [
    "__051 리스트 생성__  \n",
    "2016년 11월 영화 예매 순위 기준 top3는 다음과 같습니다. 영화 제목을 movie_rank 이름의 리스트에 저장해보세요. (순위 정보는 저장하지 않습니다.)  \n",
    "\n",
    "|순위|영화|\n",
    "|:-|:-|\n",
    "|1|닥터 스트레인지|\n",
    "|2|스플릿|\n",
    "|3|럭키|"
   ]
  },
  {
   "cell_type": "code",
   "execution_count": 1,
   "id": "b8d64483",
   "metadata": {},
   "outputs": [
    {
     "name": "stdout",
     "output_type": "stream",
     "text": [
      "['닥터 스트레인지', '스플릿', '럭키']\n"
     ]
    }
   ],
   "source": [
    "movie_rank = [\"닥터 스트레인지\", \"스플릿\", \"럭키\"]\n",
    "print(movie_rank)"
   ]
  },
  {
   "cell_type": "markdown",
   "id": "4a0a5b99",
   "metadata": {},
   "source": [
    " "
   ]
  },
  {
   "cell_type": "markdown",
   "id": "3ebfea05",
   "metadata": {},
   "source": [
    "__052 리스트에 원소 추가__  \n",
    "051의 movie_rank 리스트에 \"배트맨\"을 추가하라.  "
   ]
  },
  {
   "cell_type": "code",
   "execution_count": 2,
   "id": "f35fcc6b",
   "metadata": {},
   "outputs": [
    {
     "data": {
      "text/plain": [
       "['닥터 스트레인지', '스플릿', '럭키', '배트맨']"
      ]
     },
     "execution_count": 2,
     "metadata": {},
     "output_type": "execute_result"
    }
   ],
   "source": [
    "movie_rank.append(\"배트맨\") \n",
    "movie_rank"
   ]
  },
  {
   "cell_type": "markdown",
   "id": "d4c51bbb",
   "metadata": {},
   "source": [
    " "
   ]
  },
  {
   "cell_type": "markdown",
   "id": "37a3e394",
   "metadata": {},
   "source": [
    "__053__  \n",
    "movie_rank 리스트에는 아래와 같이 네 개의 영화 제목이 바인딩되어 있다. \"슈퍼맨\"을 \"닥터 스트레인지\"와 \"스플릿\" 사이에 추가하라.\n",
    "\n",
    "```movie_rank = ['닥터 스트레인지', '스플릿', '럭키', '배트맨']```\n"
   ]
  },
  {
   "cell_type": "code",
   "execution_count": 3,
   "id": "091cd56e",
   "metadata": {},
   "outputs": [
    {
     "data": {
      "text/plain": [
       "['닥터 스트레인지', '슈퍼맨', '스플릿', '럭키', '배트맨']"
      ]
     },
     "execution_count": 3,
     "metadata": {},
     "output_type": "execute_result"
    }
   ],
   "source": [
    "movie_rank = ['닥터 스트레인지', '스플릿', '럭키', '배트맨']\n",
    "\n",
    "movie_rank.insert(1, \"슈퍼맨\")\n",
    "movie_rank"
   ]
  },
  {
   "cell_type": "markdown",
   "id": "ec3f96df",
   "metadata": {},
   "source": [
    " "
   ]
  },
  {
   "cell_type": "markdown",
   "id": "36f9de37",
   "metadata": {},
   "source": [
    "__054__  \n",
    "movie_rank 리스트에서 '럭키'를 삭제하라.  \n",
    "\n",
    "```movie_rank = ['닥터 스트레인지', '슈퍼맨', '스플릿', '럭키', '배트맨']```"
   ]
  },
  {
   "cell_type": "code",
   "execution_count": 4,
   "id": "20ff5265",
   "metadata": {},
   "outputs": [
    {
     "data": {
      "text/plain": [
       "['닥터 스트레인지', '슈퍼맨', '스플릿']"
      ]
     },
     "execution_count": 4,
     "metadata": {},
     "output_type": "execute_result"
    }
   ],
   "source": [
    "movie_rank = ['닥터 스트레인지', '슈퍼맨', '스플릿', '럭키', '배트맨']\n",
    "\n",
    "movie_rank.remove(\"럭키\")\n",
    "movie_rank\n",
    "\n",
    "del movie_rank[3]\n",
    "movie_rank"
   ]
  },
  {
   "cell_type": "markdown",
   "id": "4af2e341",
   "metadata": {},
   "source": [
    " "
   ]
  },
  {
   "cell_type": "markdown",
   "id": "73a87154",
   "metadata": {},
   "source": [
    "__055__  \n",
    "movie_rank 리스트에서 '스플릿' 과 '배트맨'을 를 삭제하라.\n",
    "\n",
    "```movie_rank = ['닥터 스트레인지', '슈퍼맨', '스플릿', '배트맨']```"
   ]
  },
  {
   "cell_type": "code",
   "execution_count": 5,
   "id": "09ba5246",
   "metadata": {},
   "outputs": [
    {
     "data": {
      "text/plain": [
       "['닥터 스트레인지', '슈퍼맨']"
      ]
     },
     "execution_count": 5,
     "metadata": {},
     "output_type": "execute_result"
    }
   ],
   "source": [
    "movie_rank = ['닥터 스트레인지', '슈퍼맨', '스플릿', '배트맨']\n",
    "\n",
    "del movie_rank[2]  # 닥터스트레인지, 슈퍼맨, 배트맨\n",
    "del movie_rank[2]\n",
    "movie_rank"
   ]
  },
  {
   "cell_type": "markdown",
   "id": "7a7f0cb0",
   "metadata": {},
   "source": [
    " "
   ]
  },
  {
   "cell_type": "markdown",
   "id": "79f0aa2d",
   "metadata": {},
   "source": [
    "__056__  \n",
    "lang1과 lang2 리스트가 있을 때 lang1과 lang2의 원소를 모두 갖고 있는 langs 리스트를 만들어라.\n",
    "\n",
    "```\n",
    "lang1 = [\"C\", \"C++\", \"JAVA\"]\n",
    "lang2 = [\"Python\", \"Go\", \"C#\"]\n",
    "```\n",
    "\n",
    "실행 예:\n",
    "```\n",
    "langs\n",
    "['C', 'C++', 'JAVA', 'Python', 'Go', 'C#']\n",
    "```"
   ]
  },
  {
   "cell_type": "code",
   "execution_count": 6,
   "id": "2812912b",
   "metadata": {},
   "outputs": [
    {
     "data": {
      "text/plain": [
       "['C', 'C++', 'JAVA', 'Python', 'Go', 'C#']"
      ]
     },
     "execution_count": 6,
     "metadata": {},
     "output_type": "execute_result"
    }
   ],
   "source": [
    "lang1 = [\"C\", \"C++\", \"JAVA\"]\n",
    "lang2 = [\"Python\", \"Go\", \"C#\"]\n",
    "langs = lang1 + lang2\n",
    "\n",
    "langs"
   ]
  },
  {
   "cell_type": "markdown",
   "id": "5a0f3f2b",
   "metadata": {},
   "source": [
    " "
   ]
  },
  {
   "cell_type": "markdown",
   "id": "1901ebb7",
   "metadata": {},
   "source": [
    "__057__  \n",
    "다음 리스트에서 최댓값과 최솟값을 출력하라. (힌트: min(), max() 함수 사용)\n",
    "\n",
    "```nums = [1, 2, 3, 4, 5, 6, 7]```\n",
    "\n",
    "```\n",
    "실행 예:\n",
    "max:  7\n",
    "min:  1\n",
    "```"
   ]
  },
  {
   "cell_type": "code",
   "execution_count": 7,
   "id": "53f06185",
   "metadata": {},
   "outputs": [
    {
     "name": "stdout",
     "output_type": "stream",
     "text": [
      "max: 7\n",
      "min: 1\n"
     ]
    }
   ],
   "source": [
    "nums = [1, 2, 3, 4, 5, 6, 7]\n",
    "\n",
    "a = f\"max: {max(nums)}\"\n",
    "b = f\"min: {min(nums)}\"\n",
    "\n",
    "print(a)\n",
    "print(b)"
   ]
  },
  {
   "cell_type": "markdown",
   "id": "8d7ffda2",
   "metadata": {},
   "source": [
    " "
   ]
  },
  {
   "cell_type": "markdown",
   "id": "6230390c",
   "metadata": {},
   "source": [
    "__058__  \n",
    "다음 리스트의 합을 출력하라.  \n",
    "\n",
    "```nums = [1, 2, 3, 4, 5]```"
   ]
  },
  {
   "cell_type": "code",
   "execution_count": 8,
   "id": "470291d1",
   "metadata": {},
   "outputs": [
    {
     "data": {
      "text/plain": [
       "15"
      ]
     },
     "execution_count": 8,
     "metadata": {},
     "output_type": "execute_result"
    }
   ],
   "source": [
    "nums = [1, 2, 3, 4, 5]\n",
    "\n",
    "sum(nums)"
   ]
  },
  {
   "cell_type": "markdown",
   "id": "c195ff4b",
   "metadata": {},
   "source": [
    "__059__  \n",
    "다음 리스트에 저장된 데이터의 개수를 화면에 구하라.  \n",
    "\n",
    "```cook = [\"피자\", \"김밥\", \"만두\", \"양념치킨\", \"족발\", \"피자\", \"김치만두\", \"쫄면\", \"소시지\", \"라면\", \"팥빙수\", \"김치전\"]```"
   ]
  },
  {
   "cell_type": "code",
   "execution_count": 9,
   "id": "0c33f855",
   "metadata": {},
   "outputs": [
    {
     "data": {
      "text/plain": [
       "12"
      ]
     },
     "execution_count": 9,
     "metadata": {},
     "output_type": "execute_result"
    }
   ],
   "source": [
    "cook = [\"피자\", \"김밥\", \"만두\", \"양념치킨\", \"족발\", \"피자\", \"김치만두\", \"쫄면\",\n",
    "        \"소시지\", \"라면\", \"팥빙수\", \"김치전\"]\n",
    "\n",
    "len(cook)"
   ]
  },
  {
   "cell_type": "markdown",
   "id": "9dfcf822",
   "metadata": {},
   "source": [
    " "
   ]
  },
  {
   "cell_type": "markdown",
   "id": "29ffe924",
   "metadata": {},
   "source": [
    "__060__  \n",
    "다음 리스트의 평균을 출력하라.  \n",
    "\n",
    "```nums = [1, 2, 3, 4, 5]```\n",
    "\n",
    "```\n",
    "실행 예:\n",
    "3.0\n",
    "```"
   ]
  },
  {
   "cell_type": "code",
   "execution_count": 10,
   "id": "2b17f97e",
   "metadata": {},
   "outputs": [
    {
     "data": {
      "text/plain": [
       "3.0"
      ]
     },
     "execution_count": 10,
     "metadata": {},
     "output_type": "execute_result"
    }
   ],
   "source": [
    "nums = [1, 2, 3, 4, 5]\n",
    "\n",
    "sum(nums)/len(nums)"
   ]
  }
 ],
 "metadata": {
  "kernelspec": {
   "display_name": "Python 3 (ipykernel)",
   "language": "python",
   "name": "python3"
  },
  "language_info": {
   "codemirror_mode": {
    "name": "ipython",
    "version": 3
   },
   "file_extension": ".py",
   "mimetype": "text/x-python",
   "name": "python",
   "nbconvert_exporter": "python",
   "pygments_lexer": "ipython3",
   "version": "3.11.5"
  }
 },
 "nbformat": 4,
 "nbformat_minor": 5
}

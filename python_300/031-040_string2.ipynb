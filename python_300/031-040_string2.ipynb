{
 "cells": [
  {
   "cell_type": "markdown",
   "id": "48b0c871",
   "metadata": {},
   "source": [
    "__031 문자열 합치기__  \n",
    "아래 코드의 실행 결과를 예상해보세요.  \n",
    "\n",
    "```\n",
    "a = \"3\"  \n",
    "b = \"4\"  \n",
    "print(a + b)\n",
    "```"
   ]
  },
  {
   "cell_type": "code",
   "execution_count": 1,
   "id": "28e1e1d9",
   "metadata": {},
   "outputs": [
    {
     "name": "stdout",
     "output_type": "stream",
     "text": [
      "34\n"
     ]
    }
   ],
   "source": [
    "a = \"3\"\n",
    "b = \"4\"\n",
    "print(a + b)\n",
    "\n",
    "# 예상: 34"
   ]
  },
  {
   "cell_type": "markdown",
   "id": "0b218645",
   "metadata": {},
   "source": [
    " "
   ]
  },
  {
   "cell_type": "markdown",
   "id": "f0da7d43",
   "metadata": {},
   "source": [
    "__032 문자열 곱하기__  \n",
    "아래 코드의 실행 결과를 예상해보세요.  \n",
    "\n",
    "```\n",
    "print(\"Hi\" * 3)\n",
    "```"
   ]
  },
  {
   "cell_type": "code",
   "execution_count": 2,
   "id": "047d9f30",
   "metadata": {},
   "outputs": [
    {
     "name": "stdout",
     "output_type": "stream",
     "text": [
      "HiHiHi\n"
     ]
    }
   ],
   "source": [
    "print(\"Hi\" * 3)\n",
    "\n",
    "#예상: HiHiHi"
   ]
  },
  {
   "cell_type": "markdown",
   "id": "2e481148",
   "metadata": {},
   "source": [
    " "
   ]
  },
  {
   "cell_type": "markdown",
   "id": "63d4c0c8",
   "metadata": {},
   "source": [
    " "
   ]
  },
  {
   "cell_type": "markdown",
   "id": "525bf6b4",
   "metadata": {},
   "source": [
    "__033 문자열 곱하기__  \n",
    "화면에 '-'를 80개 출력하세요.  \n",
    "\n",
    "실행 예:  \n",
    "```--------------------------------------------------------------------------------```"
   ]
  },
  {
   "cell_type": "code",
   "execution_count": 3,
   "id": "142e971d",
   "metadata": {},
   "outputs": [
    {
     "name": "stdout",
     "output_type": "stream",
     "text": [
      "--------------------------------------------------------------------------------\n"
     ]
    }
   ],
   "source": [
    "print(\"-\"*80)"
   ]
  },
  {
   "cell_type": "markdown",
   "id": "5dd402dc",
   "metadata": {},
   "source": [
    " "
   ]
  },
  {
   "cell_type": "markdown",
   "id": "c6997fee",
   "metadata": {},
   "source": [
    "__034 문자열 곱하기__  \n",
    "변수에 다음과 같은 문자열이 바인딩되어 있습니다.  \n",
    "\n",
    "```\n",
    "t1 = 'python'\n",
    "t2 = 'java'\n",
    "```\n",
    "변수에 문자열 더하기와 문자열 곱하기를 사용해서 아래와 같이 출력해보세요.  \n",
    "\n",
    "실행 예:  \n",
    "```python java python java python java python java```"
   ]
  },
  {
   "cell_type": "code",
   "execution_count": 4,
   "id": "41c0cafe",
   "metadata": {},
   "outputs": [
    {
     "name": "stdout",
     "output_type": "stream",
     "text": [
      "python java python java python java python java \n"
     ]
    }
   ],
   "source": [
    "t1 = 'python'\n",
    "t2 = 'java'\n",
    "\n",
    "print((t1+\" \"+t2+\" \")*4)"
   ]
  },
  {
   "cell_type": "markdown",
   "id": "5a585013",
   "metadata": {},
   "source": [
    " "
   ]
  },
  {
   "cell_type": "markdown",
   "id": "be6b709b",
   "metadata": {},
   "source": [
    "__035 문자열 출력__  \n",
    "변수에 다음과 같이 문자열과 정수가 바인딩되어 있을 때 % formatting을 사용해서 다음과 같이 출력해보세요.  \n",
    "\n",
    "```\n",
    "name1 = \"김민수\" \n",
    "age1 = 10\n",
    "name2 = \"이철희\"\n",
    "age2 = 13\n",
    "```\n",
    "```\n",
    "이름: 김민수 나이: 10\n",
    "이름: 이철희 나이: 13\n",
    "```"
   ]
  },
  {
   "cell_type": "code",
   "execution_count": 5,
   "id": "c718e0c7",
   "metadata": {},
   "outputs": [
    {
     "name": "stdout",
     "output_type": "stream",
     "text": [
      "이름: 김민수 나이: 10\n",
      "이름: 이철희 나이: 13\n"
     ]
    }
   ],
   "source": [
    "name1 = \"김민수\" \n",
    "age1 = 10\n",
    "name2 = \"이철희\"\n",
    "age2 = 13\n",
    "\n",
    "print(\"이름: %s 나이: %d\" % (name1, age1))\n",
    "print(\"이름: %s 나이: %d\" % (name2, age2))"
   ]
  },
  {
   "cell_type": "markdown",
   "id": "76f06dd0",
   "metadata": {},
   "source": [
    " "
   ]
  },
  {
   "cell_type": "markdown",
   "id": "777048f2",
   "metadata": {},
   "source": [
    "__036 문자열 출력__  \n",
    "문자열의 format( ) 메서드를 사용해서 035번 문제를 다시 풀어보세요."
   ]
  },
  {
   "cell_type": "code",
   "execution_count": 6,
   "id": "c8e2326d",
   "metadata": {},
   "outputs": [
    {
     "name": "stdout",
     "output_type": "stream",
     "text": [
      "이름: 김민수 나이: 10\n",
      "이름: 이철희 나이: 13\n"
     ]
    }
   ],
   "source": [
    "name1 = \"김민수\" \n",
    "age1 = 10\n",
    "name2 = \"이철희\"\n",
    "age2 = 13\n",
    "\n",
    "print(\"이름: {} 나이: {}\".format(name1, age1))\n",
    "print(\"이름: {} 나이: {}\".format(name2, age2))"
   ]
  },
  {
   "cell_type": "markdown",
   "id": "0b690253",
   "metadata": {},
   "source": [
    " "
   ]
  },
  {
   "cell_type": "markdown",
   "id": "bd8a5705",
   "metadata": {},
   "source": [
    "__037 문자열 출력__  \n",
    "파이썬 3.6부터 지원하는 f-string을 사용해서 035번 문제를 다시 풀어보세요."
   ]
  },
  {
   "cell_type": "code",
   "execution_count": 7,
   "id": "d3a04e6a",
   "metadata": {},
   "outputs": [
    {
     "name": "stdout",
     "output_type": "stream",
     "text": [
      "이름: 김민수 나이: 10\n",
      "이름: 이철희 나이: 13\n"
     ]
    }
   ],
   "source": [
    "name1 = \"김민수\" \n",
    "age1 = 10\n",
    "name2 = \"이철희\"\n",
    "age2 = 13\n",
    "\n",
    "string1 = f\"이름: {name1} 나이: {age1}\"\n",
    "string2 = f\"이름: {name2} 나이: {age2}\"\n",
    "print(string1)\n",
    "print(string2)"
   ]
  },
  {
   "cell_type": "markdown",
   "id": "59539433",
   "metadata": {},
   "source": [
    " "
   ]
  },
  {
   "cell_type": "markdown",
   "id": "27f2d9dc",
   "metadata": {},
   "source": [
    "__038 컴마 제거하기__  \n",
    "삼성전자의 상장주식수가 다음과 같습니다. 컴마를 제거한 후 이를 정수 타입으로 변환해보세요.  \n",
    "\n",
    "```상장주식수 = \"5,969,782,550\"```"
   ]
  },
  {
   "cell_type": "code",
   "execution_count": 8,
   "id": "897b2be1",
   "metadata": {},
   "outputs": [
    {
     "name": "stdout",
     "output_type": "stream",
     "text": [
      "5969782550 <class 'int'>\n"
     ]
    }
   ],
   "source": [
    "상장주식수 = \"5,969,782,550\"\n",
    "\n",
    "rep = 상장주식수.replace(\",\",\"\")\n",
    "sti = int(rep)\n",
    "print(sti, type(sti))"
   ]
  },
  {
   "cell_type": "markdown",
   "id": "20d4d05e",
   "metadata": {},
   "source": [
    " "
   ]
  },
  {
   "cell_type": "markdown",
   "id": "43f85ad9",
   "metadata": {},
   "source": [
    "__039 문자열 슬라이싱__  \n",
    "다음과 같은 문자열에서 '2020/03'만 출력하세요.  \n",
    "\n",
    "```분기 = \"2020/03(E) (IFRS연결)\"```"
   ]
  },
  {
   "cell_type": "code",
   "execution_count": 9,
   "id": "67d7ac5f",
   "metadata": {},
   "outputs": [
    {
     "name": "stdout",
     "output_type": "stream",
     "text": [
      "2020/03(E)\n"
     ]
    }
   ],
   "source": [
    "분기 = \"2020/03(E) (IFRS연결)\"\n",
    "\n",
    "조각 = 분기.split(' ')\n",
    "print(조각[0])"
   ]
  },
  {
   "cell_type": "markdown",
   "id": "62a69459",
   "metadata": {},
   "source": [
    " "
   ]
  },
  {
   "cell_type": "markdown",
   "id": "9fd606cd",
   "metadata": {},
   "source": [
    "__040 strip 메서드__  \n",
    "문자열의 좌우의 공백이 있을 때 이를 제거해보세요.\n",
    "\n",
    "```data = \"   삼성전자    \"```"
   ]
  },
  {
   "cell_type": "code",
   "execution_count": 10,
   "id": "249e2e25",
   "metadata": {},
   "outputs": [
    {
     "name": "stdout",
     "output_type": "stream",
     "text": [
      "삼성전자\n"
     ]
    }
   ],
   "source": [
    "data = \"   삼성전자    \"\n",
    "print(data.strip())"
   ]
  }
 ],
 "metadata": {
  "kernelspec": {
   "display_name": "Python 3 (ipykernel)",
   "language": "python",
   "name": "python3"
  },
  "language_info": {
   "codemirror_mode": {
    "name": "ipython",
    "version": 3
   },
   "file_extension": ".py",
   "mimetype": "text/x-python",
   "name": "python",
   "nbconvert_exporter": "python",
   "pygments_lexer": "ipython3",
   "version": "3.11.5"
  }
 },
 "nbformat": 4,
 "nbformat_minor": 5
}

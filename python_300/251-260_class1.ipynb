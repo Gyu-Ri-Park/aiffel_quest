{
 "cells": [
  {
   "cell_type": "markdown",
   "id": "cd8a8ea8",
   "metadata": {},
   "source": [
    "__251 클래스, 객체, 인스턴스__  \n",
    "클래스와 객체에 대해 설명해봅시다."
   ]
  },
  {
   "attachments": {},
   "cell_type": "markdown",
   "id": "03b82d0e",
   "metadata": {},
   "source": [
    "___클래스 (class)___  \n",
    "동일한 무언가를 계속 만들어낼 수 있는 일종의 설계도. 하나의 타입을 정의하는 방법.  \n",
    "클래스 안에 관련있는 데이터와 함수를 모아 정리할 수 있음.  \n",
    "- 과자 틀 : 클래스\n",
    "<br/>\n",
    "\n",
    "___객체 (object)___  \n",
    "클래스로 만든 결과물.\n",
    "- 과자 틀로 찍어낸 과자 : 객체"
   ]
  },
  {
   "cell_type": "markdown",
   "id": "0386e199",
   "metadata": {},
   "source": [
    " "
   ]
  },
  {
   "cell_type": "markdown",
   "id": "b9f0cd60",
   "metadata": {},
   "source": [
    "__252 클래스 정의__  \n",
    "비어있는 사람 (Human) 클래스를 \"정의\" 해보세요."
   ]
  },
  {
   "cell_type": "code",
   "execution_count": 1,
   "id": "cc92d103",
   "metadata": {},
   "outputs": [],
   "source": [
    "class Human:\n",
    "    pass"
   ]
  },
  {
   "cell_type": "markdown",
   "id": "dbe4a750",
   "metadata": {},
   "source": [
    "pass는 프로그램이 특별히 할 일이 없을 때 사용함.  \n",
    "클래스나 함수의 내부 구현을 하지 않더라도 pass를 작성하면 실행 오류 없이 실행할 수 있음."
   ]
  },
  {
   "cell_type": "markdown",
   "id": "5266e852",
   "metadata": {},
   "source": [
    " "
   ]
  },
  {
   "cell_type": "markdown",
   "id": "773b1341",
   "metadata": {},
   "source": [
    "__253 인스턴스 생성__  \n",
    "사람 (Human) 클래스의 인스턴스를 \"생성\" 하고 이를 areum 변수로 바인딩해보세요."
   ]
  },
  {
   "cell_type": "code",
   "execution_count": 2,
   "id": "bda19787",
   "metadata": {},
   "outputs": [],
   "source": [
    "class Human:\n",
    "    pass"
   ]
  },
  {
   "cell_type": "code",
   "execution_count": 3,
   "id": "8b09aeba",
   "metadata": {},
   "outputs": [],
   "source": [
    "areum = Human()"
   ]
  },
  {
   "cell_type": "markdown",
   "id": "c0d434b0",
   "metadata": {},
   "source": [
    "객체(object)는 인스턴스(instance)라고 부르기도 하며, 객체를 소프트웨어에 실체화한 것을 특히 '인스턴스'라고 함."
   ]
  },
  {
   "cell_type": "markdown",
   "id": "72837725",
   "metadata": {},
   "source": [
    " "
   ]
  },
  {
   "cell_type": "markdown",
   "id": "e896594d",
   "metadata": {},
   "source": [
    "__254 클래스 생성자-1__  \n",
    "사람 (Human) 클래스에 \"응애응애\"를 출력하는 생성자를 추가하세요.\n",
    "```\n",
    ">>> areum = Human()\n",
    "응애응애\n",
    "```"
   ]
  },
  {
   "cell_type": "code",
   "execution_count": 4,
   "id": "e60e64d7",
   "metadata": {},
   "outputs": [
    {
     "name": "stdout",
     "output_type": "stream",
     "text": [
      "응애응애\n"
     ]
    }
   ],
   "source": [
    "class Human:\n",
    "    print('응애응애')"
   ]
  },
  {
   "cell_type": "code",
   "execution_count": 5,
   "id": "51c54d22",
   "metadata": {},
   "outputs": [],
   "source": [
    "areum = Human()"
   ]
  },
  {
   "cell_type": "markdown",
   "id": "43c52f6a",
   "metadata": {},
   "source": [
    "생성자를 포함하여 아래와 같이 작성해도 된다."
   ]
  },
  {
   "cell_type": "code",
   "execution_count": 6,
   "id": "22e11cbc",
   "metadata": {},
   "outputs": [],
   "source": [
    "class Human:\n",
    "    def __init__(self):\n",
    "        print('응애응애')"
   ]
  },
  {
   "cell_type": "code",
   "execution_count": 7,
   "id": "58cebf88",
   "metadata": {},
   "outputs": [
    {
     "name": "stdout",
     "output_type": "stream",
     "text": [
      "응애응애\n"
     ]
    }
   ],
   "source": [
    "areum = Human()"
   ]
  },
  {
   "cell_type": "markdown",
   "id": "5e5ba198",
   "metadata": {},
   "source": [
    " "
   ]
  },
  {
   "cell_type": "markdown",
   "id": "656e6783",
   "metadata": {},
   "source": [
    "__255 클래스 생성자-2__  \n",
    "사람 (Human) 클래스에 (이름, 나이, 성별)을 받는 생성자를 추가하세요."
   ]
  },
  {
   "cell_type": "code",
   "execution_count": 8,
   "id": "6f2a6c33",
   "metadata": {},
   "outputs": [],
   "source": [
    "class Human:\n",
    "    def __init__(self, name, age, sex):\n",
    "        self.name = name\n",
    "        self.age = age\n",
    "        self.sex = sex"
   ]
  },
  {
   "cell_type": "code",
   "execution_count": 9,
   "id": "04302a14",
   "metadata": {},
   "outputs": [],
   "source": [
    "areum = Human(\"아름\", 25, \"여자\")"
   ]
  },
  {
   "cell_type": "markdown",
   "id": "b733df3b",
   "metadata": {},
   "source": [
    " "
   ]
  },
  {
   "cell_type": "markdown",
   "id": "561fc5a0",
   "metadata": {},
   "source": [
    "__256 인스턴스 속성에 접근__  \n",
    "255에서 생성한 인스턴스의 이름, 나이, 성별을 출력하세요. 인스턴스 변수에 접근하여 값을 출력하면 됩니다.  \n",
    "```이름: 조아름, 나이: 25, 성별: 여자```\n",
    "\n",
    "인스턴스 변수에 접근하여 값을 가져오는 예\n",
    "```\n",
    ">>> areum.age\n",
    "25\n",
    "```"
   ]
  },
  {
   "cell_type": "code",
   "execution_count": 10,
   "id": "77505031",
   "metadata": {},
   "outputs": [],
   "source": [
    "class Human:\n",
    "    def __init__(self, name, age, sex):\n",
    "        self.name = name\n",
    "        self.age = age\n",
    "        self.sex = sex"
   ]
  },
  {
   "cell_type": "code",
   "execution_count": 11,
   "id": "d48c150d",
   "metadata": {},
   "outputs": [
    {
     "name": "stdout",
     "output_type": "stream",
     "text": [
      "아름\n",
      "25\n",
      "여자\n"
     ]
    }
   ],
   "source": [
    "areum = Human(\"아름\", 25, \"여자\")\n",
    "print(areum.name)\n",
    "print(areum.age)\n",
    "print(areum.sex)"
   ]
  },
  {
   "cell_type": "markdown",
   "id": "761dedc7",
   "metadata": {},
   "source": [
    " "
   ]
  },
  {
   "cell_type": "markdown",
   "id": "8483e124",
   "metadata": {},
   "source": [
    "__257 클래스 메소드 - 1__  \n",
    "사람 (Human) 클래스에서 이름, 나이, 성별을 출력하는 who() 메소드를 추가하세요.\n",
    "```\n",
    ">>> areum.who()\n",
    "이름: 조아름, 나이: 25, 성별: 여자\n",
    "```"
   ]
  },
  {
   "cell_type": "code",
   "execution_count": 12,
   "id": "1031d4e2",
   "metadata": {},
   "outputs": [],
   "source": [
    "class Human:\n",
    "    def __init__(self, name, age, sex):\n",
    "        self.name = name\n",
    "        self.age = age\n",
    "        self.sex = sex\n",
    "    \n",
    "    def who(self):\n",
    "        print(f'이름: {self.name}, 나이: {self.age}, 성별: {self.sex}')"
   ]
  },
  {
   "cell_type": "code",
   "execution_count": 13,
   "id": "6de748c6",
   "metadata": {},
   "outputs": [
    {
     "name": "stdout",
     "output_type": "stream",
     "text": [
      "이름: 아름, 나이: 25, 성별: 여자\n"
     ]
    }
   ],
   "source": [
    "areum = Human(\"아름\", 25, \"여자\")\n",
    "areum.who()     # Human.who(areum)"
   ]
  },
  {
   "cell_type": "markdown",
   "id": "68214057",
   "metadata": {},
   "source": [
    " "
   ]
  },
  {
   "cell_type": "markdown",
   "id": "c1078aba",
   "metadata": {},
   "source": [
    "__258 클래스 메소드 - 2__  \n",
    "사람 (Human) 클래스에 (이름, 나이, 성별)을 받는 setInfo 메소드를 추가하세요.\n",
    "```\n",
    ">>> areum = Human(\"모름\", 0, \"모름\")\n",
    ">>> areum.setInfo(\"아름\", 25, \"여자\")\n",
    "```"
   ]
  },
  {
   "cell_type": "code",
   "execution_count": 14,
   "id": "2827cde0",
   "metadata": {},
   "outputs": [],
   "source": [
    "class Human:\n",
    "    def __init__(self, name, age, sex):\n",
    "        self.name = name\n",
    "        self.age = age\n",
    "        self.sex = sex\n",
    "    \n",
    "    def who(self):\n",
    "        print(f'이름: {self.name}, 나이: {self.age}, 성별: {self.sex}')\n",
    "\n",
    "    def setInfo(self, name, age, sex):\n",
    "        self.name = name\n",
    "        self.age = age\n",
    "        self.sex = sex"
   ]
  },
  {
   "cell_type": "code",
   "execution_count": 15,
   "id": "bafaede1",
   "metadata": {},
   "outputs": [
    {
     "name": "stdout",
     "output_type": "stream",
     "text": [
      "이름: 모름, 나이: 0, 성별: 모름\n",
      "이름: 아름, 나이: 25, 성별: 여자\n"
     ]
    }
   ],
   "source": [
    "areum = Human(\"모름\", 0, \"모름\")\n",
    "areum.who()   # Human.who(areum)\n",
    "\n",
    "areum.setInfo(\"아름\", 25, \"여자\")\n",
    "areum.who()   # Human.who(areum)"
   ]
  },
  {
   "cell_type": "markdown",
   "id": "e839b133",
   "metadata": {},
   "source": [
    " "
   ]
  },
  {
   "cell_type": "markdown",
   "id": "76d95f6c",
   "metadata": {},
   "source": [
    "__259 클래스 소멸자__  \n",
    "사람 (human) 클래스에 \"나의 죽음을 알리지 말라\"를 출력하는 소멸자를 추가하세요."
   ]
  },
  {
   "cell_type": "code",
   "execution_count": 16,
   "id": "1c262705",
   "metadata": {},
   "outputs": [],
   "source": [
    "class Human:\n",
    "    def __init__(self, name, age, sex):\n",
    "        self.name = name\n",
    "        self.age = age\n",
    "        self.sex = sex\n",
    "    \n",
    "    def who(self):\n",
    "        print(f'이름: {self.name}, 나이: {self.age}, 성별: {self.sex}')\n",
    "\n",
    "    def setInfo(self, name, age, sex):\n",
    "        self.name = name\n",
    "        self.age = age\n",
    "        self.sex = sex\n",
    "    \n",
    "    def __del__(self):\n",
    "        print('나의 죽음을 알리지 말라')"
   ]
  },
  {
   "cell_type": "code",
   "execution_count": 17,
   "id": "3d22a282",
   "metadata": {},
   "outputs": [
    {
     "name": "stdout",
     "output_type": "stream",
     "text": [
      "나의 죽음을 알리지 말라\n"
     ]
    }
   ],
   "source": [
    "areum = Human(\"아름\", 25, \"여자\")\n",
    "del(areum)   # Human.del(areum)"
   ]
  },
  {
   "cell_type": "markdown",
   "id": "262ba453",
   "metadata": {},
   "source": [
    " "
   ]
  },
  {
   "cell_type": "markdown",
   "id": "fecbc7b6",
   "metadata": {},
   "source": [
    "__260 에러의 원인__  \n",
    "아래와 같은 에러가 발생한 원인에 대해 설명하세요.\n",
    "```\n",
    "class OMG : \n",
    "    def print() :\n",
    "        print(\"Oh my god\")\n",
    "\n",
    ">>> mystock = OMG()\n",
    ">>> mystock.print()\n",
    "TypeError Traceback (most recent call last)\n",
    "<ipython-input-233-c85c04535b22> in <module>()\n",
    "----> myStock.print()\n",
    "\n",
    "TypeError: print() takes 0 positional arguments but 1 was given\n",
    "```"
   ]
  },
  {
   "cell_type": "code",
   "execution_count": 18,
   "id": "5694a033",
   "metadata": {},
   "outputs": [
    {
     "ename": "TypeError",
     "evalue": "OMG.print() takes 0 positional arguments but 1 was given",
     "output_type": "error",
     "traceback": [
      "\u001b[1;31m---------------------------------------------------------------------------\u001b[0m",
      "\u001b[1;31mTypeError\u001b[0m                                 Traceback (most recent call last)",
      "Cell \u001b[1;32mIn[18], line 6\u001b[0m\n\u001b[0;32m      3\u001b[0m         \u001b[38;5;28mprint\u001b[39m(\u001b[38;5;124m\"\u001b[39m\u001b[38;5;124mOh my god\u001b[39m\u001b[38;5;124m\"\u001b[39m)\n\u001b[0;32m      5\u001b[0m mystock \u001b[38;5;241m=\u001b[39m OMG()\n\u001b[1;32m----> 6\u001b[0m mystock\u001b[38;5;241m.\u001b[39mprint()\n",
      "\u001b[1;31mTypeError\u001b[0m: OMG.print() takes 0 positional arguments but 1 was given"
     ]
    }
   ],
   "source": [
    "class OMG : \n",
    "    def print() :\n",
    "        print(\"Oh my god\")\n",
    "\n",
    "mystock = OMG()\n",
    "mystock.print()   # OMG.print(mystock)"
   ]
  },
  {
   "cell_type": "markdown",
   "id": "91cf393e",
   "metadata": {},
   "source": [
    "즉, 클래스 내에 선언한 print() 메서드는 argument를 받지 않아야 하는데 myStock.print()는 mystock이라는 argument를 받기 때문에 에러가 발생함."
   ]
  }
 ],
 "metadata": {
  "kernelspec": {
   "display_name": "Python 3 (ipykernel)",
   "language": "python",
   "name": "python3"
  },
  "language_info": {
   "codemirror_mode": {
    "name": "ipython",
    "version": 3
   },
   "file_extension": ".py",
   "mimetype": "text/x-python",
   "name": "python",
   "nbconvert_exporter": "python",
   "pygments_lexer": "ipython3",
   "version": "3.11.5"
  }
 },
 "nbformat": 4,
 "nbformat_minor": 5
}

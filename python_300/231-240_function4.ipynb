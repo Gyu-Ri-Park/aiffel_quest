{
 "cells": [
  {
   "cell_type": "markdown",
   "id": "a1c655f2",
   "metadata": {},
   "source": [
    "__231__  \n",
    "아래 코드를 실행한 결과를 예상하라.\n",
    "```\n",
    "def n_plus_1 (n) :\n",
    "    result = n + 1\n",
    "\n",
    "n_plus_1(3)\n",
    "print (result)\n",
    "```"
   ]
  },
  {
   "cell_type": "code",
   "execution_count": 1,
   "id": "a868fb35",
   "metadata": {},
   "outputs": [],
   "source": [
    "# 예상:\n",
    "# n_plus_1(3): 함수 내부에 print문이 없으므로 함수는 그냥 정의됨, 아무것도 출력되지 않음\n",
    "# print(result): 함수 내부에서 정의한 변수는 함수 밖에서 사용할 수 없으므로, result가 정의되지 않았다는 에러 발생"
   ]
  },
  {
   "cell_type": "code",
   "execution_count": 2,
   "id": "6d2d9043",
   "metadata": {},
   "outputs": [
    {
     "ename": "NameError",
     "evalue": "name 'result' is not defined",
     "output_type": "error",
     "traceback": [
      "\u001b[1;31m---------------------------------------------------------------------------\u001b[0m",
      "\u001b[1;31mNameError\u001b[0m                                 Traceback (most recent call last)",
      "Cell \u001b[1;32mIn[2], line 5\u001b[0m\n\u001b[0;32m      2\u001b[0m     result \u001b[38;5;241m=\u001b[39m n \u001b[38;5;241m+\u001b[39m \u001b[38;5;241m1\u001b[39m\n\u001b[0;32m      4\u001b[0m n_plus_1(\u001b[38;5;241m3\u001b[39m)\n\u001b[1;32m----> 5\u001b[0m \u001b[38;5;28mprint\u001b[39m (result)\n",
      "\u001b[1;31mNameError\u001b[0m: name 'result' is not defined"
     ]
    }
   ],
   "source": [
    "def n_plus_1 (n) :\n",
    "    result = n + 1\n",
    "\n",
    "n_plus_1(3)\n",
    "print (result)"
   ]
  },
  {
   "cell_type": "markdown",
   "id": "ed7e53ec",
   "metadata": {},
   "source": [
    " "
   ]
  },
  {
   "cell_type": "markdown",
   "id": "ba74ffa2",
   "metadata": {},
   "source": [
    "__232__  \n",
    "문자열 하나를 입력받아 인터넷 주소를 반환하는 make_url 함수를 정의하라.\n",
    "```\n",
    "make_url(\"naver\")\n",
    "\n",
    "www.naver.com\n",
    "```"
   ]
  },
  {
   "cell_type": "code",
   "execution_count": 3,
   "id": "f266bbbe",
   "metadata": {},
   "outputs": [],
   "source": [
    "def make_url(string):\n",
    "    return(\"www.\"+string+\".com\")"
   ]
  },
  {
   "cell_type": "code",
   "execution_count": 4,
   "id": "50499af3",
   "metadata": {},
   "outputs": [
    {
     "data": {
      "text/plain": [
       "'www.naver.com'"
      ]
     },
     "execution_count": 4,
     "metadata": {},
     "output_type": "execute_result"
    }
   ],
   "source": [
    "make_url(\"naver\")"
   ]
  },
  {
   "cell_type": "markdown",
   "id": "27ff004c",
   "metadata": {},
   "source": [
    " "
   ]
  },
  {
   "cell_type": "markdown",
   "id": "9fe9af41",
   "metadata": {},
   "source": [
    "__233__  \n",
    "문자열을 입력받아 각 문자들로 구성된 리스트로 반환하는 make_list 함수를 정의하라.\n",
    "```\n",
    "make_list(\"abcd\")\n",
    "\n",
    "['a', 'b', 'c', 'd']\n",
    "```"
   ]
  },
  {
   "cell_type": "code",
   "execution_count": 5,
   "id": "7f3bf5df",
   "metadata": {},
   "outputs": [],
   "source": [
    "def make_list(string):\n",
    "    return list(string)"
   ]
  },
  {
   "cell_type": "code",
   "execution_count": 6,
   "id": "3089743b",
   "metadata": {},
   "outputs": [
    {
     "data": {
      "text/plain": [
       "['a', 'b', 'c', 'd']"
      ]
     },
     "execution_count": 6,
     "metadata": {},
     "output_type": "execute_result"
    }
   ],
   "source": [
    "make_list(\"abcd\")"
   ]
  },
  {
   "cell_type": "markdown",
   "id": "8d366ece",
   "metadata": {},
   "source": [
    "혹은"
   ]
  },
  {
   "cell_type": "code",
   "execution_count": 7,
   "id": "e6903238",
   "metadata": {},
   "outputs": [],
   "source": [
    "def make_list(string):\n",
    "    my_list = []\n",
    "    for i in string:\n",
    "        my_list.append(i)\n",
    "    return my_list"
   ]
  },
  {
   "cell_type": "code",
   "execution_count": 8,
   "id": "504eddcb",
   "metadata": {},
   "outputs": [
    {
     "data": {
      "text/plain": [
       "['a', 'b', 'c', 'd']"
      ]
     },
     "execution_count": 8,
     "metadata": {},
     "output_type": "execute_result"
    }
   ],
   "source": [
    "make_list(\"abcd\")"
   ]
  },
  {
   "cell_type": "markdown",
   "id": "4e86de0a",
   "metadata": {},
   "source": [
    " "
   ]
  },
  {
   "cell_type": "markdown",
   "id": "9d0d08cb",
   "metadata": {},
   "source": [
    "__234__  \n",
    "숫자로 구성된 하나의 리스트를 입력받아, 짝수들을 추출하여 리스트로 반환하는 pickup_even 함수를 구현하라.\n",
    "```\n",
    "pickup_even([3, 4, 5, 6, 7, 8])\n",
    "\n",
    "[4, 6, 8]\n",
    "```"
   ]
  },
  {
   "cell_type": "code",
   "execution_count": 9,
   "id": "f14be303",
   "metadata": {},
   "outputs": [],
   "source": [
    "def pickup_even(my_list):\n",
    "    even_list = []\n",
    "    for i in my_list:\n",
    "        if i % 2 == 0:\n",
    "            even_list.append(i)\n",
    "    return even_list"
   ]
  },
  {
   "cell_type": "code",
   "execution_count": 10,
   "id": "f786cd88",
   "metadata": {},
   "outputs": [
    {
     "data": {
      "text/plain": [
       "[4, 6, 8]"
      ]
     },
     "execution_count": 10,
     "metadata": {},
     "output_type": "execute_result"
    }
   ],
   "source": [
    "pickup_even([3, 4, 5, 6, 7, 8])"
   ]
  },
  {
   "cell_type": "markdown",
   "id": "8ccd6d74",
   "metadata": {},
   "source": [
    "리스트 컴프리헨션을 사용하면 다음과 같이 작성할 수 있다."
   ]
  },
  {
   "cell_type": "code",
   "execution_count": 11,
   "id": "80d0ba3d",
   "metadata": {},
   "outputs": [],
   "source": [
    "def pickup_even(my_list):\n",
    "    return [i for i in my_list if i % 2 == 0]"
   ]
  },
  {
   "cell_type": "code",
   "execution_count": 12,
   "id": "0c55fe4f",
   "metadata": {},
   "outputs": [
    {
     "data": {
      "text/plain": [
       "[4, 6, 8]"
      ]
     },
     "execution_count": 12,
     "metadata": {},
     "output_type": "execute_result"
    }
   ],
   "source": [
    "pickup_even([3, 4, 5, 6, 7, 8])"
   ]
  },
  {
   "cell_type": "markdown",
   "id": "b43d992d",
   "metadata": {},
   "source": [
    " "
   ]
  },
  {
   "cell_type": "markdown",
   "id": "9533cd64",
   "metadata": {},
   "source": [
    "__235__  \n",
    "콤마가 포함된 문자열 숫자를 입력받아 정수로 변환하는 convert_int 함수를 정의하라.\n",
    "```\n",
    "convert_int(\"1,234,567\")\n",
    "\n",
    "1234567\n",
    "```"
   ]
  },
  {
   "cell_type": "code",
   "execution_count": 13,
   "id": "1d342f33",
   "metadata": {},
   "outputs": [],
   "source": [
    "def convert_int(num):\n",
    "    string = num.replace(',', '')\n",
    "    return int(string)"
   ]
  },
  {
   "cell_type": "code",
   "execution_count": 14,
   "id": "3367a311",
   "metadata": {},
   "outputs": [
    {
     "data": {
      "text/plain": [
       "1234567"
      ]
     },
     "execution_count": 14,
     "metadata": {},
     "output_type": "execute_result"
    }
   ],
   "source": [
    "convert_int(\"1,234,567\")"
   ]
  },
  {
   "cell_type": "markdown",
   "id": "5168e25c",
   "metadata": {},
   "source": [
    " "
   ]
  },
  {
   "cell_type": "markdown",
   "id": "3c3daa97",
   "metadata": {},
   "source": [
    "__236__  \n",
    "아래 코드의 실행 결과를 예측하라.\n",
    "```\n",
    "def 함수(num) :\n",
    "    return num + 4\n",
    "\n",
    "a = 함수(10)\n",
    "b = 함수(a)\n",
    "c = 함수(b)\n",
    "print(c)\n",
    "```"
   ]
  },
  {
   "cell_type": "code",
   "execution_count": 15,
   "id": "695e54f4",
   "metadata": {},
   "outputs": [],
   "source": [
    "# 예상 :22"
   ]
  },
  {
   "cell_type": "code",
   "execution_count": 16,
   "id": "d3ea0988",
   "metadata": {},
   "outputs": [
    {
     "name": "stdout",
     "output_type": "stream",
     "text": [
      "22\n"
     ]
    }
   ],
   "source": [
    "def 함수(num) :\n",
    "    return num + 4\n",
    "\n",
    "a = 함수(10)  # a = 14\n",
    "b = 함수(a)   # b = 18\n",
    "c = 함수(b)   # c = 22\n",
    "print(c)"
   ]
  },
  {
   "cell_type": "markdown",
   "id": "1debbde6",
   "metadata": {},
   "source": [
    " "
   ]
  },
  {
   "cell_type": "markdown",
   "id": "7e9b086c",
   "metadata": {},
   "source": [
    "__237__  \n",
    "아래 코드의 실행 결과를 예측하라.\n",
    "```\n",
    "def 함수(num) :\n",
    "    return num + 4\n",
    "\n",
    "c = 함수(함수(함수(10)))\n",
    "print(c)\n",
    "```"
   ]
  },
  {
   "cell_type": "code",
   "execution_count": 17,
   "id": "f560df3a",
   "metadata": {},
   "outputs": [],
   "source": [
    "# 예상 :22"
   ]
  },
  {
   "cell_type": "code",
   "execution_count": 18,
   "id": "7a4cce0d",
   "metadata": {},
   "outputs": [
    {
     "name": "stdout",
     "output_type": "stream",
     "text": [
      "22\n"
     ]
    }
   ],
   "source": [
    "def 함수(num) :\n",
    "    return num + 4\n",
    "\n",
    "c = 함수(함수(함수(10)))\n",
    "print(c)"
   ]
  },
  {
   "cell_type": "markdown",
   "id": "8a7b6a36",
   "metadata": {},
   "source": [
    " "
   ]
  },
  {
   "cell_type": "markdown",
   "id": "401ed747",
   "metadata": {},
   "source": [
    "__238__  \n",
    "아래 코드의 실행 결과를 예측하라.\n",
    "```\n",
    "def 함수1(num) :\n",
    "    return num + 4\n",
    "\n",
    "def 함수2(num) :\n",
    "    return num * 10\n",
    "\n",
    "a = 함수1(10)\n",
    "c = 함수2(a)\n",
    "print(c)\n",
    "```"
   ]
  },
  {
   "cell_type": "code",
   "execution_count": 19,
   "id": "2a116725",
   "metadata": {},
   "outputs": [],
   "source": [
    "# 예상: 140"
   ]
  },
  {
   "cell_type": "code",
   "execution_count": 20,
   "id": "1fc1707a",
   "metadata": {},
   "outputs": [
    {
     "name": "stdout",
     "output_type": "stream",
     "text": [
      "140\n"
     ]
    }
   ],
   "source": [
    "def 함수1(num) :\n",
    "    return num + 4\n",
    "\n",
    "def 함수2(num) :\n",
    "    return num * 10\n",
    "\n",
    "a = 함수1(10)   # a = 14\n",
    "c = 함수2(a)    # c = 14 * 10\n",
    "print(c)"
   ]
  },
  {
   "cell_type": "markdown",
   "id": "8b71d1b6",
   "metadata": {},
   "source": [
    " "
   ]
  },
  {
   "cell_type": "markdown",
   "id": "09d850a5",
   "metadata": {},
   "source": [
    "__239__  \n",
    "아래 코드의 실행 결과를 예측하라.\n",
    "```\n",
    "def 함수1(num) :\n",
    "    return num + 4\n",
    "\n",
    "def 함수2(num) :\n",
    "    num = num + 2\n",
    "    return 함수1(num)\n",
    "\n",
    "c = 함수2(10)\n",
    "print(c)\n",
    "```"
   ]
  },
  {
   "cell_type": "code",
   "execution_count": 21,
   "id": "9a103f8c",
   "metadata": {},
   "outputs": [],
   "source": [
    "# 예상: 16"
   ]
  },
  {
   "cell_type": "code",
   "execution_count": 22,
   "id": "b1dfaa25",
   "metadata": {},
   "outputs": [
    {
     "name": "stdout",
     "output_type": "stream",
     "text": [
      "16\n"
     ]
    }
   ],
   "source": [
    "def 함수1(num) :\n",
    "    return num + 4\n",
    "\n",
    "def 함수2(num) :\n",
    "    num = num + 2   # 12\n",
    "    return 함수1(num)   # 16\n",
    "\n",
    "c = 함수2(10)\n",
    "print(c)"
   ]
  },
  {
   "cell_type": "markdown",
   "id": "c2350398",
   "metadata": {},
   "source": [
    " "
   ]
  },
  {
   "cell_type": "markdown",
   "id": "33047ab1",
   "metadata": {},
   "source": [
    "__240__  \n",
    "아래 코드의 실행 결과를 예측하라.\n",
    "```\n",
    "def 함수0(num) :\n",
    "    return num * 2\n",
    "\n",
    "def 함수1(num) :\n",
    "    return 함수0(num + 2)\n",
    "\n",
    "def 함수2(num) :\n",
    "    num = num + 10\n",
    "    return 함수1(num)\n",
    "\n",
    "c = 함수2(2)\n",
    "print(c)\n",
    "```"
   ]
  },
  {
   "cell_type": "code",
   "execution_count": 23,
   "id": "f63b445f",
   "metadata": {},
   "outputs": [],
   "source": [
    "# 예상: 28"
   ]
  },
  {
   "cell_type": "code",
   "execution_count": 24,
   "id": "c0159cbd",
   "metadata": {},
   "outputs": [
    {
     "name": "stdout",
     "output_type": "stream",
     "text": [
      "28\n"
     ]
    }
   ],
   "source": [
    "def 함수0(num) :\n",
    "    return num * 2   # 3. 28 반환\n",
    "\n",
    "def 함수1(num) :\n",
    "    return 함수0(num + 2)   # 2. 함수0(14) 호출\n",
    "\n",
    "def 함수2(num) :\n",
    "    num = num + 10      # 12\n",
    "    return 함수1(num)  # 1. 함수1(12) 호출\n",
    "\n",
    "c = 함수2(2)\n",
    "print(c)   # 4. 28 출력"
   ]
  }
 ],
 "metadata": {
  "kernelspec": {
   "display_name": "Python 3 (ipykernel)",
   "language": "python",
   "name": "python3"
  },
  "language_info": {
   "codemirror_mode": {
    "name": "ipython",
    "version": 3
   },
   "file_extension": ".py",
   "mimetype": "text/x-python",
   "name": "python",
   "nbconvert_exporter": "python",
   "pygments_lexer": "ipython3",
   "version": "3.11.5"
  }
 },
 "nbformat": 4,
 "nbformat_minor": 5
}

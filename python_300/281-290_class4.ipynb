{
 "cells": [
  {
   "cell_type": "markdown",
   "id": "9fdf1ff3",
   "metadata": {},
   "source": [
    "__281 클래스 정의__  \n",
    "다음 코드가 동작하도록 차 클래스를 정의하세요.\n",
    "```\n",
    ">> car = 차(2, 1000)\n",
    ">> car.바퀴\n",
    "2\n",
    ">> car.가격\n",
    "1000\n",
    "```"
   ]
  },
  {
   "cell_type": "code",
   "execution_count": 1,
   "id": "7735cc6a",
   "metadata": {},
   "outputs": [],
   "source": [
    "class Car:\n",
    "    def __init__(self, wheel, price):\n",
    "        self.wheel = wheel\n",
    "        self.price = price"
   ]
  },
  {
   "cell_type": "code",
   "execution_count": 2,
   "id": "a7344727",
   "metadata": {},
   "outputs": [
    {
     "name": "stdout",
     "output_type": "stream",
     "text": [
      "2\n",
      "1000\n"
     ]
    }
   ],
   "source": [
    "car = Car(2, 1000)\n",
    "print(car.wheel)\n",
    "print(car.price)"
   ]
  },
  {
   "cell_type": "markdown",
   "id": "c0b63695",
   "metadata": {},
   "source": [
    " "
   ]
  },
  {
   "cell_type": "markdown",
   "id": "9749114c",
   "metadata": {},
   "source": [
    "__282 클래스 상속__  \n",
    "차 클래스를 상속받은 자전차 클래스를 정의하세요."
   ]
  },
  {
   "cell_type": "code",
   "execution_count": 3,
   "id": "05dc6ac9",
   "metadata": {},
   "outputs": [],
   "source": [
    "class Car:\n",
    "    def __init__(self, wheel, price):\n",
    "        self.wheel = wheel\n",
    "        self.price = price\n",
    "\n",
    "class Bicycle(Car):\n",
    "    pass"
   ]
  },
  {
   "cell_type": "markdown",
   "id": "86ced8fc",
   "metadata": {},
   "source": [
    " "
   ]
  },
  {
   "cell_type": "markdown",
   "id": "1fd09833",
   "metadata": {},
   "source": [
    "__283 클래스 상속__  \n",
    "다음 코드가 동작하도록 자전차 클래스를 정의하세요. 단 자전차 클래스는 차 클래스를 상속받습니다.\n",
    "```\n",
    ">> bicycle = 자전차(4, 500)\n",
    ">> bicycle.가격\n",
    "100\n",
    "```"
   ]
  },
  {
   "cell_type": "code",
   "execution_count": 4,
   "id": "babbaede",
   "metadata": {},
   "outputs": [],
   "source": [
    "class Car:\n",
    "    def __init__(self, wheel, price):\n",
    "        self.wheel = wheel\n",
    "        self.price = price\n",
    "\n",
    "class Bicycle(Car):\n",
    "    def __init__(self, wheel, price):\n",
    "        self.wheel = wheel\n",
    "        self.price = price"
   ]
  },
  {
   "cell_type": "code",
   "execution_count": 5,
   "id": "db6dd12f",
   "metadata": {},
   "outputs": [
    {
     "name": "stdout",
     "output_type": "stream",
     "text": [
      "500\n"
     ]
    }
   ],
   "source": [
    "bicycle = Bicycle(4, 500)\n",
    "print(bicycle.price)"
   ]
  },
  {
   "cell_type": "markdown",
   "id": "93f97723",
   "metadata": {},
   "source": [
    " "
   ]
  },
  {
   "cell_type": "markdown",
   "id": "f985cfc1",
   "metadata": {},
   "source": [
    "__284 클래스 상속__  \n",
    "다음 코드가 동작하도록 자전차 클래스를 정의하세요. 단 자전차 클래스는 차 클래스를 상속받습니다.\n",
    "```\n",
    ">> bicycle = 자전차(4, 500, \"시마노\")\n",
    ">> bicycle.구동계\n",
    "시마노\n",
    "```"
   ]
  },
  {
   "cell_type": "code",
   "execution_count": 6,
   "id": "71765599",
   "metadata": {},
   "outputs": [],
   "source": [
    "class Car:\n",
    "    def __init__(self, wheel, price):\n",
    "        self.wheel = wheel\n",
    "        self.price = price\n",
    "\n",
    "class Bicycle(Car):\n",
    "    def __init__(self, wheel, price, component):\n",
    "        super().__init__(wheel, price)\n",
    "        self.component = component"
   ]
  },
  {
   "cell_type": "code",
   "execution_count": 7,
   "id": "f92d1bbd",
   "metadata": {},
   "outputs": [
    {
     "name": "stdout",
     "output_type": "stream",
     "text": [
      "4\n",
      "500\n",
      "시마노\n"
     ]
    }
   ],
   "source": [
    "bicycle = Bicycle(4, 500, \"시마노\")\n",
    "print(bicycle.wheel)\n",
    "print(bicycle.price)\n",
    "print(bicycle.component)"
   ]
  },
  {
   "cell_type": "markdown",
   "id": "7fa7a5b1",
   "metadata": {},
   "source": [
    " "
   ]
  },
  {
   "cell_type": "markdown",
   "id": "a09c0cba",
   "metadata": {},
   "source": [
    "__285 클래스 상속__  \n",
    "다음 코드가 동작하도록 차 클래스를 상속받는 자동차 클래스를 정의하세요.  \n",
    "\n",
    "```\n",
    ">> car = 자동차(4, 1000)\n",
    ">> car.정보()\n",
    "바퀴수 4\n",
    "가격 1000\n",
    "```"
   ]
  },
  {
   "cell_type": "code",
   "execution_count": 8,
   "id": "2fc6c23c",
   "metadata": {},
   "outputs": [],
   "source": [
    "class Car:\n",
    "    def __init__(self, wheel, price):\n",
    "        self.wheel = wheel\n",
    "        self.price = price\n",
    "\n",
    "class AutoMobile(Car):\n",
    "    def __init__(self, wheel, price):\n",
    "        super().__init__(wheel, price)\n",
    "    \n",
    "    def info(self):\n",
    "        print(\"바퀴수 \", self.wheel)\n",
    "        print(\"가격 \", self.price)"
   ]
  },
  {
   "cell_type": "code",
   "execution_count": 9,
   "id": "8bd8c5c6",
   "metadata": {},
   "outputs": [
    {
     "name": "stdout",
     "output_type": "stream",
     "text": [
      "바퀴수  4\n",
      "가격  1000\n"
     ]
    }
   ],
   "source": [
    "car = AutoMobile(4, 1000)\n",
    "car.info()"
   ]
  },
  {
   "cell_type": "markdown",
   "id": "c054f867",
   "metadata": {},
   "source": [
    " "
   ]
  },
  {
   "cell_type": "markdown",
   "id": "db25b98a",
   "metadata": {},
   "source": [
    "__286 부모 클래스 생성자 호출__  \n",
    "다음 코드가 동작하도록 차 클래스를 수정하세요.\n",
    "```\n",
    ">> bicycle = 자전차(2, 100, \"시마노\")\n",
    ">> bicycle.정보()\n",
    "바퀴수 2\n",
    "가격 100\n",
    "```"
   ]
  },
  {
   "cell_type": "code",
   "execution_count": 10,
   "id": "19155eee",
   "metadata": {},
   "outputs": [],
   "source": [
    "class Car:\n",
    "    def __init__(self, wheel, price):\n",
    "        self.wheel = wheel\n",
    "        self.price = price\n",
    "        \n",
    "    def info(self):\n",
    "        print(\"바퀴수\", self.wheel)\n",
    "        print(\"가격\", self.price)\n",
    "        \n",
    "class Bicycle(Car):\n",
    "    def __init__(self, wheel, price, component):\n",
    "        super().__init__(wheel, price)\n",
    "        self.component = component"
   ]
  },
  {
   "cell_type": "code",
   "execution_count": 11,
   "id": "8bf16bec",
   "metadata": {},
   "outputs": [
    {
     "name": "stdout",
     "output_type": "stream",
     "text": [
      "바퀴수 2\n",
      "가격 100\n"
     ]
    }
   ],
   "source": [
    "bicycle = Bicycle(2, 100, \"시마노\")\n",
    "bicycle.info()"
   ]
  },
  {
   "cell_type": "markdown",
   "id": "209adb4c",
   "metadata": {},
   "source": [
    " "
   ]
  },
  {
   "cell_type": "markdown",
   "id": "2368e7e7",
   "metadata": {},
   "source": [
    "__287 부모 클래스 메서드 호출__  \n",
    "자전차의 정보() 메서드로 구동계 정보까지 출력하도록 수정해보세요.\n",
    "```\n",
    ">> bicycle = 자전차(2, 100, \"시마노\")\n",
    ">> bicycle.정보()\n",
    "바퀴수 2\n",
    "가격 100\n",
    "구동계 시마노\n",
    "```"
   ]
  },
  {
   "cell_type": "code",
   "execution_count": 12,
   "id": "1dedcd49",
   "metadata": {},
   "outputs": [],
   "source": [
    "class Car:\n",
    "    def __init__(self, wheel, price):\n",
    "        self.wheel = wheel\n",
    "        self.price = price\n",
    "        \n",
    "    def info(self):\n",
    "        print(\"바퀴수\", self.wheel)\n",
    "        print(\"가격\", self.price)\n",
    "        \n",
    "class Bicycle(Car):\n",
    "    def __init__(self, wheel, price, component):\n",
    "        super().__init__(wheel, price)\n",
    "        self.component = component\n",
    "    \n",
    "    def info(self):\n",
    "        super().info()\n",
    "        print(\"구동계\", self.component)"
   ]
  },
  {
   "cell_type": "code",
   "execution_count": 13,
   "id": "5123601b",
   "metadata": {},
   "outputs": [
    {
     "name": "stdout",
     "output_type": "stream",
     "text": [
      "바퀴수 2\n",
      "가격 100\n",
      "구동계 시마노\n"
     ]
    }
   ],
   "source": [
    "bicycle = Bicycle(2, 100, \"시마노\")\n",
    "bicycle.info()"
   ]
  },
  {
   "cell_type": "markdown",
   "id": "89d5edb6",
   "metadata": {},
   "source": [
    " "
   ]
  },
  {
   "cell_type": "markdown",
   "id": "f74f96c5",
   "metadata": {},
   "source": [
    "__288 메서드 오버라이딩__  \n",
    "다음 코드의 실행 결과를 예상해보세요.\n",
    "```\n",
    "class 부모:\n",
    "  def 호출(self):\n",
    "    print(\"부모호출\")\n",
    "\n",
    "class 자식(부모):\n",
    "  def 호출(self):\n",
    "    print(\"자식호출\")\n",
    "    \n",
    "나 = 자식()\n",
    "나.호출()\n",
    "```"
   ]
  },
  {
   "cell_type": "code",
   "execution_count": 14,
   "id": "14d83f52",
   "metadata": {},
   "outputs": [
    {
     "name": "stdout",
     "output_type": "stream",
     "text": [
      "자식호출\n"
     ]
    }
   ],
   "source": [
    "class 부모:\n",
    "    def 호출(self):\n",
    "        print(\"부모호출\")\n",
    "\n",
    "class 자식(부모):\n",
    "    def 호출(self):\n",
    "        print(\"자식호출\")\n",
    "\n",
    "\n",
    "나 = 자식()   # 클래스 인스턴스 생성\n",
    "나.호출()     # 인스턴스 클래스에 정의된 메서드를 우선적으로 사용하므로, '자식호출' 출력"
   ]
  },
  {
   "cell_type": "markdown",
   "id": "7bfeefea",
   "metadata": {},
   "source": [
    "객체 지향 프로그래밍에서의 다형성(polymorphism)의 한 예로, 자식 클래스가 부모 클래스로부터 상속받은 메서드를 자신의 목적에 맞게 재정의할 수 있음을 보여줌"
   ]
  },
  {
   "cell_type": "markdown",
   "id": "b53d8555",
   "metadata": {},
   "source": [
    " "
   ]
  },
  {
   "cell_type": "markdown",
   "id": "c3cf3970",
   "metadata": {},
   "source": [
    "__289 생성자__  \n",
    "다음 코드의 실행 결과를 예상해보세요.\n",
    "```\n",
    "class 부모:\n",
    "  def __init__(self):\n",
    "    print(\"부모생성\")\n",
    "\n",
    "class 자식(부모):\n",
    "  def __init__(self):\n",
    "    print(\"자식생성\")\n",
    "    \n",
    "나 = 자식()\n",
    "```"
   ]
  },
  {
   "cell_type": "code",
   "execution_count": 15,
   "id": "64c7c732",
   "metadata": {},
   "outputs": [
    {
     "name": "stdout",
     "output_type": "stream",
     "text": [
      "자식생성\n"
     ]
    }
   ],
   "source": [
    "class 부모:\n",
    "    def __init__(self):\n",
    "        print(\"부모생성\")\n",
    "\n",
    "class 자식(부모):\n",
    "    def __init__(self):      # 부모 클래스를 상속받았으나 자신의 생성자에서 부모 클래스의 생성자를 명시적으로 호출하지 않음.\n",
    "        print(\"자식생성\")\n",
    "\n",
    "나 = 자식()   # 인스턴스 생성 시 자식 클래스의 생성자만 실행됨"
   ]
  },
  {
   "cell_type": "code",
   "execution_count": 16,
   "id": "c2c8bb34",
   "metadata": {},
   "outputs": [
    {
     "name": "stdout",
     "output_type": "stream",
     "text": [
      "부모생성\n",
      "자식생성\n"
     ]
    }
   ],
   "source": [
    "# 아래와 같이 수정하면 부모 클래스의 생성자를 명시적으로 출력하므로 결과가 다르게 출력된다.\n",
    "\n",
    "class 부모:\n",
    "    def __init__(self):\n",
    "        print(\"부모생성\")\n",
    "\n",
    "class 자식(부모):\n",
    "    def __init__(self):\n",
    "        super().__init__()  # 부모 클래스의 생성자 호출\n",
    "        print(\"자식생성\")\n",
    "        \n",
    "나 = 자식()"
   ]
  },
  {
   "cell_type": "markdown",
   "id": "332db0a0",
   "metadata": {},
   "source": [
    " "
   ]
  },
  {
   "cell_type": "markdown",
   "id": "a6bc56aa",
   "metadata": {},
   "source": [
    "__290 부모클래스 생성자 호출__  \n",
    "다음 코드의 실행 결과를 예상해보세요.\n",
    "```\n",
    "class 부모:\n",
    "  def __init__(self):\n",
    "    print(\"부모생성\")\n",
    "\n",
    "class 자식(부모):\n",
    "  def __init__(self):\n",
    "    print(\"자식생성\")\n",
    "    super().__init__()\n",
    "\n",
    "나 = 자식()\n",
    "```"
   ]
  },
  {
   "cell_type": "code",
   "execution_count": 17,
   "id": "2ce6bbb0",
   "metadata": {},
   "outputs": [
    {
     "name": "stdout",
     "output_type": "stream",
     "text": [
      "자식생성\n",
      "부모생성\n"
     ]
    }
   ],
   "source": [
    "class 부모:\n",
    "  def __init__(self):\n",
    "    print(\"부모생성\")\n",
    "\n",
    "class 자식(부모):\n",
    "  def __init__(self):\n",
    "    print(\"자식생성\")\n",
    "    super().__init__()\n",
    "\n",
    "나 = 자식()"
   ]
  }
 ],
 "metadata": {
  "kernelspec": {
   "display_name": "Python 3 (ipykernel)",
   "language": "python",
   "name": "python3"
  },
  "language_info": {
   "codemirror_mode": {
    "name": "ipython",
    "version": 3
   },
   "file_extension": ".py",
   "mimetype": "text/x-python",
   "name": "python",
   "nbconvert_exporter": "python",
   "pygments_lexer": "ipython3",
   "version": "3.11.5"
  }
 },
 "nbformat": 4,
 "nbformat_minor": 5
}

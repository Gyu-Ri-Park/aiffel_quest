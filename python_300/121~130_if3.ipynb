{
 "cells": [
  {
   "cell_type": "markdown",
   "id": "38a72738",
   "metadata": {},
   "source": [
    "__121__  \n",
    "사용자로부터 문자 한 개를 입력 받고, 소문자일 경우 대문자로, 대문자 일 경우, 소문자로 변경해서 출력하라.  \n",
    "\n",
    "_힌트-1 : islower() 함수는 문자의 소문자 여부를 판별합니다. 만약 소문자일 경우 True, 대문자일 경우 False를 반환합니다.  \n",
    "힌트-2 : upper() 함수는 대문자로, lower() 함수는 소문자로 변경합니다._\n"
   ]
  },
  {
   "cell_type": "code",
   "execution_count": 1,
   "id": "8bdc4d02",
   "metadata": {},
   "outputs": [
    {
     "name": "stdout",
     "output_type": "stream",
     "text": [
      "알파벳: G\n",
      "g\n"
     ]
    }
   ],
   "source": [
    "user = input('알파벳: ')\n",
    "if user.islower() == True:\n",
    "    print(user.upper())\n",
    "else:\n",
    "    print(user.lower())"
   ]
  },
  {
   "cell_type": "markdown",
   "id": "a9b47816",
   "metadata": {},
   "source": [
    " "
   ]
  },
  {
   "cell_type": "markdown",
   "id": "76a66b90",
   "metadata": {},
   "source": [
    "__122__  \n",
    "점수 구간에 해당하는 학점이 아래와 같이 정의되어 있다. 사용자로부터 score를 입력받아 학점을 출력하라.\n",
    "\n",
    "|점수|학점|\n",
    "|:-|:-|\n",
    "|81~100|A|\n",
    "|61~80|B|\n",
    "|41~60|C|\n",
    "|21~40|D|\n",
    "|0~20|E|\n",
    "\n",
    "```\n",
    ">> score: 83\n",
    "grade is A\n",
    "```"
   ]
  },
  {
   "cell_type": "code",
   "execution_count": 2,
   "id": "41d74029",
   "metadata": {},
   "outputs": [
    {
     "name": "stdout",
     "output_type": "stream",
     "text": [
      "score: 65\n",
      "grade is B\n"
     ]
    }
   ],
   "source": [
    "score = input('score: ')\n",
    "note = 'grade is'\n",
    "\n",
    "if int(score) > 80:\n",
    "    print(note, 'A')\n",
    "elif int(score) > 60:\n",
    "    print(note, 'B')\n",
    "elif int(score) > 40:\n",
    "    print(note, 'C')\n",
    "elif int(score) > 20:\n",
    "    print(note, 'D')\n",
    "else:\n",
    "    print(note, 'E')"
   ]
  },
  {
   "cell_type": "markdown",
   "id": "83bceae4",
   "metadata": {},
   "source": [
    " "
   ]
  },
  {
   "cell_type": "markdown",
   "id": "cbd7e82b",
   "metadata": {},
   "source": [
    "__123__  \n",
    "사용자로부터 달러, 엔, 유로, 또는 위안 금액을 입력받은 후 이를 원으로 변환하는 프로그램을 작성하라.  \n",
    "각 통화별 환율은 다음과 같다.\n",
    "|통화명|환율|\n",
    "|:-|:-|\n",
    "|달러|1167|\n",
    "|엔|1.096|\n",
    "|유로|1268|\n",
    "|위안|171|  \n",
    "\n",
    "사용자는 100 달러, 1000 엔, 13 유로, 100 위안과 같이 금액과 통화명 사이에 공백을 넣어 입력한다고 가정한다.\n",
    "\n",
    "\n",
    "```\n",
    ">> 입력: 100 달러\n",
    "116700.00 원\n",
    "```"
   ]
  },
  {
   "cell_type": "code",
   "execution_count": 3,
   "id": "6bac8aee",
   "metadata": {},
   "outputs": [
    {
     "name": "stdout",
     "output_type": "stream",
     "text": [
      "입력: 1000 엔\n",
      "1096.0 원\n"
     ]
    }
   ],
   "source": [
    "currency = {'달러': 1167, '엔': 1.096, '유로': 1268, '위안': 171}\n",
    "user = input('입력: ')\n",
    "num, unit = user.split()\n",
    "print(float(num) * currency[unit], \"원\")"
   ]
  },
  {
   "cell_type": "markdown",
   "id": "7cea604d",
   "metadata": {},
   "source": [
    " "
   ]
  },
  {
   "cell_type": "markdown",
   "id": "e3d6f8bd",
   "metadata": {},
   "source": [
    "__124__  \n",
    "사용자로부터 세 개의 숫자를 입력 받은 후 가장 큰 숫자를 출력하라.\n",
    "```\n",
    ">> input number1: 10\n",
    ">> input number2: 9\n",
    ">> input number3: 20\n",
    "20\n",
    "```"
   ]
  },
  {
   "cell_type": "code",
   "execution_count": 4,
   "id": "a20849b2",
   "metadata": {},
   "outputs": [
    {
     "name": "stdout",
     "output_type": "stream",
     "text": [
      "input number1: 20\n",
      "input number1: 10\n",
      "input number1: 9\n",
      "20\n"
     ]
    }
   ],
   "source": [
    "num1 = int(input('input number1: '))\n",
    "num2 = int(input('input number1: '))\n",
    "num3 = int(input('input number1: '))\n",
    "\n",
    "if num1 > num2 and num1 > num3:\n",
    "    print(num1)\n",
    "elif num2 > num1 and num2 > num3:\n",
    "    print(num2)\n",
    "else:\n",
    "    print(num3)"
   ]
  },
  {
   "cell_type": "markdown",
   "id": "1459ff17",
   "metadata": {},
   "source": [
    "__125__  \n",
    "휴대폰 번호 앞자리에 따라 통신사는 아래와 같이 구분된다. 사용자로부터 휴대전화 번호를 입력 받고, 통신사를 출력하는 프로그램을 작성하라.\n",
    "\n",
    "|번호|통신사|\n",
    "|:-|:-|\n",
    "|011|SKT|\n",
    "|016|KT|\n",
    "|019|LGU|\n",
    "|010|알수없음|\n",
    "\n",
    "```\n",
    ">> 휴대전화 번호 입력: 011-345-1922\n",
    "당신은 SKT 사용자입니다.\n",
    "```"
   ]
  },
  {
   "cell_type": "code",
   "execution_count": 5,
   "id": "65639924",
   "metadata": {
    "scrolled": true
   },
   "outputs": [
    {
     "name": "stdout",
     "output_type": "stream",
     "text": [
      "휴대전화 번호 입력: 010-1234-5678\n",
      "알수없음\n"
     ]
    }
   ],
   "source": [
    "telecom = {'011': 'SKT', '016': 'KT', '019': 'LGU', '010': '알수없음'}\n",
    "\n",
    "phone = input('휴대전화 번호 입력: ')\n",
    "call = '당신은'\n",
    "user = '사용자입니다.'\n",
    "\n",
    "first, mid, last = phone.split('-')\n",
    "\n",
    "if first == '011':\n",
    "    print(call, 'SKT', user)\n",
    "elif first == '016':\n",
    "    print(call, 'KT', user)\n",
    "elif first == '019':\n",
    "    print(call, 'LGU', user)\n",
    "else:\n",
    "    print('알수없음')"
   ]
  },
  {
   "cell_type": "markdown",
   "id": "53e8e1d4",
   "metadata": {},
   "source": [
    "혹은"
   ]
  },
  {
   "cell_type": "code",
   "execution_count": 6,
   "id": "4ffbf973",
   "metadata": {},
   "outputs": [
    {
     "name": "stdout",
     "output_type": "stream",
     "text": [
      "휴대전화 번호 입력: 010-1234-5678\n",
      "당신은 알수없음 사용자입니다.\n"
     ]
    }
   ],
   "source": [
    "number = input(\"휴대전화 번호 입력: \")\n",
    "num = number.split(\"-\")[0]\n",
    "if num == \"011\":\n",
    "    com = \"SKT\"\n",
    "elif num == \"016\":\n",
    "    com = \"KT\"\n",
    "elif num == \"019\":\n",
    "    com = \"LGU\"\n",
    "else:\n",
    "    com = \"알수없음\"\n",
    "print(f\"당신은 {com} 사용자입니다.\")"
   ]
  },
  {
   "cell_type": "markdown",
   "id": "902fdab2",
   "metadata": {},
   "source": [
    " "
   ]
  },
  {
   "cell_type": "markdown",
   "id": "deaccd31",
   "metadata": {},
   "source": [
    "__126__  \n",
    "우편번호는 5자리로 구성되는데, 앞의 세자리는 구를 나타낸다. 예를들어, 강북구의 경우 010, 011, 012 세 자리로 시작한다.\n",
    "\n",
    "|-\t        |0\t   |1\t   |2\t|3\t   |4\t   |5\t|6\t    |7\t   |8\t  |9|\n",
    "|:-|:-|:-|:-|:-|:-|:-|:-|:-|:-|:-|\n",
    "|01\t|강북구\t|강북구\t|강북구\t|도봉구\t|도봉구\t|도봉구\t|노원구\t|노원구\t|노원구\t|노원구|\n",
    "\n",
    "사용자로 부터 5자리 우편번호를 입력받고 구를 판별하라.\n",
    "```\n",
    ">> 우편번호: 01400\n",
    "도봉구\n",
    "```"
   ]
  },
  {
   "cell_type": "code",
   "execution_count": 7,
   "id": "8988f69a",
   "metadata": {},
   "outputs": [
    {
     "name": "stdout",
     "output_type": "stream",
     "text": [
      "우편번호: 01456\n",
      "도봉구\n"
     ]
    }
   ],
   "source": [
    "post_code = input(\"우편번호: \")\n",
    "post_code = post_code[:3]\n",
    "if post_code in [\"010\", \"011\", \"012\"]:\n",
    "    print(\"강북구\")\n",
    "elif post_code in [\"013\", \"014\", \"015\"]:\n",
    "    print(\"도봉구\")\n",
    "else:\n",
    "    print(\"노원구\")"
   ]
  },
  {
   "cell_type": "markdown",
   "id": "49b0651b",
   "metadata": {},
   "source": [
    "__127__  \n",
    "주민등록번호 뒷 자리 7자리 중 첫째 자리는 성별을 나타내는데, 1, 3은 남자 2, 4는 여자를 의미한다. 사용자로부터 13자리의 주민등록번호를 입력 받은 후 성별 (남자, 여자)를 출력하는 프로그램을 작성하라.\n",
    "```\n",
    ">> 주민등록번호: 821010-1635210\n",
    "남자\n",
    "```"
   ]
  },
  {
   "cell_type": "code",
   "execution_count": 8,
   "id": "c59d128c",
   "metadata": {},
   "outputs": [
    {
     "name": "stdout",
     "output_type": "stream",
     "text": [
      "주민등록번호: 821010-1635210\n",
      "1\n",
      "남자\n"
     ]
    }
   ],
   "source": [
    "id_code = input('주민등록번호: ')\n",
    "sex = id_code[7]\n",
    "print(sex)\n",
    "\n",
    "if sex == '1' or sex == '3':\n",
    "    print('남자')\n",
    "else:\n",
    "    print('여자')"
   ]
  },
  {
   "cell_type": "markdown",
   "id": "f713d19e",
   "metadata": {},
   "source": [
    "혹은"
   ]
  },
  {
   "cell_type": "code",
   "execution_count": 9,
   "id": "29c4267e",
   "metadata": {},
   "outputs": [
    {
     "name": "stdout",
     "output_type": "stream",
     "text": [
      "주민등록번호: 821010-1635210\n",
      "남자\n"
     ]
    }
   ],
   "source": [
    "주민번호 = input(\"주민등록번호: \")\n",
    "주민번호 = 주민번호.split(\"-\")[1]\n",
    "if 주민번호[0] == \"1\" or 주민번호[0] == \"3\":\n",
    "    print(\"남자\")\n",
    "else:\n",
    "    print(\"여자\")"
   ]
  },
  {
   "cell_type": "markdown",
   "id": "9e081c79",
   "metadata": {},
   "source": [
    " "
   ]
  },
  {
   "cell_type": "markdown",
   "id": "88591abb",
   "metadata": {},
   "source": [
    "__128__  \n",
    "주민등록번호의 뒷 자리 7자리 중 두번째와 세번째는 지역코드를 의미한다. 주민 등록 번호를 입력 받은 후 출생지가 서울인지 아닌지 판단하는 코드를 작성하라\n",
    "\n",
    "|지역코드\t|출생지|\n",
    "|:-|:-|\n",
    "|00 ~ 08\t|서울|\n",
    "|09 ~ 12\t|부산|\n",
    "```\n",
    ">> 주민등록번호: 821010-1635210\n",
    "서울이 아닙니다.\n",
    ">> 주민등록번호: 861010-1015210\n",
    "서울 입니다.\n",
    "```"
   ]
  },
  {
   "cell_type": "code",
   "execution_count": 10,
   "id": "3197c252",
   "metadata": {},
   "outputs": [
    {
     "name": "stdout",
     "output_type": "stream",
     "text": [
      "주민등록번호: 821010-1635210\n",
      "서울이 아닙니다.\n"
     ]
    }
   ],
   "source": [
    "id_code = input('주민등록번호: ')\n",
    "location = id_code[8:10]\n",
    "\n",
    "if 0 <= int(location) < 9:\n",
    "    print('서울 입니다.')\n",
    "else:\n",
    "    print('서울이 아닙니다.')"
   ]
  },
  {
   "cell_type": "markdown",
   "id": "6aab541d",
   "metadata": {},
   "source": [
    "혹은"
   ]
  },
  {
   "cell_type": "code",
   "execution_count": 11,
   "id": "cfa5cd27",
   "metadata": {},
   "outputs": [
    {
     "name": "stdout",
     "output_type": "stream",
     "text": [
      "주민등록번호: 821010-1635210\n",
      "서울이 아닙니다.\n"
     ]
    }
   ],
   "source": [
    "주민번호 = input(\"주민등록번호: \")\n",
    "뒷자리 = 주민번호.split(\"-\")[1]\n",
    "if 0 <= int(뒷자리[1:3]) <= 8:\n",
    "    print(\"서울입니다.\")\n",
    "else:\n",
    "    print(\"서울이 아닙니다.\")"
   ]
  },
  {
   "cell_type": "markdown",
   "id": "a4a43790",
   "metadata": {},
   "source": [
    " "
   ]
  },
  {
   "cell_type": "markdown",
   "id": "818bb591",
   "metadata": {},
   "source": [
    "__129__   \n",
    "주민등록번호는 13자리로 구성되는데 마지막 자리수는 주민등록번호의 유효성을 체크하는데 사용된다. 먼저 앞에서부터 12자리의 숫자에 2, 3, 4, 5, 6, 7, 8, 9, 2, 3, 4, 5를 차례로 곱한 뒤 그 값을 전부 더한다. 연산 결과 값을 11로 나누면 나머지가 나오는데 11에서 나머지를 뺀 값이 주민등록번호의 마지막 번호가 된다.\n",
    "```\n",
    "  8 2 1 0 1 0 - 1 6 3 5 2 1 0\n",
    "x 2 3 4 5 6 7   8 9 2 3 4 5 \n",
    "-----------------------------\n",
    "1차 계산: (8*2 + 2*3 + 1*4 + 0*5 + 1*6 + 0*7 + 1*8 + 6*9 + 3*2 + 5*3 + 2*4 + 1*5) = (128 % 11) = 7\n",
    "2차 계산: 11 -7 = 4\n",
    "```\n",
    "위와 같이 821010-1635210에 대해서 계산을 해보면 마지막 자리는 4가 되어야 함을 알 수 있다. 즉, 821010-1635210은 유효하지 않은 주민등록번호임을 알 수 있다.\n",
    "\n",
    "다음과 같이 사용자로부터 주민등록번호를 입력받은 후 주민등록번호가 유효한지를 출력하는 프로그램을 작성하라.\n",
    "\n",
    "```\n",
    ">> 주민등록번호: 821010-1635210\n",
    "유효하지 않은 주민등록번호입니다. \n",
    "```"
   ]
  },
  {
   "cell_type": "code",
   "execution_count": 12,
   "id": "34193f82",
   "metadata": {},
   "outputs": [
    {
     "name": "stdout",
     "output_type": "stream",
     "text": [
      "주민등록번호: 821010-1635210\n",
      "유효하지 않은 등록번호입니다.\n"
     ]
    }
   ],
   "source": [
    "num = input('주민등록번호: ')\n",
    "\n",
    "calc1 = int(num[0]) * 2 + int(num[1]) * 3 + int(num[2]) * 4 + int(num[3]) * 5 + int(num[4]) * 6 + \\\n",
    "        int(num[5]) * 7 + int(num[7]) * 8 + int(num[8]) * 9 + int(num[9]) * 2 + int(num[10])* 3 + \\\n",
    "        int(num[11])* 4 + int(num[12]) * 5\n",
    "calc2 = 11 - (calc1 % 11)\n",
    "calc3 = str(calc2)\n",
    "\n",
    "if calc3 == num[-1]:\n",
    "    print('유효한 등록번호입니다.')\n",
    "else:\n",
    "    print('유효하지 않은 등록번호입니다.')"
   ]
  },
  {
   "cell_type": "markdown",
   "id": "e236a05c",
   "metadata": {},
   "source": [
    "__130__  \n",
    "아래 코드는 비트코인의 가격 정보를 딕셔너리로 가져오는 코드이다.\n",
    "```\n",
    "import requests\n",
    "btc = requests.get(\"https://api.bithumb.com/public/ticker/\").json()['data']\n",
    "```\n",
    "btc 딕셔너리 안에는 시가, 종가, 최고가, 최저가 등이 저장되어 있다. 최고가와 최저가의 차이를 변동폭으로 정의할 때 (시가 + 변동폭)이 최고가 보다 높을 경우 \"상승장\", 그렇지 않은 경우 \"하락장\" 문자열을 출력하라.\n",
    "\n",
    "|Key Name|\tDescription|\n",
    "|:-|:-|\n",
    "|opening_price|\t최근 24시간 내 시작 거래금액|\n",
    "|closing_price|\t최근 24시간 내 마지막 거래금액|\n",
    "|min_price|\t최근 24시간 내 최저 거래금액|\n",
    "|max_price|\t최근 24시간 내 최고 거래금액|"
   ]
  },
  {
   "cell_type": "code",
   "execution_count": 13,
   "id": "66afbf9f",
   "metadata": {},
   "outputs": [
    {
     "name": "stdout",
     "output_type": "stream",
     "text": [
      "상승장\n"
     ]
    }
   ],
   "source": [
    "import requests\n",
    "btc = requests.get(\"https://api.bithumb.com/public/ticker/\").json()['data']\n",
    "\n",
    "변동폭 = int(btc['max_price']) - int(btc['min_price'])\n",
    "\n",
    "if int(btc['opening_price']) + 변동폭 > int(btc['max_price']):\n",
    "    print(\"상승장\")\n",
    "else:\n",
    "    print(\"하락장\")"
   ]
  }
 ],
 "metadata": {
  "kernelspec": {
   "display_name": "Python 3 (ipykernel)",
   "language": "python",
   "name": "python3"
  },
  "language_info": {
   "codemirror_mode": {
    "name": "ipython",
    "version": 3
   },
   "file_extension": ".py",
   "mimetype": "text/x-python",
   "name": "python",
   "nbconvert_exporter": "python",
   "pygments_lexer": "ipython3",
   "version": "3.11.5"
  }
 },
 "nbformat": 4,
 "nbformat_minor": 5
}

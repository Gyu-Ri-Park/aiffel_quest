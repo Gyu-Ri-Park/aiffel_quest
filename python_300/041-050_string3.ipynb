{
 "cells": [
  {
   "cell_type": "markdown",
   "id": "f0c4aff8",
   "metadata": {},
   "source": [
    "__041 upper 메서드__  \n",
    "다음과 같은 문자열이 있을 때 이를 대문자 BTC_KRW로 변경하세요.  \n",
    "\n",
    "```ticker = \"btc_krw\"```"
   ]
  },
  {
   "cell_type": "code",
   "execution_count": 1,
   "id": "54693168",
   "metadata": {},
   "outputs": [
    {
     "name": "stdout",
     "output_type": "stream",
     "text": [
      "BTC_KRW\n"
     ]
    }
   ],
   "source": [
    "ticker = \"btc_krw\"\n",
    "print(ticker.upper())"
   ]
  },
  {
   "cell_type": "markdown",
   "id": "5a122986",
   "metadata": {},
   "source": [
    " "
   ]
  },
  {
   "cell_type": "markdown",
   "id": "b9c160af",
   "metadata": {},
   "source": [
    "__042 lower 메서드__  \n",
    "다음과 같은 문자열이 있을 때 이를 소문자 btc_krw로 변경하세요.  \n",
    "\n",
    "```ticker = \"BTC_KRW\"```"
   ]
  },
  {
   "cell_type": "code",
   "execution_count": 2,
   "id": "859d42be",
   "metadata": {
    "scrolled": true
   },
   "outputs": [
    {
     "name": "stdout",
     "output_type": "stream",
     "text": [
      "btc_krw\n"
     ]
    }
   ],
   "source": [
    "ticker = \"BTC_KRW\"\n",
    "print(ticker.lower())"
   ]
  },
  {
   "cell_type": "markdown",
   "id": "762b230e",
   "metadata": {},
   "source": [
    " "
   ]
  },
  {
   "cell_type": "markdown",
   "id": "5d38508f",
   "metadata": {},
   "source": [
    "__043 capitalize 메서드__  \n",
    "문자열 'hello'가 있을 때 이를 'Hello'로 변경해보세요."
   ]
  },
  {
   "cell_type": "code",
   "execution_count": 3,
   "id": "9cbff6fb",
   "metadata": {},
   "outputs": [
    {
     "name": "stdout",
     "output_type": "stream",
     "text": [
      "Hello\n"
     ]
    }
   ],
   "source": [
    "ticker = 'hello'\n",
    "print(ticker.capitalize())"
   ]
  },
  {
   "cell_type": "markdown",
   "id": "664848d5",
   "metadata": {},
   "source": [
    " "
   ]
  },
  {
   "cell_type": "markdown",
   "id": "aac7cdf5",
   "metadata": {},
   "source": [
    "__044 endswith 메서드__  \n",
    "파일 이름이 문자열로 저장되어 있을 때 endswith 메서드를 사용해서 파일 이름이 'xlsx'로 끝나는지 확인해보세요.  \n",
    "\n",
    "```file_name = \"보고서.xlsx\"```"
   ]
  },
  {
   "cell_type": "code",
   "execution_count": 4,
   "id": "f0b2347c",
   "metadata": {},
   "outputs": [
    {
     "data": {
      "text/plain": [
       "True"
      ]
     },
     "execution_count": 4,
     "metadata": {},
     "output_type": "execute_result"
    }
   ],
   "source": [
    "file_name = \"보고서.xlsx\"\n",
    "file_name.endswith(\"xlsx\")"
   ]
  },
  {
   "cell_type": "markdown",
   "id": "b39770e4",
   "metadata": {},
   "source": [
    " "
   ]
  },
  {
   "cell_type": "markdown",
   "id": "6171979a",
   "metadata": {},
   "source": [
    "__045 endswith 메서드__  \n",
    "파일 이름이 문자열로 저장되어 있을 때 endswith 메서드를 사용해서 파일 이름이 'xlsx' 또는 'xls'로 끝나는지 확인해보세요.  \n",
    "\n",
    "```file_name = \"보고서.xlsx\"```"
   ]
  },
  {
   "cell_type": "code",
   "execution_count": 5,
   "id": "f36506c8",
   "metadata": {},
   "outputs": [
    {
     "data": {
      "text/plain": [
       "True"
      ]
     },
     "execution_count": 5,
     "metadata": {},
     "output_type": "execute_result"
    }
   ],
   "source": [
    "file_name = \"보고서.xlsx\"\n",
    "file_name.endswith((\"xlsx\", \"xls\"))"
   ]
  },
  {
   "cell_type": "markdown",
   "id": "3ed6b247",
   "metadata": {},
   "source": [
    " "
   ]
  },
  {
   "cell_type": "markdown",
   "id": "e9362e08",
   "metadata": {},
   "source": [
    "__046 startswith 메서드__  \n",
    "파일 이름이 문자열로 저장되어 있을 때 startswith 메서드를 사용해서 파일 이름이 '2020'로 시작하는지 확인해보세요.  \n",
    "\n",
    "```file_name = \"2020_보고서.xlsx\"```"
   ]
  },
  {
   "cell_type": "code",
   "execution_count": 6,
   "id": "90a6652a",
   "metadata": {},
   "outputs": [
    {
     "data": {
      "text/plain": [
       "True"
      ]
     },
     "execution_count": 6,
     "metadata": {},
     "output_type": "execute_result"
    }
   ],
   "source": [
    "file_name = \"2020_보고서.xlsx\"\n",
    "file_name.startswith(\"2020\")"
   ]
  },
  {
   "cell_type": "markdown",
   "id": "aa1d34f9",
   "metadata": {},
   "source": [
    " "
   ]
  },
  {
   "cell_type": "markdown",
   "id": "690d1b3d",
   "metadata": {},
   "source": [
    " "
   ]
  },
  {
   "cell_type": "markdown",
   "id": "ee7ba486",
   "metadata": {},
   "source": [
    "__047 split 메서드__  \n",
    "다음과 같은 문자열이 있을 때 공백을 기준으로 문자열을 나눠보세요.\n",
    "\n",
    "```a = \"hello world\"```"
   ]
  },
  {
   "cell_type": "code",
   "execution_count": 7,
   "id": "d06faab4",
   "metadata": {},
   "outputs": [
    {
     "data": {
      "text/plain": [
       "['hello', 'world']"
      ]
     },
     "execution_count": 7,
     "metadata": {},
     "output_type": "execute_result"
    }
   ],
   "source": [
    "a = \"hello world\"\n",
    "a.split()"
   ]
  },
  {
   "cell_type": "markdown",
   "id": "375ed354",
   "metadata": {},
   "source": [
    " "
   ]
  },
  {
   "cell_type": "markdown",
   "id": "aed42c4e",
   "metadata": {},
   "source": [
    "__048 split 메서드__  \n",
    "다음과 같이 문자열이 있을 때 btc와 krw로 나눠보세요.  \n",
    "\n",
    "```ticker = \"btc_krw\"```"
   ]
  },
  {
   "cell_type": "code",
   "execution_count": 8,
   "id": "3d3e9c36",
   "metadata": {},
   "outputs": [
    {
     "data": {
      "text/plain": [
       "['btc_krw']"
      ]
     },
     "execution_count": 8,
     "metadata": {},
     "output_type": "execute_result"
    }
   ],
   "source": [
    "ticker = \"btc_krw\"\n",
    "ticker.split(\"-\")"
   ]
  },
  {
   "cell_type": "markdown",
   "id": "67021d87",
   "metadata": {},
   "source": [
    " "
   ]
  },
  {
   "cell_type": "markdown",
   "id": "d559e234",
   "metadata": {},
   "source": [
    "__049 split 메서드__  \n",
    "다음과 같이 날짜를 표현하는 문자열이 있을 때 연도, 월, 일로 나눠보세요.  \n",
    "\n",
    "```date = \"2020-05-01\"```"
   ]
  },
  {
   "cell_type": "code",
   "execution_count": 9,
   "id": "d1ad2321",
   "metadata": {},
   "outputs": [
    {
     "data": {
      "text/plain": [
       "['2020', '05', '01']"
      ]
     },
     "execution_count": 9,
     "metadata": {},
     "output_type": "execute_result"
    }
   ],
   "source": [
    "date = \"2020-05-01\"\n",
    "date.split(\"-\")"
   ]
  },
  {
   "cell_type": "markdown",
   "id": "1c592f93",
   "metadata": {},
   "source": [
    " "
   ]
  },
  {
   "cell_type": "markdown",
   "id": "a891f62f",
   "metadata": {},
   "source": [
    "__050 rstrip 메서드__  \n",
    "문자열의 오른쪽에 공백이 있을 때 이를 제거해보세요.  \n",
    "\n",
    "```data = \"039490     \"```"
   ]
  },
  {
   "cell_type": "code",
   "execution_count": 10,
   "id": "0262559f",
   "metadata": {},
   "outputs": [
    {
     "data": {
      "text/plain": [
       "'039490'"
      ]
     },
     "execution_count": 10,
     "metadata": {},
     "output_type": "execute_result"
    }
   ],
   "source": [
    "data = \"039490     \"\n",
    "data.rstrip()"
   ]
  }
 ],
 "metadata": {
  "kernelspec": {
   "display_name": "Python 3 (ipykernel)",
   "language": "python",
   "name": "python3"
  },
  "language_info": {
   "codemirror_mode": {
    "name": "ipython",
    "version": 3
   },
   "file_extension": ".py",
   "mimetype": "text/x-python",
   "name": "python",
   "nbconvert_exporter": "python",
   "pygments_lexer": "ipython3",
   "version": "3.11.5"
  }
 },
 "nbformat": 4,
 "nbformat_minor": 5
}

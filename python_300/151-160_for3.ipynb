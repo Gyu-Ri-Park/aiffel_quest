{
 "cells": [
  {
   "cell_type": "markdown",
   "id": "5dc49b92",
   "metadata": {},
   "source": [
    "__151__  \n",
    "리스트에는 네 개의 정수가 저장돼 있다.\n",
    "\n",
    "```리스트 = [3, -20, -3, 44]```  \n",
    "for문을 사용해서 리스트의 음수를 출력하라.\n",
    "```\n",
    "-20\n",
    "-3\n",
    "```"
   ]
  },
  {
   "cell_type": "code",
   "execution_count": 1,
   "id": "1d264d30",
   "metadata": {},
   "outputs": [
    {
     "name": "stdout",
     "output_type": "stream",
     "text": [
      "-20\n",
      "-3\n"
     ]
    }
   ],
   "source": [
    "리스트 = [3, -20, -3, 44]\n",
    "\n",
    "for num in 리스트:\n",
    "    if num < 0:\n",
    "        print(num)"
   ]
  },
  {
   "cell_type": "markdown",
   "id": "b3af87c0",
   "metadata": {},
   "source": [
    " "
   ]
  },
  {
   "cell_type": "markdown",
   "id": "2317f98f",
   "metadata": {},
   "source": [
    "__152__  \n",
    "for문을 사용해서 3의 배수만을 출력하라.\n",
    "\n",
    "```\n",
    "리스트 = [3, 100, 23, 44]\n",
    "\n",
    "3\n",
    "```"
   ]
  },
  {
   "cell_type": "code",
   "execution_count": 2,
   "id": "05c4d736",
   "metadata": {},
   "outputs": [
    {
     "name": "stdout",
     "output_type": "stream",
     "text": [
      "3\n"
     ]
    }
   ],
   "source": [
    "리스트 = [3, 100, 23, 44]\n",
    "\n",
    "for num in 리스트:\n",
    "    if num % 3 == 0:\n",
    "        print(num)"
   ]
  },
  {
   "cell_type": "markdown",
   "id": "854ccff5",
   "metadata": {},
   "source": [
    " "
   ]
  },
  {
   "cell_type": "markdown",
   "id": "23994380",
   "metadata": {},
   "source": [
    "__153__  \n",
    "리스트에서 20 보다 작은 3의 배수를 출력하라\n",
    "\n",
    "```리스트 = [13, 21, 12, 14, 30, 18]```\n",
    "```\n",
    "12\n",
    "18\n",
    "```"
   ]
  },
  {
   "cell_type": "code",
   "execution_count": 3,
   "id": "81d199e5",
   "metadata": {},
   "outputs": [
    {
     "name": "stdout",
     "output_type": "stream",
     "text": [
      "12\n",
      "18\n"
     ]
    }
   ],
   "source": [
    "리스트 = [13, 21, 12, 14, 30, 18]\n",
    "\n",
    "for num in 리스트:\n",
    "    if num % 3 == 0 and num < 20:\n",
    "        print(num)"
   ]
  },
  {
   "cell_type": "markdown",
   "id": "b9ac75d3",
   "metadata": {},
   "source": [
    " "
   ]
  },
  {
   "cell_type": "markdown",
   "id": "631e0835",
   "metadata": {},
   "source": [
    "__154__  \n",
    "리스트에서 세 글자 이상의 문자를 화면에 출력하라\n",
    "\n",
    "```리스트 = [\"I\", \"study\", \"python\", \"language\", \"!\"]```\n",
    "```\n",
    "study\n",
    "python\n",
    "language\n",
    "```"
   ]
  },
  {
   "cell_type": "code",
   "execution_count": 4,
   "id": "46d7c437",
   "metadata": {},
   "outputs": [
    {
     "name": "stdout",
     "output_type": "stream",
     "text": [
      "study\n",
      "python\n",
      "language\n"
     ]
    }
   ],
   "source": [
    "리스트 = [\"I\", \"study\", \"python\", \"language\", \"!\"]\n",
    "\n",
    "\n",
    "for 문자 in 리스트:\n",
    "    if len(문자) >= 3:\n",
    "        print(문자)"
   ]
  },
  {
   "cell_type": "markdown",
   "id": "963312a7",
   "metadata": {},
   "source": [
    " "
   ]
  },
  {
   "cell_type": "markdown",
   "id": "a6f0462d",
   "metadata": {},
   "source": [
    "__155__  \n",
    "리스트에서 대문자만 화면에 출력하라.\n",
    "\n",
    "```리스트 = [\"A\", \"b\", \"c\", \"D\"]```\n",
    "```\n",
    "A\n",
    "D\n",
    "```"
   ]
  },
  {
   "cell_type": "code",
   "execution_count": 5,
   "id": "53f88750",
   "metadata": {},
   "outputs": [
    {
     "name": "stdout",
     "output_type": "stream",
     "text": [
      "A\n",
      "D\n"
     ]
    }
   ],
   "source": [
    "리스트 = [\"A\", \"b\", \"c\", \"D\"]\n",
    "\n",
    "for eng in 리스트:\n",
    "    if eng == eng.upper():\n",
    "        print(eng)"
   ]
  },
  {
   "cell_type": "markdown",
   "id": "6a7c74b4",
   "metadata": {},
   "source": [
    "혹은"
   ]
  },
  {
   "cell_type": "code",
   "execution_count": 6,
   "id": "ea8434cf",
   "metadata": {},
   "outputs": [
    {
     "name": "stdout",
     "output_type": "stream",
     "text": [
      "A\n",
      "D\n"
     ]
    }
   ],
   "source": [
    "for eng in 리스트:\n",
    "    if eng.isupper():\n",
    "        print(eng)"
   ]
  },
  {
   "cell_type": "markdown",
   "id": "1d2cb6a2",
   "metadata": {},
   "source": [
    "__156__  \n",
    "리스트에서 소문자만 화면에 출력하라.\n",
    "\n",
    "```리스트 = [\"A\", \"b\", \"c\", \"D\"]```\n",
    "```\n",
    "b\n",
    "c\n",
    "```"
   ]
  },
  {
   "cell_type": "code",
   "execution_count": 7,
   "id": "4abd59fc",
   "metadata": {},
   "outputs": [
    {
     "name": "stdout",
     "output_type": "stream",
     "text": [
      "b\n",
      "c\n",
      "b\n",
      "c\n",
      "b\n",
      "c\n",
      "b\n",
      "c\n"
     ]
    }
   ],
   "source": [
    "리스트 = [\"A\", \"b\", \"c\", \"D\"]\n",
    "\n",
    "for eng in 리스트:\n",
    "    if eng.islower():\n",
    "        print(eng)\n",
    "        \n",
    "for 변수 in 리스트:\n",
    "    if 변수.isupper() == False:\n",
    "        print(변수)\n",
    "\n",
    "for 변수 in 리스트:\n",
    "    if 변수.isupper() != True:\n",
    "        print(변수)\n",
    "\n",
    "for 변수 in 리스트:\n",
    "    if not 변수.isupper():\n",
    "        print(변수)"
   ]
  },
  {
   "cell_type": "markdown",
   "id": "7a2c683e",
   "metadata": {},
   "source": [
    " "
   ]
  },
  {
   "cell_type": "markdown",
   "id": "2b96db8d",
   "metadata": {},
   "source": [
    "__157__  \n",
    "이름의 첫 글자를 대문자로 변경해서 출력하라.\n",
    "\n",
    "```리스트 = ['dog', 'cat', 'parrot']```\n",
    "```\n",
    "Dog\n",
    "Cat\n",
    "Parrot\n",
    "```"
   ]
  },
  {
   "cell_type": "code",
   "execution_count": 8,
   "id": "9cddfd32",
   "metadata": {},
   "outputs": [
    {
     "name": "stdout",
     "output_type": "stream",
     "text": [
      "Dog\n",
      "Cat\n",
      "Parrot\n"
     ]
    }
   ],
   "source": [
    "리스트 = ['dog', 'cat', 'parrot']\n",
    "\n",
    "for ani in 리스트:\n",
    "    print(ani[0].upper() + ani[1:])"
   ]
  },
  {
   "cell_type": "markdown",
   "id": "47b809ea",
   "metadata": {},
   "source": [
    " "
   ]
  },
  {
   "cell_type": "markdown",
   "id": "db7f1327",
   "metadata": {},
   "source": [
    "__158__  \n",
    "파일 이름이 저장된 리스트에서 확장자를 제거하고 파일 이름만 화면에 출력하라. (힌트: split() 메서드)\n",
    "\n",
    "```리스트 = ['hello.py', 'ex01.py', 'intro.hwp']```\n",
    "```\n",
    "hello\n",
    "ex01\n",
    "intro\n",
    "```"
   ]
  },
  {
   "cell_type": "code",
   "execution_count": 9,
   "id": "cfca8d54",
   "metadata": {},
   "outputs": [
    {
     "name": "stdout",
     "output_type": "stream",
     "text": [
      "hello\n",
      "ex01\n",
      "intro\n"
     ]
    }
   ],
   "source": [
    "리스트 = ['hello.py', 'ex01.py', 'intro.hwp']\n",
    "\n",
    "for file in 리스트:\n",
    "    name = file.split('.')\n",
    "    print(name[0])"
   ]
  },
  {
   "cell_type": "markdown",
   "id": "f875be48",
   "metadata": {},
   "source": [
    " "
   ]
  },
  {
   "cell_type": "markdown",
   "id": "8f774087",
   "metadata": {},
   "source": [
    "__159__  \n",
    "파일 이름이 저장된 리스트에서 확장자가 .h인 파일 이름을 출력하라.\n",
    "\n",
    "```리스트 = ['intra.h', 'intra.c', 'define.h', 'run.py']```\n",
    "```\n",
    "intra.h\n",
    "define.h\n",
    "```"
   ]
  },
  {
   "cell_type": "code",
   "execution_count": 10,
   "id": "d7268d97",
   "metadata": {},
   "outputs": [
    {
     "name": "stdout",
     "output_type": "stream",
     "text": [
      "intra.h\n",
      "define.h\n"
     ]
    }
   ],
   "source": [
    "리스트 = ['intra.h', 'intra.c', 'define.h', 'run.py']\n",
    "\n",
    "for file in 리스트:\n",
    "    name = file.split('.')\n",
    "    if name[1] == 'h':\n",
    "        print(file)"
   ]
  },
  {
   "cell_type": "markdown",
   "id": "1a1a3639",
   "metadata": {},
   "source": [
    " "
   ]
  },
  {
   "cell_type": "markdown",
   "id": "2264daf2",
   "metadata": {},
   "source": [
    "__160__  \n",
    "파일 이름이 저장된 리스트에서 확장자가 .h나 .c인 파일을 화면에 출력하라.\n",
    "\n",
    "```리스트 = ['intra.h', 'intra.c', 'define.h', 'run.py']```\n",
    "```\n",
    "intra.h\n",
    "intra.c\n",
    "define.h\n",
    "```"
   ]
  },
  {
   "cell_type": "code",
   "execution_count": 11,
   "id": "36c905db",
   "metadata": {},
   "outputs": [
    {
     "name": "stdout",
     "output_type": "stream",
     "text": [
      "intra.h\n",
      "intra.c\n",
      "define.h\n"
     ]
    }
   ],
   "source": [
    "리스트 = ['intra.h', 'intra.c', 'define.h', 'run.py']\n",
    "\n",
    "for 파일 in 리스트:\n",
    "    이름 = 파일.split('.')\n",
    "    if 이름[1] == 'h' or 이름[1] == 'c':\n",
    "        print(파일)"
   ]
  }
 ],
 "metadata": {
  "kernelspec": {
   "display_name": "Python 3 (ipykernel)",
   "language": "python",
   "name": "python3"
  },
  "language_info": {
   "codemirror_mode": {
    "name": "ipython",
    "version": 3
   },
   "file_extension": ".py",
   "mimetype": "text/x-python",
   "name": "python",
   "nbconvert_exporter": "python",
   "pygments_lexer": "ipython3",
   "version": "3.11.5"
  }
 },
 "nbformat": 4,
 "nbformat_minor": 5
}

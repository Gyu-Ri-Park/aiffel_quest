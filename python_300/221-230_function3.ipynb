{
 "cells": [
  {
   "cell_type": "markdown",
   "id": "9ce1769f",
   "metadata": {},
   "source": [
    "__221__  \n",
    "입력된 문자열을 역순으로 출력하는 print_reverse 함수를 정의하라.\n",
    "\n",
    "```\n",
    "print_reverse(\"python\")\n",
    "nohtyp\n",
    "```"
   ]
  },
  {
   "cell_type": "code",
   "execution_count": 1,
   "id": "47e3ffad",
   "metadata": {},
   "outputs": [],
   "source": [
    "def print_reverse(a):\n",
    "    print(a[::-1])"
   ]
  },
  {
   "cell_type": "code",
   "execution_count": 2,
   "id": "f76ea19f",
   "metadata": {},
   "outputs": [
    {
     "name": "stdout",
     "output_type": "stream",
     "text": [
      "nohtyp\n"
     ]
    }
   ],
   "source": [
    "print_reverse(\"python\")"
   ]
  },
  {
   "cell_type": "markdown",
   "id": "957b7dc2",
   "metadata": {},
   "source": [
    " "
   ]
  },
  {
   "cell_type": "markdown",
   "id": "4d8ff106",
   "metadata": {},
   "source": [
    "__222__  \n",
    "성적 리스트를 입력 받아 평균을 출력하는 print_score 함수를 정의하라.\n",
    "```\n",
    "print_score ([1, 2, 3])\n",
    "2.0\n",
    "```"
   ]
  },
  {
   "cell_type": "code",
   "execution_count": 3,
   "id": "6c598abb",
   "metadata": {},
   "outputs": [],
   "source": [
    "def print_score(a):\n",
    "    print(sum(a) / len(a))"
   ]
  },
  {
   "cell_type": "code",
   "execution_count": 4,
   "id": "fdf0f195",
   "metadata": {},
   "outputs": [
    {
     "name": "stdout",
     "output_type": "stream",
     "text": [
      "2.0\n"
     ]
    }
   ],
   "source": [
    "print_score([1, 2, 3])"
   ]
  },
  {
   "cell_type": "markdown",
   "id": "36062b38",
   "metadata": {},
   "source": [
    " "
   ]
  },
  {
   "cell_type": "markdown",
   "id": "c2e187bd",
   "metadata": {},
   "source": [
    "__223__  \n",
    "하나의 리스트를 입력받아 짝수만 화면에 출력하는 print_even 함수를 정의하라.\n",
    "\n",
    "```\n",
    "print_even ([1, 3, 2, 10, 12, 11, 15])\n",
    "\n",
    "2\n",
    "10\n",
    "12\n",
    "```"
   ]
  },
  {
   "cell_type": "code",
   "execution_count": 5,
   "id": "12c3f272",
   "metadata": {},
   "outputs": [],
   "source": [
    "def print_even(a):\n",
    "    for i in range(len(a) - 1):\n",
    "        if a[i] % 2 == 0:\n",
    "            print(a[i])"
   ]
  },
  {
   "cell_type": "code",
   "execution_count": 6,
   "id": "37df08bb",
   "metadata": {},
   "outputs": [
    {
     "name": "stdout",
     "output_type": "stream",
     "text": [
      "2\n",
      "10\n",
      "12\n"
     ]
    }
   ],
   "source": [
    "print_even([1, 3, 2, 10, 12, 11, 15])"
   ]
  },
  {
   "cell_type": "markdown",
   "id": "f48e79e6",
   "metadata": {},
   "source": [
    " "
   ]
  },
  {
   "cell_type": "markdown",
   "id": "e5e9a5ec",
   "metadata": {},
   "source": [
    "__224__  \n",
    "하나의 딕셔너리를 입력받아 딕셔너리의 key 값을 화면에 출력하는 print_keys 함수를 정의하라.\n",
    "```\n",
    "print_keys ({\"이름\":\"김말똥\", \"나이\":30, \"성별\":0})\n",
    "\n",
    "이름\n",
    "나이\n",
    "성별\n",
    "```"
   ]
  },
  {
   "cell_type": "code",
   "execution_count": 7,
   "id": "b3341023",
   "metadata": {},
   "outputs": [],
   "source": [
    "def print_keys(a):\n",
    "    for i in a.keys():\n",
    "        print(i)"
   ]
  },
  {
   "cell_type": "code",
   "execution_count": 8,
   "id": "d1c60630",
   "metadata": {},
   "outputs": [
    {
     "name": "stdout",
     "output_type": "stream",
     "text": [
      "이름\n",
      "나이\n",
      "성별\n"
     ]
    }
   ],
   "source": [
    "print_keys({\"이름\":\"김말똥\", \"나이\":30, \"성별\":0})"
   ]
  },
  {
   "cell_type": "markdown",
   "id": "77a15016",
   "metadata": {},
   "source": [
    " "
   ]
  },
  {
   "cell_type": "markdown",
   "id": "d47a5b34",
   "metadata": {},
   "source": [
    "__225__  \n",
    "my_dict에는 날짜를 키값으로 OHLC(시가(Open), 고가(High), 저가(Low), 종가(Close))가 리스트로 저장돼 있다.  \n",
    "```\n",
    "my_dict = {\"10/26\" : [100, 130, 100, 100],\n",
    "           \"10/27\" : [10, 12, 10, 11]}\n",
    "```\n",
    "my_dict와 날짜 키값을 입력받아 OHLC 리스트를 출력하는 print_value_by_key 함수를 정의하라.\n",
    "\n",
    "```\n",
    "print_value_by_key  (my_dict, \"10/26\")\n",
    "\n",
    "[100, 130, 100, 100]\n",
    "```"
   ]
  },
  {
   "cell_type": "code",
   "execution_count": 9,
   "id": "5debf390",
   "metadata": {},
   "outputs": [],
   "source": [
    "my_dict = {\"10/26\" : [100, 130, 100, 100],\n",
    "           \"10/27\" : [10, 12, 10, 11]}\n",
    "\n",
    "def print_value_by_key(my_dict, key):\n",
    "    print(my_dict[key])"
   ]
  },
  {
   "cell_type": "code",
   "execution_count": 10,
   "id": "23802cfd",
   "metadata": {},
   "outputs": [
    {
     "name": "stdout",
     "output_type": "stream",
     "text": [
      "[100, 130, 100, 100]\n"
     ]
    }
   ],
   "source": [
    "print_value_by_key(my_dict, \"10/26\")"
   ]
  },
  {
   "cell_type": "markdown",
   "id": "31a80b69",
   "metadata": {},
   "source": [
    " "
   ]
  },
  {
   "cell_type": "markdown",
   "id": "3bfd72d4",
   "metadata": {},
   "source": [
    "__226__  \n",
    "입력 문자열을 한 줄에 다섯글자씩 출력하는 print_5xn(string) 함수를 작성하라.\n",
    "```\n",
    "print_5xn(\"아이엠어보이유알어걸\")\n",
    "\n",
    "아이엠어보\n",
    "이유알어걸\n",
    "```"
   ]
  },
  {
   "cell_type": "code",
   "execution_count": 11,
   "id": "e5beae5b",
   "metadata": {},
   "outputs": [],
   "source": [
    "def print_5xn(string):\n",
    "    length = len(string)\n",
    "    for i in range(0, length, 5):\n",
    "        print(string[i:i+5])"
   ]
  },
  {
   "cell_type": "code",
   "execution_count": 12,
   "id": "a3b1d955",
   "metadata": {},
   "outputs": [
    {
     "name": "stdout",
     "output_type": "stream",
     "text": [
      "아이엠어보\n",
      "이유알어걸\n"
     ]
    }
   ],
   "source": [
    "print_5xn(\"아이엠어보이유알어걸\")"
   ]
  },
  {
   "cell_type": "markdown",
   "id": "fde042a9",
   "metadata": {},
   "source": [
    " "
   ]
  },
  {
   "cell_type": "markdown",
   "id": "418655c0",
   "metadata": {},
   "source": [
    "__227__  \n",
    "문자열과 한줄에 출력될 글자 수를 입력을 받아 한 줄에 입력된 글자 수만큼 출력하는 print_mxn(string) 함수를 작성하라.\n",
    "```\n",
    "printmxn(\"아이엠어보이유알어걸\", 3)\n",
    "\n",
    "아이엠\n",
    "어보이\n",
    "유알어\n",
    "걸\n",
    "```"
   ]
  },
  {
   "cell_type": "code",
   "execution_count": 13,
   "id": "2bd4f13a",
   "metadata": {},
   "outputs": [],
   "source": [
    "def printmxn(string, length):\n",
    "    for i in range(0, len(string), length):\n",
    "        print(string[i:i+length])"
   ]
  },
  {
   "cell_type": "code",
   "execution_count": 14,
   "id": "75f6474d",
   "metadata": {},
   "outputs": [
    {
     "name": "stdout",
     "output_type": "stream",
     "text": [
      "아이엠\n",
      "어보이\n",
      "유알어\n",
      "걸\n"
     ]
    }
   ],
   "source": [
    "printmxn(\"아이엠어보이유알어걸\", 3)"
   ]
  },
  {
   "cell_type": "markdown",
   "id": "2cccdbac",
   "metadata": {},
   "source": [
    " "
   ]
  },
  {
   "cell_type": "markdown",
   "id": "aa2ca827",
   "metadata": {},
   "source": [
    "__228__  \n",
    "연봉을 입력받아 월급을 계산하는 calc_monthly_salary(annual_salary) 함수를 정의하라. 회사는 연봉을 12개월로 나누어 분할 지급하며, 이 때 1원 미만은 버림한다.\n",
    "```\n",
    "calc_monthly_salary(12000000)\n",
    "\n",
    "1000000\n",
    "```"
   ]
  },
  {
   "cell_type": "code",
   "execution_count": 15,
   "id": "304cdf16",
   "metadata": {},
   "outputs": [],
   "source": [
    "def calc_monthly_salary(annual_salary):\n",
    "    print(int(annual_salary / 12))"
   ]
  },
  {
   "cell_type": "code",
   "execution_count": 16,
   "id": "564f8557",
   "metadata": {},
   "outputs": [
    {
     "name": "stdout",
     "output_type": "stream",
     "text": [
      "1000000\n"
     ]
    }
   ],
   "source": [
    "calc_monthly_salary(12000000)"
   ]
  },
  {
   "cell_type": "markdown",
   "id": "116b8baa",
   "metadata": {},
   "source": [
    "혹은"
   ]
  },
  {
   "cell_type": "code",
   "execution_count": 17,
   "id": "99e21490",
   "metadata": {},
   "outputs": [],
   "source": [
    "def calc_monthly_salary(annual_salary):\n",
    "    monthly_pay = int(annual_salary / 12)\n",
    "    return monthly_pay"
   ]
  },
  {
   "cell_type": "code",
   "execution_count": 18,
   "id": "c8430fd9",
   "metadata": {},
   "outputs": [
    {
     "data": {
      "text/plain": [
       "1000000"
      ]
     },
     "execution_count": 18,
     "metadata": {},
     "output_type": "execute_result"
    }
   ],
   "source": [
    "calc_monthly_salary(12000000)"
   ]
  },
  {
   "cell_type": "markdown",
   "id": "38752221",
   "metadata": {},
   "source": [
    " "
   ]
  },
  {
   "cell_type": "markdown",
   "id": "0a7b78be",
   "metadata": {},
   "source": [
    "__229__  \n",
    "아래 코드의 실행 결과를 예측하라.\n",
    "```\n",
    "def my_print (a, b) :\n",
    "    print(\"왼쪽:\", a)\n",
    "    print(\"오른쪽:\", b)\n",
    "\n",
    "my_print(a=100, b=200)\n",
    "```"
   ]
  },
  {
   "cell_type": "code",
   "execution_count": 19,
   "id": "0f32fd5f",
   "metadata": {},
   "outputs": [],
   "source": [
    "# 예상:\n",
    "# 왼쪽: 100\n",
    "# 오른쪽: 200"
   ]
  },
  {
   "cell_type": "code",
   "execution_count": 20,
   "id": "51d2ce37",
   "metadata": {},
   "outputs": [
    {
     "name": "stdout",
     "output_type": "stream",
     "text": [
      "왼쪽: 100\n",
      "오른쪽: 200\n"
     ]
    }
   ],
   "source": [
    "def my_print (a, b) :\n",
    "    print(\"왼쪽:\", a)\n",
    "    print(\"오른쪽:\", b)\n",
    "\n",
    "my_print(a=100, b=200)"
   ]
  },
  {
   "cell_type": "markdown",
   "id": "32fe34d9",
   "metadata": {},
   "source": [
    " "
   ]
  },
  {
   "cell_type": "markdown",
   "id": "80dcc5b4",
   "metadata": {},
   "source": [
    "__230__  \n",
    "아래 코드의 실행 결과를 예측하라.\n",
    "```\n",
    "def my_print (a, b) :\n",
    "    print(\"왼쪽:\", a)\n",
    "    print(\"오른쪽:\", b)\n",
    "\n",
    "my_print(b=100, a=200)\n",
    "```"
   ]
  },
  {
   "cell_type": "code",
   "execution_count": 21,
   "id": "9702ad9f",
   "metadata": {},
   "outputs": [],
   "source": [
    "# 예상:\n",
    "# 왼쪽: 200\n",
    "# 오른쪽: 100"
   ]
  },
  {
   "cell_type": "code",
   "execution_count": 22,
   "id": "bf4cca3c",
   "metadata": {},
   "outputs": [
    {
     "name": "stdout",
     "output_type": "stream",
     "text": [
      "왼쪽: 200\n",
      "오른쪽: 100\n"
     ]
    }
   ],
   "source": [
    "def my_print (a, b) :\n",
    "    print(\"왼쪽:\", a)\n",
    "    print(\"오른쪽:\", b)\n",
    "\n",
    "my_print(b=100, a=200)"
   ]
  },
  {
   "cell_type": "markdown",
   "id": "d3def7de",
   "metadata": {},
   "source": [
    "바인딩을 지정한 변수는 호출 순서에 영향을 받지 않는다."
   ]
  }
 ],
 "metadata": {
  "kernelspec": {
   "display_name": "Python 3 (ipykernel)",
   "language": "python",
   "name": "python3"
  },
  "language_info": {
   "codemirror_mode": {
    "name": "ipython",
    "version": 3
   },
   "file_extension": ".py",
   "mimetype": "text/x-python",
   "name": "python",
   "nbconvert_exporter": "python",
   "pygments_lexer": "ipython3",
   "version": "3.11.5"
  }
 },
 "nbformat": 4,
 "nbformat_minor": 5
}

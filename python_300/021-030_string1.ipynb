{
 "cells": [
  {
   "cell_type": "markdown",
   "id": "ba4afaa8",
   "metadata": {},
   "source": [
    "__021 문자열 인덱싱__  \n",
    "letters가 바인딩하는 문자열에서 첫번째와 세번째 문자를 출력하세요.  \n",
    "\n",
    "```letters = 'python'```"
   ]
  },
  {
   "cell_type": "code",
   "execution_count": 1,
   "id": "4109bbed",
   "metadata": {},
   "outputs": [
    {
     "name": "stdout",
     "output_type": "stream",
     "text": [
      "p t\n"
     ]
    }
   ],
   "source": [
    "letters = 'python'\n",
    "print(letters[0], letters[2])"
   ]
  },
  {
   "cell_type": "markdown",
   "id": "905496d9",
   "metadata": {},
   "source": [
    " "
   ]
  },
  {
   "cell_type": "markdown",
   "id": "133996ff",
   "metadata": {},
   "source": [
    "__022 문자열 슬라이싱__  \n",
    "자동차 번호가 다음과 같을 때 뒤에 4자리만 출력하세요.  \n",
    "\n",
    "```license_plate = \"24가 2210\"```"
   ]
  },
  {
   "cell_type": "code",
   "execution_count": 2,
   "id": "bdda005c",
   "metadata": {},
   "outputs": [
    {
     "name": "stdout",
     "output_type": "stream",
     "text": [
      "2210\n",
      "2210\n"
     ]
    }
   ],
   "source": [
    "license_plate = \"24가 2210\"\n",
    "\n",
    "print(license_plate[4:])\n",
    "print(license_plate[-4:])"
   ]
  },
  {
   "cell_type": "markdown",
   "id": "6b567fa0",
   "metadata": {},
   "source": [
    " "
   ]
  },
  {
   "cell_type": "markdown",
   "id": "9b78f836",
   "metadata": {},
   "source": [
    "__023 문자열 인덱싱__  \n",
    "아래의 문자열에서 '홀' 만 출력하세요.  \n",
    "\n",
    "```string = \"홀짝홀짝홀짝\"```"
   ]
  },
  {
   "cell_type": "code",
   "execution_count": 3,
   "id": "88de580b",
   "metadata": {},
   "outputs": [
    {
     "name": "stdout",
     "output_type": "stream",
     "text": [
      "홀홀홀\n"
     ]
    }
   ],
   "source": [
    "string = \"홀짝홀짝홀짝\"\n",
    "\n",
    "print(string[::2])  # 시작인덱스:끝인덱스:오프셋"
   ]
  },
  {
   "cell_type": "markdown",
   "id": "dd637ac1",
   "metadata": {},
   "source": [
    " "
   ]
  },
  {
   "cell_type": "markdown",
   "id": "027f7e12",
   "metadata": {},
   "source": [
    "__024 문자열 슬라이싱__  \n",
    "문자열을 거꾸로 뒤집어 출력하세요.  \n",
    "\n",
    "```string = \"PYTHON\"```"
   ]
  },
  {
   "cell_type": "code",
   "execution_count": 4,
   "id": "04d33c1b",
   "metadata": {},
   "outputs": [
    {
     "name": "stdout",
     "output_type": "stream",
     "text": [
      "NOHTYP\n"
     ]
    }
   ],
   "source": [
    "string = \"PYTHON\"\n",
    "\n",
    "print(string[::-1])"
   ]
  },
  {
   "cell_type": "markdown",
   "id": "90de0371",
   "metadata": {},
   "source": [
    "  "
   ]
  },
  {
   "cell_type": "markdown",
   "id": "933840e5",
   "metadata": {},
   "source": [
    "__025 문자열 치환__  \n",
    "아래의 전화번호에서 하이푼 ('-')을 제거하고 출력하세요.  \n",
    "\n",
    "```phone_number = \"010-1111-2222\"```\n",
    "\n",
    "실행 예  \n",
    "```010 1111 2222```"
   ]
  },
  {
   "cell_type": "code",
   "execution_count": 5,
   "id": "5225c58b",
   "metadata": {},
   "outputs": [
    {
     "name": "stdout",
     "output_type": "stream",
     "text": [
      "010 1111 2222\n"
     ]
    }
   ],
   "source": [
    "phone_number = \"010-1111-2222\"\n",
    "\n",
    "rep = phone_number.replace(\"-\", \" \")\n",
    "print(rep)"
   ]
  },
  {
   "cell_type": "markdown",
   "id": "c2be077d",
   "metadata": {},
   "source": [
    " "
   ]
  },
  {
   "cell_type": "markdown",
   "id": "ba03d41e",
   "metadata": {},
   "source": [
    "__026 문자열 다루기__  \n",
    "25번 문제의 전화번호를 아래와 같이 모두 붙여 출력하세요.  \n",
    "\n",
    "실행 예  \n",
    "```01011112222```"
   ]
  },
  {
   "cell_type": "code",
   "execution_count": 6,
   "id": "ed00e610",
   "metadata": {
    "scrolled": true
   },
   "outputs": [
    {
     "name": "stdout",
     "output_type": "stream",
     "text": [
      "01011112222\n"
     ]
    }
   ],
   "source": [
    "phone_number = \"010-1111-2222\"\n",
    "\n",
    "rep = phone_number.replace(\"-\", \"\")\n",
    "print(rep)"
   ]
  },
  {
   "cell_type": "markdown",
   "id": "a672d4ac",
   "metadata": {},
   "source": [
    " "
   ]
  },
  {
   "cell_type": "markdown",
   "id": "59082c74",
   "metadata": {},
   "source": [
    "__027 문자열 다루기__  \n",
    "url 에 저장된 웹 페이지 주소에서 도메인을 출력하세요.  \n",
    "\n",
    "```url = \"http://sharebook.kr\"```\n",
    "\n",
    "실행 예:\n",
    "```kr```"
   ]
  },
  {
   "cell_type": "code",
   "execution_count": 7,
   "id": "33a8daa1",
   "metadata": {},
   "outputs": [
    {
     "name": "stdout",
     "output_type": "stream",
     "text": [
      "kr\n"
     ]
    }
   ],
   "source": [
    "url = \"http://sharebook.kr\"\n",
    "\n",
    "domain = url[-2:]\n",
    "print(domain)"
   ]
  },
  {
   "cell_type": "code",
   "execution_count": 8,
   "id": "f6346180",
   "metadata": {},
   "outputs": [
    {
     "name": "stdout",
     "output_type": "stream",
     "text": [
      "kr\n"
     ]
    }
   ],
   "source": [
    "url_split = url.split('.')\n",
    "print(url_split[1])"
   ]
  },
  {
   "cell_type": "markdown",
   "id": "c72e28a3",
   "metadata": {},
   "source": [
    " "
   ]
  },
  {
   "cell_type": "markdown",
   "id": "5357e012",
   "metadata": {},
   "source": [
    "__028 문자열은 immutable__  \n",
    "아래 코드의 실행 결과를 예상해보세요.  \n",
    "\n",
    "```\n",
    "lang = 'python'\n",
    "lang[0] = 'P'\n",
    "print(lang)\n",
    "```"
   ]
  },
  {
   "cell_type": "code",
   "execution_count": 9,
   "id": "faeb7b55",
   "metadata": {},
   "outputs": [
    {
     "name": "stdout",
     "output_type": "stream",
     "text": [
      "python\n"
     ]
    },
    {
     "ename": "TypeError",
     "evalue": "'str' object does not support item assignment",
     "output_type": "error",
     "traceback": [
      "\u001b[1;31m---------------------------------------------------------------------------\u001b[0m",
      "\u001b[1;31mTypeError\u001b[0m                                 Traceback (most recent call last)",
      "Cell \u001b[1;32mIn[9], line 3\u001b[0m\n\u001b[0;32m      1\u001b[0m lang \u001b[38;5;241m=\u001b[39m \u001b[38;5;124m'\u001b[39m\u001b[38;5;124mpython\u001b[39m\u001b[38;5;124m'\u001b[39m\n\u001b[0;32m      2\u001b[0m \u001b[38;5;28mprint\u001b[39m(lang)   \u001b[38;5;66;03m# python 출력\u001b[39;00m\n\u001b[1;32m----> 3\u001b[0m lang[\u001b[38;5;241m0\u001b[39m] \u001b[38;5;241m=\u001b[39m \u001b[38;5;124m'\u001b[39m\u001b[38;5;124mP\u001b[39m\u001b[38;5;124m'\u001b[39m\n\u001b[0;32m      4\u001b[0m \u001b[38;5;28mprint\u001b[39m(lang)\n",
      "\u001b[1;31mTypeError\u001b[0m: 'str' object does not support item assignment"
     ]
    }
   ],
   "source": [
    "lang = 'python'\n",
    "print(lang)   # python 출력\n",
    "lang[0] = 'P'\n",
    "print(lang)  # 에러 발생"
   ]
  },
  {
   "cell_type": "markdown",
   "id": "755eb43f",
   "metadata": {},
   "source": [
    "문자열은 수정할 수 없다 (immutable)."
   ]
  },
  {
   "cell_type": "markdown",
   "id": "542d2ac7",
   "metadata": {},
   "source": [
    " "
   ]
  },
  {
   "cell_type": "markdown",
   "id": "a15395f4",
   "metadata": {},
   "source": [
    "  "
   ]
  },
  {
   "cell_type": "markdown",
   "id": "ec2b8798",
   "metadata": {},
   "source": [
    "__029 replace 메서드__  \n",
    "아래 문자열에서 소문자 'a'를 대문자 'A'로 변경하세요.\n",
    "\n",
    "```string = 'abcdfe2a354a32a'```\n",
    "\n",
    "실행 예:  \n",
    "```Abcdfe2A354A32A```"
   ]
  },
  {
   "cell_type": "code",
   "execution_count": 10,
   "id": "2e7f150f",
   "metadata": {},
   "outputs": [
    {
     "name": "stdout",
     "output_type": "stream",
     "text": [
      "Abcdfe2A354A32A\n"
     ]
    }
   ],
   "source": [
    "string = 'abcdfe2a354a32a'\n",
    "\n",
    "change = string.replace('a', 'A')\n",
    "print(change)"
   ]
  },
  {
   "cell_type": "markdown",
   "id": "70f0d06c",
   "metadata": {},
   "source": [
    " "
   ]
  },
  {
   "cell_type": "markdown",
   "id": "6f1bf53f",
   "metadata": {},
   "source": [
    " "
   ]
  },
  {
   "cell_type": "markdown",
   "id": "69dc27ee",
   "metadata": {},
   "source": [
    "__030 replace 메서드__  \n",
    "아래 코드의 실행 결과를 예상해보세요.  \n",
    "\n",
    "```\n",
    "string = 'abcd'\n",
    "string.replace('b', 'B')\n",
    "print(string)\n",
    "```"
   ]
  },
  {
   "cell_type": "code",
   "execution_count": 11,
   "id": "be63c7f2",
   "metadata": {},
   "outputs": [
    {
     "name": "stdout",
     "output_type": "stream",
     "text": [
      "abcd\n"
     ]
    }
   ],
   "source": [
    "string = 'abcd'\n",
    "string.replace('b', 'B')\n",
    "print(string)\n",
    "\n",
    "# 예상: 문자열은 변경할 수 없으므로 그대로 abcd 출력"
   ]
  }
 ],
 "metadata": {
  "kernelspec": {
   "display_name": "Python 3 (ipykernel)",
   "language": "python",
   "name": "python3"
  },
  "language_info": {
   "codemirror_mode": {
    "name": "ipython",
    "version": 3
   },
   "file_extension": ".py",
   "mimetype": "text/x-python",
   "name": "python",
   "nbconvert_exporter": "python",
   "pygments_lexer": "ipython3",
   "version": "3.11.5"
  }
 },
 "nbformat": 4,
 "nbformat_minor": 5
}

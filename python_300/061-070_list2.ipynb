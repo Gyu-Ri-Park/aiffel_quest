{
 "cells": [
  {
   "cell_type": "markdown",
   "id": "aa7253c9",
   "metadata": {},
   "source": [
    "__061__  \n",
    "price 변수에는 날짜와 종가 정보가 저장돼 있다. 날짜 정보를 제외하고 가격 정보만을 출력하라. (힌트 : 슬라이싱)\n",
    "\n",
    "```price = ['20180728', 100, 130, 140, 150, 160, 170]```"
   ]
  },
  {
   "cell_type": "code",
   "execution_count": 1,
   "id": "5147fab0",
   "metadata": {},
   "outputs": [
    {
     "data": {
      "text/plain": [
       "[100, 130, 140, 150, 160, 170]"
      ]
     },
     "execution_count": 1,
     "metadata": {},
     "output_type": "execute_result"
    }
   ],
   "source": [
    "price = ['20180728', 100, 130, 140, 150, 160, 170]\n",
    "\n",
    "price[1:]"
   ]
  },
  {
   "cell_type": "markdown",
   "id": "44efd13b",
   "metadata": {},
   "source": [
    " "
   ]
  },
  {
   "cell_type": "markdown",
   "id": "e7316342",
   "metadata": {},
   "source": [
    "__062__  \n",
    "슬라이싱을 사용해서 홀수만 출력하라.\n",
    "\n",
    "```nums = [1, 2, 3, 4, 5, 6, 7, 8, 9, 10]```"
   ]
  },
  {
   "cell_type": "code",
   "execution_count": 2,
   "id": "244212b2",
   "metadata": {},
   "outputs": [
    {
     "data": {
      "text/plain": [
       "[1, 3, 5, 7, 9]"
      ]
     },
     "execution_count": 2,
     "metadata": {},
     "output_type": "execute_result"
    }
   ],
   "source": [
    "nums = [1, 2, 3, 4, 5, 6, 7, 8, 9, 10]\n",
    "\n",
    "nums[::2]"
   ]
  },
  {
   "cell_type": "markdown",
   "id": "bea684ac",
   "metadata": {},
   "source": [
    " "
   ]
  },
  {
   "cell_type": "markdown",
   "id": "b143ffa6",
   "metadata": {},
   "source": [
    "__063__  \n",
    "슬라이싱을 사용해서 짝수만 출력하라.\n",
    "\n",
    "```nums = [1, 2, 3, 4, 5, 6, 7, 8, 9, 10]```"
   ]
  },
  {
   "cell_type": "code",
   "execution_count": 3,
   "id": "232de460",
   "metadata": {},
   "outputs": [
    {
     "data": {
      "text/plain": [
       "[2, 4, 6, 8, 10]"
      ]
     },
     "execution_count": 3,
     "metadata": {},
     "output_type": "execute_result"
    }
   ],
   "source": [
    "nums = [1, 2, 3, 4, 5, 6, 7, 8, 9, 10]\n",
    "\n",
    "nums[1::2]"
   ]
  },
  {
   "cell_type": "markdown",
   "id": "968807e0",
   "metadata": {},
   "source": [
    " "
   ]
  },
  {
   "cell_type": "markdown",
   "id": "c2589809",
   "metadata": {},
   "source": [
    "__064__  \n",
    "슬라이싱을 사용해서 리스트의 숫자를 역 방향으로 출력하라.  \n",
    "\n",
    "```nums = [1, 2, 3, 4, 5]```"
   ]
  },
  {
   "cell_type": "code",
   "execution_count": 4,
   "id": "8e9636c9",
   "metadata": {},
   "outputs": [
    {
     "data": {
      "text/plain": [
       "[5, 4, 3, 2, 1]"
      ]
     },
     "execution_count": 4,
     "metadata": {},
     "output_type": "execute_result"
    }
   ],
   "source": [
    "nums = [1, 2, 3, 4, 5]\n",
    "\n",
    "nums[::-1]"
   ]
  },
  {
   "cell_type": "code",
   "execution_count": null,
   "id": "cf4dd4be",
   "metadata": {},
   "outputs": [],
   "source": []
  },
  {
   "cell_type": "markdown",
   "id": "183e42ec",
   "metadata": {},
   "source": [
    "__065__  \n",
    "interest 리스트에는 아래의 데이터가 바인딩되어 있다.  \n",
    "```interest = ['삼성전자', 'LG전자', 'Naver']```\n",
    "\n",
    "interest 리스트를 사용하여 아래와 같이 화면에 출력하라.  \n",
    "\n",
    "```\n",
    "출력 예시:\n",
    "삼성전자 Naver\n",
    "```"
   ]
  },
  {
   "cell_type": "code",
   "execution_count": 5,
   "id": "32893dc0",
   "metadata": {},
   "outputs": [
    {
     "name": "stdout",
     "output_type": "stream",
     "text": [
      "삼성전자 Naver\n"
     ]
    }
   ],
   "source": [
    "interest = ['삼성전자', 'LG전자', 'Naver']\n",
    "\n",
    "print(interest[0], interest[2])   # print 필수"
   ]
  },
  {
   "cell_type": "markdown",
   "id": "8be15008",
   "metadata": {},
   "source": [
    " "
   ]
  },
  {
   "cell_type": "markdown",
   "id": "084940b6",
   "metadata": {},
   "source": [
    "__066 join 메서드__  \n",
    "interest 리스트에는 아래의 데이터가 바인딩되어 있다.  \n",
    "```interest = ['삼성전자', 'LG전자', 'Naver', 'SK하이닉스', '미래에셋대우']```\n",
    "\n",
    "interest 리스트를 사용하여 아래와 같이 화면에 출력하라.  \n",
    "\n",
    "```\n",
    "출력 예시:\n",
    "삼성전자 LG전자 Naver SK하이닉스 미래에셋대우\n",
    "```"
   ]
  },
  {
   "cell_type": "code",
   "execution_count": 6,
   "id": "3c984105",
   "metadata": {},
   "outputs": [
    {
     "name": "stdout",
     "output_type": "stream",
     "text": [
      "삼성전자 LG전자 Naver SK하이닉스 미래에셋대우\n"
     ]
    }
   ],
   "source": [
    "interest = ['삼성전자', 'LG전자', 'Naver', 'SK하이닉스', '미래에셋대우']\n",
    "\n",
    "print(' '.join(interest))"
   ]
  },
  {
   "cell_type": "markdown",
   "id": "8c6a0d64",
   "metadata": {},
   "source": [
    " "
   ]
  },
  {
   "cell_type": "markdown",
   "id": "cad57718",
   "metadata": {},
   "source": [
    "__067 join 메서드__  \n",
    "interest 리스트에는 아래의 데이터가 바인딩되어 있다.  \n",
    "```interest = ['삼성전자', 'LG전자', 'Naver', 'SK하이닉스', '미래에셋대우']```\n",
    "\n",
    "interest 리스트를 사용하여 아래와 같이 화면에 출력하라.\n",
    "\n",
    "```\n",
    "출력 예시:\n",
    "삼성전자/LG전자/Naver/SK하이닉스/미래에셋대우\n",
    "```"
   ]
  },
  {
   "cell_type": "code",
   "execution_count": 7,
   "id": "cc3c77a6",
   "metadata": {},
   "outputs": [
    {
     "name": "stdout",
     "output_type": "stream",
     "text": [
      "삼성전자/LG전자/Naver/SK하이닉스/미래에셋대우\n"
     ]
    }
   ],
   "source": [
    "interest = ['삼성전자', 'LG전자', 'Naver', 'SK하이닉스', '미래에셋대우']\n",
    "\n",
    "print('/'.join(interest))"
   ]
  },
  {
   "cell_type": "markdown",
   "id": "3b481517",
   "metadata": {},
   "source": [
    " "
   ]
  },
  {
   "cell_type": "markdown",
   "id": "ca7862dd",
   "metadata": {},
   "source": [
    "__068 join 메서드__  \n",
    "interest 리스트에는 아래의 데이터가 바인딩되어 있다.  \n",
    "```interest = ['삼성전자', 'LG전자', 'Naver', 'SK하이닉스', '미래에셋대우']```\n",
    "\n",
    "join() 메서드를 사용해서 interest 리스트를 아래와 같이 화면에 출력하라.__\n",
    "\n",
    "```\n",
    "출력 예시:\n",
    "삼성전자\n",
    "LG전자\n",
    "Naver\n",
    "SK하이닉스\n",
    "미래에셋대우\n",
    "```"
   ]
  },
  {
   "cell_type": "code",
   "execution_count": 8,
   "id": "d425e012",
   "metadata": {},
   "outputs": [
    {
     "name": "stdout",
     "output_type": "stream",
     "text": [
      "삼성전자\n",
      "LG전자\n",
      "Naver\n",
      "SK하이닉스\n",
      "미래에셋대우\n"
     ]
    }
   ],
   "source": [
    "interest = ['삼성전자', 'LG전자', 'Naver', 'SK하이닉스', '미래에셋대우']\n",
    "\n",
    "print('\\n'.join(interest))"
   ]
  },
  {
   "cell_type": "markdown",
   "id": "b6e2295e",
   "metadata": {},
   "source": [
    " "
   ]
  },
  {
   "cell_type": "markdown",
   "id": "f6192fb3",
   "metadata": {},
   "source": [
    "__069 문자열 split 메서드__  \n",
    "회사 이름이 슬래시 ('/')로 구분되어 하나의 문자열로 저장되어 있다.  \n",
    "```string = \"삼성전자/LG전자/Naver\"```  \n",
    "\n",
    "이를 interest 이름의 리스트로 분리 저장하라.  \n",
    "\n",
    "```\n",
    "실행 예시\n",
    ">> print(interest)\n",
    "['삼성전자', 'LG전자', 'Naver']\n",
    "```"
   ]
  },
  {
   "cell_type": "code",
   "execution_count": 9,
   "id": "9474d9eb",
   "metadata": {},
   "outputs": [
    {
     "name": "stdout",
     "output_type": "stream",
     "text": [
      "['삼성전자', 'LG전자', 'Naver']\n"
     ]
    }
   ],
   "source": [
    "string = \"삼성전자/LG전자/Naver\"\n",
    "\n",
    "print(string.split('/'))"
   ]
  },
  {
   "cell_type": "markdown",
   "id": "cf1ec569",
   "metadata": {},
   "source": [
    " "
   ]
  },
  {
   "cell_type": "markdown",
   "id": "0f247a7b",
   "metadata": {},
   "source": [
    "__070 리스트 정렬__  \n",
    "리스트에 있는 값을 오름차순으로 정렬하세요.  \n",
    "\n",
    "data = [2, 4, 3, 1, 5, 10, 9]"
   ]
  },
  {
   "cell_type": "code",
   "execution_count": 10,
   "id": "f1445b9d",
   "metadata": {},
   "outputs": [
    {
     "name": "stdout",
     "output_type": "stream",
     "text": [
      "[1, 2, 3, 4, 5, 9, 10]\n",
      "[1, 2, 3, 4, 5, 9, 10]\n"
     ]
    }
   ],
   "source": [
    "data = [2, 4, 3, 1, 5, 10, 9]\n",
    "data.sort()\n",
    "print(data)\n",
    "\n",
    "data = [2, 4, 3, 1, 5, 10, 9]\n",
    "data2 = sorted(data)\n",
    "print(data2)"
   ]
  }
 ],
 "metadata": {
  "kernelspec": {
   "display_name": "Python 3 (ipykernel)",
   "language": "python",
   "name": "python3"
  },
  "language_info": {
   "codemirror_mode": {
    "name": "ipython",
    "version": 3
   },
   "file_extension": ".py",
   "mimetype": "text/x-python",
   "name": "python",
   "nbconvert_exporter": "python",
   "pygments_lexer": "ipython3",
   "version": "3.11.5"
  }
 },
 "nbformat": 4,
 "nbformat_minor": 5
}

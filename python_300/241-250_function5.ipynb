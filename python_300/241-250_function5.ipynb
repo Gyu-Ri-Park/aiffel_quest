{
 "cells": [
  {
   "cell_type": "markdown",
   "id": "d6f1d34a",
   "metadata": {},
   "source": [
    "__241 현재시간__  \n",
    "datetime 모듈을 사용해서 현재 시간을 화면에 출력해보세요."
   ]
  },
  {
   "cell_type": "code",
   "execution_count": 1,
   "id": "e04cda62",
   "metadata": {},
   "outputs": [
    {
     "data": {
      "text/plain": [
       "datetime.datetime(2024, 1, 29, 23, 14, 12, 875344)"
      ]
     },
     "execution_count": 1,
     "metadata": {},
     "output_type": "execute_result"
    }
   ],
   "source": [
    "import datetime\n",
    "datetime.datetime.now()"
   ]
  },
  {
   "cell_type": "markdown",
   "id": "6b23a5c4",
   "metadata": {},
   "source": [
    " "
   ]
  },
  {
   "cell_type": "markdown",
   "id": "d1e5fc4e",
   "metadata": {},
   "source": [
    "__242 현재시간의 타입__  \n",
    "datetime 모듈의 now 함수의 리턴 값의 타입을 화면에 출력해보세요."
   ]
  },
  {
   "cell_type": "code",
   "execution_count": 2,
   "id": "78042f9a",
   "metadata": {},
   "outputs": [
    {
     "data": {
      "text/plain": [
       "datetime.datetime"
      ]
     },
     "execution_count": 2,
     "metadata": {},
     "output_type": "execute_result"
    }
   ],
   "source": [
    "type(datetime.datetime.now())"
   ]
  },
  {
   "cell_type": "markdown",
   "id": "09a43b6a",
   "metadata": {},
   "source": [
    " "
   ]
  },
  {
   "cell_type": "markdown",
   "id": "6940acb4",
   "metadata": {},
   "source": [
    "__243 timedelta__  \n",
    "datetime 모듈의 timedelta를 사용해서 오늘로부터 5일, 4일, 3일, 2일, 1일 전의 날짜를 화면에 출력해보세요."
   ]
  },
  {
   "cell_type": "code",
   "execution_count": 3,
   "id": "ea1b8e6a",
   "metadata": {},
   "outputs": [
    {
     "name": "stdout",
     "output_type": "stream",
     "text": [
      "2024-01-24\n",
      "2024-01-25\n",
      "2024-01-26\n",
      "2024-01-27\n",
      "2024-01-28\n"
     ]
    }
   ],
   "source": [
    "now = datetime.datetime.now()\n",
    "five_days_ago = now - datetime.timedelta(days = 5)\n",
    "four_days_ago = now - datetime.timedelta(days = 4)\n",
    "three_days_ago = now - datetime.timedelta(days = 3)\n",
    "two_days_ago = now - datetime.timedelta(days = 2)\n",
    "one_days_ago = now - datetime.timedelta(days = 1)\n",
    "\n",
    "print(five_days_ago.date())\n",
    "print(four_days_ago.date())\n",
    "print(three_days_ago.date())\n",
    "print(two_days_ago.date())\n",
    "print(one_days_ago.date())"
   ]
  },
  {
   "cell_type": "markdown",
   "id": "c602826d",
   "metadata": {},
   "source": [
    "혹은"
   ]
  },
  {
   "cell_type": "code",
   "execution_count": 4,
   "id": "bfb9bf68",
   "metadata": {},
   "outputs": [
    {
     "name": "stdout",
     "output_type": "stream",
     "text": [
      "2024-01-24\n",
      "2024-01-25\n",
      "2024-01-26\n",
      "2024-01-27\n",
      "2024-01-28\n"
     ]
    }
   ],
   "source": [
    "now_date = datetime.datetime.now().date()\n",
    "\n",
    "for days in range(5, 0, -1):\n",
    "    delta = now_date - datetime.timedelta(days)\n",
    "    print(delta)"
   ]
  },
  {
   "cell_type": "markdown",
   "id": "4457ba21",
   "metadata": {},
   "source": [
    " "
   ]
  },
  {
   "cell_type": "markdown",
   "id": "c3998d89",
   "metadata": {},
   "source": [
    "__244 strftime__  \n",
    "현재시간을 얻어온 후 다음과 같은 포맷으로 시간을 출력해보세요. strftime 메서드를 사용하세요.  \n",
    "```18:35:01```"
   ]
  },
  {
   "cell_type": "code",
   "execution_count": 5,
   "id": "71d6afc3",
   "metadata": {},
   "outputs": [
    {
     "name": "stdout",
     "output_type": "stream",
     "text": [
      "23:14:12\n"
     ]
    }
   ],
   "source": [
    "now = datetime.datetime.now()\n",
    "print(now.strftime('%H:%M:%S'))"
   ]
  },
  {
   "cell_type": "markdown",
   "id": "04222092",
   "metadata": {},
   "source": [
    " "
   ]
  },
  {
   "cell_type": "markdown",
   "id": "d589ebd1",
   "metadata": {},
   "source": [
    "__245 strptime__  \n",
    "datetime.datetime.strptime 메서드를 사용하면 문자열 형식의 시간을 datetime.datetime 타입의 시간 값으로 만들어줍니다.  \n",
    "\"2020-05-04\"의 문자열을 시간 타입으로 변환해보세요."
   ]
  },
  {
   "cell_type": "code",
   "execution_count": 6,
   "id": "73c865ac",
   "metadata": {},
   "outputs": [
    {
     "name": "stdout",
     "output_type": "stream",
     "text": [
      "2020-05-04 00:00:00\n"
     ]
    }
   ],
   "source": [
    "type_change = datetime.datetime.strptime(\"2020-05-04\", \"%Y-%m-%d\")\n",
    "print(type_change)"
   ]
  },
  {
   "cell_type": "markdown",
   "id": "11b8b82d",
   "metadata": {},
   "source": [
    " "
   ]
  },
  {
   "cell_type": "markdown",
   "id": "96aca677",
   "metadata": {},
   "source": [
    "__246 sleep 함수__  \n",
    "time 모듈, datetime 모듈을 사용해서 1초에 한 번 현재 시간을 출력하는 코드를 작성하세요."
   ]
  },
  {
   "cell_type": "code",
   "execution_count": 7,
   "id": "0ae126ed",
   "metadata": {},
   "outputs": [],
   "source": [
    "import time\n",
    "now = datetime.datetime.now()\n",
    "\n",
    "# 무한루프\n",
    "# while True:\n",
    "#     print(now)\n",
    "#     time.sleep(1)"
   ]
  },
  {
   "cell_type": "markdown",
   "id": "f3c9500a",
   "metadata": {},
   "source": [
    "__247 모듈 임포트__  \n",
    "모듈을 임포트하는 4가지 방식에 대해 설명해보세요."
   ]
  },
  {
   "cell_type": "markdown",
   "id": "bf0c7ddc",
   "metadata": {},
   "source": [
    "1. import module\n",
    "    - 모듈 내의 함수에 접근 가능함\n",
    "2. import module as nickname\n",
    "    - 모듈 이름 대신 새 이름으로 함수를 호출\n",
    "3. from module import function\n",
    "    - 함수를 호출할 때 모듈이름을 지정하지 않고도 바로 모듈 안의 함수를 호출할 수 있음.\n",
    "4. from module import *\n",
    "    - 모듈 안에 있는 모든 것(*)을 호출"
   ]
  },
  {
   "cell_type": "markdown",
   "id": "5924a5cf",
   "metadata": {},
   "source": [
    " "
   ]
  },
  {
   "cell_type": "markdown",
   "id": "92757fe4",
   "metadata": {},
   "source": [
    "__248 os 모듈__  \n",
    "os 모듈의 getcwd 함수를 호출하여 현재 디렉터리의 경로를 화면에 출력해보세요."
   ]
  },
  {
   "cell_type": "code",
   "execution_count": 8,
   "id": "1cbf39c3",
   "metadata": {},
   "outputs": [
    {
     "data": {
      "text/plain": [
       "'C:\\\\Users\\\\pc\\\\초보자를_위한_파이썬_300제'"
      ]
     },
     "execution_count": 8,
     "metadata": {},
     "output_type": "execute_result"
    }
   ],
   "source": [
    "import os\n",
    "os.getcwd()"
   ]
  },
  {
   "cell_type": "markdown",
   "id": "a4920280",
   "metadata": {},
   "source": [
    " "
   ]
  },
  {
   "cell_type": "markdown",
   "id": "a6f5fedd",
   "metadata": {},
   "source": [
    "__249 rename 함수__  \n",
    "바탕화면에 텍스트 파일을 하나 생성한 후 os 모듈의 rename 함수를 호출하여 해당 파일의 이름을 변경해보세요."
   ]
  },
  {
   "cell_type": "code",
   "execution_count": 9,
   "id": "614fcfde",
   "metadata": {},
   "outputs": [],
   "source": [
    "os.rename('C:\\\\Users\\\\pc\\\\Desktop\\\\test.txt', 'C:\\\\Users\\\\pc\\\\Desktop\\\\change.txt')"
   ]
  },
  {
   "cell_type": "markdown",
   "id": "07180c5f",
   "metadata": {},
   "source": [
    " "
   ]
  },
  {
   "cell_type": "markdown",
   "id": "2d58a221",
   "metadata": {},
   "source": [
    "__250 numpy__  \n",
    "numpy 모듈의 arange 함수를 사용해서 0.0 부터 5.0까지 0.1씩 증가하는 값을 화면에 출력해보세요."
   ]
  },
  {
   "cell_type": "code",
   "execution_count": 10,
   "id": "755e61d9",
   "metadata": {},
   "outputs": [
    {
     "data": {
      "text/plain": [
       "array([0. , 0.1, 0.2, 0.3, 0.4, 0.5, 0.6, 0.7, 0.8, 0.9, 1. , 1.1, 1.2,\n",
       "       1.3, 1.4, 1.5, 1.6, 1.7, 1.8, 1.9, 2. , 2.1, 2.2, 2.3, 2.4, 2.5,\n",
       "       2.6, 2.7, 2.8, 2.9, 3. , 3.1, 3.2, 3.3, 3.4, 3.5, 3.6, 3.7, 3.8,\n",
       "       3.9, 4. , 4.1, 4.2, 4.3, 4.4, 4.5, 4.6, 4.7, 4.8, 4.9])"
      ]
     },
     "execution_count": 10,
     "metadata": {},
     "output_type": "execute_result"
    }
   ],
   "source": [
    "import numpy as np\n",
    "np.arange(0, 5, 0.1)"
   ]
  },
  {
   "cell_type": "code",
   "execution_count": 11,
   "id": "ec1596bc",
   "metadata": {},
   "outputs": [
    {
     "name": "stdout",
     "output_type": "stream",
     "text": [
      "0.0\n",
      "0.1\n",
      "0.2\n",
      "0.30000000000000004\n",
      "0.4\n",
      "0.5\n",
      "0.6000000000000001\n",
      "0.7000000000000001\n",
      "0.8\n",
      "0.9\n",
      "1.0\n",
      "1.1\n",
      "1.2000000000000002\n",
      "1.3\n",
      "1.4000000000000001\n",
      "1.5\n",
      "1.6\n",
      "1.7000000000000002\n",
      "1.8\n",
      "1.9000000000000001\n",
      "2.0\n",
      "2.1\n",
      "2.2\n",
      "2.3000000000000003\n",
      "2.4000000000000004\n",
      "2.5\n",
      "2.6\n",
      "2.7\n",
      "2.8000000000000003\n",
      "2.9000000000000004\n",
      "3.0\n",
      "3.1\n",
      "3.2\n",
      "3.3000000000000003\n",
      "3.4000000000000004\n",
      "3.5\n",
      "3.6\n",
      "3.7\n",
      "3.8000000000000003\n",
      "3.9000000000000004\n",
      "4.0\n",
      "4.1000000000000005\n",
      "4.2\n",
      "4.3\n",
      "4.4\n",
      "4.5\n",
      "4.6000000000000005\n",
      "4.7\n",
      "4.800000000000001\n",
      "4.9\n"
     ]
    }
   ],
   "source": [
    "for i in np.arange(0, 5, 0.1):\n",
    "    print(i)"
   ]
  }
 ],
 "metadata": {
  "kernelspec": {
   "display_name": "Python 3 (ipykernel)",
   "language": "python",
   "name": "python3"
  },
  "language_info": {
   "codemirror_mode": {
    "name": "ipython",
    "version": 3
   },
   "file_extension": ".py",
   "mimetype": "text/x-python",
   "name": "python",
   "nbconvert_exporter": "python",
   "pygments_lexer": "ipython3",
   "version": "3.11.5"
  }
 },
 "nbformat": 4,
 "nbformat_minor": 5
}

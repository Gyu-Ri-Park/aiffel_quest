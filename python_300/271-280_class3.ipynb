{
 "cells": [
  {
   "cell_type": "markdown",
   "id": "c2bd0341",
   "metadata": {},
   "source": [
    "__271 Account 클래스__  \n",
    "은행에 가서 계좌를 개설하면 은행이름, 예금주, 계좌번호, 잔액이 설정됩니다. Account 클래스를 생성한 후 생성자를 구현해보세요. 생성자에서는 예금주와 초기 잔액만 입력 받습니다. 은행이름은 SC은행으로 계좌번호는 3자리-2자리-6자리 형태로 랜덤하게 생성됩니다.\n",
    "```\n",
    "은행이름: SC은행\n",
    "계좌번호: 111-11-111111\n",
    "```"
   ]
  },
  {
   "cell_type": "code",
   "execution_count": 1,
   "id": "2f723552",
   "metadata": {},
   "outputs": [],
   "source": [
    "import random\n",
    "\n",
    "class Account:\n",
    "    def __init__(self, name, bal):\n",
    "        self.name = name\n",
    "        self.bal = bal\n",
    "        self.bank = \"SC은행\"\n",
    "        \n",
    "        num_first = random.randrange(0, 999)\n",
    "        num_mid = random.randrange(0, 99)\n",
    "        num_last = random.randrange(0, 999999)\n",
    "        \n",
    "        self.account_num = str(num_first).zfill(3) + '-' + str(num_mid).zfill(2) + '-' + str(num_last).zfill(6)\n",
    "        # .zfill() 메서드를 사용하면, 각 부분의 숫자를 특정 길이로 채우며,\n",
    "        # 필요한 경우 앞을 '0'으로 채워서 항상 일정한 형식의 계좌번호를 생성할 수 있음"
   ]
  },
  {
   "cell_type": "code",
   "execution_count": 2,
   "id": "3e380e9d",
   "metadata": {},
   "outputs": [
    {
     "name": "stdout",
     "output_type": "stream",
     "text": [
      "김철수\n",
      "1000\n",
      "SC은행\n",
      "238-54-015365\n"
     ]
    }
   ],
   "source": [
    "kim = Account('김철수', 1000)\n",
    "\n",
    "print(kim.name)\n",
    "print(kim.bal)\n",
    "print(kim.bank)\n",
    "print(kim.account_num)"
   ]
  },
  {
   "cell_type": "markdown",
   "id": "910428c7",
   "metadata": {},
   "source": [
    " "
   ]
  },
  {
   "cell_type": "markdown",
   "id": "426445c0",
   "metadata": {},
   "source": [
    "__272 클래스 변수__  \n",
    "클래스 변수를 사용해서 Account 클래스로부터 생성된 계좌 객체의 개수를 저장하세요."
   ]
  },
  {
   "cell_type": "code",
   "execution_count": 3,
   "id": "5ed5b127",
   "metadata": {},
   "outputs": [],
   "source": [
    "import random\n",
    "\n",
    "class Account:\n",
    "    account_count = 0\n",
    "    \n",
    "    def __init__(self, name, bal):\n",
    "        self.name = name\n",
    "        self.bal = bal\n",
    "        self.bank = \"SC은행\"\n",
    "        \n",
    "        num_first = random.randrange(0, 999)\n",
    "        num_mid = random.randrange(0, 99)\n",
    "        num_last = random.randrange(0, 999999)\n",
    "        \n",
    "        self.account_num = str(num_first).zfill(3) + '-' + str(num_mid).zfill(2) + '-' + str(num_last).zfill(6)\n",
    "        \n",
    "        Account.account_count += 1"
   ]
  },
  {
   "cell_type": "code",
   "execution_count": 4,
   "id": "11a7b843",
   "metadata": {},
   "outputs": [
    {
     "name": "stdout",
     "output_type": "stream",
     "text": [
      "1\n",
      "2\n"
     ]
    }
   ],
   "source": [
    "kim = Account(\"김철수\", 1000)\n",
    "print(Account.account_count)\n",
    "lee = Account(\"이영희\", 1000)\n",
    "print(Account.account_count)"
   ]
  },
  {
   "cell_type": "markdown",
   "id": "8de5f87e",
   "metadata": {},
   "source": [
    " "
   ]
  },
  {
   "cell_type": "markdown",
   "id": "477c6c42",
   "metadata": {},
   "source": [
    "__273 클래스 변수 출력__  \n",
    "Account 클래스로부터 생성된 계좌의 개수를 출력하는 get_account_num() 메서드를 추가하세요."
   ]
  },
  {
   "cell_type": "code",
   "execution_count": 5,
   "id": "90d55d62",
   "metadata": {},
   "outputs": [],
   "source": [
    "import random\n",
    "\n",
    "class Account:\n",
    "    account_count = 0\n",
    "    \n",
    "    def __init__(self, name, bal):\n",
    "        self.name = name\n",
    "        self.bal = bal\n",
    "        self.bank = \"SC은행\"\n",
    "        \n",
    "        num_first = random.randrange(0, 999)\n",
    "        num_mid = random.randrange(0, 99)\n",
    "        num_last = random.randrange(0, 999999)\n",
    "        \n",
    "        self.account_num = str(num_first).zfill(3) + '-' + str(num_mid).zfill(2) + '-' + str(num_last).zfill(6)\n",
    "        \n",
    "        Account.account_count += 1\n",
    "    \n",
    "    def get_account_num(self):\n",
    "        return Account.account_count"
   ]
  },
  {
   "cell_type": "code",
   "execution_count": 6,
   "id": "dba14389",
   "metadata": {},
   "outputs": [
    {
     "data": {
      "text/plain": [
       "3"
      ]
     },
     "execution_count": 6,
     "metadata": {},
     "output_type": "execute_result"
    }
   ],
   "source": [
    "kim = Account(\"김철수\", 1000)\n",
    "lee = Account(\"이영희\", 1000)\n",
    "park = Account(\"박민수\", 1000)\n",
    "kim.get_account_num()"
   ]
  },
  {
   "cell_type": "markdown",
   "id": "68e20267",
   "metadata": {},
   "source": [
    " "
   ]
  },
  {
   "cell_type": "markdown",
   "id": "7abf5999",
   "metadata": {},
   "source": [
    "__274 입금 메서드__  \n",
    "Account 클래스에 입금을 위한 deposit 메서드를 추가하세요. 입금은 최소 1원 이상만 가능합니다."
   ]
  },
  {
   "cell_type": "code",
   "execution_count": 7,
   "id": "e8b04056",
   "metadata": {},
   "outputs": [],
   "source": [
    "import random\n",
    "\n",
    "class Account:\n",
    "    account_count = 0\n",
    "    \n",
    "    def __init__(self, name, bal):\n",
    "        self.name = name\n",
    "        self.bal = bal\n",
    "        self.bank = \"SC은행\"\n",
    "        \n",
    "        num_first = random.randrange(0, 999)\n",
    "        num_mid = random.randrange(0, 99)\n",
    "        num_last = random.randrange(0, 999999)\n",
    "        \n",
    "        self.account_num = str(num_first).zfill(3) + '-' + str(num_mid).zfill(2) + '-' + str(num_last).zfill(6)\n",
    "        \n",
    "        Account.account_count += 1\n",
    "    \n",
    "    def get_account_num(self):\n",
    "        return Account.account_count\n",
    "    \n",
    "    def deposit(self, amount):\n",
    "        if amount <= 0:\n",
    "            print(\"입금은 최소 1원 이상만 가능합니다.\")\n",
    "        else:\n",
    "            self.bal += amount\n",
    "            print(f\"현재 {self.name} 님의 잔고는 {self.bal} 원 입니다.\")"
   ]
  },
  {
   "cell_type": "code",
   "execution_count": 8,
   "id": "81d63982",
   "metadata": {},
   "outputs": [
    {
     "name": "stdout",
     "output_type": "stream",
     "text": [
      "입금은 최소 1원 이상만 가능합니다.\n"
     ]
    }
   ],
   "source": [
    "kim = Account(\"김철수\", 1000)\n",
    "kim.deposit(0)"
   ]
  },
  {
   "cell_type": "code",
   "execution_count": 9,
   "id": "8fec4cf5",
   "metadata": {},
   "outputs": [
    {
     "name": "stdout",
     "output_type": "stream",
     "text": [
      "현재 김철수 님의 잔고는 1500 원 입니다.\n"
     ]
    }
   ],
   "source": [
    "kim = Account(\"김철수\", 1000)\n",
    "kim.deposit(500)"
   ]
  },
  {
   "cell_type": "markdown",
   "id": "b417c020",
   "metadata": {},
   "source": [
    " "
   ]
  },
  {
   "cell_type": "markdown",
   "id": "a13be288",
   "metadata": {},
   "source": [
    "__275 출금 메서드__  \n",
    "Account 클래스에 출금을 위한 withdraw 메서드를 추가하세요. 출금은 계좌의 잔고 이상으로 출금할 수는 없습니다."
   ]
  },
  {
   "cell_type": "code",
   "execution_count": 10,
   "id": "ca5ae01a",
   "metadata": {},
   "outputs": [],
   "source": [
    "import random\n",
    "\n",
    "class Account:\n",
    "    account_count = 0\n",
    "    \n",
    "    def __init__(self, name, bal):\n",
    "        self.name = name\n",
    "        self.bal = bal\n",
    "        self.bank = \"SC은행\"\n",
    "        \n",
    "        num_first = random.randrange(0, 999)\n",
    "        num_mid = random.randrange(0, 99)\n",
    "        num_last = random.randrange(0, 999999)\n",
    "        \n",
    "        self.account_num = str(num_first).zfill(3) + '-' + str(num_mid).zfill(2) + '-' + str(num_last).zfill(6)\n",
    "        \n",
    "        Account.account_count += 1\n",
    "    \n",
    "    def get_account_num(self):\n",
    "        return Account.account_count\n",
    "    \n",
    "    def deposit(self, amount):\n",
    "        if amount <= 0:\n",
    "            print(\"입금은 최소 1원 이상만 가능합니다.\")\n",
    "        else:\n",
    "            self.bal += amount\n",
    "            print(f\"현재 {self.name} 님의 잔고는 {self.bal} 원 입니다.\")\n",
    "    \n",
    "    def withdraw(self, amount):\n",
    "        if amount >= self.bal:\n",
    "            print(f\"현재 {self.name} 님의 잔고는 {self.bal} 원 입니다. 잔고 이상의 금액({amount} 원)은 출금할 수 없습니다.\")\n",
    "        else:\n",
    "            self.bal -= amount\n",
    "            print(f\"{amount} 원이 출금되었습니다. {self.name} 님의 잔고는 {self.bal} 원 입니다.\")"
   ]
  },
  {
   "cell_type": "code",
   "execution_count": 11,
   "id": "4072fb76",
   "metadata": {},
   "outputs": [
    {
     "name": "stdout",
     "output_type": "stream",
     "text": [
      "현재 김철수 님의 잔고는 1000 원 입니다. 잔고 이상의 금액(1500 원)은 출금할 수 없습니다.\n"
     ]
    }
   ],
   "source": [
    "kim = Account(\"김철수\", 1000)\n",
    "kim.withdraw(1500)"
   ]
  },
  {
   "cell_type": "code",
   "execution_count": 12,
   "id": "a5daed61",
   "metadata": {},
   "outputs": [
    {
     "name": "stdout",
     "output_type": "stream",
     "text": [
      "500 원이 출금되었습니다. 김철수 님의 잔고는 500 원 입니다.\n"
     ]
    }
   ],
   "source": [
    "kim = Account(\"김철수\", 1000)\n",
    "kim.withdraw(500)"
   ]
  },
  {
   "cell_type": "markdown",
   "id": "e5922b26",
   "metadata": {},
   "source": [
    " "
   ]
  },
  {
   "cell_type": "markdown",
   "id": "d73d99a9",
   "metadata": {},
   "source": [
    "__276 정보 출력 메서드__  \n",
    "Account 인스턴스에 저장된 정보를 출력하는 display_info() 메서드를 추가하세요. 잔고는 세자리마다 쉼표를 출력하세요.\n",
    "\n",
    "은행이름: SC은행  \n",
    "예금주: 파이썬  \n",
    "계좌번호: 111-11-111111  \n",
    "잔고: 10,000원  "
   ]
  },
  {
   "cell_type": "code",
   "execution_count": 13,
   "id": "4caa4737",
   "metadata": {},
   "outputs": [],
   "source": [
    "import random\n",
    "\n",
    "class Account:\n",
    "    account_count = 0\n",
    "    \n",
    "    def __init__(self, name, bal):\n",
    "        self.name = name\n",
    "        self.bal = bal\n",
    "        self.bank = \"SC은행\"\n",
    "        \n",
    "        num_first = random.randrange(0, 999)\n",
    "        num_mid = random.randrange(0, 99)\n",
    "        num_last = random.randrange(0, 999999)\n",
    "        \n",
    "        self.account_num = str(num_first).zfill(3) + '-' + str(num_mid).zfill(2) + '-' + str(num_last).zfill(6)\n",
    "        \n",
    "        Account.account_count += 1\n",
    "    \n",
    "    def get_account_num(self):\n",
    "        return Account.account_count\n",
    "    \n",
    "    def deposit(self, amount):\n",
    "        if amount <= 0:\n",
    "            print(\"입금은 최소 1원 이상만 가능합니다.\")\n",
    "        else:\n",
    "            self.bal += amount\n",
    "            print(f\"현재 {self.name} 님의 잔고는 {self.bal} 원 입니다.\")\n",
    "    \n",
    "    def withdraw(self, amount):\n",
    "        if amount >= self.bal:\n",
    "            print(f\"현재 {self.name} 님의 잔고는 {self.bal} 원 입니다. 잔고 이상의 금액({amount} 원)은 출금할 수 없습니다.\")\n",
    "        else:\n",
    "            self.bal -= amount\n",
    "            print(f\"{amount} 원이 출금되었습니다. {self.name} 님의 잔고는 {self.bal} 원 입니다.\")\n",
    "    \n",
    "    def display_info(self):\n",
    "        print(f\"은행이름: {self.bank}\\n예금주: {self.name}\\n계좌번호: {self.account_num}\\n잔고: {self.bal:,}\")"
   ]
  },
  {
   "cell_type": "code",
   "execution_count": 14,
   "id": "3c237ca7",
   "metadata": {},
   "outputs": [
    {
     "name": "stdout",
     "output_type": "stream",
     "text": [
      "은행이름: SC은행\n",
      "예금주: 파이썬\n",
      "계좌번호: 563-70-566675\n",
      "잔고: 10,000\n"
     ]
    }
   ],
   "source": [
    "p = Account(\"파이썬\", 10000)\n",
    "p.display_info()"
   ]
  },
  {
   "cell_type": "markdown",
   "id": "ed52b2a1",
   "metadata": {},
   "source": [
    " "
   ]
  },
  {
   "cell_type": "markdown",
   "id": "8cbbc592",
   "metadata": {},
   "source": [
    "__277 이자 지급하기__  \n",
    "입금 횟수가 5회가 될 때 잔고를 기준으로 1%의 이자가 잔고에 추가되도록 코드를 변경해보세요."
   ]
  },
  {
   "cell_type": "code",
   "execution_count": 15,
   "id": "4ac2fba7",
   "metadata": {},
   "outputs": [],
   "source": [
    "import random\n",
    "\n",
    "class Account:\n",
    "    account_count = 0\n",
    "    \n",
    "    def __init__(self, name, bal):\n",
    "        self.name = name\n",
    "        self.bal = bal\n",
    "        self.bank = \"SC은행\"\n",
    "        \n",
    "        num_first = random.randrange(0, 999)\n",
    "        num_mid = random.randrange(0, 99)\n",
    "        num_last = random.randrange(0, 999999)\n",
    "        \n",
    "        self.account_num = str(num_first).zfill(3) + '-' + str(num_mid).zfill(2) + '-' + str(num_last).zfill(6)\n",
    "        \n",
    "        Account.account_count += 1\n",
    "        \n",
    "        self.deposit_count = 0\n",
    "    \n",
    "    def get_account_num(self):\n",
    "        return Account.account_count\n",
    "    \n",
    "    def deposit(self, amount):\n",
    "        if amount <= 0:\n",
    "            print(\"입금은 최소 1원 이상만 가능합니다.\")\n",
    "        else:\n",
    "            self.bal += amount\n",
    "            print(f\"{amount} 원을 입금하셨습니다. 현재 {self.name} 님의 잔고는 {self.bal} 원 입니다.\")\n",
    "                \n",
    "            self.deposit_count += 1\n",
    "            if self.deposit_count % 5 == 0:\n",
    "                self.bal = (self.bal*1.01)\n",
    "                print(f\"입금횟수가 {self.deposit_count}회입니다. 이자가 1% 지급됩니다. 이자 지급 후 잔고는 {self.bal} 원 입니다.\")\n",
    "    \n",
    "    def withdraw(self, amount):\n",
    "        if amount >= self.bal:\n",
    "            print(f\"현재 {self.name} 님의 잔고는 {self.bal} 원 입니다. 잔고 이상의 금액({amount} 원)은 출금할 수 없습니다.\")\n",
    "        else:\n",
    "            self.bal -= amount\n",
    "            print(f\"{amount} 원이 출금되었습니다. {self.name} 님의 잔고는 {self.bal} 원 입니다.\")\n",
    "    \n",
    "    def display_info(self):\n",
    "        print(f\"은행이름: {self.bank}\\n예금주: {self.name}\\n계좌번호: {self.account_num}\\n잔고: {self.bal:,}\")"
   ]
  },
  {
   "cell_type": "code",
   "execution_count": 16,
   "id": "a788e414",
   "metadata": {},
   "outputs": [
    {
     "name": "stdout",
     "output_type": "stream",
     "text": [
      "1000 원을 입금하셨습니다. 현재 파이썬 님의 잔고는 11000 원 입니다.\n",
      "1000 원을 입금하셨습니다. 현재 파이썬 님의 잔고는 12000 원 입니다.\n",
      "1000 원을 입금하셨습니다. 현재 파이썬 님의 잔고는 13000 원 입니다.\n",
      "1000 원을 입금하셨습니다. 현재 파이썬 님의 잔고는 14000 원 입니다.\n",
      "1000 원을 입금하셨습니다. 현재 파이썬 님의 잔고는 15000 원 입니다.\n",
      "입금횟수가 5회입니다. 이자가 1% 지급됩니다. 이자 지급 후 잔고는 15150.0 원 입니다.\n"
     ]
    },
    {
     "data": {
      "text/plain": [
       "15150.0"
      ]
     },
     "execution_count": 16,
     "metadata": {},
     "output_type": "execute_result"
    }
   ],
   "source": [
    "p = Account(\"파이썬\", 10000)\n",
    "p.deposit(1000)\n",
    "p.deposit(1000)\n",
    "p.deposit(1000)\n",
    "p.deposit(1000)\n",
    "p.deposit(1000)\n",
    "p.bal"
   ]
  },
  {
   "cell_type": "markdown",
   "id": "386071be",
   "metadata": {},
   "source": [
    " "
   ]
  },
  {
   "cell_type": "markdown",
   "id": "fc6d2972",
   "metadata": {},
   "source": [
    "__278 여러 객체 생성__  \n",
    "Account 클래스로부터 3개 이상 인스턴스를 생성하고 생성된 인스턴스를 리스트에 저장해보세요."
   ]
  },
  {
   "cell_type": "code",
   "execution_count": 17,
   "id": "f287c5b1",
   "metadata": {},
   "outputs": [
    {
     "name": "stdout",
     "output_type": "stream",
     "text": [
      "[<__main__.Account object at 0x000002E615EB1D50>, <__main__.Account object at 0x000002E615E4EF90>, <__main__.Account object at 0x000002E615EC3450>]\n"
     ]
    }
   ],
   "source": [
    "data = []\n",
    "k = Account(\"김철수\", 10000)\n",
    "l = Account(\"이영희\", 50000)\n",
    "p = Account(\"박민수\", 1000000)\n",
    "\n",
    "data.append(k)\n",
    "data.append(l)\n",
    "data.append(p)\n",
    "\n",
    "print(data)"
   ]
  },
  {
   "cell_type": "markdown",
   "id": "d6d24202",
   "metadata": {},
   "source": [
    " "
   ]
  },
  {
   "cell_type": "markdown",
   "id": "9f112708",
   "metadata": {},
   "source": [
    "__279 객체 순회__  \n",
    "반복문을 통해 리스트에 있는 객체를 순회하면서 잔고가 100만원 이상인 고객의 정보만 출력하세요."
   ]
  },
  {
   "cell_type": "code",
   "execution_count": 18,
   "id": "4a144bf5",
   "metadata": {},
   "outputs": [
    {
     "name": "stdout",
     "output_type": "stream",
     "text": [
      "은행이름: SC은행\n",
      "예금주: 박민수\n",
      "계좌번호: 606-50-636123\n",
      "잔고: 1,000,000\n"
     ]
    }
   ],
   "source": [
    "for i in data:\n",
    "    if i.bal >= 1000000:\n",
    "        i.display_info()"
   ]
  },
  {
   "cell_type": "markdown",
   "id": "923b1de4",
   "metadata": {},
   "source": [
    " "
   ]
  },
  {
   "cell_type": "markdown",
   "id": "2cee60b0",
   "metadata": {},
   "source": [
    "__280 입출금 내역__  \n",
    "입금과 출금 내역이 기록되도록 코드를 업데이트 하세요. 입금 내역과 출금 내역을 출력하는 deposit_history와 withdraw_history 메서드를 추가하세요."
   ]
  },
  {
   "cell_type": "code",
   "execution_count": 19,
   "id": "08663dcb",
   "metadata": {},
   "outputs": [],
   "source": [
    "import random\n",
    "\n",
    "class Account:\n",
    "    account_count = 0\n",
    "    \n",
    "    def __init__(self, name, bal):\n",
    "        self.name = name\n",
    "        self.bal = bal\n",
    "        self.bank = \"SC은행\"\n",
    "        \n",
    "        num_first = random.randrange(0, 999)\n",
    "        num_mid = random.randrange(0, 99)\n",
    "        num_last = random.randrange(0, 999999)\n",
    "        \n",
    "        self.account_num = str(num_first).zfill(3) + '-' + str(num_mid).zfill(2) + '-' + str(num_last).zfill(6)\n",
    "        \n",
    "        Account.account_count += 1\n",
    "        \n",
    "        self.deposit_count = 0\n",
    "        \n",
    "        self.deposit_log = []\n",
    "        self.withdraw_log = []\n",
    "    \n",
    "    def get_account_num(self):\n",
    "        return Account.account_count\n",
    "    \n",
    "    def deposit(self, amount):\n",
    "        if amount <= 0:\n",
    "            print(\"입금은 최소 1원 이상만 가능합니다.\")\n",
    "        else:\n",
    "            self.bal += amount\n",
    "            print(f\"{amount} 원을 입금하셨습니다. 현재 {self.name} 님의 잔고는 {self.bal} 원 입니다.\")\n",
    "                \n",
    "            self.deposit_log.append(amount)\n",
    "            self.deposit_count += 1\n",
    "            if self.deposit_count % 5 == 0:\n",
    "                self.bal = (self.bal*1.01)\n",
    "                print(f\"입금횟수가 {self.deposit_count}회입니다. 이자가 1% 지급됩니다. 이자 지급 후 잔고는 {self.bal} 원 입니다.\")\n",
    "    \n",
    "    def withdraw(self, amount):\n",
    "        if amount >= self.bal:\n",
    "            print(f\"현재 {self.name} 님의 잔고는 {self.bal} 원 입니다. 잔고 이상의 금액({amount} 원)은 출금할 수 없습니다.\")\n",
    "        else:\n",
    "            self.withdraw_log.append(amount)\n",
    "            \n",
    "            self.bal -= amount\n",
    "            print(f\"{amount} 원이 출금되었습니다. {self.name} 님의 잔고는 {self.bal} 원 입니다.\")\n",
    "    \n",
    "    def display_info(self):\n",
    "        print(f\"은행이름: {self.bank}\\n예금주: {self.name}\\n계좌번호: {self.account_num}\\n잔고: {self.bal:,}\")\n",
    "    \n",
    "    def withdraw_history(self):\n",
    "        for amount in self.withdraw_log:\n",
    "            print(amount)\n",
    "\n",
    "    def deposit_history(self):\n",
    "        for amount in self.deposit_log:\n",
    "            print(amount)"
   ]
  },
  {
   "cell_type": "code",
   "execution_count": 20,
   "id": "979307b4",
   "metadata": {},
   "outputs": [
    {
     "name": "stdout",
     "output_type": "stream",
     "text": [
      "100 원을 입금하셨습니다. 현재 Kim 님의 잔고는 1100 원 입니다.\n",
      "200 원을 입금하셨습니다. 현재 Kim 님의 잔고는 1300 원 입니다.\n",
      "300 원을 입금하셨습니다. 현재 Kim 님의 잔고는 1600 원 입니다.\n",
      "100\n",
      "200\n",
      "300\n",
      "100 원이 출금되었습니다. Kim 님의 잔고는 1500 원 입니다.\n",
      "200 원이 출금되었습니다. Kim 님의 잔고는 1300 원 입니다.\n",
      "100\n",
      "200\n"
     ]
    }
   ],
   "source": [
    "k = Account(\"Kim\", 1000)\n",
    "k.deposit(100)\n",
    "k.deposit(200)\n",
    "k.deposit(300)\n",
    "k.deposit_history()\n",
    "\n",
    "k.withdraw(100)\n",
    "k.withdraw(200)\n",
    "k.withdraw_history()"
   ]
  }
 ],
 "metadata": {
  "kernelspec": {
   "display_name": "Python 3 (ipykernel)",
   "language": "python",
   "name": "python3"
  },
  "language_info": {
   "codemirror_mode": {
    "name": "ipython",
    "version": 3
   },
   "file_extension": ".py",
   "mimetype": "text/x-python",
   "name": "python",
   "nbconvert_exporter": "python",
   "pygments_lexer": "ipython3",
   "version": "3.11.5"
  }
 },
 "nbformat": 4,
 "nbformat_minor": 5
}

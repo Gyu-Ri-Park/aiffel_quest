{
 "cells": [
  {
   "cell_type": "markdown",
   "id": "24f18eb6",
   "metadata": {},
   "source": [
    "__211__  \n",
    "함수의 호출 결과를 예측하라.\n",
    "```\n",
    "def 함수(문자열) :\n",
    "    print(문자열)\n",
    "\n",
    "함수(\"안녕\")\n",
    "함수(\"Hi\")\n",
    "```"
   ]
  },
  {
   "cell_type": "code",
   "execution_count": 1,
   "id": "9445f482",
   "metadata": {},
   "outputs": [],
   "source": [
    "# 예상:\n",
    "# 안녕\n",
    "# Hi"
   ]
  },
  {
   "cell_type": "code",
   "execution_count": 2,
   "id": "ba2c9f4b",
   "metadata": {},
   "outputs": [
    {
     "name": "stdout",
     "output_type": "stream",
     "text": [
      "안녕\n",
      "Hi\n"
     ]
    }
   ],
   "source": [
    "def 함수(문자열) :\n",
    "    print(문자열)\n",
    "\n",
    "함수(\"안녕\")\n",
    "함수(\"Hi\")"
   ]
  },
  {
   "cell_type": "markdown",
   "id": "652753d5",
   "metadata": {},
   "source": [
    " "
   ]
  },
  {
   "cell_type": "markdown",
   "id": "2c3b0a6a",
   "metadata": {},
   "source": [
    "__212__  \n",
    "함수의 호출 결과를 예측하라.\n",
    "```\n",
    "def 함수(a, b) :\n",
    "    print(a + b)\n",
    "\n",
    "함수(3, 4)\n",
    "함수(7, 8)\n",
    "```"
   ]
  },
  {
   "cell_type": "code",
   "execution_count": 3,
   "id": "4901ac49",
   "metadata": {},
   "outputs": [],
   "source": [
    "# 예상:\n",
    "# 7\n",
    "# 15"
   ]
  },
  {
   "cell_type": "code",
   "execution_count": 4,
   "id": "5de29e3e",
   "metadata": {},
   "outputs": [
    {
     "name": "stdout",
     "output_type": "stream",
     "text": [
      "7\n",
      "15\n"
     ]
    }
   ],
   "source": [
    "def 함수(a, b) :\n",
    "    print(a + b)\n",
    "\n",
    "함수(3, 4)\n",
    "함수(7, 8)"
   ]
  },
  {
   "cell_type": "markdown",
   "id": "87c9840f",
   "metadata": {},
   "source": [
    " "
   ]
  },
  {
   "cell_type": "markdown",
   "id": "7d715b78",
   "metadata": {},
   "source": [
    "__213__  \n",
    "아래와 같은 에러가 발생하는 원인을 설명하라.\n",
    "```\n",
    "def 함수(문자열) :\n",
    "    print(문자열)\n",
    "함수()\n",
    "```\n",
    "```TypeError: 함수() missing 1 required positional argument: '문자열'```"
   ]
  },
  {
   "cell_type": "code",
   "execution_count": 5,
   "id": "dc16b2f8",
   "metadata": {},
   "outputs": [],
   "source": [
    "# 함수의 정의와 달리 문자열(파라미터)을 제공하지 않았음."
   ]
  },
  {
   "cell_type": "markdown",
   "id": "0a554354",
   "metadata": {},
   "source": [
    " "
   ]
  },
  {
   "cell_type": "markdown",
   "id": "eeafb177",
   "metadata": {},
   "source": [
    "__214__  \n",
    "아래와 같은 에러가 발생하는 원인을 설명하라.\n",
    "```\n",
    "def 함수(a, b) :\n",
    "    print(a + b)\n",
    "\n",
    "함수(\"안녕\", 3)\n",
    "```\n",
    "```TypeError: must be str, not int```"
   ]
  },
  {
   "cell_type": "code",
   "execution_count": 6,
   "id": "2a7ce9af",
   "metadata": {},
   "outputs": [],
   "source": [
    "# 문자열과 정수는 더하기 연산이 불가능하다."
   ]
  },
  {
   "cell_type": "markdown",
   "id": "979abfde",
   "metadata": {},
   "source": [
    " "
   ]
  },
  {
   "cell_type": "markdown",
   "id": "cbdce32a",
   "metadata": {},
   "source": [
    "__215__  \n",
    "하나의 문자를 입력받아 문자열 끝에 \":D\" 스마일 문자열을 이어 붙여 출력하는 print_with_smile 함수를 정의하라."
   ]
  },
  {
   "cell_type": "code",
   "execution_count": 7,
   "id": "805a66cf",
   "metadata": {},
   "outputs": [],
   "source": [
    "def print_with_smile(str):\n",
    "    print(str + \":D\")"
   ]
  },
  {
   "cell_type": "markdown",
   "id": "77afe052",
   "metadata": {},
   "source": [
    " "
   ]
  },
  {
   "cell_type": "markdown",
   "id": "80759ce5",
   "metadata": {},
   "source": [
    "__216__  \n",
    "215에서 정의한 함수를 호출하라. 파라미터는 \"안녕하세요\"로 입력하라."
   ]
  },
  {
   "cell_type": "code",
   "execution_count": 8,
   "id": "5907cfc9",
   "metadata": {},
   "outputs": [
    {
     "name": "stdout",
     "output_type": "stream",
     "text": [
      "안녕하세요:D\n"
     ]
    }
   ],
   "source": [
    "print_with_smile(\"안녕하세요\")"
   ]
  },
  {
   "cell_type": "markdown",
   "id": "5d87f372",
   "metadata": {},
   "source": [
    " "
   ]
  },
  {
   "cell_type": "markdown",
   "id": "ba6ddac6",
   "metadata": {},
   "source": [
    "__217__  \n",
    "현재 가격을 입력 받아 상한가 (30%)를 출력하는 print_upper_price 함수를 정의하라."
   ]
  },
  {
   "cell_type": "code",
   "execution_count": 9,
   "id": "0d65956f",
   "metadata": {},
   "outputs": [],
   "source": [
    "def print_upper_price(price):\n",
    "    print(price * 1.3)"
   ]
  },
  {
   "cell_type": "markdown",
   "id": "04a27f5a",
   "metadata": {},
   "source": [
    " "
   ]
  },
  {
   "cell_type": "markdown",
   "id": "a88433b3",
   "metadata": {},
   "source": [
    "__218__  \n",
    "두 개의 숫자를 입력받아 두 수의 합을 출력하는 print_sum 함수를 정의하라."
   ]
  },
  {
   "cell_type": "code",
   "execution_count": 10,
   "id": "4f11e50c",
   "metadata": {},
   "outputs": [],
   "source": [
    "def print_sum(a, b):\n",
    "    print(a + b)"
   ]
  },
  {
   "cell_type": "markdown",
   "id": "59b94dbb",
   "metadata": {},
   "source": [
    " "
   ]
  },
  {
   "cell_type": "markdown",
   "id": "59ea5844",
   "metadata": {},
   "source": [
    "__219__  \n",
    "두 개의 숫자를 입력받아 합/차/곱/나눗셈을 출력하는 print_arithmetic_operation 함수를 작성하라.\n",
    "\n",
    "```print_arithmetic_operation(3, 4)```\n",
    "```\n",
    "3 + 4 = 7\n",
    "3 - 4 = -1\n",
    "3 * 4 = 12\n",
    "3 / 4 = 0.75\n",
    "```"
   ]
  },
  {
   "cell_type": "code",
   "execution_count": 11,
   "id": "552073cf",
   "metadata": {},
   "outputs": [],
   "source": [
    "def print_arithmetic_operation(a, b):\n",
    "    print(\"{} + {} = {}\".format(a, b, a + b))\n",
    "    print(\"{} - {} = {}\".format(a, b, a - b))\n",
    "    print(\"{} * {} = {}\".format(a, b, a * b))\n",
    "    print(\"{} / {} = {}\".format(a, b, a / b))"
   ]
  },
  {
   "cell_type": "markdown",
   "id": "e64e276c",
   "metadata": {},
   "source": [
    " "
   ]
  },
  {
   "cell_type": "markdown",
   "id": "f04fc8ed",
   "metadata": {},
   "source": [
    "__220__  \n",
    "세 개의 숫자를 입력받아 가장 큰수를 출력하는 print_max 함수를 정의하라. 단 if 문을 사용해서 수를 비교하라."
   ]
  },
  {
   "cell_type": "code",
   "execution_count": 12,
   "id": "2456a566",
   "metadata": {},
   "outputs": [],
   "source": [
    "def print_max(a, b, c):\n",
    "    if a > b:\n",
    "        print(a)\n",
    "    elif b > c:\n",
    "        print(b)\n",
    "    else:\n",
    "        print(c)"
   ]
  },
  {
   "cell_type": "markdown",
   "id": "e77e7f57",
   "metadata": {},
   "source": [
    "혹은"
   ]
  },
  {
   "cell_type": "code",
   "execution_count": 13,
   "id": "b7a22d46",
   "metadata": {},
   "outputs": [],
   "source": [
    "def print_max(a, b, c) :\n",
    "    max_val = 0\n",
    "    if a > max_val :\n",
    "        max_val = a\n",
    "    if b > max_val :\n",
    "        max_val = b\n",
    "    if c > max_val :\n",
    "        max_val = c\n",
    "    print(max_val)"
   ]
  }
 ],
 "metadata": {
  "kernelspec": {
   "display_name": "Python 3 (ipykernel)",
   "language": "python",
   "name": "python3"
  },
  "language_info": {
   "codemirror_mode": {
    "name": "ipython",
    "version": 3
   },
   "file_extension": ".py",
   "mimetype": "text/x-python",
   "name": "python",
   "nbconvert_exporter": "python",
   "pygments_lexer": "ipython3",
   "version": "3.11.5"
  }
 },
 "nbformat": 4,
 "nbformat_minor": 5
}

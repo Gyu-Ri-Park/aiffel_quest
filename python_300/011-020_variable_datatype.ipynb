{
 "cells": [
  {
   "cell_type": "markdown",
   "id": "1effa1c2",
   "metadata": {},
   "source": [
    "__011 변수 사용하기__  \n",
    "삼성전자라는 변수로 50,000원을 바인딩해보세요. 삼성전자 주식 10주를 보유하고 있을 때 총 평가금액을 출력하세요."
   ]
  },
  {
   "cell_type": "code",
   "execution_count": 1,
   "id": "ecc27a05",
   "metadata": {},
   "outputs": [
    {
     "name": "stdout",
     "output_type": "stream",
     "text": [
      "500000\n"
     ]
    }
   ],
   "source": [
    "samsung = 50000\n",
    "price = samsung * 10\n",
    "print(price)"
   ]
  },
  {
   "cell_type": "markdown",
   "id": "7eed4d1c",
   "metadata": {},
   "source": [
    " "
   ]
  },
  {
   "cell_type": "markdown",
   "id": "4ece32fa",
   "metadata": {},
   "source": [
    "__012 변수 사용하기__  \n",
    "다음 표는 삼성전자의 일부 투자정보입니다. 변수를 사용해서 시가총액, 현재가, PER 등을 바인딩해보세요.  \n",
    "\n",
    "항목     값  \n",
    "시가총액 298조  \n",
    "현재가   50,000원  \n",
    "PER      15.79  "
   ]
  },
  {
   "cell_type": "code",
   "execution_count": 2,
   "id": "2524760d",
   "metadata": {},
   "outputs": [
    {
     "name": "stdout",
     "output_type": "stream",
     "text": [
      "298000000000000 <class 'int'>\n",
      "50000 <class 'int'>\n",
      "15.79 <class 'float'>\n"
     ]
    }
   ],
   "source": [
    "시가총액 = 298000000000000\n",
    "현재가 = 50000\n",
    "PER = 15.79\n",
    "\n",
    "print(시가총액, type(시가총액))\n",
    "print(현재가, type(현재가))\n",
    "print(PER, type(PER))"
   ]
  },
  {
   "cell_type": "markdown",
   "id": "6a95b6b9",
   "metadata": {},
   "source": [
    " "
   ]
  },
  {
   "cell_type": "markdown",
   "id": "33f045ec",
   "metadata": {},
   "source": [
    "__013 문자열 출력__  \n",
    "변수 s와 t에는 각각 문자열이 바인딩 되어있습니다.  \n",
    "\n",
    "s = \"hello\"  \n",
    "t = \"python\"  \n",
    "\n",
    "두 변수를 이용하여 아래와 같이 출력해보세요.  \n",
    "\n",
    "실행 예: hello! python"
   ]
  },
  {
   "cell_type": "code",
   "execution_count": 3,
   "id": "239f7949",
   "metadata": {},
   "outputs": [
    {
     "name": "stdout",
     "output_type": "stream",
     "text": [
      "hello! python\n"
     ]
    }
   ],
   "source": [
    "s = \"hello\"\n",
    "t = \"python\"\n",
    "\n",
    "print(s+\"!\",t)"
   ]
  },
  {
   "cell_type": "markdown",
   "id": "651cb0d6",
   "metadata": {},
   "source": [
    " "
   ]
  },
  {
   "cell_type": "markdown",
   "id": "609d577f",
   "metadata": {},
   "source": [
    "__014 파이썬을 이용한 값 계산__  \n",
    "아래 코드의 실행 결과를 예상해보세요.  \n",
    "\n",
    "2 + 2 * 3 "
   ]
  },
  {
   "cell_type": "code",
   "execution_count": 4,
   "id": "0427ca5c",
   "metadata": {},
   "outputs": [
    {
     "name": "stdout",
     "output_type": "stream",
     "text": [
      "8\n"
     ]
    }
   ],
   "source": [
    "print(2 + 2 * 3)\n",
    "\n",
    "# 8"
   ]
  },
  {
   "cell_type": "markdown",
   "id": "ca3acec1",
   "metadata": {},
   "source": [
    " "
   ]
  },
  {
   "cell_type": "markdown",
   "id": "7dcfcbc1",
   "metadata": {},
   "source": [
    "__015 type 함수__  \n",
    "type() 함수는 데이터 타입을 판별합니다. 변수 a에는 128 숫자가 바인딩돼 있어 type 함수가 int (정수)형임을 알려줍니다.  \n",
    "\n",
    "a = 128  \n",
    "print (type(a))  \n",
    "<class 'int'>  \n",
    "\n",
    "아래 변수에 바인딩된 값의 타입을 판별해보세요.  \n",
    "\n",
    "a = \"132\""
   ]
  },
  {
   "cell_type": "code",
   "execution_count": 5,
   "id": "ea58babc",
   "metadata": {},
   "outputs": [
    {
     "data": {
      "text/plain": [
       "str"
      ]
     },
     "execution_count": 5,
     "metadata": {},
     "output_type": "execute_result"
    }
   ],
   "source": [
    "# 문자열 (str)\n",
    "a = \"132\"\n",
    "type(a)"
   ]
  },
  {
   "cell_type": "markdown",
   "id": "ad05ee37",
   "metadata": {},
   "source": [
    " "
   ]
  },
  {
   "cell_type": "markdown",
   "id": "8065af6a",
   "metadata": {},
   "source": [
    "__016 문자열을 정수로 변환__  \n",
    "문자열 '720'를 정수형으로 변환해보세요."
   ]
  },
  {
   "cell_type": "code",
   "execution_count": 6,
   "id": "ce4615d1",
   "metadata": {},
   "outputs": [
    {
     "name": "stdout",
     "output_type": "stream",
     "text": [
      "720 <class 'int'>\n"
     ]
    }
   ],
   "source": [
    "num_str = \"720\"   # str\n",
    "type_sti = int(num_str)  # sti: str to int\n",
    "print(type_sti, type(type_sti))"
   ]
  },
  {
   "cell_type": "markdown",
   "id": "949b91dc",
   "metadata": {},
   "source": [
    " \n",
    "    "
   ]
  },
  {
   "cell_type": "markdown",
   "id": "7db89ec4",
   "metadata": {},
   "source": [
    "__017 정수를 문자열 100으로 변환__  \n",
    "정수 100을 문자열 '100'으로 변환해보세요."
   ]
  },
  {
   "cell_type": "code",
   "execution_count": 7,
   "id": "77976772",
   "metadata": {},
   "outputs": [
    {
     "name": "stdout",
     "output_type": "stream",
     "text": [
      "100 <class 'str'>\n"
     ]
    }
   ],
   "source": [
    "num = 100   # int\n",
    "type_its = str(num)  # its: int to str\n",
    "print(type_its, type(type_its))"
   ]
  },
  {
   "cell_type": "markdown",
   "id": "5d726eac",
   "metadata": {},
   "source": [
    " "
   ]
  },
  {
   "cell_type": "markdown",
   "id": "64053e7c",
   "metadata": {},
   "source": [
    "__018 문자열을 실수로 변환__  \n",
    "문자열 \"15.79\"를 실수(float) 타입으로 변환해보세요."
   ]
  },
  {
   "cell_type": "code",
   "execution_count": 8,
   "id": "e37eb70d",
   "metadata": {},
   "outputs": [
    {
     "name": "stdout",
     "output_type": "stream",
     "text": [
      "15.79 <class 'float'>\n"
     ]
    }
   ],
   "source": [
    "num_str = \"15.79\"\n",
    "type_stf = float(num_str)  # stf: str to float\n",
    "print(type_stf, type(type_stf))"
   ]
  },
  {
   "cell_type": "markdown",
   "id": "5ba3e13a",
   "metadata": {},
   "source": [
    " "
   ]
  },
  {
   "cell_type": "markdown",
   "id": "a810af0a",
   "metadata": {},
   "source": [
    "__019 문자열을 정수로 변환__  \n",
    "year라는 변수가 문자열 타입의 연도를 바인딩하고 있습니다. 이를 정수로 변환한 후 최근 3년의 연도를 화면에 출력해보세요."
   ]
  },
  {
   "cell_type": "code",
   "execution_count": 9,
   "id": "29ce3189",
   "metadata": {},
   "outputs": [
    {
     "name": "stdout",
     "output_type": "stream",
     "text": [
      "2017 2018 2019\n"
     ]
    }
   ],
   "source": [
    "year = \"2020\"\n",
    "type_sti = int(year)\n",
    "print(type_sti-3, type_sti-2, type_sti-1)"
   ]
  },
  {
   "cell_type": "markdown",
   "id": "54bd5cc6",
   "metadata": {},
   "source": [
    " "
   ]
  },
  {
   "cell_type": "markdown",
   "id": "3f44f70b",
   "metadata": {},
   "source": [
    "__020 파이썬 계산__  \n",
    "에이컨이 월 48,584원에 무이자 36개월의 조건으로 홈쇼핑에서 판매되고 있습니다. 총 금액은 계산한 후 이를 화면에 출력해보세요. (변수사용하기)"
   ]
  },
  {
   "cell_type": "code",
   "execution_count": 10,
   "id": "e5d00206",
   "metadata": {},
   "outputs": [
    {
     "name": "stdout",
     "output_type": "stream",
     "text": [
      "1749024\n"
     ]
    }
   ],
   "source": [
    "price = 48584\n",
    "months = 36\n",
    "total = price * months\n",
    "print(total)"
   ]
  },
  {
   "cell_type": "code",
   "execution_count": null,
   "id": "f04c830e",
   "metadata": {},
   "outputs": [],
   "source": []
  }
 ],
 "metadata": {
  "kernelspec": {
   "display_name": "Python 3 (ipykernel)",
   "language": "python",
   "name": "python3"
  },
  "language_info": {
   "codemirror_mode": {
    "name": "ipython",
    "version": 3
   },
   "file_extension": ".py",
   "mimetype": "text/x-python",
   "name": "python",
   "nbconvert_exporter": "python",
   "pygments_lexer": "ipython3",
   "version": "3.11.5"
  }
 },
 "nbformat": 4,
 "nbformat_minor": 5
}

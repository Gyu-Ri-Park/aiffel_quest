{
 "cells": [
  {
   "cell_type": "code",
   "execution_count": 12,
   "id": "4c5de954",
   "metadata": {},
   "outputs": [],
   "source": [
    "import numpy as np\n",
    "import pandas as pd\n",
    "from pandas import Series"
   ]
  },
  {
   "cell_type": "markdown",
   "id": "386d300d",
   "metadata": {},
   "source": [
    "__121 dropna__\n",
    "다음과 같이 NaN이 포함된 시리즈 겍채에서 NaN 값을 제거하세요.\n",
    "```\n",
    "data = [1, 2, 3, 4, np.nan]\n",
    "s = Series(data=data)\n",
    "s\n",
    "```"
   ]
  },
  {
   "cell_type": "code",
   "execution_count": 2,
   "id": "fd03d210",
   "metadata": {},
   "outputs": [
    {
     "data": {
      "text/plain": [
       "0    1.0\n",
       "1    2.0\n",
       "2    3.0\n",
       "3    4.0\n",
       "dtype: float64"
      ]
     },
     "execution_count": 2,
     "metadata": {},
     "output_type": "execute_result"
    }
   ],
   "source": [
    "data = [1, 2, 3, 4, np.nan]\n",
    "s = Series(data=data)\n",
    "\n",
    "s.dropna()"
   ]
  },
  {
   "cell_type": "markdown",
   "id": "d805907f",
   "metadata": {},
   "source": [
    " "
   ]
  },
  {
   "cell_type": "markdown",
   "id": "0bdef474",
   "metadata": {},
   "source": [
    "__122 nlargest__  \n",
    "다음과 같은 시리즈 객체가 있을 때 nlargest 메서드를 사용하여 값이 큰 3개를 출력해보세요.\n",
    "```\n",
    "data = range(1, 11)\n",
    "s = Series(data=data)\n",
    "s\n",
    "```"
   ]
  },
  {
   "cell_type": "code",
   "execution_count": 3,
   "id": "b1e5972e",
   "metadata": {},
   "outputs": [
    {
     "data": {
      "text/plain": [
       "9    10\n",
       "8     9\n",
       "7     8\n",
       "dtype: int64"
      ]
     },
     "execution_count": 3,
     "metadata": {},
     "output_type": "execute_result"
    }
   ],
   "source": [
    "data = range(1, 11)\n",
    "s = Series(data=data)\n",
    "\n",
    "s.nlargest(3)"
   ]
  },
  {
   "cell_type": "markdown",
   "id": "4c98f092",
   "metadata": {},
   "source": [
    " "
   ]
  },
  {
   "cell_type": "markdown",
   "id": "9f6a49a4",
   "metadata": {},
   "source": [
    "__123 nsmallest__  \n",
    "다음과 같은 시리즈 객체가 있을 때 nsmallest 메서드를 사용하여 값이 작은 3개를 출력해보세요.\n",
    "```\n",
    "data = range(1, 11)\n",
    "s = Series(data=data)\n",
    "s\n",
    "```"
   ]
  },
  {
   "cell_type": "code",
   "execution_count": 4,
   "id": "e3768d4b",
   "metadata": {},
   "outputs": [
    {
     "data": {
      "text/plain": [
       "0    1\n",
       "1    2\n",
       "2    3\n",
       "dtype: int64"
      ]
     },
     "execution_count": 4,
     "metadata": {},
     "output_type": "execute_result"
    }
   ],
   "source": [
    "data = range(1, 11)\n",
    "s = Series(data=data)\n",
    "\n",
    "s.nsmallest(3)"
   ]
  },
  {
   "cell_type": "markdown",
   "id": "1028eeb1",
   "metadata": {},
   "source": [
    " "
   ]
  },
  {
   "cell_type": "markdown",
   "id": "86bf7908",
   "metadata": {},
   "source": [
    "__124 Series.dt.year__  \n",
    "다음 시리즈 객체의 값에서 연도만 출력하세요.\n",
    "```\n",
    "data = pd.to_datetime( ['20200101', '20210101', '20220101'] )\n",
    "s = pd.Series(data)\n",
    "```"
   ]
  },
  {
   "cell_type": "code",
   "execution_count": 5,
   "id": "a0c09780",
   "metadata": {},
   "outputs": [
    {
     "data": {
      "text/plain": [
       "0    2020\n",
       "1    2021\n",
       "2    2022\n",
       "dtype: int32"
      ]
     },
     "execution_count": 5,
     "metadata": {},
     "output_type": "execute_result"
    }
   ],
   "source": [
    "data = pd.to_datetime( ['20200101', '20210101', '20220101'] )\n",
    "s = pd.Series(data)\n",
    "\n",
    "s.dt.year"
   ]
  },
  {
   "cell_type": "markdown",
   "id": "d1fa2d73",
   "metadata": {},
   "source": [
    " "
   ]
  },
  {
   "cell_type": "markdown",
   "id": "2e5ce61c",
   "metadata": {},
   "source": [
    "__125 Series.dt.day__  \n",
    "다음 시리즈 객체의 값에서 '일'만 가져와 보세요.\n",
    "```\n",
    "data = pd.to_datetime( ['20200101', '20210101', '20220101'] )\n",
    "s = pd.Series(data)\n",
    "```"
   ]
  },
  {
   "cell_type": "code",
   "execution_count": 6,
   "id": "e30b646a",
   "metadata": {},
   "outputs": [
    {
     "data": {
      "text/plain": [
       "0    1\n",
       "1    1\n",
       "2    1\n",
       "dtype: int32"
      ]
     },
     "execution_count": 6,
     "metadata": {},
     "output_type": "execute_result"
    }
   ],
   "source": [
    "data = pd.to_datetime( ['20200101', '20210101', '20220101'] )\n",
    "s = pd.Series(data)\n",
    "\n",
    "s.dt.day"
   ]
  },
  {
   "cell_type": "markdown",
   "id": "35714130",
   "metadata": {},
   "source": [
    " "
   ]
  },
  {
   "cell_type": "markdown",
   "id": "335c1f6e",
   "metadata": {},
   "source": [
    "__126 시리즈 시계열 인덱스__  \n",
    "다음 시리즈 객체의 인덱스에서 연도만 가져오세요.\n",
    "```\n",
    "index = pd.to_datetime( ['20200101', '20210101', '20220101'] )\n",
    "data = [100, 200, 300]\n",
    "s = pd.Series(data=data, index=index)\n",
    "```"
   ]
  },
  {
   "cell_type": "code",
   "execution_count": 7,
   "id": "93a8c977",
   "metadata": {},
   "outputs": [
    {
     "data": {
      "text/plain": [
       "Index([2020, 2021, 2022], dtype='int32')"
      ]
     },
     "execution_count": 7,
     "metadata": {},
     "output_type": "execute_result"
    }
   ],
   "source": [
    "index = pd.to_datetime( ['20200101', '20210101', '20220101'] )\n",
    "data = [100, 200, 300]\n",
    "s = pd.Series(data=data, index=index)\n",
    "\n",
    "s.index.year"
   ]
  },
  {
   "cell_type": "markdown",
   "id": "f5098292",
   "metadata": {},
   "source": [
    " "
   ]
  },
  {
   "cell_type": "markdown",
   "id": "6a9049df",
   "metadata": {},
   "source": [
    "__127 strftime__  \n",
    "시리즈 객체에는 인덱스가 datetime64 타입으로 저장돼 있습니다.\n",
    "```\n",
    "index = pd.to_datetime( ['20200101', '20210101', '20220101'] )\n",
    "data = [100, 200, 300]\n",
    "s = pd.Series(data=data, index=index)\n",
    "```\n",
    "시리즈의 인덱스를 다음 포맷의 문자열로 변경하세요.\n",
    "```\n",
    "2020-01-01 00:00:00    100\n",
    "2021-01-01 00:00:00    200\n",
    "2022-01-01 00:00:00    300\n",
    "dtype: int64\n",
    "```"
   ]
  },
  {
   "cell_type": "code",
   "execution_count": 8,
   "id": "f6fa4e55",
   "metadata": {},
   "outputs": [
    {
     "data": {
      "text/plain": [
       "Index(['2020-01-01 00:00:00', '2021-01-01 00:00:00', '2022-01-01 00:00:00'], dtype='object')"
      ]
     },
     "execution_count": 8,
     "metadata": {},
     "output_type": "execute_result"
    }
   ],
   "source": [
    "s.index.strftime('%Y-%m-%d 00:00:00')"
   ]
  },
  {
   "cell_type": "markdown",
   "id": "26aef0da",
   "metadata": {},
   "source": [
    " "
   ]
  },
  {
   "cell_type": "markdown",
   "id": "ab4feffd",
   "metadata": {},
   "source": [
    "__128 Series.str.cat__  \n",
    "다음 시리즈 객체는 3종목의 종목 코드를 저장하고 있습니다.  \n",
    "```s = pd.Series([\"000020\", \"000040\", \"005930\"])```\n",
    "\n",
    "이를 다음과 같이 ';'로 구분된 문자열로 생성하세요.  \n",
    "```'000020;000040;005930'```"
   ]
  },
  {
   "cell_type": "code",
   "execution_count": 9,
   "id": "51ba474f",
   "metadata": {},
   "outputs": [
    {
     "data": {
      "text/plain": [
       "'000020;000040;005930'"
      ]
     },
     "execution_count": 9,
     "metadata": {},
     "output_type": "execute_result"
    }
   ],
   "source": [
    "s = pd.Series([\"000020\", \"000040\", \"005930\"])\n",
    "\n",
    "s.str.cat(sep = ';')"
   ]
  },
  {
   "cell_type": "markdown",
   "id": "ad2fba4e",
   "metadata": {},
   "source": [
    " "
   ]
  },
  {
   "cell_type": "markdown",
   "id": "036089db",
   "metadata": {},
   "source": [
    "__129 문자열 추가__  \n",
    "종목 코드를 저장하고 있는 시리즈 객체의 종목 코드 뒤에 'A'를 추가하세요.  \n",
    "```s = pd.Series([\"000020\", \"000040\", \"005930\"])```"
   ]
  },
  {
   "cell_type": "code",
   "execution_count": 10,
   "id": "57dfdd72",
   "metadata": {},
   "outputs": [
    {
     "data": {
      "text/plain": [
       "0    000020A\n",
       "1    000040A\n",
       "2    005930A\n",
       "dtype: object"
      ]
     },
     "execution_count": 10,
     "metadata": {},
     "output_type": "execute_result"
    }
   ],
   "source": [
    "s = pd.Series([\"000020\", \"000040\", \"005930\"])\n",
    "\n",
    "s + 'A'"
   ]
  },
  {
   "cell_type": "markdown",
   "id": "a37a1812",
   "metadata": {},
   "source": [
    " "
   ]
  },
  {
   "cell_type": "markdown",
   "id": "17626cac",
   "metadata": {},
   "source": [
    "__130 Series.str.zfill__  \n",
    "국내 주식은 6자리의 숫자로 구성됩니다. 다음 시리즈 객체는 각 값에서 leading zero가 모두 제거된 상태입니다.  \n",
    "이를 다시 원래 종목 코드로 변환하세요. 예를 들어, \"20\"은 \"000020\"이 되어야합니다.  \n",
    "```s = pd.Series([\"20\", \"40\", \"5930\"])```"
   ]
  },
  {
   "cell_type": "code",
   "execution_count": 11,
   "id": "1d202fbd",
   "metadata": {},
   "outputs": [
    {
     "data": {
      "text/plain": [
       "0    000020\n",
       "1    000040\n",
       "2    005930\n",
       "dtype: object"
      ]
     },
     "execution_count": 11,
     "metadata": {},
     "output_type": "execute_result"
    }
   ],
   "source": [
    "s = pd.Series([\"20\", \"40\", \"5930\"])\n",
    "\n",
    "s.str.zfill(6)"
   ]
  }
 ],
 "metadata": {
  "kernelspec": {
   "display_name": "Python 3 (ipykernel)",
   "language": "python",
   "name": "python3"
  },
  "language_info": {
   "codemirror_mode": {
    "name": "ipython",
    "version": 3
   },
   "file_extension": ".py",
   "mimetype": "text/x-python",
   "name": "python",
   "nbconvert_exporter": "python",
   "pygments_lexer": "ipython3",
   "version": "3.11.5"
  }
 },
 "nbformat": 4,
 "nbformat_minor": 5
}

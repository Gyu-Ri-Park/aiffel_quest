{
 "cells": [
  {
   "cell_type": "code",
   "execution_count": 1,
   "id": "49b2bb65",
   "metadata": {},
   "outputs": [],
   "source": [
    "import numpy as np"
   ]
  },
  {
   "cell_type": "markdown",
   "id": "152ce7e2",
   "metadata": {},
   "source": [
    "__031 ndarray 곱셈__  \n",
    "전체 데이터에 10을 곱한 결과를 ndarray에 저장하세요.  \n",
    "```data = [1, 2, 3]```"
   ]
  },
  {
   "cell_type": "code",
   "execution_count": 2,
   "id": "05b7f6fe",
   "metadata": {},
   "outputs": [
    {
     "name": "stdout",
     "output_type": "stream",
     "text": [
      "[10 20 30]\n"
     ]
    },
    {
     "data": {
      "text/plain": [
       "dtype('int32')"
      ]
     },
     "execution_count": 2,
     "metadata": {},
     "output_type": "execute_result"
    }
   ],
   "source": [
    "data = [1, 2, 3]\n",
    "\n",
    "arr = np.array(data) * 10\n",
    "print(arr)\n",
    "arr.dtype"
   ]
  },
  {
   "cell_type": "markdown",
   "id": "7d195ab6",
   "metadata": {},
   "source": [
    " "
   ]
  },
  {
   "cell_type": "markdown",
   "id": "5913c588",
   "metadata": {},
   "source": [
    "__032 ndarray 제곱__  \n",
    "전체 데이터에 제곱한 결과를 ndarray에 저장하세요.  \n",
    "```data = [1, 2, 3]```"
   ]
  },
  {
   "cell_type": "code",
   "execution_count": 3,
   "id": "8b3dbc25",
   "metadata": {},
   "outputs": [
    {
     "name": "stdout",
     "output_type": "stream",
     "text": [
      "[1 4 9]\n"
     ]
    },
    {
     "data": {
      "text/plain": [
       "dtype('int32')"
      ]
     },
     "execution_count": 3,
     "metadata": {},
     "output_type": "execute_result"
    }
   ],
   "source": [
    "data = [1, 2, 3]\n",
    "\n",
    "arr = np.array(data) ** 2\n",
    "print(arr)\n",
    "arr.dtype"
   ]
  },
  {
   "cell_type": "markdown",
   "id": "40919d1f",
   "metadata": {},
   "source": [
    "__033 ndarray 루트__  \n",
    "전체 데이터에 루트를 적용한 결과를 ndarray에 저장하세요.  \n",
    "```data = [1, 2, 3]```"
   ]
  },
  {
   "cell_type": "code",
   "execution_count": 4,
   "id": "38a30fb5",
   "metadata": {},
   "outputs": [
    {
     "name": "stdout",
     "output_type": "stream",
     "text": [
      "[1.         1.41421356 1.73205081]\n"
     ]
    }
   ],
   "source": [
    "data = [1, 2, 3]\n",
    "\n",
    "arr = np.sqrt(data)\n",
    "print(arr)"
   ]
  },
  {
   "cell_type": "markdown",
   "id": "989ca0e2",
   "metadata": {},
   "source": [
    " "
   ]
  },
  {
   "cell_type": "markdown",
   "id": "ed8bdd8d",
   "metadata": {},
   "source": [
    "__034 ndarray 컬럼 평균__  \n",
    "다음 ndarray에는 중간고사의 국어점수(10), 영어점수(20), 기말고사의 국어점수(14), 영어점수(16)이 저장돼 있습니다.\n",
    "```\n",
    "score = np.array([\n",
    "    [10, 20],  # 중간고사\n",
    "    [14, 16]   # 기말고사\n",
    "])\n",
    "```\n",
    "과목별 평균 점수를 출력하세요.\n",
    "```\n",
    "[12. 18.]\n",
    "```"
   ]
  },
  {
   "cell_type": "code",
   "execution_count": 5,
   "id": "4d466ec8",
   "metadata": {},
   "outputs": [
    {
     "data": {
      "text/plain": [
       "array([12., 18.])"
      ]
     },
     "execution_count": 5,
     "metadata": {},
     "output_type": "execute_result"
    }
   ],
   "source": [
    "score = np.array([\n",
    "    [10, 20],  # 중간고사\n",
    "    [14, 16]   # 기말고사\n",
    "])\n",
    "\n",
    "score.mean(axis = 0)"
   ]
  },
  {
   "cell_type": "markdown",
   "id": "85f268f0",
   "metadata": {},
   "source": [
    " "
   ]
  },
  {
   "cell_type": "markdown",
   "id": "2f22d994",
   "metadata": {},
   "source": [
    "__035 ndarray 로우 표준편차__  \n",
    "다음 ndarray에는 중간고사의 국어점수(10), 영어점수(20), 기말고사의 국어점수(14), 영어점수(16)이 저장돼 있습니다.\n",
    "```\n",
    "score = np.array([\n",
    "    [10, 20],  # 중간고사\n",
    "    [14, 16]   # 기말고사\n",
    "])\n",
    "```\n",
    "중간고사와 기말고사의 표준편차를 출력하세요.\n",
    "```\n",
    "[5. 1.]\n",
    "```"
   ]
  },
  {
   "cell_type": "code",
   "execution_count": 6,
   "id": "adc37870",
   "metadata": {},
   "outputs": [
    {
     "data": {
      "text/plain": [
       "array([5., 1.])"
      ]
     },
     "execution_count": 6,
     "metadata": {},
     "output_type": "execute_result"
    }
   ],
   "source": [
    "score = np.array([\n",
    "    [10, 20],  # 중간고사\n",
    "    [14, 16]   # 기말고사\n",
    "])\n",
    "\n",
    "score.std(axis = 1)"
   ]
  },
  {
   "cell_type": "markdown",
   "id": "70d0eba3",
   "metadata": {},
   "source": [
    " "
   ]
  },
  {
   "cell_type": "markdown",
   "id": "d81a41a7",
   "metadata": {},
   "source": [
    "__036 행렬곱__  \n",
    "두 행렬의 곱셉결과를 출력하세요.\n",
    "```\n",
    "> a = np.arange(4).reshape(2,2)\n",
    "> a\n",
    "[[0 1]\n",
    " [2 3]]\n",
    "> b = np.arange(1, 5).reshape(2,2)\n",
    "> b\n",
    "[[1 2]\n",
    " [3 4]]\n",
    "```"
   ]
  },
  {
   "cell_type": "code",
   "execution_count": 7,
   "id": "fdec7ee7",
   "metadata": {},
   "outputs": [
    {
     "data": {
      "text/plain": [
       "array([[ 3,  4],\n",
       "       [11, 16]])"
      ]
     },
     "execution_count": 7,
     "metadata": {},
     "output_type": "execute_result"
    }
   ],
   "source": [
    "a = np.arange(4).reshape(2,2)\n",
    "b = np.arange(1, 5).reshape(2,2)\n",
    "\n",
    "a@b"
   ]
  },
  {
   "cell_type": "code",
   "execution_count": 8,
   "id": "1f55fe03",
   "metadata": {},
   "outputs": [
    {
     "data": {
      "text/plain": [
       "array([[ 3,  4],\n",
       "       [11, 16]])"
      ]
     },
     "execution_count": 8,
     "metadata": {},
     "output_type": "execute_result"
    }
   ],
   "source": [
    "np.matmul(a, b)"
   ]
  },
  {
   "cell_type": "markdown",
   "id": "d8ff4c3e",
   "metadata": {},
   "source": [
    " "
   ]
  },
  {
   "cell_type": "markdown",
   "id": "bb03d74a",
   "metadata": {},
   "source": [
    "__037 전치행렬__  \n",
    "다음의 ndarray로 행과 열의 위치를 바꾼 전치행렬을 출력하세요.  \n",
    "```arr = np.arange(9).reshape(3, 3)```"
   ]
  },
  {
   "cell_type": "code",
   "execution_count": 9,
   "id": "d22ab98a",
   "metadata": {},
   "outputs": [
    {
     "name": "stdout",
     "output_type": "stream",
     "text": [
      "[[0 1 2]\n",
      " [3 4 5]\n",
      " [6 7 8]]\n",
      "\n",
      " [[0 3 6]\n",
      " [1 4 7]\n",
      " [2 5 8]]\n"
     ]
    }
   ],
   "source": [
    "arr = np.arange(9).reshape(3, 3)\n",
    "print(arr)\n",
    "print(\"\\n\",arr.T)"
   ]
  },
  {
   "cell_type": "markdown",
   "id": "7a435097",
   "metadata": {},
   "source": [
    " "
   ]
  },
  {
   "cell_type": "markdown",
   "id": "24b1264e",
   "metadata": {},
   "source": [
    "__038 짝수 배열__  \n",
    "다음 배열에서 짝수 값만 추출하세요.  \n",
    "```arr = np.arange(10)```"
   ]
  },
  {
   "cell_type": "code",
   "execution_count": 10,
   "id": "2287ee77",
   "metadata": {},
   "outputs": [
    {
     "data": {
      "text/plain": [
       "array([0, 2, 4, 6, 8])"
      ]
     },
     "execution_count": 10,
     "metadata": {},
     "output_type": "execute_result"
    }
   ],
   "source": [
    "arr = np.arange(10)\n",
    "arr[::2]"
   ]
  },
  {
   "cell_type": "markdown",
   "id": "9bd8990b",
   "metadata": {},
   "source": [
    " "
   ]
  },
  {
   "cell_type": "markdown",
   "id": "e4dbd2e9",
   "metadata": {},
   "source": [
    "__039 홀수 배열__  \n",
    "다음 배열에서 짝수 값만 추출하세요.  \n",
    "```arr = np.arange(10)```"
   ]
  },
  {
   "cell_type": "code",
   "execution_count": 11,
   "id": "d0bf9c23",
   "metadata": {},
   "outputs": [
    {
     "data": {
      "text/plain": [
       "array([1, 3, 5, 7, 9])"
      ]
     },
     "execution_count": 11,
     "metadata": {},
     "output_type": "execute_result"
    }
   ],
   "source": [
    "arr = np.arange(10)\n",
    "arr[1::2]"
   ]
  },
  {
   "cell_type": "markdown",
   "id": "31a8215f",
   "metadata": {},
   "source": [
    " "
   ]
  },
  {
   "cell_type": "markdown",
   "id": "355ed1ae",
   "metadata": {},
   "source": [
    "__040 여러 조건__  \n",
    "다음 배열에서 3보다 크고 7보다 작은수만 추출하세요  \n",
    "```arr = np.arange(10)```"
   ]
  },
  {
   "cell_type": "code",
   "execution_count": 12,
   "id": "c10560e2",
   "metadata": {},
   "outputs": [
    {
     "data": {
      "text/plain": [
       "array([4, 5, 6])"
      ]
     },
     "execution_count": 12,
     "metadata": {},
     "output_type": "execute_result"
    }
   ],
   "source": [
    "arr = np.arange(10)\n",
    "arr[(arr > 3) & (arr < 7)]"
   ]
  },
  {
   "cell_type": "code",
   "execution_count": 13,
   "id": "1bb87c04",
   "metadata": {},
   "outputs": [
    {
     "data": {
      "text/plain": [
       "array([4, 5, 6])"
      ]
     },
     "execution_count": 13,
     "metadata": {},
     "output_type": "execute_result"
    }
   ],
   "source": [
    "arr[4:7]"
   ]
  }
 ],
 "metadata": {
  "kernelspec": {
   "display_name": "Python 3 (ipykernel)",
   "language": "python",
   "name": "python3"
  },
  "language_info": {
   "codemirror_mode": {
    "name": "ipython",
    "version": 3
   },
   "file_extension": ".py",
   "mimetype": "text/x-python",
   "name": "python",
   "nbconvert_exporter": "python",
   "pygments_lexer": "ipython3",
   "version": "3.11.5"
  }
 },
 "nbformat": 4,
 "nbformat_minor": 5
}

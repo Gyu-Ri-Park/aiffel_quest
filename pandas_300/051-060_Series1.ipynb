{
 "cells": [
  {
   "cell_type": "markdown",
   "id": "dee1d336",
   "metadata": {},
   "source": [
    "__051 모듈 임포트__  \n",
    "판다스의 시리즈 클래스를 사용하기 위해 주로 사용하는 두 가지 방식으로 임포트해보세요."
   ]
  },
  {
   "cell_type": "code",
   "execution_count": 13,
   "id": "d02b0b23",
   "metadata": {
    "scrolled": true
   },
   "outputs": [],
   "source": [
    "import pandas as pd\n",
    "from pandas import Series"
   ]
  },
  {
   "cell_type": "markdown",
   "id": "9bce7785",
   "metadata": {},
   "source": [
    " "
   ]
  },
  {
   "cell_type": "markdown",
   "id": "bc3cb195",
   "metadata": {},
   "source": [
    "__052 시리즈의 생성 (리스트)__  \n",
    "다음 데이터를 시리즈로 객체로 생성해보세요.\n",
    "\n",
    "|점수|\n",
    "|---|\n",
    "|100|\n",
    "|200|\n",
    "|300|"
   ]
  },
  {
   "cell_type": "code",
   "execution_count": 2,
   "id": "49138c81",
   "metadata": {},
   "outputs": [
    {
     "data": {
      "text/plain": [
       "0    100\n",
       "1    200\n",
       "2    300\n",
       "dtype: int64"
      ]
     },
     "execution_count": 2,
     "metadata": {},
     "output_type": "execute_result"
    }
   ],
   "source": [
    "Series([100, 200, 300])"
   ]
  },
  {
   "cell_type": "markdown",
   "id": "a2801cf8",
   "metadata": {},
   "source": [
    " "
   ]
  },
  {
   "cell_type": "markdown",
   "id": "e4cc8beb",
   "metadata": {},
   "source": [
    "__053 시리즈의 생성 (인덱스 지정)__  \n",
    "생성된 시리즈 객체에 인덱스를 추가해보세요.\n",
    "\n",
    "|인덱스|점수|\n",
    "|:-|:-|\n",
    "|철수|100|\n",
    "|영희|200|\n",
    "|아름|300|"
   ]
  },
  {
   "cell_type": "code",
   "execution_count": 3,
   "id": "f3835cfd",
   "metadata": {},
   "outputs": [
    {
     "data": {
      "text/plain": [
       "철수    100\n",
       "영희    200\n",
       "아름    300\n",
       "dtype: int64"
      ]
     },
     "execution_count": 3,
     "metadata": {},
     "output_type": "execute_result"
    }
   ],
   "source": [
    "Series([100, 200, 300], ['철수', '영희', '아름'])"
   ]
  },
  {
   "cell_type": "code",
   "execution_count": 4,
   "id": "bdbf5d31",
   "metadata": {},
   "outputs": [
    {
     "name": "stdout",
     "output_type": "stream",
     "text": [
      "철수    100\n",
      "영희    200\n",
      "아름    300\n",
      "dtype: int64\n"
     ]
    }
   ],
   "source": [
    "data = [100, 200, 300]\n",
    "index = [\"철수\", \"영희\", \"아름\"]\n",
    "s = Series(data)\n",
    "s.index = index\n",
    "print(s)"
   ]
  },
  {
   "cell_type": "markdown",
   "id": "f5503831",
   "metadata": {},
   "source": [
    " "
   ]
  },
  {
   "cell_type": "markdown",
   "id": "33825964",
   "metadata": {},
   "source": [
    "__054 시리즈의 생성 (딕셔너리)__  \n",
    "다음 데이터를 파이썬 딕셔너리로 표현해보세요. 딕셔너리의 key로 인덱스를 value로 점수 컬럼을 지정하세요. 생성된 딕셔너리를 사용하여 시리즈 객체를 생성해봅시다.\n",
    "\n",
    "|인덱스|점수|\n",
    "|:-|:-|\n",
    "|철수|100|\n",
    "|영희|200|\n",
    "|아름|300|"
   ]
  },
  {
   "cell_type": "code",
   "execution_count": 5,
   "id": "effc8c8f",
   "metadata": {},
   "outputs": [
    {
     "data": {
      "text/plain": [
       "철수    100\n",
       "영희    200\n",
       "아름    300\n",
       "dtype: int64"
      ]
     },
     "execution_count": 5,
     "metadata": {},
     "output_type": "execute_result"
    }
   ],
   "source": [
    "data = {'철수': 100, '영희': 200, '아름': 300}\n",
    "Series(data)"
   ]
  },
  {
   "cell_type": "markdown",
   "id": "9973cb38",
   "metadata": {},
   "source": [
    " "
   ]
  },
  {
   "cell_type": "markdown",
   "id": "606e6979",
   "metadata": {},
   "source": [
    "__055 시리즈 생성__  \n",
    "다음은 네이버 금융에서 특정 거래일의 인기 종목과 해당 종목의 종가 데이터입니다. 종목명을 인덱스로 하여 종가를 데이터로 지정하여 시리즈 객체를 생성해봅시다.\n",
    "\n",
    "|종목명|종가|\n",
    "|:-|:-|\n",
    "|삼성전자|73000|\n",
    "|셀트리온|356000|\n",
    "|카카오|367000|\n",
    "|삼성전자우|68600|\n",
    "|현대바이오|34150|"
   ]
  },
  {
   "cell_type": "code",
   "execution_count": 6,
   "id": "c14808b2",
   "metadata": {},
   "outputs": [
    {
     "data": {
      "text/plain": [
       "삼성전자      73000\n",
       "셀트리온     356000\n",
       "카카오      367000\n",
       "삼성전자우     68600\n",
       "현대바이오     34150\n",
       "dtype: int64"
      ]
     },
     "execution_count": 6,
     "metadata": {},
     "output_type": "execute_result"
    }
   ],
   "source": [
    "data = {\n",
    "    \"삼성전자\": 73000,\n",
    "    \"셀트리온\": 356000,\n",
    "    \"카카오\": 367000,\n",
    "    \"삼성전자우\": 68600,\n",
    "    \"현대바이오\": 34150\n",
    "}\n",
    "Series(data)"
   ]
  },
  {
   "cell_type": "markdown",
   "id": "ad19cb11",
   "metadata": {},
   "source": [
    " "
   ]
  },
  {
   "cell_type": "markdown",
   "id": "57d911d9",
   "metadata": {},
   "source": [
    "__056 시리즈 인덱스__  \n",
    "시리즈에 저장된 인덱스만을 출력해보세요.\n",
    "```\n",
    "data = [100, 200, 300]\n",
    "index = [\"철수\", \"영희\", \"아름\"]\n",
    "s = Series(data, index)\n",
    "```"
   ]
  },
  {
   "cell_type": "code",
   "execution_count": 7,
   "id": "c2e98ab7",
   "metadata": {},
   "outputs": [
    {
     "data": {
      "text/plain": [
       "Index(['철수', '영희', '아름'], dtype='object')"
      ]
     },
     "execution_count": 7,
     "metadata": {},
     "output_type": "execute_result"
    }
   ],
   "source": [
    "data = [100, 200, 300]\n",
    "index = [\"철수\", \"영희\", \"아름\"]\n",
    "s = Series(data, index)\n",
    "s.index"
   ]
  },
  {
   "cell_type": "markdown",
   "id": "f361ce5c",
   "metadata": {},
   "source": [
    " "
   ]
  },
  {
   "cell_type": "markdown",
   "id": "244e33ce",
   "metadata": {},
   "source": [
    "__057 시리즈 데이터__  \n",
    "인덱스 없이 시리즈에 저장된 데이터만을 출력해보세요.\n",
    "```\n",
    "data = [100, 200, 300]\n",
    "index = [\"철수\", \"영희\", \"아름\"]\n",
    "s = Series(data, index)\n",
    "\n",
    "[100 200 300]\n",
    "```"
   ]
  },
  {
   "cell_type": "code",
   "execution_count": 8,
   "id": "14fe7fee",
   "metadata": {},
   "outputs": [
    {
     "data": {
      "text/plain": [
       "array([100, 200, 300], dtype=int64)"
      ]
     },
     "execution_count": 8,
     "metadata": {},
     "output_type": "execute_result"
    }
   ],
   "source": [
    "data = [100, 200, 300]\n",
    "index = [\"철수\", \"영희\", \"아름\"]\n",
    "s = Series(data, index)\n",
    "s.values"
   ]
  },
  {
   "cell_type": "markdown",
   "id": "31526bd1",
   "metadata": {},
   "source": [
    " "
   ]
  },
  {
   "cell_type": "markdown",
   "id": "d050d1a9",
   "metadata": {},
   "source": [
    "__058 시리즈와 딕셔너리__  \n",
    "시리즈를 딕셔너리로 변경해 보세요.\n",
    "```\n",
    "data = [100, 200, 300]\n",
    "index = [\"철수\", \"영희\", \"아름\"]\n",
    "s = Series(data, index)\n",
    "```\n",
    "실행 결과  \n",
    "```{'철수': 100, '영희': 200, '아름': 300}```"
   ]
  },
  {
   "cell_type": "code",
   "execution_count": 9,
   "id": "7f11eb51",
   "metadata": {},
   "outputs": [
    {
     "data": {
      "text/plain": [
       "{'철수': 100, '영희': 200, '아름': 300}"
      ]
     },
     "execution_count": 9,
     "metadata": {},
     "output_type": "execute_result"
    }
   ],
   "source": [
    "data = [100, 200, 300]\n",
    "index = [\"철수\", \"영희\", \"아름\"]\n",
    "s = Series(data, index)\n",
    "dict(s)"
   ]
  },
  {
   "cell_type": "code",
   "execution_count": 10,
   "id": "064f6870",
   "metadata": {},
   "outputs": [
    {
     "data": {
      "text/plain": [
       "{'철수': 100, '영희': 200, '아름': 300}"
      ]
     },
     "execution_count": 10,
     "metadata": {},
     "output_type": "execute_result"
    }
   ],
   "source": [
    "s.to_dict()"
   ]
  },
  {
   "cell_type": "markdown",
   "id": "9dcaad37",
   "metadata": {},
   "source": [
    " "
   ]
  },
  {
   "cell_type": "markdown",
   "id": "fe4e513b",
   "metadata": {},
   "source": [
    "__059 시리즈와 엑셀__  \n",
    "시리즈를 엑셀 파일(data.xlsx)에 저장해 보세요.\n",
    "```\n",
    "data = [100, 200, 300]\n",
    "index = [\"철수\", \"영희\", \"아름\"]\n",
    "s = Series(data, index)\n",
    "```"
   ]
  },
  {
   "cell_type": "code",
   "execution_count": 11,
   "id": "2afe23b7",
   "metadata": {},
   "outputs": [],
   "source": [
    "data = [100, 200, 300]\n",
    "index = [\"철수\", \"영희\", \"아름\"]\n",
    "s = Series(data, index)\n",
    "s.to_excel(\"data.xlsx\")"
   ]
  },
  {
   "cell_type": "markdown",
   "id": "96aa8127",
   "metadata": {},
   "source": [
    " "
   ]
  },
  {
   "cell_type": "markdown",
   "id": "ac83c2d0",
   "metadata": {},
   "source": [
    "__060 시리즈와 엑셀__  \n",
    "엑셀 파일(data.xlsx)을 읽어 오세요.  \n",
    "```pd.read_excel```  \n",
    "```\n",
    "실행 결과\n",
    "철수    100\n",
    "영희    200\n",
    "아름    300\n",
    "Name: 0, dtype: int64\n",
    "```\n",
    "\n"
   ]
  },
  {
   "cell_type": "code",
   "execution_count": 12,
   "id": "719fc518",
   "metadata": {},
   "outputs": [
    {
     "data": {
      "text/plain": [
       "철수    100\n",
       "영희    200\n",
       "아름    300\n",
       "Name: 0, dtype: int64"
      ]
     },
     "execution_count": 12,
     "metadata": {},
     "output_type": "execute_result"
    }
   ],
   "source": [
    "pd.read_excel('data.xlsx', index_col=0)[0]"
   ]
  }
 ],
 "metadata": {
  "kernelspec": {
   "display_name": "Python 3 (ipykernel)",
   "language": "python",
   "name": "python3"
  },
  "language_info": {
   "codemirror_mode": {
    "name": "ipython",
    "version": 3
   },
   "file_extension": ".py",
   "mimetype": "text/x-python",
   "name": "python",
   "nbconvert_exporter": "python",
   "pygments_lexer": "ipython3",
   "version": "3.11.5"
  }
 },
 "nbformat": 4,
 "nbformat_minor": 5
}

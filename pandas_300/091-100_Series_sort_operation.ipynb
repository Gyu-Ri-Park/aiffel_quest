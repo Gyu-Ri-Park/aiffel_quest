{
 "cells": [
  {
   "cell_type": "code",
   "execution_count": 16,
   "id": "d96b98b7",
   "metadata": {},
   "outputs": [],
   "source": [
    "import numpy as np\n",
    "import pandas as pd\n",
    "from pandas import Series"
   ]
  },
  {
   "cell_type": "markdown",
   "id": "f7a63003",
   "metadata": {},
   "source": [
    "__091 시리즈 정렬__  \n",
    "시리즈에 저장된 데이터의 순서를 변경하라.\n",
    "```\n",
    "data = [100, 300, 200]\n",
    "index = [\"08/01\", \"08/02\", \"08/03\"]\n",
    "s = Series(data, index)\n",
    "```\n",
    "```\n",
    "08/01    100\n",
    "08/03    200\n",
    "08/02    300\n",
    "dtype: int64\n",
    "```"
   ]
  },
  {
   "cell_type": "code",
   "execution_count": 2,
   "id": "e011c8c6",
   "metadata": {},
   "outputs": [
    {
     "data": {
      "text/plain": [
       "08/01    100\n",
       "08/02    300\n",
       "08/03    200\n",
       "dtype: int64"
      ]
     },
     "execution_count": 2,
     "metadata": {},
     "output_type": "execute_result"
    }
   ],
   "source": [
    "data = [100, 300, 200]\n",
    "index = [\"08/01\", \"08/02\", \"08/03\"]\n",
    "s = Series(data, index)\n",
    "s"
   ]
  },
  {
   "cell_type": "code",
   "execution_count": 3,
   "id": "1158d38f",
   "metadata": {},
   "outputs": [
    {
     "data": {
      "text/plain": [
       "08/01    100\n",
       "08/03    200\n",
       "08/02    300\n",
       "dtype: int64"
      ]
     },
     "execution_count": 3,
     "metadata": {},
     "output_type": "execute_result"
    }
   ],
   "source": [
    "s.iloc[ [0, 2, 1]]"
   ]
  },
  {
   "cell_type": "code",
   "execution_count": 4,
   "id": "845c13bc",
   "metadata": {},
   "outputs": [
    {
     "data": {
      "text/plain": [
       "08/01    100\n",
       "08/02    300\n",
       "08/03    200\n",
       "dtype: int64"
      ]
     },
     "execution_count": 4,
     "metadata": {},
     "output_type": "execute_result"
    }
   ],
   "source": [
    "s.loc[[\"08/01\", \"08/02\", \"08/03\"]]"
   ]
  },
  {
   "cell_type": "markdown",
   "id": "e8011f51",
   "metadata": {},
   "source": [
    " "
   ]
  },
  {
   "cell_type": "markdown",
   "id": "eed6856b",
   "metadata": {},
   "source": [
    "__092 시리즈 정렬__  \n",
    "시리즈에 저장된 데이터를 오름차순 혹은 내림차순으로 정렬하라.\n",
    "\n",
    "> randint 함수는 지정된 범위 (10)에서 임의의 숫자를 생성해서 numpy의 ndarray 객체로 반환 합니다. 실행할 때마다 다른 값이 출력되는데, 이는 정상입니다.  \n",
    "\n",
    "```\n",
    "data = np.random.randint(10, size=4)\n",
    "s = Series(data)\n",
    "```\n",
    "```\n",
    "3    0\n",
    "2    5\n",
    "1    7\n",
    "0    9\n",
    "dtype: int32\n",
    "```"
   ]
  },
  {
   "cell_type": "code",
   "execution_count": 5,
   "id": "90161297",
   "metadata": {},
   "outputs": [
    {
     "data": {
      "text/plain": [
       "0    1\n",
       "1    4\n",
       "3    4\n",
       "2    7\n",
       "dtype: int32"
      ]
     },
     "execution_count": 5,
     "metadata": {},
     "output_type": "execute_result"
    }
   ],
   "source": [
    "data = np.random.randint(10, size=4)\n",
    "s = Series(data)\n",
    "s.sort_values()"
   ]
  },
  {
   "cell_type": "code",
   "execution_count": 6,
   "id": "12e60758",
   "metadata": {},
   "outputs": [
    {
     "data": {
      "text/plain": [
       "2    7\n",
       "1    4\n",
       "3    4\n",
       "0    1\n",
       "dtype: int32"
      ]
     },
     "execution_count": 6,
     "metadata": {},
     "output_type": "execute_result"
    }
   ],
   "source": [
    "s.sort_values(ascending = False)"
   ]
  },
  {
   "cell_type": "markdown",
   "id": "f70af030",
   "metadata": {},
   "source": [
    " "
   ]
  },
  {
   "cell_type": "markdown",
   "id": "b6ff971b",
   "metadata": {},
   "source": [
    "__093 시리즈 정렬__  \n",
    "인덱스를 기준으로 a, b, c 순서로 데이터를 정렬하라.  \n",
    "```s = Series(np.random.randint(10, size=4), [\"b\", \"c\", \"a\", \"d\"])```\n",
    "```\n",
    "a    3\n",
    "b    3\n",
    "c    1\n",
    "d    4\n",
    "dtype: int32\n",
    "```"
   ]
  },
  {
   "cell_type": "code",
   "execution_count": 7,
   "id": "aff327ef",
   "metadata": {},
   "outputs": [
    {
     "data": {
      "text/plain": [
       "b    7\n",
       "c    6\n",
       "a    5\n",
       "d    9\n",
       "dtype: int32"
      ]
     },
     "execution_count": 7,
     "metadata": {},
     "output_type": "execute_result"
    }
   ],
   "source": [
    "s = Series(np.random.randint(10, size=4), [\"b\", \"c\", \"a\", \"d\"])\n",
    "s"
   ]
  },
  {
   "cell_type": "code",
   "execution_count": 8,
   "id": "11baf9ba",
   "metadata": {},
   "outputs": [
    {
     "data": {
      "text/plain": [
       "a    5\n",
       "b    7\n",
       "c    6\n",
       "d    9\n",
       "dtype: int32"
      ]
     },
     "execution_count": 8,
     "metadata": {},
     "output_type": "execute_result"
    }
   ],
   "source": [
    "s.sort_index()"
   ]
  },
  {
   "cell_type": "markdown",
   "id": "6b88cdff",
   "metadata": {},
   "source": [
    " "
   ]
  },
  {
   "cell_type": "markdown",
   "id": "8c9f0b8f",
   "metadata": {},
   "source": [
    "__094 시리즈 연산__  \n",
    "시리즈에 네 제곱한 결과를 시리즈로 출력하라.\n",
    "```\n",
    "data = [100, 300, 200]\n",
    "s = Series(data)\n",
    "```"
   ]
  },
  {
   "cell_type": "code",
   "execution_count": 9,
   "id": "1c2d8ebc",
   "metadata": {},
   "outputs": [
    {
     "data": {
      "text/plain": [
       "0     100000000\n",
       "1    8100000000\n",
       "2    1600000000\n",
       "dtype: int64"
      ]
     },
     "execution_count": 9,
     "metadata": {},
     "output_type": "execute_result"
    }
   ],
   "source": [
    "data = [100, 300, 200]\n",
    "s = Series(data)\n",
    "\n",
    "s ** 4"
   ]
  },
  {
   "cell_type": "markdown",
   "id": "b3396b39",
   "metadata": {},
   "source": [
    " "
   ]
  },
  {
   "cell_type": "markdown",
   "id": "0d35e0f2",
   "metadata": {},
   "source": [
    "__095 시리즈 덧셈__  \n",
    "다음 연산의 결과를 예측하라.\n",
    "```\n",
    "data = [100, 300, 200]\n",
    "s0 = Series(data, [\"a\", \"b\", \"c\"])\n",
    "s1 = Series(data, [\"a\", \"c\", \"b\")\n",
    "print(s0 + s1)\n",
    "```"
   ]
  },
  {
   "cell_type": "code",
   "execution_count": 10,
   "id": "cd04a573",
   "metadata": {},
   "outputs": [
    {
     "name": "stdout",
     "output_type": "stream",
     "text": [
      "a    200\n",
      "b    500\n",
      "c    500\n",
      "dtype: int64\n"
     ]
    }
   ],
   "source": [
    "data = [100, 300, 200]\n",
    "s0 = Series(data, [\"a\", \"b\", \"c\"])\n",
    "s1 = Series(data, [\"a\", \"c\", \"b\"])\n",
    "print(s0 + s1)\n",
    "\n",
    "# a 100 + 100\n",
    "# b 300 + 200\n",
    "# c 200 + 300"
   ]
  },
  {
   "cell_type": "markdown",
   "id": "67fd4eb3",
   "metadata": {},
   "source": [
    " "
   ]
  },
  {
   "cell_type": "markdown",
   "id": "3ea65023",
   "metadata": {},
   "source": [
    "__096 시리즈 뺄셈__  \n",
    "다음 연산의 결과를 예측하고 그 원인을 설명하라.\n",
    "```\n",
    "high = Series(data=[51500, 51200, 52500], index=[\"5/1\", \"5/2\", \"5/3\"])\n",
    "low = Series(data=[50700, 50500, 50500], index=[\"5/1\", \"5/2\", \"5/4\"])\n",
    "\n",
    "diff = high – low\n",
    "print(diff)\n",
    "```"
   ]
  },
  {
   "cell_type": "code",
   "execution_count": 11,
   "id": "3d343dea",
   "metadata": {},
   "outputs": [
    {
     "name": "stdout",
     "output_type": "stream",
     "text": [
      "5/1    800.0\n",
      "5/2    700.0\n",
      "5/3      NaN\n",
      "5/4      NaN\n",
      "dtype: float64\n"
     ]
    }
   ],
   "source": [
    "high = Series(data=[51500, 51200, 52500], index=[\"5/1\", \"5/2\", \"5/3\"])\n",
    "low = Series(data=[50700, 50500, 50500], index=[\"5/1\", \"5/2\", \"5/4\"])\n",
    "\n",
    "diff = high - low\n",
    "print(diff)\n",
    "\n",
    "# 5/1   51500 - 50700\n",
    "# 5/2   51200 - 50500\n",
    "# 5/3   NaN (low값이 없음)\n",
    "# 5/4   NaN (high값이 없음)"
   ]
  },
  {
   "cell_type": "markdown",
   "id": "dc6b5c58",
   "metadata": {},
   "source": [
    " "
   ]
  },
  {
   "cell_type": "markdown",
   "id": "5d1ba20c",
   "metadata": {},
   "source": [
    "__097 시리즈의 비교연산__  \n",
    "시리즈에서 52000보다 작은 값을 출력하라.  \n",
    "```s = Series(data=[51500, 51200, 52500], index=[\"5/1\", \"5/2\", \"5/3\"])```"
   ]
  },
  {
   "cell_type": "code",
   "execution_count": 12,
   "id": "626692fe",
   "metadata": {},
   "outputs": [
    {
     "data": {
      "text/plain": [
       "5/1    51500\n",
       "5/2    51200\n",
       "dtype: int64"
      ]
     },
     "execution_count": 12,
     "metadata": {},
     "output_type": "execute_result"
    }
   ],
   "source": [
    "s = Series(data=[51500, 51200, 52500], index=[\"5/1\", \"5/2\", \"5/3\"])\n",
    "s[s<52000]"
   ]
  },
  {
   "cell_type": "markdown",
   "id": "22c39099",
   "metadata": {},
   "source": [
    " "
   ]
  },
  {
   "cell_type": "markdown",
   "id": "040173cf",
   "metadata": {},
   "source": [
    "__098 시리즈 비교연산__  \n",
    "5월 1일 이후의 데이터를 출력하라.  \n",
    "```s = Series(data=[51500, 51200, 52500], index=[\"5/1\", \"5/2\", \"5/3\"])```"
   ]
  },
  {
   "cell_type": "code",
   "execution_count": 13,
   "id": "07802340",
   "metadata": {},
   "outputs": [
    {
     "data": {
      "text/plain": [
       "5/2    51200\n",
       "5/3    52500\n",
       "dtype: int64"
      ]
     },
     "execution_count": 13,
     "metadata": {},
     "output_type": "execute_result"
    }
   ],
   "source": [
    "s = Series(data=[51500, 51200, 52500], index=[\"5/1\", \"5/2\", \"5/3\"])\n",
    "s[s.index > \"5/1\"]"
   ]
  },
  {
   "cell_type": "markdown",
   "id": "a840b99d",
   "metadata": {},
   "source": [
    " "
   ]
  },
  {
   "cell_type": "markdown",
   "id": "3b7e4319",
   "metadata": {},
   "source": [
    "__099 시리즈 비교연산__  \n",
    "51400원 이상 53000 이하의 값을 출력하라.  \n",
    "```s = Series(data=[51500, 51200, 52500], index=[\"5/1\", \"5/2\", \"5/3\"])```"
   ]
  },
  {
   "cell_type": "code",
   "execution_count": 14,
   "id": "b3420b05",
   "metadata": {},
   "outputs": [
    {
     "data": {
      "text/plain": [
       "5/1    51500\n",
       "5/3    52500\n",
       "dtype: int64"
      ]
     },
     "execution_count": 14,
     "metadata": {},
     "output_type": "execute_result"
    }
   ],
   "source": [
    "s = Series(data=[51500, 51200, 52500], index=[\"5/1\", \"5/2\", \"5/3\"])\n",
    "s[(s >= 51400) & (s <= 53000)]"
   ]
  },
  {
   "cell_type": "markdown",
   "id": "e75a1992",
   "metadata": {},
   "source": [
    " "
   ]
  },
  {
   "cell_type": "markdown",
   "id": "0d49033f",
   "metadata": {},
   "source": [
    "__100 시리즈 비교연산__  \n",
    "시리즈에서 가격이 52000원 이하였던 날은 몇일인가?  \n",
    "```s = Series(data=[51500, 51200, 52500], index=[\"5/1\", \"5/2\", \"5/3\"])```"
   ]
  },
  {
   "cell_type": "code",
   "execution_count": 15,
   "id": "c3408dfb",
   "metadata": {},
   "outputs": [
    {
     "data": {
      "text/plain": [
       "Index(['5/1', '5/2'], dtype='object')"
      ]
     },
     "execution_count": 15,
     "metadata": {},
     "output_type": "execute_result"
    }
   ],
   "source": [
    "s = Series(data=[51500, 51200, 52500], index=[\"5/1\", \"5/2\", \"5/3\"])\n",
    "s[s <= 52000].index"
   ]
  }
 ],
 "metadata": {
  "kernelspec": {
   "display_name": "Python 3 (ipykernel)",
   "language": "python",
   "name": "python3"
  },
  "language_info": {
   "codemirror_mode": {
    "name": "ipython",
    "version": 3
   },
   "file_extension": ".py",
   "mimetype": "text/x-python",
   "name": "python",
   "nbconvert_exporter": "python",
   "pygments_lexer": "ipython3",
   "version": "3.11.5"
  }
 },
 "nbformat": 4,
 "nbformat_minor": 5
}

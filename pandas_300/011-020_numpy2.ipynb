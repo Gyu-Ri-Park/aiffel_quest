{
 "cells": [
  {
   "cell_type": "code",
   "execution_count": 1,
   "id": "92c95e5a",
   "metadata": {},
   "outputs": [],
   "source": [
    "import numpy as np"
   ]
  },
  {
   "cell_type": "markdown",
   "id": "e558c308",
   "metadata": {},
   "source": [
    "__011 2차원 배열__  \n",
    "다음과 같이 2차원 ndarray 객체를 정의하세요.\n",
    "```\n",
    "[[0 1 2]\n",
    " [3 4 5]]\n",
    "```"
   ]
  },
  {
   "cell_type": "code",
   "execution_count": 2,
   "id": "36c058a0",
   "metadata": {},
   "outputs": [
    {
     "data": {
      "text/plain": [
       "array([[0, 1, 2],\n",
       "       [3, 4, 5]])"
      ]
     },
     "execution_count": 2,
     "metadata": {},
     "output_type": "execute_result"
    }
   ],
   "source": [
    "arr = np.arange(6)\n",
    "arr.reshape(2, 3)"
   ]
  },
  {
   "cell_type": "markdown",
   "id": "63e350b1",
   "metadata": {},
   "source": [
    " "
   ]
  },
  {
   "cell_type": "markdown",
   "id": "b5ab4af2",
   "metadata": {},
   "source": [
    "__012 ones__  \n",
    "1이 20개 저장된 아래의 ndarray 객체를 만들어 보세요.  \n",
    "\n",
    "```[1 1 1 1 1 1 1 1 1 1 1 1 1 1 1 1 1 1 1 1]```"
   ]
  },
  {
   "cell_type": "code",
   "execution_count": 3,
   "id": "c4130203",
   "metadata": {},
   "outputs": [
    {
     "data": {
      "text/plain": [
       "array([1, 1, 1, 1, 1, 1, 1, 1, 1, 1, 1, 1, 1, 1, 1, 1, 1, 1, 1, 1])"
      ]
     },
     "execution_count": 3,
     "metadata": {},
     "output_type": "execute_result"
    }
   ],
   "source": [
    "arr = np.ones(20, dtype = int)\n",
    "arr"
   ]
  },
  {
   "cell_type": "markdown",
   "id": "9870b952",
   "metadata": {},
   "source": [
    " "
   ]
  },
  {
   "cell_type": "markdown",
   "id": "e8534efb",
   "metadata": {},
   "source": [
    "__013 ones__  \n",
    "4행 5열로 저장된 아래의 ndarray 객체를 만들어 보세요.\n",
    "```\n",
    "[[1 1 1 1 1]\n",
    " [1 1 1 1 1]\n",
    " [1 1 1 1 1]\n",
    " [1 1 1 1 1]]\n",
    "```"
   ]
  },
  {
   "cell_type": "code",
   "execution_count": 4,
   "id": "17e422e1",
   "metadata": {},
   "outputs": [
    {
     "data": {
      "text/plain": [
       "array([[1, 1, 1, 1, 1],\n",
       "       [1, 1, 1, 1, 1],\n",
       "       [1, 1, 1, 1, 1],\n",
       "       [1, 1, 1, 1, 1]])"
      ]
     },
     "execution_count": 4,
     "metadata": {},
     "output_type": "execute_result"
    }
   ],
   "source": [
    "arr = np.ones(20, dtype = int)\n",
    "arr.reshape(4, 5)"
   ]
  },
  {
   "cell_type": "markdown",
   "id": "24ae4ee4",
   "metadata": {},
   "source": [
    " "
   ]
  },
  {
   "cell_type": "markdown",
   "id": "55741c9b",
   "metadata": {},
   "source": [
    "__014 ones__  \n",
    "255로 채워진 10X10 크기의 ndarray 객체를 생성하세요."
   ]
  },
  {
   "cell_type": "code",
   "execution_count": 5,
   "id": "d75be427",
   "metadata": {},
   "outputs": [
    {
     "data": {
      "text/plain": [
       "array([[255, 255, 255, 255, 255, 255, 255, 255, 255, 255],\n",
       "       [255, 255, 255, 255, 255, 255, 255, 255, 255, 255],\n",
       "       [255, 255, 255, 255, 255, 255, 255, 255, 255, 255],\n",
       "       [255, 255, 255, 255, 255, 255, 255, 255, 255, 255],\n",
       "       [255, 255, 255, 255, 255, 255, 255, 255, 255, 255],\n",
       "       [255, 255, 255, 255, 255, 255, 255, 255, 255, 255],\n",
       "       [255, 255, 255, 255, 255, 255, 255, 255, 255, 255],\n",
       "       [255, 255, 255, 255, 255, 255, 255, 255, 255, 255],\n",
       "       [255, 255, 255, 255, 255, 255, 255, 255, 255, 255],\n",
       "       [255, 255, 255, 255, 255, 255, 255, 255, 255, 255]])"
      ]
     },
     "execution_count": 5,
     "metadata": {},
     "output_type": "execute_result"
    }
   ],
   "source": [
    "arr = np.ones(100, dtype = int) * 255\n",
    "arr.reshape(10, 10)"
   ]
  },
  {
   "cell_type": "markdown",
   "id": "6fc5087c",
   "metadata": {},
   "source": [
    " "
   ]
  },
  {
   "cell_type": "markdown",
   "id": "1d43ca5e",
   "metadata": {},
   "source": [
    "__015 zeros__  \n",
    "3x4 (행x열) 크기의 0으로 채워진 배열을 생생해보세요."
   ]
  },
  {
   "cell_type": "code",
   "execution_count": 6,
   "id": "e7c6a95f",
   "metadata": {},
   "outputs": [
    {
     "data": {
      "text/plain": [
       "array([[0., 0., 0., 0.],\n",
       "       [0., 0., 0., 0.],\n",
       "       [0., 0., 0., 0.]])"
      ]
     },
     "execution_count": 6,
     "metadata": {},
     "output_type": "execute_result"
    }
   ],
   "source": [
    "arr = np.zeros((3, 4))\n",
    "arr"
   ]
  },
  {
   "cell_type": "markdown",
   "id": "c674622b",
   "metadata": {},
   "source": [
    " "
   ]
  },
  {
   "cell_type": "markdown",
   "id": "27049d5c",
   "metadata": {},
   "source": [
    "__016 dtype__  \n",
    "[1, 2, 3]을 np.int32 타입의 ndarray 배열로 생성하세요."
   ]
  },
  {
   "cell_type": "code",
   "execution_count": 7,
   "id": "ba3ace7d",
   "metadata": {},
   "outputs": [
    {
     "data": {
      "text/plain": [
       "numpy.dtype[int32]"
      ]
     },
     "execution_count": 7,
     "metadata": {},
     "output_type": "execute_result"
    }
   ],
   "source": [
    "_list = [1, 2, 3]\n",
    "arr = np.array(_list, dtype = np.int32)\n",
    "type(arr.dtype)"
   ]
  },
  {
   "cell_type": "markdown",
   "id": "317956e5",
   "metadata": {},
   "source": [
    " "
   ]
  },
  {
   "cell_type": "markdown",
   "id": "3d5eeea2",
   "metadata": {},
   "source": [
    "__017 dtype__  \n",
    "다음 배열의 데이터 타입을 확인해보세요.  \n",
    "```arr = np.array([1, 2, 3])```\n"
   ]
  },
  {
   "cell_type": "code",
   "execution_count": 8,
   "id": "ac8379cb",
   "metadata": {},
   "outputs": [
    {
     "name": "stdout",
     "output_type": "stream",
     "text": [
      "<class 'numpy.dtype[int32]'>\n",
      "int32\n"
     ]
    }
   ],
   "source": [
    "arr = np.array([1, 2, 3])\n",
    "print(type(arr.dtype))\n",
    "print(arr.dtype)"
   ]
  },
  {
   "cell_type": "markdown",
   "id": "9f119ed9",
   "metadata": {},
   "source": [
    " "
   ]
  },
  {
   "cell_type": "markdown",
   "id": "135bc1b3",
   "metadata": {},
   "source": [
    "__018 dtype__  \n",
    "다음 배열의 데이터 타입을 확인해보세요.  \n",
    "```arr = np.array(['1', '2', '3'])```"
   ]
  },
  {
   "cell_type": "code",
   "execution_count": 9,
   "id": "b276e751",
   "metadata": {},
   "outputs": [
    {
     "name": "stdout",
     "output_type": "stream",
     "text": [
      "<class 'numpy.dtype[str_]'>\n",
      "<U1\n"
     ]
    }
   ],
   "source": [
    "arr = np.array(['1', '2', '3'])\n",
    "print(type(arr.dtype))\n",
    "print(arr.dtype)"
   ]
  },
  {
   "cell_type": "markdown",
   "id": "1cd1384e",
   "metadata": {},
   "source": [
    " "
   ]
  },
  {
   "cell_type": "markdown",
   "id": "3a4979a3",
   "metadata": {},
   "source": [
    "__019 dtype__  \n",
    "다음 데이터를 np.int16 타입의 배열로 형변환하세요.  \n",
    "```arr = np.array([1, 2, 3])```"
   ]
  },
  {
   "cell_type": "code",
   "execution_count": 10,
   "id": "3159aa75",
   "metadata": {},
   "outputs": [
    {
     "data": {
      "text/plain": [
       "array([1, 2, 3], dtype=int16)"
      ]
     },
     "execution_count": 10,
     "metadata": {},
     "output_type": "execute_result"
    }
   ],
   "source": [
    "arr = np.array([1, 2, 3])\n",
    "arr.astype(np.int16)"
   ]
  },
  {
   "cell_type": "markdown",
   "id": "7e554ba2",
   "metadata": {},
   "source": [
    " "
   ]
  },
  {
   "cell_type": "markdown",
   "id": "a21118fd",
   "metadata": {},
   "source": [
    "__020 데이터 타입__  \n",
    "300이 44로 출력되는 이유를 설명하세요.\n",
    "```\n",
    "> a = np.array( [ 255, 300, 128], dtype=np.uint8 )\n",
    "> a\n",
    "[255  44 128]\n",
    "```"
   ]
  },
  {
   "cell_type": "markdown",
   "id": "3568e9f9",
   "metadata": {},
   "source": [
    "`uint8`은 부호 없는 8비트 정수를 표현합니다. 0부터 255 (2^8 - 1) 범위의 수를 표현할 수 있습니다. 300은 `uint8`이 표현할 수 있는 범위를 넘기 때문에 잘못된 값이 출력됩니다."
   ]
  }
 ],
 "metadata": {
  "kernelspec": {
   "display_name": "Python 3 (ipykernel)",
   "language": "python",
   "name": "python3"
  },
  "language_info": {
   "codemirror_mode": {
    "name": "ipython",
    "version": 3
   },
   "file_extension": ".py",
   "mimetype": "text/x-python",
   "name": "python",
   "nbconvert_exporter": "python",
   "pygments_lexer": "ipython3",
   "version": "3.11.5"
  }
 },
 "nbformat": 4,
 "nbformat_minor": 5
}

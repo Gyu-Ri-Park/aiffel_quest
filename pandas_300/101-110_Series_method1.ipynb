{
 "cells": [
  {
   "cell_type": "code",
   "execution_count": 8,
   "id": "bb19d35c",
   "metadata": {},
   "outputs": [],
   "source": [
    "import numpy as np\n",
    "import pandas as pd\n",
    "from pandas import Series"
   ]
  },
  {
   "cell_type": "markdown",
   "id": "679964ec",
   "metadata": {},
   "source": [
    "__101 시리즈 sum 메소드__  \n",
    "삼성전자의 종가 시리즈를 사용해서 종가의 합을 출력하세요.\n",
    "```\n",
    "data = {\n",
    "    \"2020-12-11\": 73400,\n",
    "    \"2020-12-10\": 72900,\n",
    "    \"2020-12-09\": 73900,\n",
    "    \"2020-12-08\": 71700,\n",
    "    \"2020-12-07\": 72900\n",
    "}\n",
    "s = Series(data)\n",
    "```"
   ]
  },
  {
   "cell_type": "code",
   "execution_count": 2,
   "id": "0e2fdf29",
   "metadata": {},
   "outputs": [
    {
     "data": {
      "text/plain": [
       "364800"
      ]
     },
     "execution_count": 2,
     "metadata": {},
     "output_type": "execute_result"
    }
   ],
   "source": [
    "data = {\n",
    "    \"2020-12-11\": 73400,\n",
    "    \"2020-12-10\": 72900,\n",
    "    \"2020-12-09\": 73900,\n",
    "    \"2020-12-08\": 71700,\n",
    "    \"2020-12-07\": 72900\n",
    "}\n",
    "s = Series(data)\n",
    "\n",
    "s.sum()"
   ]
  },
  {
   "cell_type": "markdown",
   "id": "83768559",
   "metadata": {},
   "source": [
    " "
   ]
  },
  {
   "cell_type": "markdown",
   "id": "a78cda88",
   "metadata": {},
   "source": [
    "__102 시리즈 mean 메소드__  \n",
    "삼성전자의 종가의 평균을 시리즈로 출력하세요.\n",
    "```\n",
    "data = {\n",
    "    \"2020-12-11\": 73400,\n",
    "    \"2020-12-10\": 72900,\n",
    "    \"2020-12-09\": 73900,\n",
    "    \"2020-12-08\": 71700,\n",
    "    \"2020-12-07\": 72900\n",
    "}\n",
    "s = Series(data)\n",
    "```"
   ]
  },
  {
   "cell_type": "code",
   "execution_count": 3,
   "id": "fbb8fa6b",
   "metadata": {},
   "outputs": [
    {
     "data": {
      "text/plain": [
       "72960.0"
      ]
     },
     "execution_count": 3,
     "metadata": {},
     "output_type": "execute_result"
    }
   ],
   "source": [
    "data = {\n",
    "    \"2020-12-11\": 73400,\n",
    "    \"2020-12-10\": 72900,\n",
    "    \"2020-12-09\": 73900,\n",
    "    \"2020-12-08\": 71700,\n",
    "    \"2020-12-07\": 72900\n",
    "}\n",
    "s = Series(data)\n",
    "\n",
    "s.mean()"
   ]
  },
  {
   "cell_type": "markdown",
   "id": "3f82249b",
   "metadata": {},
   "source": [
    " "
   ]
  },
  {
   "cell_type": "markdown",
   "id": "1f58bba0",
   "metadata": {},
   "source": [
    "__103 시리즈 max/min 메소드__  \n",
    "다음은 삼성전자의 종가 데이터입니다.\n",
    "```\n",
    "data = {\n",
    "    \"2020-12-11\": 73400,\n",
    "    \"2020-12-10\": 72900,\n",
    "    \"2020-12-09\": 73900,\n",
    "    \"2020-12-08\": 71700,\n",
    "    \"2020-12-07\": 72900\n",
    "}\n",
    "s = Series(data)\n",
    "```\n",
    "삼성전자 종가 데이터의 최댓값과 최솟값을 출력하세요."
   ]
  },
  {
   "cell_type": "code",
   "execution_count": 4,
   "id": "cb8401e8",
   "metadata": {},
   "outputs": [
    {
     "name": "stdout",
     "output_type": "stream",
     "text": [
      "73900\n",
      "71700\n"
     ]
    }
   ],
   "source": [
    "data = {\n",
    "    \"2020-12-11\": 73400,\n",
    "    \"2020-12-10\": 72900,\n",
    "    \"2020-12-09\": 73900,\n",
    "    \"2020-12-08\": 71700,\n",
    "    \"2020-12-07\": 72900\n",
    "}\n",
    "s = Series(data)\n",
    "\n",
    "print(s.max())\n",
    "print(s.min())"
   ]
  },
  {
   "cell_type": "markdown",
   "id": "69bed12c",
   "metadata": {},
   "source": [
    " "
   ]
  },
  {
   "cell_type": "markdown",
   "id": "69d4bb32",
   "metadata": {},
   "source": [
    "__104 시리즈 pct_change__  \n",
    "삼성전자의 종가 데이터로 일별 상승률을 시리즈로 출력하세요.\n",
    "```\n",
    "data = {\n",
    "    \"2020-12-11\": 73400,\n",
    "    \"2020-12-10\": 72900,\n",
    "    \"2020-12-09\": 73900,\n",
    "    \"2020-12-08\": 71700,\n",
    "    \"2020-12-07\": 72900\n",
    "}\n",
    "s = Series(data)\n",
    "```"
   ]
  },
  {
   "cell_type": "code",
   "execution_count": 5,
   "id": "c6fe16e0",
   "metadata": {},
   "outputs": [
    {
     "data": {
      "text/plain": [
       "2020-12-11         NaN\n",
       "2020-12-10   -0.006812\n",
       "2020-12-09    0.013717\n",
       "2020-12-08   -0.029770\n",
       "2020-12-07    0.016736\n",
       "dtype: float64"
      ]
     },
     "execution_count": 5,
     "metadata": {},
     "output_type": "execute_result"
    }
   ],
   "source": [
    "data = {\n",
    "    \"2020-12-11\": 73400,\n",
    "    \"2020-12-10\": 72900,\n",
    "    \"2020-12-09\": 73900,\n",
    "    \"2020-12-08\": 71700,\n",
    "    \"2020-12-07\": 72900\n",
    "}\n",
    "s = Series(data)\n",
    "\n",
    "s.pct_change()"
   ]
  },
  {
   "cell_type": "markdown",
   "id": "77a48550",
   "metadata": {},
   "source": [
    " "
   ]
  },
  {
   "cell_type": "markdown",
   "id": "ec02f8fb",
   "metadata": {},
   "source": [
    "__105 시리즈 product 메소드__  \n",
    "다음은 일별 수익률을 배(ratio)율로 표현한 데이터입니다. 각 거래일의 수익률을 모두 곱한 값을 출력하세요.\n",
    "\n",
    "|날짜|수익률|\n",
    "|:-|:-|\n",
    "|2020-12-11|1.01|\n",
    "|2020-12-10|0.99|\n",
    "|2020-12-09|1.03|\n",
    "|2020-12-08|1.02|\n",
    "|2020-12-07|1|"
   ]
  },
  {
   "cell_type": "code",
   "execution_count": 6,
   "id": "0ca5439b",
   "metadata": {},
   "outputs": [
    {
     "data": {
      "text/plain": [
       "1.05049494"
      ]
     },
     "execution_count": 6,
     "metadata": {},
     "output_type": "execute_result"
    }
   ],
   "source": [
    "data = {\n",
    "    \"2020-12-11\": 1.01,\n",
    "    \"2020-12-10\": 0.99,\n",
    "    \"2020-12-09\": 1.03,\n",
    "    \"2020-12-08\": 1.02,\n",
    "    \"2020-12-07\": 1\n",
    "}\n",
    "s = Series(data)\n",
    "\n",
    "s.product()"
   ]
  },
  {
   "cell_type": "markdown",
   "id": "e7cda06a",
   "metadata": {},
   "source": [
    " "
   ]
  },
  {
   "cell_type": "markdown",
   "id": "5ef60830",
   "metadata": {},
   "source": [
    "__106 시리즈 cummax/cummin__"
   ]
  },
  {
   "cell_type": "markdown",
   "id": "3526c270",
   "metadata": {},
   "source": [
    "__107 시리즈 cumprod__"
   ]
  },
  {
   "cell_type": "markdown",
   "id": "c722a320",
   "metadata": {},
   "source": [
    "__108 시리즈 rolling__"
   ]
  }
 ],
 "metadata": {
  "kernelspec": {
   "display_name": "Python 3 (ipykernel)",
   "language": "python",
   "name": "python3"
  },
  "language_info": {
   "codemirror_mode": {
    "name": "ipython",
    "version": 3
   },
   "file_extension": ".py",
   "mimetype": "text/x-python",
   "name": "python",
   "nbconvert_exporter": "python",
   "pygments_lexer": "ipython3",
   "version": "3.11.5"
  }
 },
 "nbformat": 4,
 "nbformat_minor": 5
}

{
 "cells": [
  {
   "cell_type": "code",
   "execution_count": 14,
   "id": "8a46d755",
   "metadata": {},
   "outputs": [],
   "source": [
    "import pandas as pd\n",
    "from pandas import Series\n",
    "import numpy as np"
   ]
  },
  {
   "cell_type": "markdown",
   "id": "7e74ae97",
   "metadata": {},
   "source": [
    "__081 시리즈 추가__  \n",
    "시리즈에 순이 인덱스에 400을 추가하라.\n",
    "```\n",
    "data = [100, 200, 300]\n",
    "index = [\"철수\", \"영희\", \"아름\"]\n",
    "s = Series(data, index)\n",
    "```"
   ]
  },
  {
   "cell_type": "code",
   "execution_count": 2,
   "id": "5360780f",
   "metadata": {},
   "outputs": [
    {
     "data": {
      "text/plain": [
       "철수    100\n",
       "영희    200\n",
       "아름    300\n",
       "순이    400\n",
       "dtype: int64"
      ]
     },
     "execution_count": 2,
     "metadata": {},
     "output_type": "execute_result"
    }
   ],
   "source": [
    "data = [100, 200, 300]\n",
    "index = [\"철수\", \"영희\", \"아름\"]\n",
    "s = Series(data, index)\n",
    "\n",
    "s[\"순이\"] = 400\n",
    "s"
   ]
  },
  {
   "cell_type": "code",
   "execution_count": 3,
   "id": "eb563afb",
   "metadata": {},
   "outputs": [
    {
     "data": {
      "text/plain": [
       "철수    100\n",
       "영희    200\n",
       "아름    300\n",
       "순이    400\n",
       "dtype: int64"
      ]
     },
     "execution_count": 3,
     "metadata": {},
     "output_type": "execute_result"
    }
   ],
   "source": [
    "s.loc[\"순이\"] = 400\n",
    "s"
   ]
  },
  {
   "cell_type": "markdown",
   "id": "6cb3ba76",
   "metadata": {},
   "source": [
    " "
   ]
  },
  {
   "cell_type": "markdown",
   "id": "3c1df55a",
   "metadata": {},
   "source": [
    "__082 시리즈 삭제__  \n",
    "시리즈에 철수를 삭제하라.\n",
    "```\n",
    "data = [100, 200, 300]\n",
    "index = [\"철수\", \"영희\", \"아름\"]\n",
    "s = Series(data, index)\n",
    "```"
   ]
  },
  {
   "cell_type": "code",
   "execution_count": 4,
   "id": "d281e60c",
   "metadata": {
    "scrolled": true
   },
   "outputs": [
    {
     "name": "stdout",
     "output_type": "stream",
     "text": [
      "영희    200\n",
      "아름    300\n",
      "dtype: int64\n",
      "철수    100\n",
      "영희    200\n",
      "아름    300\n",
      "dtype: int64\n"
     ]
    }
   ],
   "source": [
    "data = [100, 200, 300]\n",
    "index = [\"철수\", \"영희\", \"아름\"]\n",
    "s = Series(data, index)\n",
    "\n",
    "print(s.drop(\"철수\"))   # drop은 원본 데이터를 수정하지 않고 결과를 변환함\n",
    "print(s)"
   ]
  },
  {
   "cell_type": "code",
   "execution_count": 5,
   "id": "44b4271a",
   "metadata": {},
   "outputs": [
    {
     "data": {
      "text/plain": [
       "영희    200\n",
       "아름    300\n",
       "dtype: int64"
      ]
     },
     "execution_count": 5,
     "metadata": {},
     "output_type": "execute_result"
    }
   ],
   "source": [
    "s.iloc[1:]"
   ]
  },
  {
   "cell_type": "markdown",
   "id": "92d4d52f",
   "metadata": {},
   "source": [
    " "
   ]
  },
  {
   "cell_type": "markdown",
   "id": "ca3348dc",
   "metadata": {},
   "source": [
    "__083 시리즈 삭제 (inplace)__  \n",
    "시리즈 객체에서 drop 메소드를 사용하여 철수를 삭제하세요. 이때 drop 메소드의 인자로 inplace=True를 사용해보고 그 의미를 설명해보세요.\n",
    "```\n",
    "data = [100, 200, 300]\n",
    "index = [\"철수\", \"영희\", \"아름\"]\n",
    "s = Series(data, index)\n",
    "```"
   ]
  },
  {
   "cell_type": "code",
   "execution_count": 6,
   "id": "c3030e1c",
   "metadata": {},
   "outputs": [
    {
     "data": {
      "text/plain": [
       "영희    200\n",
       "아름    300\n",
       "dtype: int64"
      ]
     },
     "execution_count": 6,
     "metadata": {},
     "output_type": "execute_result"
    }
   ],
   "source": [
    "data = [100, 200, 300]\n",
    "index = [\"철수\", \"영희\", \"아름\"]\n",
    "s = Series(data, index)\n",
    "\n",
    "s.drop(\"철수\", inplace = True)   # inplace = True 옵션을 추가했으므로 drop이 원본 데이터를 수정하여 결과를 반환함\n",
    "s"
   ]
  },
  {
   "cell_type": "markdown",
   "id": "a0bc2bd2",
   "metadata": {},
   "source": [
    " "
   ]
  },
  {
   "cell_type": "markdown",
   "id": "4272a7cc",
   "metadata": {},
   "source": [
    "__084 unique__  \n",
    "다음 시리즈 객체는 주식 종목별 업종을 나타냅니다. 업종 중 중복적인 값을 제외한 값을 출력해보세요.\n",
    "```\n",
    "data = {\n",
    "    \"삼성전자\": \"전기,전자\",\n",
    "    \"LG전자\": \"전기,전자\",\n",
    "    \"현대차\": \"운수장비\",\n",
    "    \"NAVER\": \"서비스업\",\n",
    "    \"카카오\": \"서비스업\"\n",
    "}\n",
    "s = Series(data)\n",
    "```"
   ]
  },
  {
   "cell_type": "code",
   "execution_count": 7,
   "id": "ce991687",
   "metadata": {},
   "outputs": [
    {
     "data": {
      "text/plain": [
       "array(['전기,전자', '운수장비', '서비스업'], dtype=object)"
      ]
     },
     "execution_count": 7,
     "metadata": {},
     "output_type": "execute_result"
    }
   ],
   "source": [
    "data = {\n",
    "    \"삼성전자\": \"전기,전자\",\n",
    "    \"LG전자\": \"전기,전자\",\n",
    "    \"현대차\": \"운수장비\",\n",
    "    \"NAVER\": \"서비스업\",\n",
    "    \"카카오\": \"서비스업\"\n",
    "}\n",
    "s = Series(data)\n",
    "\n",
    "s.unique()"
   ]
  },
  {
   "cell_type": "markdown",
   "id": "dec1088a",
   "metadata": {},
   "source": [
    " "
   ]
  },
  {
   "cell_type": "markdown",
   "id": "bc09932b",
   "metadata": {},
   "source": [
    "__085 unique__  \n",
    "다음 시리즈 객체는 파이스탁 출판사의 저녁 식대 지출 내역입니다. 식대 금액에 대해서 중복적인 값을 제외한 값만 출력해보세요.\n",
    "```\n",
    "s = pd.Series(\n",
    "    data = [9000, 9000, 8000, 9000, 10000],\n",
    "    index = ['김과장', '이대리', '박전무', '이대리', '이대리']\n",
    ")\n",
    "```"
   ]
  },
  {
   "cell_type": "code",
   "execution_count": 8,
   "id": "dc975dab",
   "metadata": {},
   "outputs": [
    {
     "data": {
      "text/plain": [
       "array([ 9000,  8000, 10000], dtype=int64)"
      ]
     },
     "execution_count": 8,
     "metadata": {},
     "output_type": "execute_result"
    }
   ],
   "source": [
    "s = pd.Series(\n",
    "    data = [9000, 9000, 8000, 9000, 10000],\n",
    "    index = ['김과장', '이대리', '박전무', '이대리', '이대리']\n",
    ")\n",
    "\n",
    "s.unique()"
   ]
  },
  {
   "cell_type": "markdown",
   "id": "3134f106",
   "metadata": {},
   "source": [
    " "
   ]
  },
  {
   "cell_type": "markdown",
   "id": "c91fe258",
   "metadata": {},
   "source": [
    "__086 unique__  \n",
    "다음 시리즈 객체는 파이스탁 출판사의 저녁 식대 지출 내역입니다. 한 번이라도 야근한 직원들의 명부를 출력해보세요.\n",
    "```\n",
    "s = pd.Series(\n",
    "    data = [9000, 9000, 8000, 9000, 10000],\n",
    "    index = ['김과장', '이대리', '박전무', '이대리', '이대리']\n",
    ")\n",
    "```"
   ]
  },
  {
   "cell_type": "code",
   "execution_count": 9,
   "id": "1474d772",
   "metadata": {},
   "outputs": [
    {
     "data": {
      "text/plain": [
       "Index(['김과장', '이대리', '박전무'], dtype='object')"
      ]
     },
     "execution_count": 9,
     "metadata": {},
     "output_type": "execute_result"
    }
   ],
   "source": [
    "s = pd.Series(\n",
    "    data = [9000, 9000, 8000, 9000, 10000],\n",
    "    index = ['김과장', '이대리', '박전무', '이대리', '이대리']\n",
    ")\n",
    "\n",
    "s.index.unique()"
   ]
  },
  {
   "cell_type": "markdown",
   "id": "8b9e7c4a",
   "metadata": {},
   "source": [
    " "
   ]
  },
  {
   "cell_type": "markdown",
   "id": "7d5586f9",
   "metadata": {},
   "source": [
    "__087 value_counts__  \n",
    "다음 시리즈 객체는 파이스탁 출판사의 저녁 식대 지출 내역입니다. 식대 금액별로 횟수를 출력해보세요.\n",
    "```\n",
    "s = pd.Series(\n",
    "    data = [9000, 9000, 8000, 9000, 10000],\n",
    "    index = ['김과장', '이대리', '박전무', '이대리', '이대리']\n",
    ")\n",
    "```"
   ]
  },
  {
   "cell_type": "code",
   "execution_count": 10,
   "id": "27970161",
   "metadata": {},
   "outputs": [
    {
     "data": {
      "text/plain": [
       "9000     3\n",
       "8000     1\n",
       "10000    1\n",
       "Name: count, dtype: int64"
      ]
     },
     "execution_count": 10,
     "metadata": {},
     "output_type": "execute_result"
    }
   ],
   "source": [
    "s = pd.Series(\n",
    "    data = [9000, 9000, 8000, 9000, 10000],\n",
    "    index = ['김과장', '이대리', '박전무', '이대리', '이대리']\n",
    ")\n",
    "\n",
    "s.value_counts()"
   ]
  },
  {
   "cell_type": "markdown",
   "id": "0a07d249",
   "metadata": {},
   "source": [
    " "
   ]
  },
  {
   "cell_type": "markdown",
   "id": "f1ed0425",
   "metadata": {},
   "source": [
    "__088 value_counts__  \n",
    "다음 시리즈 객체는 파이스탁 출판사의 저녁 식대 지출 내역입니다. 직원별 야근 회수를 출력해보세요.\n",
    "```\n",
    "s = pd.Series(\n",
    "    data = [9000, 9000, 8000, 9000, 10000],\n",
    "    index = ['김과장', '이대리', '박전무', '이대리', '이대리']\n",
    ")\n",
    "```"
   ]
  },
  {
   "cell_type": "code",
   "execution_count": 11,
   "id": "398333d4",
   "metadata": {},
   "outputs": [
    {
     "data": {
      "text/plain": [
       "이대리    3\n",
       "김과장    1\n",
       "박전무    1\n",
       "Name: count, dtype: int64"
      ]
     },
     "execution_count": 11,
     "metadata": {},
     "output_type": "execute_result"
    }
   ],
   "source": [
    "s = pd.Series(\n",
    "    data = [9000, 9000, 8000, 9000, 10000],\n",
    "    index = ['김과장', '이대리', '박전무', '이대리', '이대리']\n",
    ")\n",
    "\n",
    "s.index.value_counts()"
   ]
  },
  {
   "cell_type": "markdown",
   "id": "07185a75",
   "metadata": {},
   "source": [
    " "
   ]
  },
  {
   "cell_type": "markdown",
   "id": "d20eafcc",
   "metadata": {},
   "source": [
    "__089 value_counts__  \n",
    "다음 시리즈 객체는 종목에 대한 업종 정보를 표현합니다. 업종별 발생 횟수를 출력해보세요.\n",
    "```\n",
    "data = {\n",
    "    \"삼성전자\": \"전기,전자\",\n",
    "    \"LG전자\": \"전기,전자\",\n",
    "    \"현대차\": \"운수장비\",\n",
    "    \"NAVER\": \"서비스업\",\n",
    "    \"카카오\": \"서비스업\"\n",
    "}\n",
    "s = Series(data)\n",
    "```"
   ]
  },
  {
   "cell_type": "code",
   "execution_count": 12,
   "id": "ab1707d8",
   "metadata": {},
   "outputs": [
    {
     "data": {
      "text/plain": [
       "전기,전자    2\n",
       "서비스업     2\n",
       "운수장비     1\n",
       "Name: count, dtype: int64"
      ]
     },
     "execution_count": 12,
     "metadata": {},
     "output_type": "execute_result"
    }
   ],
   "source": [
    "data = {\n",
    "    \"삼성전자\": \"전기,전자\",\n",
    "    \"LG전자\": \"전기,전자\",\n",
    "    \"현대차\": \"운수장비\",\n",
    "    \"NAVER\": \"서비스업\",\n",
    "    \"카카오\": \"서비스업\"\n",
    "}\n",
    "s = Series(data)\n",
    "\n",
    "s.value_counts()"
   ]
  },
  {
   "cell_type": "markdown",
   "id": "d4023c8b",
   "metadata": {},
   "source": [
    " "
   ]
  },
  {
   "cell_type": "markdown",
   "id": "171b219c",
   "metadata": {},
   "source": [
    "__090 missing data__  \n",
    "아래 표는 어떤 회사의 재무제표의 일부 항목입니다. 다음 표를 판다스 시리즈 객체로 생성하세요. PER 값이 존재하지 않는데 이를 numpy 모듈의 nan 타입을 사용해서 표현하면 됩니다.\n",
    "\n",
    "|항목|값|\n",
    "|:-|:-|\n",
    "|매출액|300|\n",
    "|PER|N/A|\n",
    "|PBR|2.0|"
   ]
  },
  {
   "cell_type": "code",
   "execution_count": 13,
   "id": "47949c59",
   "metadata": {
    "scrolled": true
   },
   "outputs": [
    {
     "data": {
      "text/plain": [
       "매출액    300.0\n",
       "PER      NaN\n",
       "PBR      2.0\n",
       "dtype: float64"
      ]
     },
     "execution_count": 13,
     "metadata": {},
     "output_type": "execute_result"
    }
   ],
   "source": [
    "index = [\"매출액\", \"PER\", \"PBR\"]\n",
    "value = [300, np.nan, 2.0]\n",
    "\n",
    "pd.Series(value, index)"
   ]
  }
 ],
 "metadata": {
  "kernelspec": {
   "display_name": "Python 3 (ipykernel)",
   "language": "python",
   "name": "python3"
  },
  "language_info": {
   "codemirror_mode": {
    "name": "ipython",
    "version": 3
   },
   "file_extension": ".py",
   "mimetype": "text/x-python",
   "name": "python",
   "nbconvert_exporter": "python",
   "pygments_lexer": "ipython3",
   "version": "3.11.5"
  }
 },
 "nbformat": 4,
 "nbformat_minor": 5
}

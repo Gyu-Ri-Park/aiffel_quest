{
 "cells": [
  {
   "cell_type": "code",
   "execution_count": 1,
   "id": "e983c1c9",
   "metadata": {},
   "outputs": [],
   "source": [
    "import numpy as np"
   ]
  },
  {
   "cell_type": "markdown",
   "id": "fc416680",
   "metadata": {},
   "source": [
    "__041 조건에 맞는 원소값 출력__  \n",
    "다음 ndarray 객체에서 음수를 출력하세요.  \n",
    "```arr = np.array([-1, 2, -3, 4])```"
   ]
  },
  {
   "cell_type": "code",
   "execution_count": 2,
   "id": "c367bf87",
   "metadata": {},
   "outputs": [
    {
     "data": {
      "text/plain": [
       "array([-1, -3])"
      ]
     },
     "execution_count": 2,
     "metadata": {},
     "output_type": "execute_result"
    }
   ],
   "source": [
    "arr = np.array([-1, 2, -3, 4])\n",
    "arr[arr < 0]"
   ]
  },
  {
   "cell_type": "markdown",
   "id": "b971beb6",
   "metadata": {},
   "source": [
    " "
   ]
  },
  {
   "cell_type": "markdown",
   "id": "de756a29",
   "metadata": {},
   "source": [
    "__042 조건에 맞는 원소값 변경__  \n",
    "다음 ndarray 객체에서 음수를 0으로 치환하세요.  \n",
    "```arr = np.array([-1, 2, -3, 4])```"
   ]
  },
  {
   "cell_type": "code",
   "execution_count": 3,
   "id": "c7709224",
   "metadata": {},
   "outputs": [
    {
     "data": {
      "text/plain": [
       "array([0, 2, 0, 4])"
      ]
     },
     "execution_count": 3,
     "metadata": {},
     "output_type": "execute_result"
    }
   ],
   "source": [
    "arr = np.array([-1, 2, -3, 4])\n",
    "arr[arr < 0] = 0\n",
    "arr"
   ]
  },
  {
   "cell_type": "markdown",
   "id": "c3a1b71b",
   "metadata": {},
   "source": [
    " "
   ]
  },
  {
   "cell_type": "markdown",
   "id": "0762bd24",
   "metadata": {},
   "source": [
    "__043 조건에 맞는 원소값 변경__  \n",
    "다음 ndarray 객체에서 음수를 양수로 변환하세요.  \n",
    "```arr = np.array([-1, 2, -3, 4])```"
   ]
  },
  {
   "cell_type": "code",
   "execution_count": 4,
   "id": "6e1efe38",
   "metadata": {
    "scrolled": true
   },
   "outputs": [
    {
     "data": {
      "text/plain": [
       "array([0, 2, 0, 4])"
      ]
     },
     "execution_count": 4,
     "metadata": {},
     "output_type": "execute_result"
    }
   ],
   "source": [
    "arr[arr < 0] = -arr[arr < 0]\n",
    "arr"
   ]
  },
  {
   "cell_type": "code",
   "execution_count": 5,
   "id": "5ae5ac5c",
   "metadata": {},
   "outputs": [],
   "source": [
    "arr = np.array([-1, 2, -3, 4])"
   ]
  },
  {
   "cell_type": "markdown",
   "id": "a221a4e7",
   "metadata": {},
   "source": [
    " "
   ]
  },
  {
   "cell_type": "markdown",
   "id": "315f58ce",
   "metadata": {},
   "source": [
    "__044 조건에 맞는 원소값 변경__  \n",
    "다음 ndarray 객체에서 양수 혹은 0이면 10을 더하고 음수는 10을 빼세요.  \n",
    "```arr = np.array([-1, 2, -3, 4])```"
   ]
  },
  {
   "cell_type": "code",
   "execution_count": 6,
   "id": "267e615d",
   "metadata": {},
   "outputs": [
    {
     "data": {
      "text/plain": [
       "array([-11,  12, -13,  14])"
      ]
     },
     "execution_count": 6,
     "metadata": {},
     "output_type": "execute_result"
    }
   ],
   "source": [
    "arr = np.array([-1, 2, -3, 4])\n",
    "arr[arr > 0] = arr[arr > 0] + 10\n",
    "arr[arr < 0] = arr[arr < 0] - 10\n",
    "arr"
   ]
  },
  {
   "cell_type": "code",
   "execution_count": 7,
   "id": "78f2a80b",
   "metadata": {},
   "outputs": [
    {
     "data": {
      "text/plain": [
       "array([-11,  12, -13,  14])"
      ]
     },
     "execution_count": 7,
     "metadata": {},
     "output_type": "execute_result"
    }
   ],
   "source": [
    "arr = np.array([-1, 2, -3, 4])\n",
    "np.where(arr > 0, arr + 10, arr - 10)"
   ]
  },
  {
   "cell_type": "markdown",
   "id": "7bfe82fa",
   "metadata": {},
   "source": [
    " "
   ]
  },
  {
   "cell_type": "markdown",
   "id": "c0c4c0af",
   "metadata": {},
   "source": [
    "__045 shuffle__  \n",
    "numpy random 모듈의 shuffle 함수를 사용해서 입력 리스트의 원소들을 랜덤하게 섞어 보세요.  \n",
    "```arr = [1, 2, 3, 4, 5]```"
   ]
  },
  {
   "cell_type": "code",
   "execution_count": 8,
   "id": "bf0727e3",
   "metadata": {},
   "outputs": [
    {
     "data": {
      "text/plain": [
       "[3, 4, 2, 1, 5]"
      ]
     },
     "execution_count": 8,
     "metadata": {},
     "output_type": "execute_result"
    }
   ],
   "source": [
    "arr = [1, 2, 3, 4, 5]\n",
    "np.random.shuffle(arr)\n",
    "arr"
   ]
  },
  {
   "cell_type": "markdown",
   "id": "a28fa0c0",
   "metadata": {},
   "source": [
    " "
   ]
  },
  {
   "cell_type": "markdown",
   "id": "16a79db9",
   "metadata": {},
   "source": [
    "__046 argmin__  \n",
    "다음 넘파일 배열에서 최솟값의 인덱스를 출력하세요.  \n",
    "```arr = np.array([1, 2, 3, 4, 5])```"
   ]
  },
  {
   "cell_type": "code",
   "execution_count": 9,
   "id": "c2ef8f81",
   "metadata": {},
   "outputs": [
    {
     "data": {
      "text/plain": [
       "1"
      ]
     },
     "execution_count": 9,
     "metadata": {},
     "output_type": "execute_result"
    }
   ],
   "source": [
    "arr = np.array([1, 2, 3, 4, 5])\n",
    "np.min(arr)"
   ]
  },
  {
   "cell_type": "markdown",
   "id": "527c0170",
   "metadata": {},
   "source": [
    " "
   ]
  },
  {
   "cell_type": "markdown",
   "id": "944b1ab4",
   "metadata": {},
   "source": [
    "__047 argmax__  \n",
    "다음 넘파일 배열에서 최댓값의 인덱스를 출력하세요.  \n",
    "```arr = np.array([1, 2, 3, 4, 5])```"
   ]
  },
  {
   "cell_type": "code",
   "execution_count": 10,
   "id": "2180c3a9",
   "metadata": {},
   "outputs": [
    {
     "data": {
      "text/plain": [
       "5"
      ]
     },
     "execution_count": 10,
     "metadata": {},
     "output_type": "execute_result"
    }
   ],
   "source": [
    "arr = np.array([1, 2, 3, 4, 5])\n",
    "np.max(arr)"
   ]
  },
  {
   "cell_type": "markdown",
   "id": "a8d61300",
   "metadata": {},
   "source": [
    " "
   ]
  },
  {
   "cell_type": "markdown",
   "id": "cab1ca28",
   "metadata": {},
   "source": [
    "__048 정렬__  \n",
    "다음 넘파이 배열을 오름차순 정렬해보세요.  \n",
    "```arr = np.array([2, 1, 5, 3, 7, 4, 6, 8])```"
   ]
  },
  {
   "cell_type": "code",
   "execution_count": 11,
   "id": "47cb0ec8",
   "metadata": {},
   "outputs": [
    {
     "data": {
      "text/plain": [
       "array([1, 2, 3, 4, 5, 6, 7, 8])"
      ]
     },
     "execution_count": 11,
     "metadata": {},
     "output_type": "execute_result"
    }
   ],
   "source": [
    "arr = np.array([2, 1, 5, 3, 7, 4, 6, 8])\n",
    "np.sort(arr)"
   ]
  },
  {
   "cell_type": "markdown",
   "id": "314e9dc5",
   "metadata": {},
   "source": [
    " "
   ]
  },
  {
   "cell_type": "markdown",
   "id": "6801ff84",
   "metadata": {},
   "source": [
    "__049 numpy.vstack__  \n",
    "numpy.vstack 함수를 사용하여 다음 2차원 배열을 생성하세요.  \n",
    "```\n",
    "array([[1, 2],\n",
    "       [3, 4]])\n",
    "arr1 = np.array([1, 2])\n",
    "arr2 = np.array([3, 4])\n",
    "```"
   ]
  },
  {
   "cell_type": "code",
   "execution_count": 12,
   "id": "d8e3c98a",
   "metadata": {},
   "outputs": [
    {
     "data": {
      "text/plain": [
       "array([[1, 2],\n",
       "       [3, 4]])"
      ]
     },
     "execution_count": 12,
     "metadata": {},
     "output_type": "execute_result"
    }
   ],
   "source": [
    "arr1 = np.array([1, 2])\n",
    "arr2 = np.array([3, 4])\n",
    "np.vstack((arr1, arr2))"
   ]
  },
  {
   "cell_type": "markdown",
   "id": "57fc7f2a",
   "metadata": {},
   "source": [
    " "
   ]
  },
  {
   "cell_type": "markdown",
   "id": "cef6ab71",
   "metadata": {},
   "source": [
    "__050 flatten__  \n",
    "flatten 메서드를 사용하여 다음 배열을 1차원 배열로 변경하세요.  \n",
    "```arr = np.array([ [1, 2], [3, 4] ])```"
   ]
  },
  {
   "cell_type": "code",
   "execution_count": 13,
   "id": "c820d61b",
   "metadata": {},
   "outputs": [
    {
     "data": {
      "text/plain": [
       "array([1, 2, 3, 4])"
      ]
     },
     "execution_count": 13,
     "metadata": {},
     "output_type": "execute_result"
    }
   ],
   "source": [
    "arr = np.array([ [1, 2], [3, 4] ])\n",
    "arr.flatten()"
   ]
  }
 ],
 "metadata": {
  "kernelspec": {
   "display_name": "Python 3 (ipykernel)",
   "language": "python",
   "name": "python3"
  },
  "language_info": {
   "codemirror_mode": {
    "name": "ipython",
    "version": 3
   },
   "file_extension": ".py",
   "mimetype": "text/x-python",
   "name": "python",
   "nbconvert_exporter": "python",
   "pygments_lexer": "ipython3",
   "version": "3.11.5"
  }
 },
 "nbformat": 4,
 "nbformat_minor": 5
}

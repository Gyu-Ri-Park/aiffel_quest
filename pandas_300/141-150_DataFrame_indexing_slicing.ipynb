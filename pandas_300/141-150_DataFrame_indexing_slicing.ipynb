{
 "cells": [
  {
   "cell_type": "code",
   "execution_count": 20,
   "id": "64ecd445",
   "metadata": {},
   "outputs": [],
   "source": [
    "import pandas as pd"
   ]
  },
  {
   "cell_type": "markdown",
   "id": "c22758f0",
   "metadata": {},
   "source": [
    "__141 데이터프레임 컬럼 접근__  \n",
    "데이터프레임에서 현재가 컬럼만 출력해보세요.\n",
    "```\n",
    "data = [\n",
    "    [\"037730\", \"3R\", 1510, 7.36],\n",
    "    [\"036360\", \"3SOFT\", 1790, 1.65],\n",
    "    [\"005760\", \"ACTS\", 1185, 1.28],\n",
    "]\n",
    "columns = [\"종목코드\", \"종목명\", \"현재가\", \"등락률\"]\n",
    "df = pd.DataFrame(data=data, columns=columns)\n",
    "df.set_index('종목코드', inplace=True)\n",
    "```"
   ]
  },
  {
   "cell_type": "code",
   "execution_count": 2,
   "id": "19bf5cc6",
   "metadata": {},
   "outputs": [
    {
     "data": {
      "text/html": [
       "<div>\n",
       "<style scoped>\n",
       "    .dataframe tbody tr th:only-of-type {\n",
       "        vertical-align: middle;\n",
       "    }\n",
       "\n",
       "    .dataframe tbody tr th {\n",
       "        vertical-align: top;\n",
       "    }\n",
       "\n",
       "    .dataframe thead th {\n",
       "        text-align: right;\n",
       "    }\n",
       "</style>\n",
       "<table border=\"1\" class=\"dataframe\">\n",
       "  <thead>\n",
       "    <tr style=\"text-align: right;\">\n",
       "      <th></th>\n",
       "      <th>종목명</th>\n",
       "      <th>현재가</th>\n",
       "      <th>등락률</th>\n",
       "    </tr>\n",
       "    <tr>\n",
       "      <th>종목코드</th>\n",
       "      <th></th>\n",
       "      <th></th>\n",
       "      <th></th>\n",
       "    </tr>\n",
       "  </thead>\n",
       "  <tbody>\n",
       "    <tr>\n",
       "      <th>037730</th>\n",
       "      <td>3R</td>\n",
       "      <td>1510</td>\n",
       "      <td>7.36</td>\n",
       "    </tr>\n",
       "    <tr>\n",
       "      <th>036360</th>\n",
       "      <td>3SOFT</td>\n",
       "      <td>1790</td>\n",
       "      <td>1.65</td>\n",
       "    </tr>\n",
       "    <tr>\n",
       "      <th>005760</th>\n",
       "      <td>ACTS</td>\n",
       "      <td>1185</td>\n",
       "      <td>1.28</td>\n",
       "    </tr>\n",
       "  </tbody>\n",
       "</table>\n",
       "</div>"
      ],
      "text/plain": [
       "          종목명   현재가   등락률\n",
       "종목코드                     \n",
       "037730     3R  1510  7.36\n",
       "036360  3SOFT  1790  1.65\n",
       "005760   ACTS  1185  1.28"
      ]
     },
     "execution_count": 2,
     "metadata": {},
     "output_type": "execute_result"
    }
   ],
   "source": [
    "data = [\n",
    "    [\"037730\", \"3R\", 1510, 7.36],\n",
    "    [\"036360\", \"3SOFT\", 1790, 1.65],\n",
    "    [\"005760\", \"ACTS\", 1185, 1.28],\n",
    "]\n",
    "columns = [\"종목코드\", \"종목명\", \"현재가\", \"등락률\"]\n",
    "df = pd.DataFrame(data=data, columns=columns)\n",
    "df.set_index('종목코드', inplace=True)\n",
    "df"
   ]
  },
  {
   "cell_type": "code",
   "execution_count": 3,
   "id": "65fcbabe",
   "metadata": {},
   "outputs": [
    {
     "data": {
      "text/plain": [
       "종목코드\n",
       "037730    1510\n",
       "036360    1790\n",
       "005760    1185\n",
       "Name: 현재가, dtype: int64"
      ]
     },
     "execution_count": 3,
     "metadata": {},
     "output_type": "execute_result"
    }
   ],
   "source": [
    "df['현재가']"
   ]
  },
  {
   "cell_type": "code",
   "execution_count": 4,
   "id": "c8b27fb5",
   "metadata": {},
   "outputs": [
    {
     "data": {
      "text/plain": [
       "종목코드\n",
       "037730    1510\n",
       "036360    1790\n",
       "005760    1185\n",
       "Name: 현재가, dtype: int64"
      ]
     },
     "execution_count": 4,
     "metadata": {},
     "output_type": "execute_result"
    }
   ],
   "source": [
    "df.loc[:, \"현재가\"]"
   ]
  },
  {
   "cell_type": "code",
   "execution_count": 5,
   "id": "bf4a0299",
   "metadata": {},
   "outputs": [
    {
     "data": {
      "text/plain": [
       "종목코드\n",
       "037730    1510\n",
       "036360    1790\n",
       "005760    1185\n",
       "Name: 현재가, dtype: int64"
      ]
     },
     "execution_count": 5,
     "metadata": {},
     "output_type": "execute_result"
    }
   ],
   "source": [
    "df.iloc[:, 1]"
   ]
  },
  {
   "cell_type": "markdown",
   "id": "8421d884",
   "metadata": {},
   "source": [
    " "
   ]
  },
  {
   "cell_type": "markdown",
   "id": "87f36ec0",
   "metadata": {},
   "source": [
    "__142 컬럼 인덱싱__  \n",
    "데이터프레임에서 현재가 컬럼을 인덱싱하는데 이를 데이터프레임 타입이 되도록 하세요."
   ]
  },
  {
   "cell_type": "code",
   "execution_count": 6,
   "id": "dc206034",
   "metadata": {},
   "outputs": [
    {
     "data": {
      "text/html": [
       "<div>\n",
       "<style scoped>\n",
       "    .dataframe tbody tr th:only-of-type {\n",
       "        vertical-align: middle;\n",
       "    }\n",
       "\n",
       "    .dataframe tbody tr th {\n",
       "        vertical-align: top;\n",
       "    }\n",
       "\n",
       "    .dataframe thead th {\n",
       "        text-align: right;\n",
       "    }\n",
       "</style>\n",
       "<table border=\"1\" class=\"dataframe\">\n",
       "  <thead>\n",
       "    <tr style=\"text-align: right;\">\n",
       "      <th></th>\n",
       "      <th>현재가</th>\n",
       "    </tr>\n",
       "    <tr>\n",
       "      <th>종목코드</th>\n",
       "      <th></th>\n",
       "    </tr>\n",
       "  </thead>\n",
       "  <tbody>\n",
       "    <tr>\n",
       "      <th>037730</th>\n",
       "      <td>1510</td>\n",
       "    </tr>\n",
       "    <tr>\n",
       "      <th>036360</th>\n",
       "      <td>1790</td>\n",
       "    </tr>\n",
       "    <tr>\n",
       "      <th>005760</th>\n",
       "      <td>1185</td>\n",
       "    </tr>\n",
       "  </tbody>\n",
       "</table>\n",
       "</div>"
      ],
      "text/plain": [
       "         현재가\n",
       "종목코드        \n",
       "037730  1510\n",
       "036360  1790\n",
       "005760  1185"
      ]
     },
     "execution_count": 6,
     "metadata": {},
     "output_type": "execute_result"
    }
   ],
   "source": [
    "df[['현재가']]"
   ]
  },
  {
   "cell_type": "code",
   "execution_count": 7,
   "id": "f2d3b605",
   "metadata": {},
   "outputs": [
    {
     "data": {
      "text/html": [
       "<div>\n",
       "<style scoped>\n",
       "    .dataframe tbody tr th:only-of-type {\n",
       "        vertical-align: middle;\n",
       "    }\n",
       "\n",
       "    .dataframe tbody tr th {\n",
       "        vertical-align: top;\n",
       "    }\n",
       "\n",
       "    .dataframe thead th {\n",
       "        text-align: right;\n",
       "    }\n",
       "</style>\n",
       "<table border=\"1\" class=\"dataframe\">\n",
       "  <thead>\n",
       "    <tr style=\"text-align: right;\">\n",
       "      <th></th>\n",
       "      <th>종목코드</th>\n",
       "      <th>현재가</th>\n",
       "    </tr>\n",
       "  </thead>\n",
       "  <tbody>\n",
       "    <tr>\n",
       "      <th>0</th>\n",
       "      <td>037730</td>\n",
       "      <td>1510</td>\n",
       "    </tr>\n",
       "    <tr>\n",
       "      <th>1</th>\n",
       "      <td>036360</td>\n",
       "      <td>1790</td>\n",
       "    </tr>\n",
       "    <tr>\n",
       "      <th>2</th>\n",
       "      <td>005760</td>\n",
       "      <td>1185</td>\n",
       "    </tr>\n",
       "  </tbody>\n",
       "</table>\n",
       "</div>"
      ],
      "text/plain": [
       "     종목코드   현재가\n",
       "0  037730  1510\n",
       "1  036360  1790\n",
       "2  005760  1185"
      ]
     },
     "execution_count": 7,
     "metadata": {},
     "output_type": "execute_result"
    }
   ],
   "source": [
    "df.loc[:, \"현재가\"].reset_index()"
   ]
  },
  {
   "cell_type": "code",
   "execution_count": 8,
   "id": "845c55fb",
   "metadata": {},
   "outputs": [
    {
     "data": {
      "text/html": [
       "<div>\n",
       "<style scoped>\n",
       "    .dataframe tbody tr th:only-of-type {\n",
       "        vertical-align: middle;\n",
       "    }\n",
       "\n",
       "    .dataframe tbody tr th {\n",
       "        vertical-align: top;\n",
       "    }\n",
       "\n",
       "    .dataframe thead th {\n",
       "        text-align: right;\n",
       "    }\n",
       "</style>\n",
       "<table border=\"1\" class=\"dataframe\">\n",
       "  <thead>\n",
       "    <tr style=\"text-align: right;\">\n",
       "      <th></th>\n",
       "      <th>종목코드</th>\n",
       "      <th>현재가</th>\n",
       "    </tr>\n",
       "  </thead>\n",
       "  <tbody>\n",
       "    <tr>\n",
       "      <th>0</th>\n",
       "      <td>037730</td>\n",
       "      <td>1510</td>\n",
       "    </tr>\n",
       "    <tr>\n",
       "      <th>1</th>\n",
       "      <td>036360</td>\n",
       "      <td>1790</td>\n",
       "    </tr>\n",
       "    <tr>\n",
       "      <th>2</th>\n",
       "      <td>005760</td>\n",
       "      <td>1185</td>\n",
       "    </tr>\n",
       "  </tbody>\n",
       "</table>\n",
       "</div>"
      ],
      "text/plain": [
       "     종목코드   현재가\n",
       "0  037730  1510\n",
       "1  036360  1790\n",
       "2  005760  1185"
      ]
     },
     "execution_count": 8,
     "metadata": {},
     "output_type": "execute_result"
    }
   ],
   "source": [
    "df.iloc[:, 1].reset_index()"
   ]
  },
  {
   "cell_type": "markdown",
   "id": "3bf0f07a",
   "metadata": {},
   "source": [
    " "
   ]
  },
  {
   "cell_type": "markdown",
   "id": "0ab1de8f",
   "metadata": {},
   "source": [
    "__143 데이터프레임 멀티 컬럼 접근__  \n",
    "위의 데이터프레임에서 \"현재가\"와 \"등락률\" 컬럼을 인덱싱해보세요."
   ]
  },
  {
   "cell_type": "code",
   "execution_count": 9,
   "id": "40e65982",
   "metadata": {},
   "outputs": [
    {
     "data": {
      "text/html": [
       "<div>\n",
       "<style scoped>\n",
       "    .dataframe tbody tr th:only-of-type {\n",
       "        vertical-align: middle;\n",
       "    }\n",
       "\n",
       "    .dataframe tbody tr th {\n",
       "        vertical-align: top;\n",
       "    }\n",
       "\n",
       "    .dataframe thead th {\n",
       "        text-align: right;\n",
       "    }\n",
       "</style>\n",
       "<table border=\"1\" class=\"dataframe\">\n",
       "  <thead>\n",
       "    <tr style=\"text-align: right;\">\n",
       "      <th></th>\n",
       "      <th>현재가</th>\n",
       "      <th>등락률</th>\n",
       "    </tr>\n",
       "    <tr>\n",
       "      <th>종목코드</th>\n",
       "      <th></th>\n",
       "      <th></th>\n",
       "    </tr>\n",
       "  </thead>\n",
       "  <tbody>\n",
       "    <tr>\n",
       "      <th>037730</th>\n",
       "      <td>1510</td>\n",
       "      <td>7.36</td>\n",
       "    </tr>\n",
       "    <tr>\n",
       "      <th>036360</th>\n",
       "      <td>1790</td>\n",
       "      <td>1.65</td>\n",
       "    </tr>\n",
       "    <tr>\n",
       "      <th>005760</th>\n",
       "      <td>1185</td>\n",
       "      <td>1.28</td>\n",
       "    </tr>\n",
       "  </tbody>\n",
       "</table>\n",
       "</div>"
      ],
      "text/plain": [
       "         현재가   등락률\n",
       "종목코드              \n",
       "037730  1510  7.36\n",
       "036360  1790  1.65\n",
       "005760  1185  1.28"
      ]
     },
     "execution_count": 9,
     "metadata": {},
     "output_type": "execute_result"
    }
   ],
   "source": [
    "df[[\"현재가\", \"등락률\"]]"
   ]
  },
  {
   "cell_type": "code",
   "execution_count": 10,
   "id": "d69aeecd",
   "metadata": {},
   "outputs": [
    {
     "data": {
      "text/html": [
       "<div>\n",
       "<style scoped>\n",
       "    .dataframe tbody tr th:only-of-type {\n",
       "        vertical-align: middle;\n",
       "    }\n",
       "\n",
       "    .dataframe tbody tr th {\n",
       "        vertical-align: top;\n",
       "    }\n",
       "\n",
       "    .dataframe thead th {\n",
       "        text-align: right;\n",
       "    }\n",
       "</style>\n",
       "<table border=\"1\" class=\"dataframe\">\n",
       "  <thead>\n",
       "    <tr style=\"text-align: right;\">\n",
       "      <th></th>\n",
       "      <th>현재가</th>\n",
       "      <th>등락률</th>\n",
       "    </tr>\n",
       "    <tr>\n",
       "      <th>종목코드</th>\n",
       "      <th></th>\n",
       "      <th></th>\n",
       "    </tr>\n",
       "  </thead>\n",
       "  <tbody>\n",
       "    <tr>\n",
       "      <th>037730</th>\n",
       "      <td>1510</td>\n",
       "      <td>7.36</td>\n",
       "    </tr>\n",
       "    <tr>\n",
       "      <th>036360</th>\n",
       "      <td>1790</td>\n",
       "      <td>1.65</td>\n",
       "    </tr>\n",
       "    <tr>\n",
       "      <th>005760</th>\n",
       "      <td>1185</td>\n",
       "      <td>1.28</td>\n",
       "    </tr>\n",
       "  </tbody>\n",
       "</table>\n",
       "</div>"
      ],
      "text/plain": [
       "         현재가   등락률\n",
       "종목코드              \n",
       "037730  1510  7.36\n",
       "036360  1790  1.65\n",
       "005760  1185  1.28"
      ]
     },
     "execution_count": 10,
     "metadata": {},
     "output_type": "execute_result"
    }
   ],
   "source": [
    "df.loc[:, [\"현재가\", \"등락률\"]]"
   ]
  },
  {
   "cell_type": "code",
   "execution_count": 11,
   "id": "d927f58d",
   "metadata": {},
   "outputs": [
    {
     "data": {
      "text/html": [
       "<div>\n",
       "<style scoped>\n",
       "    .dataframe tbody tr th:only-of-type {\n",
       "        vertical-align: middle;\n",
       "    }\n",
       "\n",
       "    .dataframe tbody tr th {\n",
       "        vertical-align: top;\n",
       "    }\n",
       "\n",
       "    .dataframe thead th {\n",
       "        text-align: right;\n",
       "    }\n",
       "</style>\n",
       "<table border=\"1\" class=\"dataframe\">\n",
       "  <thead>\n",
       "    <tr style=\"text-align: right;\">\n",
       "      <th></th>\n",
       "      <th>현재가</th>\n",
       "      <th>등락률</th>\n",
       "    </tr>\n",
       "    <tr>\n",
       "      <th>종목코드</th>\n",
       "      <th></th>\n",
       "      <th></th>\n",
       "    </tr>\n",
       "  </thead>\n",
       "  <tbody>\n",
       "    <tr>\n",
       "      <th>037730</th>\n",
       "      <td>1510</td>\n",
       "      <td>7.36</td>\n",
       "    </tr>\n",
       "    <tr>\n",
       "      <th>036360</th>\n",
       "      <td>1790</td>\n",
       "      <td>1.65</td>\n",
       "    </tr>\n",
       "    <tr>\n",
       "      <th>005760</th>\n",
       "      <td>1185</td>\n",
       "      <td>1.28</td>\n",
       "    </tr>\n",
       "  </tbody>\n",
       "</table>\n",
       "</div>"
      ],
      "text/plain": [
       "         현재가   등락률\n",
       "종목코드              \n",
       "037730  1510  7.36\n",
       "036360  1790  1.65\n",
       "005760  1185  1.28"
      ]
     },
     "execution_count": 11,
     "metadata": {},
     "output_type": "execute_result"
    }
   ],
   "source": [
    "df.iloc[:, 1:]"
   ]
  },
  {
   "cell_type": "markdown",
   "id": "059167d5",
   "metadata": {},
   "source": [
    " "
   ]
  },
  {
   "cell_type": "markdown",
   "id": "965a5875",
   "metadata": {},
   "source": [
    "__144 데이터프레임 로우 접근 (iloc 속성)__  \n",
    "데이터프레임에서 iloc 속성을 사용하여 0번째 행을 출력해보세요."
   ]
  },
  {
   "cell_type": "code",
   "execution_count": 12,
   "id": "555a512d",
   "metadata": {},
   "outputs": [
    {
     "data": {
      "text/plain": [
       "종목명      3R\n",
       "현재가    1510\n",
       "등락률    7.36\n",
       "Name: 037730, dtype: object"
      ]
     },
     "execution_count": 12,
     "metadata": {},
     "output_type": "execute_result"
    }
   ],
   "source": [
    "df.iloc[0, :]"
   ]
  },
  {
   "cell_type": "markdown",
   "id": "6e3e9513",
   "metadata": {},
   "source": [
    " "
   ]
  },
  {
   "cell_type": "markdown",
   "id": "66685972",
   "metadata": {},
   "source": [
    "__145 데이터프레임 로우 접근 (iloc 속성)__  \n",
    "데이터프레임에서 iloc 속성을 사용하여 가장 아래쪽의 행을 출력해보세요."
   ]
  },
  {
   "cell_type": "code",
   "execution_count": 13,
   "id": "eeb6771e",
   "metadata": {},
   "outputs": [
    {
     "data": {
      "text/plain": [
       "종목명    ACTS\n",
       "현재가    1185\n",
       "등락률    1.28\n",
       "Name: 005760, dtype: object"
      ]
     },
     "execution_count": 13,
     "metadata": {},
     "output_type": "execute_result"
    }
   ],
   "source": [
    "df.iloc[-1, :]"
   ]
  },
  {
   "cell_type": "markdown",
   "id": "a3477fe7",
   "metadata": {},
   "source": [
    " "
   ]
  },
  {
   "cell_type": "markdown",
   "id": "e2a5c7d8",
   "metadata": {},
   "source": [
    "__146 데이터프레임 멀티 로우 접근 (iloc 속성)__  \n",
    "데이터프레임에서 iloc 속성을 사용하여 0번째, 2번째 행을 출력해보세요."
   ]
  },
  {
   "cell_type": "code",
   "execution_count": 14,
   "id": "c5aa0977",
   "metadata": {},
   "outputs": [
    {
     "data": {
      "text/html": [
       "<div>\n",
       "<style scoped>\n",
       "    .dataframe tbody tr th:only-of-type {\n",
       "        vertical-align: middle;\n",
       "    }\n",
       "\n",
       "    .dataframe tbody tr th {\n",
       "        vertical-align: top;\n",
       "    }\n",
       "\n",
       "    .dataframe thead th {\n",
       "        text-align: right;\n",
       "    }\n",
       "</style>\n",
       "<table border=\"1\" class=\"dataframe\">\n",
       "  <thead>\n",
       "    <tr style=\"text-align: right;\">\n",
       "      <th></th>\n",
       "      <th>종목명</th>\n",
       "      <th>현재가</th>\n",
       "      <th>등락률</th>\n",
       "    </tr>\n",
       "    <tr>\n",
       "      <th>종목코드</th>\n",
       "      <th></th>\n",
       "      <th></th>\n",
       "      <th></th>\n",
       "    </tr>\n",
       "  </thead>\n",
       "  <tbody>\n",
       "    <tr>\n",
       "      <th>037730</th>\n",
       "      <td>3R</td>\n",
       "      <td>1510</td>\n",
       "      <td>7.36</td>\n",
       "    </tr>\n",
       "    <tr>\n",
       "      <th>005760</th>\n",
       "      <td>ACTS</td>\n",
       "      <td>1185</td>\n",
       "      <td>1.28</td>\n",
       "    </tr>\n",
       "  </tbody>\n",
       "</table>\n",
       "</div>"
      ],
      "text/plain": [
       "         종목명   현재가   등락률\n",
       "종목코드                    \n",
       "037730    3R  1510  7.36\n",
       "005760  ACTS  1185  1.28"
      ]
     },
     "execution_count": 14,
     "metadata": {},
     "output_type": "execute_result"
    }
   ],
   "source": [
    "df.iloc[[0, 2], :]"
   ]
  },
  {
   "cell_type": "markdown",
   "id": "45f4c47e",
   "metadata": {},
   "source": [
    " "
   ]
  },
  {
   "cell_type": "markdown",
   "id": "4d217763",
   "metadata": {},
   "source": [
    "__147 loc__  \n",
    "위 데이터프레임에서 \"037730\" 종목의 데이터를 인덱싱해보세요."
   ]
  },
  {
   "cell_type": "code",
   "execution_count": 15,
   "id": "347b30c1",
   "metadata": {},
   "outputs": [
    {
     "data": {
      "text/plain": [
       "종목명      3R\n",
       "현재가    1510\n",
       "등락률    7.36\n",
       "Name: 037730, dtype: object"
      ]
     },
     "execution_count": 15,
     "metadata": {},
     "output_type": "execute_result"
    }
   ],
   "source": [
    "df.loc[\"037730\", :]"
   ]
  },
  {
   "cell_type": "markdown",
   "id": "522c8b61",
   "metadata": {},
   "source": [
    " "
   ]
  },
  {
   "cell_type": "markdown",
   "id": "ff1f3476",
   "metadata": {},
   "source": [
    "__148 loc 멀티 인덱싱__  \n",
    "위 데이터프레임에서 첫 번째와 세 번째 행을 동시에 인덱싱해보세요."
   ]
  },
  {
   "cell_type": "code",
   "execution_count": 16,
   "id": "5935c432",
   "metadata": {},
   "outputs": [
    {
     "data": {
      "text/html": [
       "<div>\n",
       "<style scoped>\n",
       "    .dataframe tbody tr th:only-of-type {\n",
       "        vertical-align: middle;\n",
       "    }\n",
       "\n",
       "    .dataframe tbody tr th {\n",
       "        vertical-align: top;\n",
       "    }\n",
       "\n",
       "    .dataframe thead th {\n",
       "        text-align: right;\n",
       "    }\n",
       "</style>\n",
       "<table border=\"1\" class=\"dataframe\">\n",
       "  <thead>\n",
       "    <tr style=\"text-align: right;\">\n",
       "      <th></th>\n",
       "      <th>종목명</th>\n",
       "      <th>현재가</th>\n",
       "      <th>등락률</th>\n",
       "    </tr>\n",
       "    <tr>\n",
       "      <th>종목코드</th>\n",
       "      <th></th>\n",
       "      <th></th>\n",
       "      <th></th>\n",
       "    </tr>\n",
       "  </thead>\n",
       "  <tbody>\n",
       "    <tr>\n",
       "      <th>037730</th>\n",
       "      <td>3R</td>\n",
       "      <td>1510</td>\n",
       "      <td>7.36</td>\n",
       "    </tr>\n",
       "    <tr>\n",
       "      <th>005760</th>\n",
       "      <td>ACTS</td>\n",
       "      <td>1185</td>\n",
       "      <td>1.28</td>\n",
       "    </tr>\n",
       "  </tbody>\n",
       "</table>\n",
       "</div>"
      ],
      "text/plain": [
       "         종목명   현재가   등락률\n",
       "종목코드                    \n",
       "037730    3R  1510  7.36\n",
       "005760  ACTS  1185  1.28"
      ]
     },
     "execution_count": 16,
     "metadata": {},
     "output_type": "execute_result"
    }
   ],
   "source": [
    "df.loc[[\"037730\", \"005760\"], :]"
   ]
  },
  {
   "cell_type": "markdown",
   "id": "6189572a",
   "metadata": {},
   "source": [
    " "
   ]
  },
  {
   "cell_type": "markdown",
   "id": "c88f664a",
   "metadata": {},
   "source": [
    "__149 특정 값 가져오기 (iloc)__  \n",
    "위 데이터프레임에서 037730 종목의 등락률을 출력하세요."
   ]
  },
  {
   "cell_type": "code",
   "execution_count": 17,
   "id": "c19afa7b",
   "metadata": {},
   "outputs": [
    {
     "data": {
      "text/plain": [
       "7.36"
      ]
     },
     "execution_count": 17,
     "metadata": {},
     "output_type": "execute_result"
    }
   ],
   "source": [
    "df.iloc[0, 2]"
   ]
  },
  {
   "cell_type": "markdown",
   "id": "0af3c515",
   "metadata": {},
   "source": [
    " "
   ]
  },
  {
   "cell_type": "markdown",
   "id": "6c15edab",
   "metadata": {},
   "source": [
    "__150 DataFrame.iat 과 DataFrame.at__  \n",
    "위 데이터프레임에서 iat과 at 속성을 사용하여 037730 종목의 등락률을 출력하세요."
   ]
  },
  {
   "cell_type": "code",
   "execution_count": 18,
   "id": "0e906f01",
   "metadata": {},
   "outputs": [
    {
     "data": {
      "text/plain": [
       "7.36"
      ]
     },
     "execution_count": 18,
     "metadata": {},
     "output_type": "execute_result"
    }
   ],
   "source": [
    "df.iat[0, 2]"
   ]
  },
  {
   "cell_type": "code",
   "execution_count": 19,
   "id": "99a18b8b",
   "metadata": {},
   "outputs": [
    {
     "data": {
      "text/plain": [
       "7.36"
      ]
     },
     "execution_count": 19,
     "metadata": {},
     "output_type": "execute_result"
    }
   ],
   "source": [
    "df.at[\"037730\", \"등락률\"]"
   ]
  }
 ],
 "metadata": {
  "kernelspec": {
   "display_name": "Python 3 (ipykernel)",
   "language": "python",
   "name": "python3"
  },
  "language_info": {
   "codemirror_mode": {
    "name": "ipython",
    "version": 3
   },
   "file_extension": ".py",
   "mimetype": "text/x-python",
   "name": "python",
   "nbconvert_exporter": "python",
   "pygments_lexer": "ipython3",
   "version": "3.11.5"
  }
 },
 "nbformat": 4,
 "nbformat_minor": 5
}

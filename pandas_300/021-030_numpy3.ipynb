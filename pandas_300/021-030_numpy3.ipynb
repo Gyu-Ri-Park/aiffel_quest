{
 "cells": [
  {
   "cell_type": "code",
   "execution_count": 1,
   "id": "aa199f5c",
   "metadata": {},
   "outputs": [],
   "source": [
    "import numpy as np"
   ]
  },
  {
   "cell_type": "markdown",
   "id": "3b8edb6d",
   "metadata": {},
   "source": [
    "__021 astype__  \n",
    "arr 배열은 float64 타입입니다. 이를 np.int32 타입으로 변경하세요.\n",
    "```\n",
    "arr = np.array([1.1, 2.1, 3.1])\n",
    "arr\n",
    "```"
   ]
  },
  {
   "cell_type": "code",
   "execution_count": 2,
   "id": "16361115",
   "metadata": {},
   "outputs": [
    {
     "name": "stdout",
     "output_type": "stream",
     "text": [
      "float64\n",
      "int32\n"
     ]
    }
   ],
   "source": [
    "arr = np.array([1.1, 2.1, 3.1])\n",
    "print(arr.dtype)\n",
    "\n",
    "arr2 = arr.astype(np.int32)\n",
    "print(arr2.dtype)"
   ]
  },
  {
   "cell_type": "markdown",
   "id": "d58c4997",
   "metadata": {},
   "source": [
    " "
   ]
  },
  {
   "cell_type": "markdown",
   "id": "bceba6fb",
   "metadata": {},
   "source": [
    "__022 linspace__  \n",
    "0~10 사이를 구간을 20개의 포인트로 분할한 결과를 ndarray로 표현하라.\n",
    "```\n",
    "array([ 0.        ,  0.52631579,  1.05263158,  1.57894737,  2.10526316,\n",
    "        2.63157895,  3.15789474,  3.68421053,  4.21052632,  4.73684211,\n",
    "        5.26315789,  5.78947368,  6.31578947,  6.84210526,  7.36842105,\n",
    "        7.89473684,  8.42105263,  8.94736842,  9.47368421, 10.        ])\n",
    "```"
   ]
  },
  {
   "cell_type": "code",
   "execution_count": 3,
   "id": "227eba03",
   "metadata": {},
   "outputs": [
    {
     "data": {
      "text/plain": [
       "array([ 0.        ,  0.52631579,  1.05263158,  1.57894737,  2.10526316,\n",
       "        2.63157895,  3.15789474,  3.68421053,  4.21052632,  4.73684211,\n",
       "        5.26315789,  5.78947368,  6.31578947,  6.84210526,  7.36842105,\n",
       "        7.89473684,  8.42105263,  8.94736842,  9.47368421, 10.        ])"
      ]
     },
     "execution_count": 3,
     "metadata": {},
     "output_type": "execute_result"
    }
   ],
   "source": [
    "np.linspace(0, 10, 20)"
   ]
  },
  {
   "cell_type": "markdown",
   "id": "081cce52",
   "metadata": {},
   "source": [
    " "
   ]
  },
  {
   "cell_type": "markdown",
   "id": "28772768",
   "metadata": {},
   "source": [
    "__023 로우 인덱싱__  \n",
    "다음의 ndarry 객체에서 마지막 로우([6, 7, 8])을 출력하세요.\n",
    "```\n",
    "> arr = np.arange(9).reshape(3, 3)\n",
    "> arr\n",
    "[[0 1 2]\n",
    " [3 4 5]\n",
    " [6 7 8]]\n",
    "```"
   ]
  },
  {
   "cell_type": "code",
   "execution_count": 4,
   "id": "4625c2d7",
   "metadata": {},
   "outputs": [
    {
     "data": {
      "text/plain": [
       "array([6, 7, 8])"
      ]
     },
     "execution_count": 4,
     "metadata": {},
     "output_type": "execute_result"
    }
   ],
   "source": [
    "arr = np.arange(9).reshape(3, 3)\n",
    "arr[-1]"
   ]
  },
  {
   "cell_type": "code",
   "execution_count": 5,
   "id": "2b15b9b5",
   "metadata": {},
   "outputs": [
    {
     "data": {
      "text/plain": [
       "array([6, 7, 8])"
      ]
     },
     "execution_count": 5,
     "metadata": {},
     "output_type": "execute_result"
    }
   ],
   "source": [
    "arr = np.arange(9).reshape(3, 3)\n",
    "arr[2]"
   ]
  },
  {
   "cell_type": "markdown",
   "id": "0571b83a",
   "metadata": {},
   "source": [
    " "
   ]
  },
  {
   "cell_type": "markdown",
   "id": "1e11224e",
   "metadata": {},
   "source": [
    "__024 컬럼 인덱싱__  \n",
    "다음의 ndarry 객체에서 두 번째 컬럼([1, 4, 7])을 출력하세요.\n",
    "```\n",
    "> arr = np.arange(9).reshape(3, 3)\n",
    "> arr\n",
    "[[0 1 2]\n",
    " [3 4 5]\n",
    " [6 7 8]]\n",
    "```"
   ]
  },
  {
   "cell_type": "code",
   "execution_count": 6,
   "id": "2a54f093",
   "metadata": {},
   "outputs": [
    {
     "data": {
      "text/plain": [
       "array([1, 4, 7])"
      ]
     },
     "execution_count": 6,
     "metadata": {},
     "output_type": "execute_result"
    }
   ],
   "source": [
    "arr = np.arange(9).reshape(3, 3)\n",
    "arr[:, 1]"
   ]
  },
  {
   "cell_type": "markdown",
   "id": "312e683b",
   "metadata": {},
   "source": [
    " "
   ]
  },
  {
   "cell_type": "markdown",
   "id": "302b3d09",
   "metadata": {},
   "source": [
    "__025 데이터 인덱싱__  \n",
    "다음의 ndarray 객체에서 17을 선택하는 코드를 작성하라.\n",
    "```\n",
    "> arr = np.arange(25).reshape(5, 5)\n",
    "> arr\n",
    "[[ 0  1  2  3  4]\n",
    " [ 5  6  7  8  9]\n",
    " [10 11 12 13 14]\n",
    " [15 16 17 18 19]\n",
    " [20 21 22 23 24]]\n",
    "```"
   ]
  },
  {
   "cell_type": "code",
   "execution_count": 7,
   "id": "4e5a52a4",
   "metadata": {},
   "outputs": [
    {
     "data": {
      "text/plain": [
       "17"
      ]
     },
     "execution_count": 7,
     "metadata": {},
     "output_type": "execute_result"
    }
   ],
   "source": [
    "arr = np.arange(25).reshape(5, 5)\n",
    "arr[3, 2]"
   ]
  },
  {
   "cell_type": "markdown",
   "id": "8801e5e7",
   "metadata": {},
   "source": [
    " "
   ]
  },
  {
   "cell_type": "markdown",
   "id": "e867e8d3",
   "metadata": {},
   "source": [
    "__026 슬라이싱__  \n",
    "[1 3]을 슬라이싱 하는 코드를 작성하세요.\n",
    "```\n",
    "> arr = np.arange(5)\n",
    "> arr\n",
    "[ 0  1  2  3  4]\n",
    "```"
   ]
  },
  {
   "cell_type": "code",
   "execution_count": 8,
   "id": "4795091a",
   "metadata": {},
   "outputs": [
    {
     "data": {
      "text/plain": [
       "array([1, 3])"
      ]
     },
     "execution_count": 8,
     "metadata": {},
     "output_type": "execute_result"
    }
   ],
   "source": [
    "arr = np.arange(5)\n",
    "arr[[1, 3]]"
   ]
  },
  {
   "cell_type": "markdown",
   "id": "53469334",
   "metadata": {},
   "source": [
    " "
   ]
  },
  {
   "cell_type": "markdown",
   "id": "52034e48",
   "metadata": {},
   "source": [
    "__027 슬라이싱__  \n",
    "[6 7 8 9]를 슬라이싱 하는 코드를 작성하세요.\n",
    "```\n",
    "> arr = np.arange(25).reshape(5, 5)\n",
    "> arr\n",
    "[[ 0  1  2  3  4]\n",
    " [ 5  6  7  8  9]\n",
    " [10 11 12 13 14]\n",
    " [15 16 17 18 19]\n",
    " [20 21 22 23 24]]\n",
    "```"
   ]
  },
  {
   "cell_type": "code",
   "execution_count": 9,
   "id": "1c19636b",
   "metadata": {},
   "outputs": [
    {
     "data": {
      "text/plain": [
       "array([6, 7, 8, 9])"
      ]
     },
     "execution_count": 9,
     "metadata": {},
     "output_type": "execute_result"
    }
   ],
   "source": [
    "arr = np.arange(25).reshape(5, 5)\n",
    "arr[1,1:]"
   ]
  },
  {
   "cell_type": "markdown",
   "id": "0653bb13",
   "metadata": {},
   "source": [
    " "
   ]
  },
  {
   "cell_type": "markdown",
   "id": "7307c13c",
   "metadata": {},
   "source": [
    "__028 슬라이싱__  \n",
    "첫번째와 두번째 컬럼을 슬라이싱하는 코드를 작성하세요.\n",
    "```\n",
    "> arr = np.arange(25).reshape(5, 5)\n",
    "> arr\n",
    "[[ 0  1  2  3  4]\n",
    " [ 5  6  7  8  9]\n",
    " [10 11 12 13 14]\n",
    " [15 16 17 18 19]\n",
    " [20 21 22 23 24]]\n",
    "```"
   ]
  },
  {
   "cell_type": "code",
   "execution_count": 10,
   "id": "77c678fe",
   "metadata": {},
   "outputs": [
    {
     "data": {
      "text/plain": [
       "array([[ 0,  1],\n",
       "       [ 5,  6],\n",
       "       [10, 11],\n",
       "       [15, 16],\n",
       "       [20, 21]])"
      ]
     },
     "execution_count": 10,
     "metadata": {},
     "output_type": "execute_result"
    }
   ],
   "source": [
    "arr = np.arange(25).reshape(5, 5)\n",
    "arr[:, :2]"
   ]
  },
  {
   "cell_type": "markdown",
   "id": "d9b5e9da",
   "metadata": {},
   "source": [
    " "
   ]
  },
  {
   "cell_type": "markdown",
   "id": "1baea89f",
   "metadata": {},
   "source": [
    "__029 슬라이싱__  \n",
    "6. 7,11, 12 를 2x2 ndarray로 슬라이싱하는 코드를 작성하세요.\n",
    "```\n",
    "> arr = np.arange(25).reshape(5, 5)\n",
    "> arr\n",
    "[[ 0  1  2  3  4]\n",
    " [ 5  6  7  8  9]\n",
    " [10 11 12 13 14]\n",
    " [15 16 17 18 19]\n",
    " [20 21 22 23 24]]\n",
    "```"
   ]
  },
  {
   "cell_type": "code",
   "execution_count": 11,
   "id": "b1b21d37",
   "metadata": {},
   "outputs": [
    {
     "data": {
      "text/plain": [
       "array([[ 6,  7],\n",
       "       [11, 12]])"
      ]
     },
     "execution_count": 11,
     "metadata": {},
     "output_type": "execute_result"
    }
   ],
   "source": [
    "arr = np.arange(25).reshape(5, 5)\n",
    "arr[1:3, 1:3]"
   ]
  },
  {
   "cell_type": "markdown",
   "id": "e8ef1958",
   "metadata": {},
   "source": [
    " "
   ]
  },
  {
   "cell_type": "markdown",
   "id": "8af40b55",
   "metadata": {},
   "source": [
    "__030 슬라이싱__  \n",
    "0, 3, 20, 23 를 2x2 ndarray로 슬라이싱하는 코드를 작성하세요.\n",
    "```\n",
    "> arr = np.arange(25).reshape(5, 5)\n",
    "> arr\n",
    "[[ 0  1  2  3  4]\n",
    " [ 5  6  7  8  9]\n",
    " [10 11 12 13 14]\n",
    " [15 16 17 18 19]\n",
    " [20 21 22 23 24]]\n",
    "```"
   ]
  },
  {
   "cell_type": "code",
   "execution_count": 12,
   "id": "447b411a",
   "metadata": {},
   "outputs": [
    {
     "data": {
      "text/plain": [
       "array([[ 0,  3],\n",
       "       [20, 23]])"
      ]
     },
     "execution_count": 12,
     "metadata": {},
     "output_type": "execute_result"
    }
   ],
   "source": [
    "arr = np.arange(25).reshape(5, 5)\n",
    "arr[::4, [0,3]]"
   ]
  }
 ],
 "metadata": {
  "kernelspec": {
   "display_name": "Python 3 (ipykernel)",
   "language": "python",
   "name": "python3"
  },
  "language_info": {
   "codemirror_mode": {
    "name": "ipython",
    "version": 3
   },
   "file_extension": ".py",
   "mimetype": "text/x-python",
   "name": "python",
   "nbconvert_exporter": "python",
   "pygments_lexer": "ipython3",
   "version": "3.11.5"
  }
 },
 "nbformat": 4,
 "nbformat_minor": 5
}

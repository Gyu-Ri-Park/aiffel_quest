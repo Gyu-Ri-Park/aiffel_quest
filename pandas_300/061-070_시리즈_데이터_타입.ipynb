{
 "cells": [
  {
   "cell_type": "code",
   "execution_count": 12,
   "id": "5a784a74",
   "metadata": {},
   "outputs": [],
   "source": [
    "import pandas as pd\n",
    "from pandas import Series\n",
    "import numpy as np"
   ]
  },
  {
   "cell_type": "markdown",
   "id": "1891b629",
   "metadata": {},
   "source": [
    "__061 시리즈 데이터 타입__  \n",
    "시리즈의 데이터 타입을 출력해보세요.\n",
    "```\n",
    "data = [100, 200, 300]\n",
    "index = [\"철수\", \"영희\", \"아름\"]\n",
    "s = Series(data, index)\n",
    "```"
   ]
  },
  {
   "cell_type": "code",
   "execution_count": 2,
   "id": "71bfecf8",
   "metadata": {},
   "outputs": [
    {
     "data": {
      "text/plain": [
       "dtype('int64')"
      ]
     },
     "execution_count": 2,
     "metadata": {},
     "output_type": "execute_result"
    }
   ],
   "source": [
    "data = [100, 200, 300]\n",
    "index = [\"철수\", \"영희\", \"아름\"]\n",
    "s = Series(data, index)\n",
    "s.dtype"
   ]
  },
  {
   "cell_type": "markdown",
   "id": "992ab13d",
   "metadata": {},
   "source": [
    " "
   ]
  },
  {
   "cell_type": "markdown",
   "id": "c0552433",
   "metadata": {},
   "source": [
    "__062 시리즈 데이터__  \n",
    "다음 시리즈의 데이터 타입은 무엇일까요?\n",
    "```\n",
    "data = [  10,  \"가\" ]\n",
    "s = Series( data )\n",
    "```"
   ]
  },
  {
   "cell_type": "code",
   "execution_count": 3,
   "id": "856db30f",
   "metadata": {},
   "outputs": [
    {
     "data": {
      "text/plain": [
       "dtype('O')"
      ]
     },
     "execution_count": 3,
     "metadata": {},
     "output_type": "execute_result"
    }
   ],
   "source": [
    "data = [  10,  \"가\" ]\n",
    "s = Series( data )\n",
    "s.dtype"
   ]
  },
  {
   "cell_type": "markdown",
   "id": "98be6606",
   "metadata": {},
   "source": [
    " "
   ]
  },
  {
   "cell_type": "markdown",
   "id": "d0332f94",
   "metadata": {},
   "source": [
    "__063 시리즈 인덱스의 데이터 타입__  \n",
    "시리즈에서 인덱스의 데이터 타입을 출력해보세요.\n",
    "```\n",
    "data = [100, 200, 300]\n",
    "index = [\"철수\", \"영희\", \"아름\"]\n",
    "s = Series(data, index)\n",
    "```"
   ]
  },
  {
   "cell_type": "code",
   "execution_count": 4,
   "id": "4961901a",
   "metadata": {},
   "outputs": [
    {
     "data": {
      "text/plain": [
       "dtype('O')"
      ]
     },
     "execution_count": 4,
     "metadata": {},
     "output_type": "execute_result"
    }
   ],
   "source": [
    "data = [100, 200, 300]\n",
    "index = [\"철수\", \"영희\", \"아름\"]\n",
    "s = Series(data, index)\n",
    "s.index.dtype"
   ]
  },
  {
   "cell_type": "markdown",
   "id": "6cec5731",
   "metadata": {},
   "source": [
    " "
   ]
  },
  {
   "cell_type": "markdown",
   "id": "4ab970ff",
   "metadata": {},
   "source": [
    "__064 시리즈 이름과 인덱스 이름__  \n",
    "다음은 삼성전자의 종가 데이터입니다. 이를 시리즈 객체로 생성한 후 시리즈의 name 속성에 '종가'를 인덱스의 name 속성에 날짜를 설정해보세요.\n",
    "\n",
    "|날짜|종가|\n",
    "|:-|:-|\n",
    "|2020-12-11|73400|\n",
    "|2020-12-10|72900|\n",
    "|2020-12-09|73900|\n",
    "|2020-12-08|71700|\n",
    "|2020-12-07|72900|"
   ]
  },
  {
   "cell_type": "code",
   "execution_count": 5,
   "id": "fcc210b1",
   "metadata": {},
   "outputs": [
    {
     "data": {
      "text/plain": [
       "날짜\n",
       "2020-12-11    73400\n",
       "2020-12-10    72900\n",
       "2020-12-09    73900\n",
       "2020-12-08    71700\n",
       "2020-12-07    72900\n",
       "Name: 종가, dtype: int64"
      ]
     },
     "execution_count": 5,
     "metadata": {},
     "output_type": "execute_result"
    }
   ],
   "source": [
    "data = {\n",
    "    \"2020-12-11\": 73400,\n",
    "    \"2020-12-10\": 72900,\n",
    "    \"2020-12-09\": 73900,\n",
    "    \"2020-12-08\": 71700,\n",
    "    \"2020-12-07\": 72900\n",
    "}\n",
    "\n",
    "s = Series(data)\n",
    "s.name = \"종가\"\n",
    "s.index.name = \"날짜\"\n",
    "s"
   ]
  },
  {
   "cell_type": "markdown",
   "id": "0a64ac46",
   "metadata": {},
   "source": [
    " "
   ]
  },
  {
   "cell_type": "markdown",
   "id": "11def991",
   "metadata": {},
   "source": [
    "__065 to_dict__  \n",
    "시리즈의 데이터 타입을 딕셔너리로 변환하세요.\n",
    "```\n",
    "data = {\"apple\": 1500, \"banana\": 3000}\n",
    "s = pd.Series(data)\n",
    "s\n",
    "```"
   ]
  },
  {
   "cell_type": "code",
   "execution_count": 6,
   "id": "59db3033",
   "metadata": {},
   "outputs": [
    {
     "data": {
      "text/plain": [
       "{'apple': 1500, 'banana': 3000}"
      ]
     },
     "execution_count": 6,
     "metadata": {},
     "output_type": "execute_result"
    }
   ],
   "source": [
    "data = {\"apple\": 1500, \"banana\": 3000}\n",
    "s = pd.Series(data)\n",
    "s\n",
    "\n",
    "s.to_dict()"
   ]
  },
  {
   "cell_type": "markdown",
   "id": "80990033",
   "metadata": {},
   "source": [
    " "
   ]
  },
  {
   "cell_type": "markdown",
   "id": "8163dcfd",
   "metadata": {},
   "source": [
    "__066 인덱스 이름__  \n",
    "다음 시리즈의 인덱스의 이름을 'icecream'으로 변경하세요.\n",
    "```\n",
    "data = {\"apple\": 1500, \"banana\": 3000}\n",
    "s = pd.Series(data)\n",
    "s\n",
    "```"
   ]
  },
  {
   "cell_type": "code",
   "execution_count": 7,
   "id": "9e41af37",
   "metadata": {},
   "outputs": [
    {
     "data": {
      "text/plain": [
       "icecream\n",
       "apple     1500\n",
       "banana    3000\n",
       "dtype: int64"
      ]
     },
     "execution_count": 7,
     "metadata": {},
     "output_type": "execute_result"
    }
   ],
   "source": [
    "data = {\"apple\": 1500, \"banana\": 3000}\n",
    "s = pd.Series(data)\n",
    "s.index.name = \"icecream\"\n",
    "s"
   ]
  },
  {
   "cell_type": "markdown",
   "id": "d9d6ac9c",
   "metadata": {},
   "source": [
    " "
   ]
  },
  {
   "cell_type": "markdown",
   "id": "77b8ade5",
   "metadata": {},
   "source": [
    "__067 시리즈 이름__  \n",
    "다음 시리즈 객체의 이름을 'number'로 지정하세요.  \n",
    "```s = pd.Series(data=[1, 2, 3])```"
   ]
  },
  {
   "cell_type": "code",
   "execution_count": 8,
   "id": "453ab0e7",
   "metadata": {},
   "outputs": [
    {
     "data": {
      "text/plain": [
       "0    1\n",
       "1    2\n",
       "2    3\n",
       "Name: number, dtype: int64"
      ]
     },
     "execution_count": 8,
     "metadata": {},
     "output_type": "execute_result"
    }
   ],
   "source": [
    "s = pd.Series(data=[1, 2, 3])\n",
    "s.name = \"number\"\n",
    "s"
   ]
  },
  {
   "cell_type": "markdown",
   "id": "6fa49eaa",
   "metadata": {},
   "source": [
    " "
   ]
  },
  {
   "cell_type": "markdown",
   "id": "233f8825",
   "metadata": {},
   "source": [
    "__068 NaN__  \n",
    "다음 시리즈 객체를 생성하세요.\n",
    "```\n",
    "0    1.0\n",
    "1    2.0\n",
    "2    NaN\n",
    "dtype: float64\n",
    "```"
   ]
  },
  {
   "cell_type": "code",
   "execution_count": 9,
   "id": "bd52facc",
   "metadata": {},
   "outputs": [
    {
     "data": {
      "text/plain": [
       "0    1.0\n",
       "1    2.0\n",
       "2    NaN\n",
       "dtype: float64"
      ]
     },
     "execution_count": 9,
     "metadata": {},
     "output_type": "execute_result"
    }
   ],
   "source": [
    "s = pd.Series([1, 2, None], dtype = float)\n",
    "s"
   ]
  },
  {
   "cell_type": "markdown",
   "id": "57590ea7",
   "metadata": {},
   "source": [
    " "
   ]
  },
  {
   "cell_type": "markdown",
   "id": "c10cf9c2",
   "metadata": {},
   "source": [
    "__069 Index.to_numpy__  \n",
    "다음 시리즈 객체의 인덱스를 넘파이 배열로 변경하세요.  \n",
    "```s = pd.Series([1, 2, 3])```"
   ]
  },
  {
   "cell_type": "code",
   "execution_count": 10,
   "id": "a244a3ce",
   "metadata": {},
   "outputs": [
    {
     "data": {
      "text/plain": [
       "array([0, 1, 2], dtype=int64)"
      ]
     },
     "execution_count": 10,
     "metadata": {},
     "output_type": "execute_result"
    }
   ],
   "source": [
    "s = pd.Series([1, 2, 3])\n",
    "s.index.to_numpy()"
   ]
  },
  {
   "cell_type": "markdown",
   "id": "0c3b397c",
   "metadata": {},
   "source": [
    " "
   ]
  },
  {
   "cell_type": "markdown",
   "id": "0ce5ab54",
   "metadata": {},
   "source": [
    "__070 Series.array__  \n",
    "다음 시리즈 객체의 array 속성을 사용해보세요.  \n",
    "```s = pd.Series([1, 2, 3])```"
   ]
  },
  {
   "cell_type": "code",
   "execution_count": 11,
   "id": "5eb2b052",
   "metadata": {},
   "outputs": [
    {
     "data": {
      "text/plain": [
       "<NumpyExtensionArray>\n",
       "[1, 2, 3]\n",
       "Length: 3, dtype: int64"
      ]
     },
     "execution_count": 11,
     "metadata": {},
     "output_type": "execute_result"
    }
   ],
   "source": [
    "s = pd.Series([1, 2, 3])\n",
    "s.array"
   ]
  }
 ],
 "metadata": {
  "kernelspec": {
   "display_name": "Python 3 (ipykernel)",
   "language": "python",
   "name": "python3"
  },
  "language_info": {
   "codemirror_mode": {
    "name": "ipython",
    "version": 3
   },
   "file_extension": ".py",
   "mimetype": "text/x-python",
   "name": "python",
   "nbconvert_exporter": "python",
   "pygments_lexer": "ipython3",
   "version": "3.11.5"
  }
 },
 "nbformat": 4,
 "nbformat_minor": 5
}

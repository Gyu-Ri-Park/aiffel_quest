{
 "cells": [
  {
   "cell_type": "code",
   "execution_count": 12,
   "id": "cb793a07",
   "metadata": {},
   "outputs": [],
   "source": [
    "import numpy as np\n",
    "import pandas as pd\n",
    "from pandas import Series"
   ]
  },
  {
   "cell_type": "markdown",
   "id": "9d16b081",
   "metadata": {},
   "source": [
    "__071 시리즈 타입__  \n",
    "다음 코드를 수행하면 어떤 데이터 타입을 출력되는지 이야기해보세요. 그리고 그 이유는 무엇인가요?\n",
    "```\n",
    "s = pd.Series([1, 2, 'python'])\n",
    "print(s.dtype)\n",
    "```"
   ]
  },
  {
   "cell_type": "code",
   "execution_count": 2,
   "id": "d5123f47",
   "metadata": {},
   "outputs": [
    {
     "name": "stdout",
     "output_type": "stream",
     "text": [
      "object\n"
     ]
    }
   ],
   "source": [
    "s = pd.Series([1, 2, 'python'])\n",
    "print(s.dtype)   # 시리즈는 하나의 데이터 타입만 가질 수 있으므로 object로 변환함"
   ]
  },
  {
   "cell_type": "markdown",
   "id": "835b3bfc",
   "metadata": {},
   "source": [
    " "
   ]
  },
  {
   "cell_type": "markdown",
   "id": "2337e90a",
   "metadata": {},
   "source": [
    "__072 시리즈 타입 변경__  \n",
    "다음 시리즈 객체의 데이터 타입을 int32로 변경해보세요.  \n",
    "```s = pd.Series(['1', '2', '3'])```"
   ]
  },
  {
   "cell_type": "code",
   "execution_count": 3,
   "id": "7d4f4caa",
   "metadata": {},
   "outputs": [
    {
     "data": {
      "text/plain": [
       "0    1\n",
       "1    2\n",
       "2    3\n",
       "dtype: int32"
      ]
     },
     "execution_count": 3,
     "metadata": {},
     "output_type": "execute_result"
    }
   ],
   "source": [
    "s = pd.Series(['1', '2', '3'])\n",
    "s.astype('int32')"
   ]
  },
  {
   "cell_type": "markdown",
   "id": "eee180ae",
   "metadata": {},
   "source": [
    " "
   ]
  },
  {
   "cell_type": "markdown",
   "id": "ab345477",
   "metadata": {},
   "source": [
    "__073 시리즈 데이터 타입 설정__  \n",
    "BTC 금액이 50000 달러, XRP 금액이 1 달러, ETH 금액이 4000 달러일 때 시리즈 객체로 생성하세요. 시리즈 객체를 생성할 때 가격의 데이터 타입을 float로 지정해서 생성하세요."
   ]
  },
  {
   "cell_type": "code",
   "execution_count": 4,
   "id": "acb87b44",
   "metadata": {},
   "outputs": [
    {
     "data": {
      "text/plain": [
       "BTC    50000.0\n",
       "XRP        1.0\n",
       "ETH     4000.0\n",
       "dtype: float64"
      ]
     },
     "execution_count": 4,
     "metadata": {},
     "output_type": "execute_result"
    }
   ],
   "source": [
    "data = {'BTC': 50000, 'XRP': 1, 'ETH': 4000}\n",
    "s = pd.Series(data, dtype = float)\n",
    "s"
   ]
  },
  {
   "cell_type": "markdown",
   "id": "5d12f1d8",
   "metadata": {},
   "source": [
    " "
   ]
  },
  {
   "cell_type": "markdown",
   "id": "dd4df60c",
   "metadata": {},
   "source": [
    "__074 시리즈 인덱싱 (대괄호 사용하기)__  \n",
    "다음 데이터를 시리즈 객체로 표현하세요. 그다음 대괄호([ ])을 사용하여 200을 출력하세요.\n",
    "```\n",
    "data = [100, 200, 300]\n",
    "index = [\"철수\", \"영희\", \"아름\"]\n",
    "s = Series(data, index)\n",
    "```"
   ]
  },
  {
   "cell_type": "code",
   "execution_count": 5,
   "id": "198f46b2",
   "metadata": {},
   "outputs": [
    {
     "name": "stderr",
     "output_type": "stream",
     "text": [
      "C:\\Users\\pc\\AppData\\Local\\Temp\\ipykernel_37944\\2128130076.py:5: FutureWarning: Series.__getitem__ treating keys as positions is deprecated. In a future version, integer keys will always be treated as labels (consistent with DataFrame behavior). To access a value by position, use `ser.iloc[pos]`\n",
      "  s[1]\n"
     ]
    },
    {
     "data": {
      "text/plain": [
       "200"
      ]
     },
     "execution_count": 5,
     "metadata": {},
     "output_type": "execute_result"
    }
   ],
   "source": [
    "data = [100, 200, 300]\n",
    "index = [\"철수\", \"영희\", \"아름\"]\n",
    "s = Series(data, index)\n",
    "\n",
    "s[1]"
   ]
  },
  {
   "cell_type": "markdown",
   "id": "a8977a90",
   "metadata": {},
   "source": [
    " "
   ]
  },
  {
   "cell_type": "markdown",
   "id": "deb595fc",
   "metadata": {},
   "source": [
    "__075 시리즈 인덱싱 (iloc 속성 사용하기)__  \n",
    "다음 데이터를 시리즈 객체로 표현하세요. 그다음 iloc 속성을 사용하여 200을 출력하세요.\n",
    "```\n",
    "data = [100, 200, 300]\n",
    "index = [\"철수\", \"영희\", \"아름\"]\n",
    "s = Series(data, index)\n",
    "```"
   ]
  },
  {
   "cell_type": "code",
   "execution_count": 6,
   "id": "e4a6c428",
   "metadata": {},
   "outputs": [
    {
     "data": {
      "text/plain": [
       "200"
      ]
     },
     "execution_count": 6,
     "metadata": {},
     "output_type": "execute_result"
    }
   ],
   "source": [
    "data = [100, 200, 300]\n",
    "index = [\"철수\", \"영희\", \"아름\"]\n",
    "s = Series(data, index)\n",
    "\n",
    "s.iloc[1]"
   ]
  },
  {
   "cell_type": "markdown",
   "id": "d5e01e2b",
   "metadata": {},
   "source": [
    " "
   ]
  },
  {
   "cell_type": "markdown",
   "id": "4d6a1c38",
   "metadata": {},
   "source": [
    "__076 시리즈 인덱싱 (loc 속성 사용하기)__  \n",
    "다음 데이터를 시리즈 객체로 표현하세요. 그다음 loc 속성을 사용하여 200을 출력하세요.\n",
    "```\n",
    "data = [100, 200, 300]\n",
    "index = [\"철수\", \"영희\", \"아름\"]\n",
    "s = Series(data, index)\n",
    "```"
   ]
  },
  {
   "cell_type": "code",
   "execution_count": 7,
   "id": "a2ea5dd2",
   "metadata": {},
   "outputs": [
    {
     "data": {
      "text/plain": [
       "200"
      ]
     },
     "execution_count": 7,
     "metadata": {},
     "output_type": "execute_result"
    }
   ],
   "source": [
    "data = [100, 200, 300]\n",
    "index = [\"철수\", \"영희\", \"아름\"]\n",
    "s = Series(data, index)\n",
    "\n",
    "s.loc[\"영희\"]"
   ]
  },
  {
   "cell_type": "markdown",
   "id": "47335dc0",
   "metadata": {},
   "source": [
    " "
   ]
  },
  {
   "cell_type": "markdown",
   "id": "0f0134b6",
   "metadata": {},
   "source": [
    "__077 시리즈 인덱싱 (인덱스 사용하기)__  \n",
    "다음 데이터를 시리즈 객체로 표현하세요. 그다음 인덱스를 사용하여 200을 출력하세요.\n",
    "```\n",
    "data = [100, 200, 300]\n",
    "index = [\"철수\", \"영희\", \"아름\"]\n",
    "s = Series(data, index)\n",
    "```"
   ]
  },
  {
   "cell_type": "code",
   "execution_count": 8,
   "id": "dcc9a1e9",
   "metadata": {},
   "outputs": [
    {
     "data": {
      "text/plain": [
       "200"
      ]
     },
     "execution_count": 8,
     "metadata": {},
     "output_type": "execute_result"
    }
   ],
   "source": [
    "data = [100, 200, 300]\n",
    "index = [\"철수\", \"영희\", \"아름\"]\n",
    "s = Series(data, index)\n",
    "\n",
    "s[\"영희\"]"
   ]
  },
  {
   "cell_type": "markdown",
   "id": "c1290f4a",
   "metadata": {},
   "source": [
    " "
   ]
  },
  {
   "cell_type": "markdown",
   "id": "e5709cab",
   "metadata": {},
   "source": [
    "__078 시리즈 슬라이싱__  \n",
    "시리즈에서 100과 200을 시리즈로 출력하라.\n",
    "```\n",
    "data = [100, 200, 300]\n",
    "index = [\"철수\", \"영희\", \"아름\"]\n",
    "s = Series(data, index)\n",
    "```"
   ]
  },
  {
   "cell_type": "code",
   "execution_count": 9,
   "id": "ca5d3643",
   "metadata": {},
   "outputs": [
    {
     "name": "stdout",
     "output_type": "stream",
     "text": [
      "철수    100\n",
      "영희    200\n",
      "dtype: int64\n",
      "철수    100\n",
      "영희    200\n",
      "dtype: int64\n",
      "철수    100\n",
      "영희    200\n",
      "dtype: int64\n",
      "철수    100\n",
      "영희    200\n",
      "dtype: int64\n",
      "철수    100\n",
      "영희    200\n",
      "dtype: int64\n",
      "철수    100\n",
      "영희    200\n",
      "dtype: int64\n",
      "[100 200]\n"
     ]
    }
   ],
   "source": [
    "data = [100, 200, 300]\n",
    "index = [\"철수\", \"영희\", \"아름\"]\n",
    "s = Series(data, index)\n",
    "\n",
    "print(s.iloc[0:2])\n",
    "print(s.iloc[ :2])\n",
    "print(s.loc[\"철수\":\"영희\"])\n",
    "print(s[0:2])\n",
    "print(s[ :2])\n",
    "print(s[\"철수\":\"영희\"])\n",
    "print(s.values[:2])"
   ]
  },
  {
   "cell_type": "markdown",
   "id": "928c93da",
   "metadata": {},
   "source": [
    " "
   ]
  },
  {
   "cell_type": "markdown",
   "id": "f0fd2b1e",
   "metadata": {},
   "source": [
    "__079 시리즈 슬라이싱__  \n",
    "시리즈에는 일자별 가격 정보가 저장돼 있다. 시리즈에서 상위 3개의 데이터의 날짜 (인덱스)를 출력하라.\n",
    "```\n",
    "data = [100, 200, 300, 400, 500, 600]\n",
    "index = [\"08/01\", \"08/02\", \"08/03\", \"08/04\", \"08/05\", \"08/06\"]\n",
    "s = Series(data, index)\n",
    "Index(['08/01', '08/02', '08/03'], dtype='object')\n",
    "```"
   ]
  },
  {
   "cell_type": "code",
   "execution_count": 10,
   "id": "0bb39f99",
   "metadata": {},
   "outputs": [
    {
     "data": {
      "text/plain": [
       "Index(['08/01', '08/02', '08/03'], dtype='object')"
      ]
     },
     "execution_count": 10,
     "metadata": {},
     "output_type": "execute_result"
    }
   ],
   "source": [
    "data = [100, 200, 300, 400, 500, 600]\n",
    "index = [\"08/01\", \"08/02\", \"08/03\", \"08/04\", \"08/05\", \"08/06\"]\n",
    "s = Series(data, index)\n",
    "\n",
    "s.iloc[:3].index"
   ]
  },
  {
   "cell_type": "markdown",
   "id": "6855b35b",
   "metadata": {},
   "source": [
    " "
   ]
  },
  {
   "cell_type": "markdown",
   "id": "c964a6af",
   "metadata": {},
   "source": [
    "__080 시리즈 슬라이싱__  \n",
    "시리즈에서 100, 300, 500을 슬라이싱으로 출력하라.\n",
    "```\n",
    "data = [100, 200, 300, 400, 500, 600] \n",
    "index = [\"08/01\", \"08/02\", \"08/03\", \"08/04\", \"08/05\", \"08/06\"] \n",
    "s = Series(data, index)\n",
    "```"
   ]
  },
  {
   "cell_type": "code",
   "execution_count": 11,
   "id": "671c7689",
   "metadata": {},
   "outputs": [
    {
     "name": "stdout",
     "output_type": "stream",
     "text": [
      "08/01    100\n",
      "08/03    300\n",
      "08/05    500\n",
      "dtype: int64\n",
      "08/01    100\n",
      "08/03    300\n",
      "08/05    500\n",
      "dtype: int64\n",
      "08/01    100\n",
      "08/03    300\n",
      "08/05    500\n",
      "dtype: int64\n",
      "08/01    100\n",
      "08/03    300\n",
      "08/05    500\n",
      "dtype: int64\n",
      "08/01    100\n",
      "08/03    300\n",
      "08/05    500\n",
      "dtype: int64\n"
     ]
    }
   ],
   "source": [
    "data = [100, 200, 300, 400, 500, 600] \n",
    "index = [\"08/01\", \"08/02\", \"08/03\", \"08/04\", \"08/05\", \"08/06\"] \n",
    "s = Series(data, index)\n",
    "\n",
    "print(s.iloc[::2])\n",
    "print(s[::2])\n",
    "\n",
    "print(s.loc[\"08/01\":\"08/06\":2])\n",
    "print(s[\"08/01\":\"08/06\":2])\n",
    "\n",
    "print(s.iloc[[0, 2, 4]])"
   ]
  }
 ],
 "metadata": {
  "kernelspec": {
   "display_name": "Python 3 (ipykernel)",
   "language": "python",
   "name": "python3"
  },
  "language_info": {
   "codemirror_mode": {
    "name": "ipython",
    "version": 3
   },
   "file_extension": ".py",
   "mimetype": "text/x-python",
   "name": "python",
   "nbconvert_exporter": "python",
   "pygments_lexer": "ipython3",
   "version": "3.11.5"
  }
 },
 "nbformat": 4,
 "nbformat_minor": 5
}

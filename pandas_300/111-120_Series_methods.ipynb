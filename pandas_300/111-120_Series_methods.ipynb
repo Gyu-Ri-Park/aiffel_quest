{
 "cells": [
  {
   "cell_type": "code",
   "execution_count": 1,
   "id": "759f48c2",
   "metadata": {},
   "outputs": [
    {
     "name": "stderr",
     "output_type": "stream",
     "text": [
      "C:\\Users\\pc\\anaconda3\\Lib\\site-packages\\pandas\\core\\arrays\\masked.py:60: UserWarning: Pandas requires version '1.3.6' or newer of 'bottleneck' (version '1.3.5' currently installed).\n",
      "  from pandas.core import (\n"
     ]
    }
   ],
   "source": [
    "import numpy as np\n",
    "import pandas as pd\n",
    "from pandas import Series"
   ]
  },
  {
   "cell_type": "markdown",
   "id": "207aa95e",
   "metadata": {},
   "source": [
    "__111 count__  \n",
    "다음 시리즈 객체가 있을 때 null이 아닌 값의 개수를 출력하세요.\n",
    "```\n",
    "data = [1, 2, 3, 4, np.nan]\n",
    "s = Series(data=data)\n",
    "```"
   ]
  },
  {
   "cell_type": "code",
   "execution_count": 2,
   "id": "b30b21ea",
   "metadata": {},
   "outputs": [
    {
     "data": {
      "text/plain": [
       "1"
      ]
     },
     "execution_count": 2,
     "metadata": {},
     "output_type": "execute_result"
    }
   ],
   "source": [
    "data = [1, 2, 3, 4, np.nan]\n",
    "s = Series(data=data)\n",
    "\n",
    "s.isna().sum()"
   ]
  },
  {
   "cell_type": "markdown",
   "id": "aec5930b",
   "metadata": {},
   "source": [
    " "
   ]
  },
  {
   "cell_type": "markdown",
   "id": "998c5389",
   "metadata": {},
   "source": [
    "__112 시리즈 데이터 타입 변경__  \n",
    "다음 시리즈 객체는 문자열 타입의 데이터가 저장돼 있습니다. 데이터 타입의 문자열로 저장된 경우 숫자와 사칙연산을 수행할 수 없습니다. 시리즈 객체의 데이터 타입을 숫자 타입으로 변경해보세요.\n",
    "```\n",
    "data = [\"100\", \"200\", \"300\"]\n",
    "index = [\"철수\", \"영희\", \"아름\"]\n",
    "s = Series(data, index)\n",
    "```"
   ]
  },
  {
   "cell_type": "code",
   "execution_count": 3,
   "id": "a6c23a42",
   "metadata": {},
   "outputs": [
    {
     "data": {
      "text/plain": [
       "철수    100\n",
       "영희    200\n",
       "아름    300\n",
       "dtype: int32"
      ]
     },
     "execution_count": 3,
     "metadata": {},
     "output_type": "execute_result"
    }
   ],
   "source": [
    "data = [\"100\", \"200\", \"300\"]\n",
    "index = [\"철수\", \"영희\", \"아름\"]\n",
    "s = Series(data, index)\n",
    "\n",
    "s.astype(int)"
   ]
  },
  {
   "cell_type": "markdown",
   "id": "3361aa4c",
   "metadata": {},
   "source": [
    " "
   ]
  },
  {
   "cell_type": "markdown",
   "id": "db698440",
   "metadata": {},
   "source": [
    "__113 시리즈 문자열 replace__  \n",
    "다음 시리즈 객체는 문자열 타입의 데이터가 저장돼 있습니다. str.replace 함수를 사용하여 컴마를 제거한 후 데이터를 'int32' 타입으로 변환해보세요.\n",
    "```\n",
    "data = [\"100,000\", \"200,000\", \"300,000\"]\n",
    "index = [\"철수\", \"영희\", \"아름\"]\n",
    "s = Series(data, index)\n",
    "```"
   ]
  },
  {
   "cell_type": "code",
   "execution_count": 4,
   "id": "66919d17",
   "metadata": {},
   "outputs": [
    {
     "data": {
      "text/plain": [
       "철수    100000\n",
       "영희    200000\n",
       "아름    300000\n",
       "dtype: int32"
      ]
     },
     "execution_count": 4,
     "metadata": {},
     "output_type": "execute_result"
    }
   ],
   "source": [
    "data = [\"100,000\", \"200,000\", \"300,000\"]\n",
    "index = [\"철수\", \"영희\", \"아름\"]\n",
    "s = Series(data, index)\n",
    "\n",
    "s = s.str.replace(',', '')\n",
    "s.astype(np.int32)"
   ]
  },
  {
   "cell_type": "code",
   "execution_count": 5,
   "id": "c5b07b5a",
   "metadata": {},
   "outputs": [
    {
     "data": {
      "text/plain": [
       "철수    100000\n",
       "영희    200000\n",
       "아름    300000\n",
       "dtype: int32"
      ]
     },
     "execution_count": 5,
     "metadata": {},
     "output_type": "execute_result"
    }
   ],
   "source": [
    "data = [\"100,000\", \"200,000\", \"300,000\"]\n",
    "index = [\"철수\", \"영희\", \"아름\"]\n",
    "s = Series(data, index)\n",
    "\n",
    "s = s.replace(',', '', regex = True)\n",
    "s.astype(np.int32)"
   ]
  },
  {
   "cell_type": "markdown",
   "id": "214beb00",
   "metadata": {},
   "source": [
    " "
   ]
  },
  {
   "cell_type": "markdown",
   "id": "fbdccd0f",
   "metadata": {},
   "source": [
    "__114 시리즈 문자열 인덱싱__  \n",
    "다음과 같은 시리즈 객체가 있을 때 values에서 '세'라는 문자열을 제거한 후 데이터를 'int32' 타입으로 변환해보세요.\n",
    "```\n",
    ">> s = pd.Series([\"30세\", \"40세\", \"50세\"], index=[\"김대리\", \"이과장\", \"박차장\"])\n",
    ">> print(s)\n",
    "김대리    30세\n",
    "이과장    40세\n",
    "박차장    50세\n",
    "dtype: object\n",
    "```"
   ]
  },
  {
   "cell_type": "code",
   "execution_count": 6,
   "id": "9957225b",
   "metadata": {},
   "outputs": [
    {
     "data": {
      "text/plain": [
       "김대리    30\n",
       "이과장    40\n",
       "박차장    50\n",
       "dtype: int32"
      ]
     },
     "execution_count": 6,
     "metadata": {},
     "output_type": "execute_result"
    }
   ],
   "source": [
    "s = pd.Series([\"30세\", \"40세\", \"50세\"], index=[\"김대리\", \"이과장\", \"박차장\"])\n",
    "\n",
    "s = s.str.replace('세', '')\n",
    "s.astype(np.int32)"
   ]
  },
  {
   "cell_type": "code",
   "execution_count": 7,
   "id": "66a0a9f7",
   "metadata": {},
   "outputs": [
    {
     "data": {
      "text/plain": [
       "김대리    30\n",
       "이과장    40\n",
       "박차장    50\n",
       "dtype: int32"
      ]
     },
     "execution_count": 7,
     "metadata": {},
     "output_type": "execute_result"
    }
   ],
   "source": [
    "s = pd.Series([\"30세\", \"40세\", \"50세\"], index=[\"김대리\", \"이과장\", \"박차장\"])\n",
    "\n",
    "s = s.replace('세', '', regex = True)\n",
    "s.astype(np.int32)"
   ]
  },
  {
   "cell_type": "markdown",
   "id": "9cfbd72c",
   "metadata": {},
   "source": [
    " "
   ]
  },
  {
   "cell_type": "markdown",
   "id": "33e53779",
   "metadata": {},
   "source": [
    "__115 reindex__  \n",
    "다음 시리즈 객체의 인덱스를 ['a', 'b', 'c', 'd']로 재정렬하세요.\n",
    "```\n",
    "s = pd.Series([1, 2, 3, 4], index=[\"d\", \"c\", \"a\", \"b\"])\n",
    "s\n",
    "```"
   ]
  },
  {
   "cell_type": "code",
   "execution_count": 8,
   "id": "9fbc53ae",
   "metadata": {},
   "outputs": [
    {
     "data": {
      "text/plain": [
       "a    3\n",
       "b    4\n",
       "c    2\n",
       "d    1\n",
       "dtype: int64"
      ]
     },
     "execution_count": 8,
     "metadata": {},
     "output_type": "execute_result"
    }
   ],
   "source": [
    "s = pd.Series([1, 2, 3, 4], index=[\"d\", \"c\", \"a\", \"b\"])\n",
    "\n",
    "s.sort_index()"
   ]
  },
  {
   "cell_type": "markdown",
   "id": "35d30a8e",
   "metadata": {},
   "source": [
    " "
   ]
  },
  {
   "cell_type": "markdown",
   "id": "37abb516",
   "metadata": {},
   "source": [
    "__116 index 변경__  \n",
    "다음 시리즈 객체의 인덱스를 월-일 형태(년도 제거)로 변경하세요.  \n",
    "```s = pd.Series([1, 2, 3], index=['2023-01-01', '2023-01-02', '2023-01-03'])```"
   ]
  },
  {
   "cell_type": "code",
   "execution_count": 9,
   "id": "ee1b1acc",
   "metadata": {},
   "outputs": [
    {
     "data": {
      "text/plain": [
       "01-01    1\n",
       "01-02    2\n",
       "01-03    3\n",
       "dtype: int64"
      ]
     },
     "execution_count": 9,
     "metadata": {},
     "output_type": "execute_result"
    }
   ],
   "source": [
    "s = pd.Series([1, 2, 3], index=['2023-01-01', '2023-01-02', '2023-01-03'])\n",
    "\n",
    "s.index = s.index.str[5:]\n",
    "s"
   ]
  },
  {
   "cell_type": "markdown",
   "id": "e908465b",
   "metadata": {},
   "source": [
    " "
   ]
  },
  {
   "cell_type": "markdown",
   "id": "cf27e650",
   "metadata": {},
   "source": [
    "__117 datetime__  \n",
    "다음 시리즈 객체의 인덱스를 datetime(Timestamp) 타입으로 변경하세요.  \n",
    "\n",
    "```s = pd.Series([1, 2, 3], index=['2023-01-01', '2023-01-02', '2023-01-03'])```"
   ]
  },
  {
   "cell_type": "code",
   "execution_count": 10,
   "id": "b1a9bff5",
   "metadata": {},
   "outputs": [
    {
     "data": {
      "text/plain": [
       "pandas.core.indexes.datetimes.DatetimeIndex"
      ]
     },
     "execution_count": 10,
     "metadata": {},
     "output_type": "execute_result"
    }
   ],
   "source": [
    "s = pd.Series([1, 2, 3], index=['2023-01-01', '2023-01-02', '2023-01-03'])\n",
    "s.index = pd.to_datetime(s.index)\n",
    "type(s.index)"
   ]
  },
  {
   "cell_type": "markdown",
   "id": "630c6fea",
   "metadata": {},
   "source": [
    " "
   ]
  },
  {
   "cell_type": "markdown",
   "id": "cf409f8d",
   "metadata": {},
   "source": [
    "__118 dropna__  \n",
    "다음 시리즈 객체에서 NaN 값을 제거하세요.\n",
    "\n",
    "```s = pd.Series([1, 2, 3, np.nan])```"
   ]
  },
  {
   "cell_type": "code",
   "execution_count": 11,
   "id": "58871e63",
   "metadata": {},
   "outputs": [
    {
     "data": {
      "text/plain": [
       "0    1.0\n",
       "1    2.0\n",
       "2    3.0\n",
       "dtype: float64"
      ]
     },
     "execution_count": 11,
     "metadata": {},
     "output_type": "execute_result"
    }
   ],
   "source": [
    "s = pd.Series([1, 2, 3, np.nan])\n",
    "\n",
    "s = s.dropna()\n",
    "s"
   ]
  },
  {
   "cell_type": "markdown",
   "id": "78eedf2c",
   "metadata": {},
   "source": [
    " "
   ]
  },
  {
   "cell_type": "markdown",
   "id": "4b0523df",
   "metadata": {},
   "source": [
    "__119 Series.map__  \n",
    "시리즈의 맵 메서드를 사용하여 시리즈 객체에서 콤마를 제거하세요.  \n",
    "\n",
    "```s = pd.Series([\"1,234\", \"5,678\", \"9,876\"])```"
   ]
  },
  {
   "cell_type": "code",
   "execution_count": 12,
   "id": "9b1a8b0f",
   "metadata": {},
   "outputs": [
    {
     "data": {
      "text/plain": [
       "0    1234\n",
       "1    5678\n",
       "2    9876\n",
       "dtype: object"
      ]
     },
     "execution_count": 12,
     "metadata": {},
     "output_type": "execute_result"
    }
   ],
   "source": [
    "s = pd.Series([\"1,234\", \"5,678\", \"9,876\"])\n",
    "\n",
    "s.map(lambda x: x.replace(',', ''))"
   ]
  },
  {
   "cell_type": "markdown",
   "id": "7b630fb5",
   "metadata": {},
   "source": [
    " "
   ]
  },
  {
   "cell_type": "markdown",
   "id": "bc0bfa66",
   "metadata": {},
   "source": [
    "__120 Series.apply__  \n",
    "시리즈 객체의 apply 메서드를 사용하여 상용 로그(자연수 10을 밑으로 한 로그) 값을 구하세요.  \n",
    "\n",
    "```s = pd.Series([10, 100, 1000])```"
   ]
  },
  {
   "cell_type": "code",
   "execution_count": 13,
   "id": "3359fe46",
   "metadata": {},
   "outputs": [
    {
     "data": {
      "text/plain": [
       "0    1.0\n",
       "1    2.0\n",
       "2    3.0\n",
       "dtype: float64"
      ]
     },
     "execution_count": 13,
     "metadata": {},
     "output_type": "execute_result"
    }
   ],
   "source": [
    "s = pd.Series([10, 100, 1000])\n",
    "\n",
    "s.apply(np.log10)"
   ]
  }
 ],
 "metadata": {
  "kernelspec": {
   "display_name": "Python 3 (ipykernel)",
   "language": "python",
   "name": "python3"
  },
  "language_info": {
   "codemirror_mode": {
    "name": "ipython",
    "version": 3
   },
   "file_extension": ".py",
   "mimetype": "text/x-python",
   "name": "python",
   "nbconvert_exporter": "python",
   "pygments_lexer": "ipython3",
   "version": "3.11.5"
  }
 },
 "nbformat": 4,
 "nbformat_minor": 5
}

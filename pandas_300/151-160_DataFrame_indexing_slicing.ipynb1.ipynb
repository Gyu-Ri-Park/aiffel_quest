{
 "cells": [
  {
   "cell_type": "code",
   "execution_count": 20,
   "id": "188858d5",
   "metadata": {},
   "outputs": [],
   "source": [
    "import numpy as np\n",
    "import pandas as pd"
   ]
  },
  {
   "cell_type": "markdown",
   "id": "419044df",
   "metadata": {},
   "source": [
    "__151 특정 값 가져오기 (loc)__\n",
    "다음 데이터프레임에서 037730 종목의 등락률을 출력하세요.\n",
    "```\n",
    "data = [\n",
    "    [\"037730\", \"3R\", 1510, 7.36],\n",
    "    [\"036360\", \"3SOFT\", 1790, 1.65],\n",
    "    [\"005760\", \"ACTS\", 1185, 1.28],\n",
    "]\n",
    "columns = [\"종목코드\", \"종목명\", \"현재가\", \"등락률\"]\n",
    "df = pd.DataFrame(data=data, columns=columns)\n",
    "df.set_index('종목코드', inplace=True)\n",
    "```"
   ]
  },
  {
   "cell_type": "code",
   "execution_count": 2,
   "id": "99d1e24d",
   "metadata": {},
   "outputs": [
    {
     "data": {
      "text/html": [
       "<div>\n",
       "<style scoped>\n",
       "    .dataframe tbody tr th:only-of-type {\n",
       "        vertical-align: middle;\n",
       "    }\n",
       "\n",
       "    .dataframe tbody tr th {\n",
       "        vertical-align: top;\n",
       "    }\n",
       "\n",
       "    .dataframe thead th {\n",
       "        text-align: right;\n",
       "    }\n",
       "</style>\n",
       "<table border=\"1\" class=\"dataframe\">\n",
       "  <thead>\n",
       "    <tr style=\"text-align: right;\">\n",
       "      <th></th>\n",
       "      <th>종목명</th>\n",
       "      <th>현재가</th>\n",
       "      <th>등락률</th>\n",
       "    </tr>\n",
       "    <tr>\n",
       "      <th>종목코드</th>\n",
       "      <th></th>\n",
       "      <th></th>\n",
       "      <th></th>\n",
       "    </tr>\n",
       "  </thead>\n",
       "  <tbody>\n",
       "    <tr>\n",
       "      <th>037730</th>\n",
       "      <td>3R</td>\n",
       "      <td>1510</td>\n",
       "      <td>7.36</td>\n",
       "    </tr>\n",
       "    <tr>\n",
       "      <th>036360</th>\n",
       "      <td>3SOFT</td>\n",
       "      <td>1790</td>\n",
       "      <td>1.65</td>\n",
       "    </tr>\n",
       "    <tr>\n",
       "      <th>005760</th>\n",
       "      <td>ACTS</td>\n",
       "      <td>1185</td>\n",
       "      <td>1.28</td>\n",
       "    </tr>\n",
       "  </tbody>\n",
       "</table>\n",
       "</div>"
      ],
      "text/plain": [
       "          종목명   현재가   등락률\n",
       "종목코드                     \n",
       "037730     3R  1510  7.36\n",
       "036360  3SOFT  1790  1.65\n",
       "005760   ACTS  1185  1.28"
      ]
     },
     "execution_count": 2,
     "metadata": {},
     "output_type": "execute_result"
    }
   ],
   "source": [
    "data = [\n",
    "    [\"037730\", \"3R\", 1510, 7.36],\n",
    "    [\"036360\", \"3SOFT\", 1790, 1.65],\n",
    "    [\"005760\", \"ACTS\", 1185, 1.28],\n",
    "]\n",
    "columns = [\"종목코드\", \"종목명\", \"현재가\", \"등락률\"]\n",
    "df = pd.DataFrame(data=data, columns=columns)\n",
    "df.set_index('종목코드', inplace=True)\n",
    "df"
   ]
  },
  {
   "cell_type": "code",
   "execution_count": 3,
   "id": "81f17d18",
   "metadata": {},
   "outputs": [
    {
     "data": {
      "text/plain": [
       "7.36"
      ]
     },
     "execution_count": 3,
     "metadata": {},
     "output_type": "execute_result"
    }
   ],
   "source": [
    "df.loc[\"037730\", \"등락률\"]"
   ]
  },
  {
   "cell_type": "markdown",
   "id": "4b3c4e8c",
   "metadata": {},
   "source": [
    " "
   ]
  },
  {
   "cell_type": "markdown",
   "id": "68a4bae9",
   "metadata": {},
   "source": [
    "__152 iloc 슬라이싱__  \n",
    "위 데이터프레임에서 iloc 속성을 사용하여 첫번째, 두번째 행을 슬라이싱하세요."
   ]
  },
  {
   "cell_type": "code",
   "execution_count": 4,
   "id": "e926dcbe",
   "metadata": {},
   "outputs": [
    {
     "data": {
      "text/html": [
       "<div>\n",
       "<style scoped>\n",
       "    .dataframe tbody tr th:only-of-type {\n",
       "        vertical-align: middle;\n",
       "    }\n",
       "\n",
       "    .dataframe tbody tr th {\n",
       "        vertical-align: top;\n",
       "    }\n",
       "\n",
       "    .dataframe thead th {\n",
       "        text-align: right;\n",
       "    }\n",
       "</style>\n",
       "<table border=\"1\" class=\"dataframe\">\n",
       "  <thead>\n",
       "    <tr style=\"text-align: right;\">\n",
       "      <th></th>\n",
       "      <th>종목명</th>\n",
       "      <th>현재가</th>\n",
       "      <th>등락률</th>\n",
       "    </tr>\n",
       "    <tr>\n",
       "      <th>종목코드</th>\n",
       "      <th></th>\n",
       "      <th></th>\n",
       "      <th></th>\n",
       "    </tr>\n",
       "  </thead>\n",
       "  <tbody>\n",
       "    <tr>\n",
       "      <th>037730</th>\n",
       "      <td>3R</td>\n",
       "      <td>1510</td>\n",
       "      <td>7.36</td>\n",
       "    </tr>\n",
       "    <tr>\n",
       "      <th>036360</th>\n",
       "      <td>3SOFT</td>\n",
       "      <td>1790</td>\n",
       "      <td>1.65</td>\n",
       "    </tr>\n",
       "  </tbody>\n",
       "</table>\n",
       "</div>"
      ],
      "text/plain": [
       "          종목명   현재가   등락률\n",
       "종목코드                     \n",
       "037730     3R  1510  7.36\n",
       "036360  3SOFT  1790  1.65"
      ]
     },
     "execution_count": 4,
     "metadata": {},
     "output_type": "execute_result"
    }
   ],
   "source": [
    "df.iloc[:2]"
   ]
  },
  {
   "cell_type": "markdown",
   "id": "76c77f0b",
   "metadata": {},
   "source": [
    " "
   ]
  },
  {
   "cell_type": "markdown",
   "id": "540863b2",
   "metadata": {},
   "source": [
    "__153 loc 슬라이싱__  \n",
    "위 데이터프레임에서 loc 속성을 사용하여 첫번째, 두번째 행을 슬라이싱하세요."
   ]
  },
  {
   "cell_type": "code",
   "execution_count": 5,
   "id": "c9a37aa8",
   "metadata": {},
   "outputs": [
    {
     "data": {
      "text/html": [
       "<div>\n",
       "<style scoped>\n",
       "    .dataframe tbody tr th:only-of-type {\n",
       "        vertical-align: middle;\n",
       "    }\n",
       "\n",
       "    .dataframe tbody tr th {\n",
       "        vertical-align: top;\n",
       "    }\n",
       "\n",
       "    .dataframe thead th {\n",
       "        text-align: right;\n",
       "    }\n",
       "</style>\n",
       "<table border=\"1\" class=\"dataframe\">\n",
       "  <thead>\n",
       "    <tr style=\"text-align: right;\">\n",
       "      <th></th>\n",
       "      <th>종목명</th>\n",
       "      <th>현재가</th>\n",
       "      <th>등락률</th>\n",
       "    </tr>\n",
       "    <tr>\n",
       "      <th>종목코드</th>\n",
       "      <th></th>\n",
       "      <th></th>\n",
       "      <th></th>\n",
       "    </tr>\n",
       "  </thead>\n",
       "  <tbody>\n",
       "    <tr>\n",
       "      <th>037730</th>\n",
       "      <td>3R</td>\n",
       "      <td>1510</td>\n",
       "      <td>7.36</td>\n",
       "    </tr>\n",
       "    <tr>\n",
       "      <th>036360</th>\n",
       "      <td>3SOFT</td>\n",
       "      <td>1790</td>\n",
       "      <td>1.65</td>\n",
       "    </tr>\n",
       "  </tbody>\n",
       "</table>\n",
       "</div>"
      ],
      "text/plain": [
       "          종목명   현재가   등락률\n",
       "종목코드                     \n",
       "037730     3R  1510  7.36\n",
       "036360  3SOFT  1790  1.65"
      ]
     },
     "execution_count": 5,
     "metadata": {},
     "output_type": "execute_result"
    }
   ],
   "source": [
    "df.loc[:\"036360\"]"
   ]
  },
  {
   "cell_type": "markdown",
   "id": "f6655313",
   "metadata": {},
   "source": [
    " "
   ]
  },
  {
   "cell_type": "markdown",
   "id": "df7d0345",
   "metadata": {},
   "source": [
    "__154 컬럼 인덱싱 (iloc)__  \n",
    "위 데이터프레임에서 iloc 속성을 사용하여 첫 번째 컬럼을 인덱싱하세요."
   ]
  },
  {
   "cell_type": "code",
   "execution_count": 6,
   "id": "bd2447e3",
   "metadata": {},
   "outputs": [
    {
     "data": {
      "text/plain": [
       "종목코드\n",
       "037730       3R\n",
       "036360    3SOFT\n",
       "005760     ACTS\n",
       "Name: 종목명, dtype: object"
      ]
     },
     "execution_count": 6,
     "metadata": {},
     "output_type": "execute_result"
    }
   ],
   "source": [
    "df.iloc[:, 0]"
   ]
  },
  {
   "cell_type": "markdown",
   "id": "8b40a540",
   "metadata": {},
   "source": [
    " "
   ]
  },
  {
   "cell_type": "markdown",
   "id": "4887b310",
   "metadata": {},
   "source": [
    "__155 컬럼 인덱싱 (loc 속성)__  \n",
    "위 데이터프레임에서 loc 속성을 사용하여 첫 번째 컬럼을 인덱싱하세요."
   ]
  },
  {
   "cell_type": "code",
   "execution_count": 7,
   "id": "900255ee",
   "metadata": {},
   "outputs": [
    {
     "data": {
      "text/plain": [
       "종목코드\n",
       "037730       3R\n",
       "036360    3SOFT\n",
       "005760     ACTS\n",
       "Name: 종목명, dtype: object"
      ]
     },
     "execution_count": 7,
     "metadata": {},
     "output_type": "execute_result"
    }
   ],
   "source": [
    "df.loc[:, \"종목명\"]"
   ]
  },
  {
   "cell_type": "markdown",
   "id": "59014f56",
   "metadata": {},
   "source": [
    " "
   ]
  },
  {
   "cell_type": "markdown",
   "id": "7cee4929",
   "metadata": {},
   "source": [
    "__156 loc__  \n",
    "위 데이터프레임에서 loc 속성을 사용하여 '037730' 종목의 '종목명', '현재가' 컬럼을 선택하세요."
   ]
  },
  {
   "cell_type": "code",
   "execution_count": 8,
   "id": "f5d5ac58",
   "metadata": {},
   "outputs": [
    {
     "data": {
      "text/plain": [
       "종목명      3R\n",
       "현재가    1510\n",
       "Name: 037730, dtype: object"
      ]
     },
     "execution_count": 8,
     "metadata": {},
     "output_type": "execute_result"
    }
   ],
   "source": [
    "df.loc[\"037730\", \"종목명\":\"현재가\"]"
   ]
  },
  {
   "cell_type": "code",
   "execution_count": 9,
   "id": "30a8768b",
   "metadata": {},
   "outputs": [
    {
     "data": {
      "text/plain": [
       "종목명      3R\n",
       "현재가    1510\n",
       "Name: 037730, dtype: object"
      ]
     },
     "execution_count": 9,
     "metadata": {},
     "output_type": "execute_result"
    }
   ],
   "source": [
    "df.loc[\"037730\", [\"종목명\", \"현재가\"]]"
   ]
  },
  {
   "cell_type": "markdown",
   "id": "ca225613",
   "metadata": {},
   "source": [
    " "
   ]
  },
  {
   "cell_type": "markdown",
   "id": "bc5b8a0c",
   "metadata": {},
   "source": [
    "__157 iloc__  \n",
    "위 데이터프레임에서 iloc 속성을 사용하여 '037730' 종목의 '종목명', '현재가' 컬럼을 선택하세요."
   ]
  },
  {
   "cell_type": "code",
   "execution_count": 10,
   "id": "a0cd7e59",
   "metadata": {},
   "outputs": [
    {
     "data": {
      "text/plain": [
       "종목명      3R\n",
       "현재가    1510\n",
       "Name: 037730, dtype: object"
      ]
     },
     "execution_count": 10,
     "metadata": {},
     "output_type": "execute_result"
    }
   ],
   "source": [
    "df.iloc[0, :2]"
   ]
  },
  {
   "cell_type": "code",
   "execution_count": 11,
   "id": "8dc0d5a1",
   "metadata": {},
   "outputs": [
    {
     "data": {
      "text/plain": [
       "종목명      3R\n",
       "현재가    1510\n",
       "Name: 037730, dtype: object"
      ]
     },
     "execution_count": 11,
     "metadata": {},
     "output_type": "execute_result"
    }
   ],
   "source": [
    "df.iloc[0, [0, 1]]"
   ]
  },
  {
   "cell_type": "markdown",
   "id": "b6be9bb2",
   "metadata": {},
   "source": [
    " "
   ]
  },
  {
   "attachments": {
    "image.png": {
     "image/png": "[encoded data removed]"
    }
   },
   "cell_type": "markdown",
   "id": "f8477f20",
   "metadata": {},
   "source": [
    "__158 loc__  \n",
    "위 데이터프레임에서 loc를 속성을 사용하여 다음 범위를 가져오세요.\n",
    "\n",
    "![image.png](attachment:image.png)"
   ]
  },
  {
   "cell_type": "code",
   "execution_count": 12,
   "id": "342989c6",
   "metadata": {},
   "outputs": [
    {
     "data": {
      "text/html": [
       "<div>\n",
       "<style scoped>\n",
       "    .dataframe tbody tr th:only-of-type {\n",
       "        vertical-align: middle;\n",
       "    }\n",
       "\n",
       "    .dataframe tbody tr th {\n",
       "        vertical-align: top;\n",
       "    }\n",
       "\n",
       "    .dataframe thead th {\n",
       "        text-align: right;\n",
       "    }\n",
       "</style>\n",
       "<table border=\"1\" class=\"dataframe\">\n",
       "  <thead>\n",
       "    <tr style=\"text-align: right;\">\n",
       "      <th></th>\n",
       "      <th>종목명</th>\n",
       "      <th>현재가</th>\n",
       "    </tr>\n",
       "    <tr>\n",
       "      <th>종목코드</th>\n",
       "      <th></th>\n",
       "      <th></th>\n",
       "    </tr>\n",
       "  </thead>\n",
       "  <tbody>\n",
       "    <tr>\n",
       "      <th>037730</th>\n",
       "      <td>3R</td>\n",
       "      <td>1510</td>\n",
       "    </tr>\n",
       "    <tr>\n",
       "      <th>036360</th>\n",
       "      <td>3SOFT</td>\n",
       "      <td>1790</td>\n",
       "    </tr>\n",
       "  </tbody>\n",
       "</table>\n",
       "</div>"
      ],
      "text/plain": [
       "          종목명   현재가\n",
       "종목코드               \n",
       "037730     3R  1510\n",
       "036360  3SOFT  1790"
      ]
     },
     "execution_count": 12,
     "metadata": {},
     "output_type": "execute_result"
    }
   ],
   "source": [
    "df.loc[:\"036360\", :\"현재가\"]"
   ]
  },
  {
   "cell_type": "code",
   "execution_count": 13,
   "id": "4d3e6e2f",
   "metadata": {},
   "outputs": [
    {
     "data": {
      "text/html": [
       "<div>\n",
       "<style scoped>\n",
       "    .dataframe tbody tr th:only-of-type {\n",
       "        vertical-align: middle;\n",
       "    }\n",
       "\n",
       "    .dataframe tbody tr th {\n",
       "        vertical-align: top;\n",
       "    }\n",
       "\n",
       "    .dataframe thead th {\n",
       "        text-align: right;\n",
       "    }\n",
       "</style>\n",
       "<table border=\"1\" class=\"dataframe\">\n",
       "  <thead>\n",
       "    <tr style=\"text-align: right;\">\n",
       "      <th></th>\n",
       "      <th>종목명</th>\n",
       "      <th>현재가</th>\n",
       "    </tr>\n",
       "    <tr>\n",
       "      <th>종목코드</th>\n",
       "      <th></th>\n",
       "      <th></th>\n",
       "    </tr>\n",
       "  </thead>\n",
       "  <tbody>\n",
       "    <tr>\n",
       "      <th>037730</th>\n",
       "      <td>3R</td>\n",
       "      <td>1510</td>\n",
       "    </tr>\n",
       "    <tr>\n",
       "      <th>036360</th>\n",
       "      <td>3SOFT</td>\n",
       "      <td>1790</td>\n",
       "    </tr>\n",
       "  </tbody>\n",
       "</table>\n",
       "</div>"
      ],
      "text/plain": [
       "          종목명   현재가\n",
       "종목코드               \n",
       "037730     3R  1510\n",
       "036360  3SOFT  1790"
      ]
     },
     "execution_count": 13,
     "metadata": {},
     "output_type": "execute_result"
    }
   ],
   "source": [
    "df.loc[\"037730\":\"036360\", \"종목명\":\"현재가\"]"
   ]
  },
  {
   "cell_type": "code",
   "execution_count": 14,
   "id": "f0580328",
   "metadata": {},
   "outputs": [
    {
     "data": {
      "text/html": [
       "<div>\n",
       "<style scoped>\n",
       "    .dataframe tbody tr th:only-of-type {\n",
       "        vertical-align: middle;\n",
       "    }\n",
       "\n",
       "    .dataframe tbody tr th {\n",
       "        vertical-align: top;\n",
       "    }\n",
       "\n",
       "    .dataframe thead th {\n",
       "        text-align: right;\n",
       "    }\n",
       "</style>\n",
       "<table border=\"1\" class=\"dataframe\">\n",
       "  <thead>\n",
       "    <tr style=\"text-align: right;\">\n",
       "      <th></th>\n",
       "      <th>종목명</th>\n",
       "      <th>현재가</th>\n",
       "    </tr>\n",
       "    <tr>\n",
       "      <th>종목코드</th>\n",
       "      <th></th>\n",
       "      <th></th>\n",
       "    </tr>\n",
       "  </thead>\n",
       "  <tbody>\n",
       "    <tr>\n",
       "      <th>037730</th>\n",
       "      <td>3R</td>\n",
       "      <td>1510</td>\n",
       "    </tr>\n",
       "    <tr>\n",
       "      <th>036360</th>\n",
       "      <td>3SOFT</td>\n",
       "      <td>1790</td>\n",
       "    </tr>\n",
       "  </tbody>\n",
       "</table>\n",
       "</div>"
      ],
      "text/plain": [
       "          종목명   현재가\n",
       "종목코드               \n",
       "037730     3R  1510\n",
       "036360  3SOFT  1790"
      ]
     },
     "execution_count": 14,
     "metadata": {},
     "output_type": "execute_result"
    }
   ],
   "source": [
    "df.loc[[\"037730\",\"036360\"], [\"종목명\",\"현재가\"]]"
   ]
  },
  {
   "cell_type": "markdown",
   "id": "5fb366ee",
   "metadata": {},
   "source": [
    " "
   ]
  },
  {
   "attachments": {
    "image.png": {
     "image/png": "[encoded data removed]"
    }
   },
   "cell_type": "markdown",
   "id": "fc521887",
   "metadata": {},
   "source": [
    "__159 iloc 속성__  \n",
    "위 데이터프레임에서 iloc를 속성을 사용하여 다음 범위를 가져오세요.\n",
    "\n",
    "![image.png](attachment:image.png)"
   ]
  },
  {
   "cell_type": "code",
   "execution_count": 15,
   "id": "14265e98",
   "metadata": {},
   "outputs": [
    {
     "data": {
      "text/html": [
       "<div>\n",
       "<style scoped>\n",
       "    .dataframe tbody tr th:only-of-type {\n",
       "        vertical-align: middle;\n",
       "    }\n",
       "\n",
       "    .dataframe tbody tr th {\n",
       "        vertical-align: top;\n",
       "    }\n",
       "\n",
       "    .dataframe thead th {\n",
       "        text-align: right;\n",
       "    }\n",
       "</style>\n",
       "<table border=\"1\" class=\"dataframe\">\n",
       "  <thead>\n",
       "    <tr style=\"text-align: right;\">\n",
       "      <th></th>\n",
       "      <th>종목명</th>\n",
       "      <th>현재가</th>\n",
       "    </tr>\n",
       "    <tr>\n",
       "      <th>종목코드</th>\n",
       "      <th></th>\n",
       "      <th></th>\n",
       "    </tr>\n",
       "  </thead>\n",
       "  <tbody>\n",
       "    <tr>\n",
       "      <th>037730</th>\n",
       "      <td>3R</td>\n",
       "      <td>1510</td>\n",
       "    </tr>\n",
       "    <tr>\n",
       "      <th>036360</th>\n",
       "      <td>3SOFT</td>\n",
       "      <td>1790</td>\n",
       "    </tr>\n",
       "  </tbody>\n",
       "</table>\n",
       "</div>"
      ],
      "text/plain": [
       "          종목명   현재가\n",
       "종목코드               \n",
       "037730     3R  1510\n",
       "036360  3SOFT  1790"
      ]
     },
     "execution_count": 15,
     "metadata": {},
     "output_type": "execute_result"
    }
   ],
   "source": [
    "df.iloc[:2, :2]"
   ]
  },
  {
   "cell_type": "code",
   "execution_count": 16,
   "id": "5f3028aa",
   "metadata": {},
   "outputs": [
    {
     "data": {
      "text/html": [
       "<div>\n",
       "<style scoped>\n",
       "    .dataframe tbody tr th:only-of-type {\n",
       "        vertical-align: middle;\n",
       "    }\n",
       "\n",
       "    .dataframe tbody tr th {\n",
       "        vertical-align: top;\n",
       "    }\n",
       "\n",
       "    .dataframe thead th {\n",
       "        text-align: right;\n",
       "    }\n",
       "</style>\n",
       "<table border=\"1\" class=\"dataframe\">\n",
       "  <thead>\n",
       "    <tr style=\"text-align: right;\">\n",
       "      <th></th>\n",
       "      <th>종목명</th>\n",
       "      <th>현재가</th>\n",
       "    </tr>\n",
       "    <tr>\n",
       "      <th>종목코드</th>\n",
       "      <th></th>\n",
       "      <th></th>\n",
       "    </tr>\n",
       "  </thead>\n",
       "  <tbody>\n",
       "    <tr>\n",
       "      <th>037730</th>\n",
       "      <td>3R</td>\n",
       "      <td>1510</td>\n",
       "    </tr>\n",
       "    <tr>\n",
       "      <th>036360</th>\n",
       "      <td>3SOFT</td>\n",
       "      <td>1790</td>\n",
       "    </tr>\n",
       "  </tbody>\n",
       "</table>\n",
       "</div>"
      ],
      "text/plain": [
       "          종목명   현재가\n",
       "종목코드               \n",
       "037730     3R  1510\n",
       "036360  3SOFT  1790"
      ]
     },
     "execution_count": 16,
     "metadata": {},
     "output_type": "execute_result"
    }
   ],
   "source": [
    "df.iloc[0:2, 0:2]"
   ]
  },
  {
   "cell_type": "code",
   "execution_count": 17,
   "id": "64927582",
   "metadata": {},
   "outputs": [
    {
     "data": {
      "text/html": [
       "<div>\n",
       "<style scoped>\n",
       "    .dataframe tbody tr th:only-of-type {\n",
       "        vertical-align: middle;\n",
       "    }\n",
       "\n",
       "    .dataframe tbody tr th {\n",
       "        vertical-align: top;\n",
       "    }\n",
       "\n",
       "    .dataframe thead th {\n",
       "        text-align: right;\n",
       "    }\n",
       "</style>\n",
       "<table border=\"1\" class=\"dataframe\">\n",
       "  <thead>\n",
       "    <tr style=\"text-align: right;\">\n",
       "      <th></th>\n",
       "      <th>종목명</th>\n",
       "      <th>현재가</th>\n",
       "    </tr>\n",
       "    <tr>\n",
       "      <th>종목코드</th>\n",
       "      <th></th>\n",
       "      <th></th>\n",
       "    </tr>\n",
       "  </thead>\n",
       "  <tbody>\n",
       "    <tr>\n",
       "      <th>037730</th>\n",
       "      <td>3R</td>\n",
       "      <td>1510</td>\n",
       "    </tr>\n",
       "    <tr>\n",
       "      <th>036360</th>\n",
       "      <td>3SOFT</td>\n",
       "      <td>1790</td>\n",
       "    </tr>\n",
       "  </tbody>\n",
       "</table>\n",
       "</div>"
      ],
      "text/plain": [
       "          종목명   현재가\n",
       "종목코드               \n",
       "037730     3R  1510\n",
       "036360  3SOFT  1790"
      ]
     },
     "execution_count": 17,
     "metadata": {},
     "output_type": "execute_result"
    }
   ],
   "source": [
    "df.iloc[[0,1], [0,1]]"
   ]
  },
  {
   "cell_type": "markdown",
   "id": "b4ce67bb",
   "metadata": {},
   "source": [
    " "
   ]
  },
  {
   "attachments": {},
   "cell_type": "markdown",
   "id": "5f850b6c",
   "metadata": {},
   "source": [
    "__160 loc 속성과 슬라이싱__  \n",
    "위 데이터프레임에서 다음 코드로 선택되는 영역을 말해보세요.  \n",
    "```df.loc[:\"036360\", \"현재가\":\"등락률\"]```"
   ]
  },
  {
   "cell_type": "code",
   "execution_count": 18,
   "id": "25498b0f",
   "metadata": {},
   "outputs": [],
   "source": [
    "# 두 번째 행, 2~3번째 컬럼 출력"
   ]
  },
  {
   "cell_type": "code",
   "execution_count": 19,
   "id": "9635462f",
   "metadata": {},
   "outputs": [
    {
     "data": {
      "text/html": [
       "<div>\n",
       "<style scoped>\n",
       "    .dataframe tbody tr th:only-of-type {\n",
       "        vertical-align: middle;\n",
       "    }\n",
       "\n",
       "    .dataframe tbody tr th {\n",
       "        vertical-align: top;\n",
       "    }\n",
       "\n",
       "    .dataframe thead th {\n",
       "        text-align: right;\n",
       "    }\n",
       "</style>\n",
       "<table border=\"1\" class=\"dataframe\">\n",
       "  <thead>\n",
       "    <tr style=\"text-align: right;\">\n",
       "      <th></th>\n",
       "      <th>현재가</th>\n",
       "      <th>등락률</th>\n",
       "    </tr>\n",
       "    <tr>\n",
       "      <th>종목코드</th>\n",
       "      <th></th>\n",
       "      <th></th>\n",
       "    </tr>\n",
       "  </thead>\n",
       "  <tbody>\n",
       "    <tr>\n",
       "      <th>037730</th>\n",
       "      <td>1510</td>\n",
       "      <td>7.36</td>\n",
       "    </tr>\n",
       "    <tr>\n",
       "      <th>036360</th>\n",
       "      <td>1790</td>\n",
       "      <td>1.65</td>\n",
       "    </tr>\n",
       "  </tbody>\n",
       "</table>\n",
       "</div>"
      ],
      "text/plain": [
       "         현재가   등락률\n",
       "종목코드              \n",
       "037730  1510  7.36\n",
       "036360  1790  1.65"
      ]
     },
     "execution_count": 19,
     "metadata": {},
     "output_type": "execute_result"
    }
   ],
   "source": [
    "df.loc[:\"036360\", \"현재가\":\"등락률\"]"
   ]
  }
 ],
 "metadata": {
  "kernelspec": {
   "display_name": "Python 3 (ipykernel)",
   "language": "python",
   "name": "python3"
  },
  "language_info": {
   "codemirror_mode": {
    "name": "ipython",
    "version": 3
   },
   "file_extension": ".py",
   "mimetype": "text/x-python",
   "name": "python",
   "nbconvert_exporter": "python",
   "pygments_lexer": "ipython3",
   "version": "3.11.5"
  }
 },
 "nbformat": 4,
 "nbformat_minor": 5
}
